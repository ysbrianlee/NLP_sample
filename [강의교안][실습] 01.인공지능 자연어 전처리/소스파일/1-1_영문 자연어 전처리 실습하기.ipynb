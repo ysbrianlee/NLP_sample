{
  "nbformat": 4,
  "nbformat_minor": 0,
  "metadata": {
    "kernelspec": {
      "display_name": "Python 3",
      "language": "python",
      "name": "python3"
    },
    "language_info": {
      "codemirror_mode": {
        "name": "ipython",
        "version": 3
      },
      "file_extension": ".py",
      "mimetype": "text/x-python",
      "name": "python",
      "nbconvert_exporter": "python",
      "pygments_lexer": "ipython3",
      "version": "3.8.3"
    },
    "colab": {
      "name": "1.1 영문 자연어 전처리_적용하기.ipynb",
      "provenance": [],
      "collapsed_sections": []
    }
  },
  "cells": [
    {
      "cell_type": "markdown",
      "metadata": {
        "id": "SLhpPfvvjcSq"
      },
      "source": [
        "### 영문 자연어 전처리"
      ]
    },
    {
      "cell_type": "markdown",
      "metadata": {
        "id": "3PRCYptgjcSs"
      },
      "source": [
        "---"
      ]
    },
    {
      "cell_type": "code",
      "metadata": {
        "id": "aWozyaUdjcSt"
      },
      "source": [
        "text = \"\"\"I am honored to be with you today at your commencement from one of the finest universities in the world.\n",
        "Truth be told, I never graduated from college and this is the closest I've ever gotten to a college graduation.\n",
        "Today I want to tell you 'three stories' from my life. That's it. No big deal! Just three stories.\n",
        "\"\"\""
      ],
      "execution_count": null,
      "outputs": []
    },
    {
      "cell_type": "markdown",
      "metadata": {
        "id": "yhctdz-3jcSu"
      },
      "source": [
        "---"
      ]
    },
    {
      "cell_type": "markdown",
      "metadata": {
        "id": "gO7ZHuQhjcSu"
      },
      "source": [
        "#### 정제(Cleaning)"
      ]
    },
    {
      "cell_type": "markdown",
      "metadata": {
        "id": "U1pvvQnKlFcr"
      },
      "source": [
        "#### 특수문자 제거"
      ]
    },
    {
      "cell_type": "code",
      "metadata": {
        "colab": {
          "base_uri": "https://localhost:8080/"
        },
        "id": "uOaIuv0ojcSu",
        "outputId": "36e0b8d1-b874-4272-8081-3d9c635a201f"
      },
      "source": [
        "import string\n",
        "\n",
        "print(string.punctuation)"
      ],
      "execution_count": null,
      "outputs": [
        {
          "output_type": "stream",
          "name": "stdout",
          "text": [
            "!\"#$%&'()*+,-./:;<=>?@[\\]^_`{|}~\n"
          ]
        }
      ]
    },
    {
      "cell_type": "code",
      "metadata": {
        "colab": {
          "base_uri": "https://localhost:8080/"
        },
        "id": "3HFRYCnIxh91",
        "outputId": "64ae7d1f-f2a4-4871-86c0-0e133fa26204"
      },
      "source": [
        "import re\n",
        "\n",
        "cleaned_text = re.sub('[^\\w\\.\\s]','',text)\n",
        "print(cleaned_text)"
      ],
      "execution_count": null,
      "outputs": [
        {
          "output_type": "stream",
          "name": "stdout",
          "text": [
            "I am honored to be with you today at your commencement from one of the finest universities in the world.\n",
            "Truth be told I never graduated from college and this is the closest Ive ever gotten to a college graduation.\n",
            "Today I want to tell you three stories from my life. Thats it. No big deal Just three stories.\n",
            "\n"
          ]
        }
      ]
    },
    {
      "cell_type": "code",
      "metadata": {
        "colab": {
          "base_uri": "https://localhost:8080/"
        },
        "id": "-j3sXlkojcSv",
        "outputId": "ad3d2a5c-11e7-4fd9-c19b-bcb5be2706e5"
      },
      "source": [
        "cleaned_text = re.sub('\\n','',cleaned_text)\n",
        "print(cleaned_text)"
      ],
      "execution_count": null,
      "outputs": [
        {
          "output_type": "stream",
          "name": "stdout",
          "text": [
            "I am honored to be with you today at your commencement from one of the finest universities in the world.Truth be told I never graduated from college and this is the closest Ive ever gotten to a college graduation.Today I want to tell you three stories from my life. Thats it. No big deal Just three stories.\n"
          ]
        }
      ]
    },
    {
      "cell_type": "markdown",
      "metadata": {
        "id": "DRB_lPh_jcSw"
      },
      "source": [
        "---"
      ]
    },
    {
      "cell_type": "markdown",
      "metadata": {
        "id": "bY3v5NP7jcSx"
      },
      "source": [
        "#### 토큰화(Tokenization)"
      ]
    },
    {
      "cell_type": "code",
      "metadata": {
        "colab": {
          "base_uri": "https://localhost:8080/"
        },
        "id": "QCas0dZe2aFV",
        "outputId": "c5820b8d-9cff-414b-e1d7-cef2be7cc41a"
      },
      "source": [
        "import nltk\n",
        "nltk.download('punkt')"
      ],
      "execution_count": null,
      "outputs": [
        {
          "output_type": "stream",
          "name": "stdout",
          "text": [
            "[nltk_data] Downloading package punkt to /root/nltk_data...\n",
            "[nltk_data]   Unzipping tokenizers/punkt.zip.\n"
          ]
        },
        {
          "output_type": "execute_result",
          "data": {
            "text/plain": [
              "True"
            ]
          },
          "metadata": {},
          "execution_count": 5
        }
      ]
    },
    {
      "cell_type": "code",
      "metadata": {
        "colab": {
          "base_uri": "https://localhost:8080/"
        },
        "id": "l2FvzLJAjcSx",
        "outputId": "efb3d740-73ab-4de4-bec5-df7f4927900c"
      },
      "source": [
        "sent_tokens = nltk.sent_tokenize(cleaned_text)\n",
        "print(sent_tokens)"
      ],
      "execution_count": null,
      "outputs": [
        {
          "output_type": "stream",
          "name": "stdout",
          "text": [
            "['I am honored to be with you today at your commencement from one of the finest universities in the world.Truth be told I never graduated from college and this is the closest Ive ever gotten to a college graduation.Today I want to tell you three stories from my life.', 'Thats it.', 'No big deal Just three stories.']\n"
          ]
        }
      ]
    },
    {
      "cell_type": "code",
      "metadata": {
        "scrolled": true,
        "colab": {
          "base_uri": "https://localhost:8080/"
        },
        "id": "HqMG_lIwjcSy",
        "outputId": "c593352e-c444-4567-d82b-16aca3639e62"
      },
      "source": [
        "tokens = nltk.word_tokenize(cleaned_text)\n",
        "tokens"
      ],
      "execution_count": null,
      "outputs": [
        {
          "output_type": "execute_result",
          "data": {
            "text/plain": [
              "['I',\n",
              " 'am',\n",
              " 'honored',\n",
              " 'to',\n",
              " 'be',\n",
              " 'with',\n",
              " 'you',\n",
              " 'today',\n",
              " 'at',\n",
              " 'your',\n",
              " 'commencement',\n",
              " 'from',\n",
              " 'one',\n",
              " 'of',\n",
              " 'the',\n",
              " 'finest',\n",
              " 'universities',\n",
              " 'in',\n",
              " 'the',\n",
              " 'world.Truth',\n",
              " 'be',\n",
              " 'told',\n",
              " 'I',\n",
              " 'never',\n",
              " 'graduated',\n",
              " 'from',\n",
              " 'college',\n",
              " 'and',\n",
              " 'this',\n",
              " 'is',\n",
              " 'the',\n",
              " 'closest',\n",
              " 'Ive',\n",
              " 'ever',\n",
              " 'gotten',\n",
              " 'to',\n",
              " 'a',\n",
              " 'college',\n",
              " 'graduation.Today',\n",
              " 'I',\n",
              " 'want',\n",
              " 'to',\n",
              " 'tell',\n",
              " 'you',\n",
              " 'three',\n",
              " 'stories',\n",
              " 'from',\n",
              " 'my',\n",
              " 'life',\n",
              " '.',\n",
              " 'Thats',\n",
              " 'it',\n",
              " '.',\n",
              " 'No',\n",
              " 'big',\n",
              " 'deal',\n",
              " 'Just',\n",
              " 'three',\n",
              " 'stories',\n",
              " '.']"
            ]
          },
          "metadata": {},
          "execution_count": 7
        }
      ]
    },
    {
      "cell_type": "markdown",
      "metadata": {
        "id": "OFEt8nqOjcSy"
      },
      "source": [
        "---"
      ]
    },
    {
      "cell_type": "markdown",
      "metadata": {
        "id": "OIFY_mCxjcSy"
      },
      "source": [
        "#### 불용어 제거(Stopword Elimination)"
      ]
    },
    {
      "cell_type": "code",
      "metadata": {
        "colab": {
          "base_uri": "https://localhost:8080/"
        },
        "id": "U1_yDQIY2Vee",
        "outputId": "8b0246a9-069b-47a9-d62f-b62170423c57"
      },
      "source": [
        "nltk.download('stopwords')"
      ],
      "execution_count": null,
      "outputs": [
        {
          "output_type": "stream",
          "name": "stdout",
          "text": [
            "[nltk_data] Downloading package stopwords to /root/nltk_data...\n",
            "[nltk_data]   Unzipping corpora/stopwords.zip.\n"
          ]
        },
        {
          "output_type": "execute_result",
          "data": {
            "text/plain": [
              "True"
            ]
          },
          "metadata": {},
          "execution_count": 8
        }
      ]
    },
    {
      "cell_type": "code",
      "metadata": {
        "colab": {
          "base_uri": "https://localhost:8080/"
        },
        "id": "u2gQ9OEz624F",
        "outputId": "93acad82-e67c-49cf-e7c3-b4f26eae8f0f"
      },
      "source": [
        "from nltk.corpus import stopwords \n",
        "stop = stopwords.words('english')\n",
        "print(stop)"
      ],
      "execution_count": null,
      "outputs": [
        {
          "output_type": "stream",
          "name": "stdout",
          "text": [
            "['i', 'me', 'my', 'myself', 'we', 'our', 'ours', 'ourselves', 'you', \"you're\", \"you've\", \"you'll\", \"you'd\", 'your', 'yours', 'yourself', 'yourselves', 'he', 'him', 'his', 'himself', 'she', \"she's\", 'her', 'hers', 'herself', 'it', \"it's\", 'its', 'itself', 'they', 'them', 'their', 'theirs', 'themselves', 'what', 'which', 'who', 'whom', 'this', 'that', \"that'll\", 'these', 'those', 'am', 'is', 'are', 'was', 'were', 'be', 'been', 'being', 'have', 'has', 'had', 'having', 'do', 'does', 'did', 'doing', 'a', 'an', 'the', 'and', 'but', 'if', 'or', 'because', 'as', 'until', 'while', 'of', 'at', 'by', 'for', 'with', 'about', 'against', 'between', 'into', 'through', 'during', 'before', 'after', 'above', 'below', 'to', 'from', 'up', 'down', 'in', 'out', 'on', 'off', 'over', 'under', 'again', 'further', 'then', 'once', 'here', 'there', 'when', 'where', 'why', 'how', 'all', 'any', 'both', 'each', 'few', 'more', 'most', 'other', 'some', 'such', 'no', 'nor', 'not', 'only', 'own', 'same', 'so', 'than', 'too', 'very', 's', 't', 'can', 'will', 'just', 'don', \"don't\", 'should', \"should've\", 'now', 'd', 'll', 'm', 'o', 're', 've', 'y', 'ain', 'aren', \"aren't\", 'couldn', \"couldn't\", 'didn', \"didn't\", 'doesn', \"doesn't\", 'hadn', \"hadn't\", 'hasn', \"hasn't\", 'haven', \"haven't\", 'isn', \"isn't\", 'ma', 'mightn', \"mightn't\", 'mustn', \"mustn't\", 'needn', \"needn't\", 'shan', \"shan't\", 'shouldn', \"shouldn't\", 'wasn', \"wasn't\", 'weren', \"weren't\", 'won', \"won't\", 'wouldn', \"wouldn't\"]\n"
          ]
        }
      ]
    },
    {
      "cell_type": "code",
      "metadata": {
        "colab": {
          "base_uri": "https://localhost:8080/"
        },
        "id": "N6WUZb9jjcSz",
        "outputId": "6c77d409-fb9e-4c7d-f859-334f447cd795"
      },
      "source": [
        "tokens = [token for token in tokens if token not in stop]\n",
        "print(tokens)"
      ],
      "execution_count": null,
      "outputs": [
        {
          "output_type": "stream",
          "name": "stdout",
          "text": [
            "['I', 'honored', 'today', 'commencement', 'one', 'finest', 'universities', 'world.Truth', 'told', 'I', 'never', 'graduated', 'college', 'closest', 'Ive', 'ever', 'gotten', 'college', 'graduation.Today', 'I', 'want', 'tell', 'three', 'stories', 'life', '.', 'Thats', '.', 'No', 'big', 'deal', 'Just', 'three', 'stories', '.']\n"
          ]
        }
      ]
    },
    {
      "cell_type": "code",
      "metadata": {
        "colab": {
          "base_uri": "https://localhost:8080/"
        },
        "id": "JL-nQjHQjcSz",
        "outputId": "965fe24f-3bdb-419e-9fe7-f93c68be6b9e"
      },
      "source": [
        "tokens = [token for token in tokens if len(token) >= 3]\n",
        "print(tokens)"
      ],
      "execution_count": null,
      "outputs": [
        {
          "output_type": "stream",
          "name": "stdout",
          "text": [
            "['honored', 'today', 'commencement', 'one', 'finest', 'universities', 'world.Truth', 'told', 'never', 'graduated', 'college', 'closest', 'Ive', 'ever', 'gotten', 'college', 'graduation.Today', 'want', 'tell', 'three', 'stories', 'life', 'Thats', 'big', 'deal', 'Just', 'three', 'stories']\n"
          ]
        }
      ]
    },
    {
      "cell_type": "markdown",
      "metadata": {
        "id": "eFKUFYLvjcSz"
      },
      "source": [
        "---"
      ]
    },
    {
      "cell_type": "markdown",
      "metadata": {
        "id": "Rw6mcf0vjcS0"
      },
      "source": [
        "#### 소문자화(lower capitalization)"
      ]
    },
    {
      "cell_type": "code",
      "metadata": {
        "colab": {
          "base_uri": "https://localhost:8080/"
        },
        "id": "iNCEnSFojcS0",
        "outputId": "8b1e3e0e-e464-4c58-e057-b5ad01bf7311"
      },
      "source": [
        "print('소문자화 수행전 : ', tokens)\n",
        "tokens_lower = [token.lower() for token in tokens]\n",
        "print('소문자화 수행후 : ', tokens_lower)"
      ],
      "execution_count": null,
      "outputs": [
        {
          "output_type": "stream",
          "name": "stdout",
          "text": [
            "소문자화 수행전 :  ['honored', 'today', 'commencement', 'one', 'finest', 'universities', 'world.Truth', 'told', 'never', 'graduated', 'college', 'closest', 'Ive', 'ever', 'gotten', 'college', 'graduation.Today', 'want', 'tell', 'three', 'stories', 'life', 'Thats', 'big', 'deal', 'Just', 'three', 'stories']\n",
            "소문자화 수행후 :  ['honored', 'today', 'commencement', 'one', 'finest', 'universities', 'world.truth', 'told', 'never', 'graduated', 'college', 'closest', 'ive', 'ever', 'gotten', 'college', 'graduation.today', 'want', 'tell', 'three', 'stories', 'life', 'thats', 'big', 'deal', 'just', 'three', 'stories']\n"
          ]
        }
      ]
    },
    {
      "cell_type": "code",
      "metadata": {
        "id": "ObyG1jF39h-E"
      },
      "source": [
        ""
      ],
      "execution_count": null,
      "outputs": []
    }
  ]
}