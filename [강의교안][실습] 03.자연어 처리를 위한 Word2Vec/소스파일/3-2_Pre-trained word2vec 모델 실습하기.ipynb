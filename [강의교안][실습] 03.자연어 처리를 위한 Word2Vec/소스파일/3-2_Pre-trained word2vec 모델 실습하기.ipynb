{
  "nbformat": 4,
  "nbformat_minor": 0,
  "metadata": {
    "kernelspec": {
      "display_name": "Python 3",
      "language": "python",
      "name": "python3"
    },
    "language_info": {
      "codemirror_mode": {
        "name": "ipython",
        "version": 3
      },
      "file_extension": ".py",
      "mimetype": "text/x-python",
      "name": "python",
      "nbconvert_exporter": "python",
      "pygments_lexer": "ipython3",
      "version": "3.8.3"
    },
    "colab": {
      "name": "3.2 word2vec_pretrain.ipynb",
      "provenance": [],
      "collapsed_sections": []
    }
  },
  "cells": [
    {
      "cell_type": "code",
      "metadata": {
        "scrolled": true,
        "colab": {
          "base_uri": "https://localhost:8080/"
        },
        "id": "lJ2Up3Wry11F",
        "outputId": "65f9ca49-2254-4ef2-be26-a6d1a05ed143"
      },
      "source": [
        "from google.colab import drive\n",
        "drive.mount('/content/drive')"
      ],
      "execution_count": null,
      "outputs": [
        {
          "output_type": "stream",
          "name": "stdout",
          "text": [
            "Mounted at /content/drive\n"
          ]
        }
      ]
    },
    {
      "cell_type": "code",
      "metadata": {
        "id": "bIoyvhU6-LwQ"
      },
      "source": [
        "model = gensim.models.Word2Vec.load('/content/drive/MyDrive/data/ko.bin')"
      ],
      "execution_count": null,
      "outputs": []
    },
    {
      "cell_type": "code",
      "metadata": {
        "id": "H0eRPG9w98xE"
      },
      "source": [
        "from google.colab import files\n",
        "import os\n",
        "\n",
        "data_dir = 'data'\n",
        "\n",
        "if not os.path.exists(data_dir):\n",
        "    os.mkdir(data_dir)\n",
        "os.chdir(data_dir)\n",
        "files.upload()\n",
        "os.chdir('..')"
      ],
      "execution_count": null,
      "outputs": []
    },
    {
      "cell_type": "code",
      "metadata": {
        "id": "spwsq2jRy11G"
      },
      "source": [
        "import gensim"
      ],
      "execution_count": null,
      "outputs": []
    },
    {
      "cell_type": "code",
      "metadata": {
        "id": "SaZUxyKWy11H"
      },
      "source": [
        "model = gensim.models.Word2Vec.load('./data/ko.bin')"
      ],
      "execution_count": null,
      "outputs": []
    },
    {
      "cell_type": "code",
      "metadata": {
        "colab": {
          "base_uri": "https://localhost:8080/"
        },
        "id": "6z7gGqt-y11I",
        "outputId": "925e75d1-2c09-4a8e-f0a3-46600060f6e0"
      },
      "source": [
        "sim = model.wv.most_similar('대회')\n",
        "sim"
      ],
      "execution_count": null,
      "outputs": [
        {
          "output_type": "execute_result",
          "data": {
            "text/plain": [
              "[('체전', 0.7017310857772827),\n",
              " ('개인전', 0.6350301504135132),\n",
              " ('콘테스트', 0.6301697492599487),\n",
              " ('그랑프리', 0.6146349906921387),\n",
              " ('콩쿠르', 0.6100002527236938),\n",
              " ('대항전', 0.6005889177322388),\n",
              " ('단체전', 0.5925721526145935),\n",
              " ('선수권', 0.5885537266731262),\n",
              " ('박람회', 0.5802826881408691),\n",
              " ('선발전', 0.5797377824783325)]"
            ]
          },
          "metadata": {},
          "execution_count": 7
        }
      ]
    },
    {
      "cell_type": "code",
      "metadata": {
        "colab": {
          "base_uri": "https://localhost:8080/"
        },
        "id": "vBs_TPefy11K",
        "outputId": "4efbc30a-f9a6-412f-d79e-8865e7154d3f"
      },
      "source": [
        "sim = model.wv.similarity('대회', '올림픽')\n",
        "print(sim)"
      ],
      "execution_count": null,
      "outputs": [
        {
          "output_type": "stream",
          "name": "stdout",
          "text": [
            "0.5271696\n"
          ]
        }
      ]
    },
    {
      "cell_type": "code",
      "metadata": {
        "id": "XybMt67zy11L"
      },
      "source": [
        ""
      ],
      "execution_count": null,
      "outputs": []
    },
    {
      "cell_type": "code",
      "metadata": {
        "id": "YcAqWZJ4y11M"
      },
      "source": [
        "# https://drive.google.com/file/d/0B7XkCwpI5KDYNlNUTTlSS21pQmM/edit "
      ],
      "execution_count": null,
      "outputs": []
    },
    {
      "cell_type": "code",
      "metadata": {
        "colab": {
          "base_uri": "https://localhost:8080/"
        },
        "id": "IjD58_xY0Owa",
        "outputId": "14ebbfa8-e368-4164-d816-db064a39b36d"
      },
      "source": [
        "from google.colab import drive\n",
        "drive.mount('/content/drive')"
      ],
      "execution_count": null,
      "outputs": [
        {
          "output_type": "stream",
          "name": "stdout",
          "text": [
            "Drive already mounted at /content/drive; to attempt to forcibly remount, call drive.mount(\"/content/drive\", force_remount=True).\n"
          ]
        }
      ]
    },
    {
      "cell_type": "code",
      "metadata": {
        "id": "7L_qxv-_5nbM"
      },
      "source": [
        "model_file = '/content/drive/MyDrive/temp/GoogleNews-vectors-negative300.bin'\n",
        "# model_file = './data/GoogleNews-vectors-negative300.bin'\n",
        "\n",
        "model = gensim.models.KeyedVectors.load_word2vec_format(model_file, binary=True) "
      ],
      "execution_count": null,
      "outputs": []
    },
    {
      "cell_type": "code",
      "metadata": {
        "colab": {
          "base_uri": "https://localhost:8080/"
        },
        "id": "aBKDwu4Jy11P",
        "outputId": "21eeffb5-9df8-42b1-be3c-064ade06c0b6"
      },
      "source": [
        "sim = model.most_similar('championship')\n",
        "sim"
      ],
      "execution_count": null,
      "outputs": [
        {
          "output_type": "execute_result",
          "data": {
            "text/plain": [
              "[('championships', 0.807525634765625),\n",
              " ('title', 0.7559840083122253),\n",
              " ('champs', 0.7184150218963623),\n",
              " ('Championship', 0.7039351463317871),\n",
              " ('finals', 0.6765252947807312),\n",
              " ('semifinals', 0.6745949983596802),\n",
              " ('tournament', 0.6655316352844238),\n",
              " ('champi_onship', 0.6635136604309082),\n",
              " ('champions', 0.6614832878112793),\n",
              " ('championsip', 0.6548882722854614)]"
            ]
          },
          "metadata": {},
          "execution_count": 11
        }
      ]
    },
    {
      "cell_type": "code",
      "metadata": {
        "colab": {
          "base_uri": "https://localhost:8080/"
        },
        "id": "lDX4kH1_y11Q",
        "outputId": "84190c6b-ac9d-4c58-987f-eeb4b3b977bc"
      },
      "source": [
        "sim = model.similarity('championship', 'olympic')\n",
        "print(sim)"
      ],
      "execution_count": null,
      "outputs": [
        {
          "output_type": "stream",
          "name": "stdout",
          "text": [
            "0.15580767\n"
          ]
        }
      ]
    },
    {
      "cell_type": "code",
      "metadata": {
        "id": "rp2qpAvny11R"
      },
      "source": [
        ""
      ],
      "execution_count": null,
      "outputs": []
    }
  ]
}