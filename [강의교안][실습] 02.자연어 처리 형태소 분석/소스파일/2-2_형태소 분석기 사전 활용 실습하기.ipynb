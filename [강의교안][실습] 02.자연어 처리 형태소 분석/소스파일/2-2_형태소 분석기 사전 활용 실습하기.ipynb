{
  "nbformat": 4,
  "nbformat_minor": 0,
  "metadata": {
    "colab": {
      "name": "2.2 형태소 분석기 사전 활용.ipynb",
      "provenance": [],
      "collapsed_sections": []
    },
    "kernelspec": {
      "display_name": "Python 3",
      "language": "python",
      "name": "python3"
    },
    "language_info": {
      "codemirror_mode": {
        "name": "ipython",
        "version": 3
      },
      "file_extension": ".py",
      "mimetype": "text/x-python",
      "name": "python",
      "nbconvert_exporter": "python",
      "pygments_lexer": "ipython3",
      "version": "3.8.3"
    }
  },
  "cells": [
    {
      "cell_type": "markdown",
      "metadata": {
        "id": "wn9K0CoCdG5B"
      },
      "source": [
        "### 형태소 분석기 사전 활용\n"
      ]
    },
    {
      "cell_type": "markdown",
      "metadata": {
        "id": "qWK4me1AlZAF"
      },
      "source": [
        ""
      ]
    },
    {
      "cell_type": "markdown",
      "metadata": {
        "id": "-ahG-_GmdG5D"
      },
      "source": [
        "---"
      ]
    },
    {
      "cell_type": "code",
      "metadata": {
        "id": "tZGN7A9CilCt"
      },
      "source": [
        "text = \"\"\"최근 정부 주도 디지털뉴딜 사업인 확장현실(XR) 메타버스 프로젝트는 증강현실(AR) 플랫폼 분야의 주도 기업이 추진할 것으로 예상된다.\"\"\" "
      ],
      "execution_count": null,
      "outputs": []
    },
    {
      "cell_type": "code",
      "metadata": {
        "colab": {
          "base_uri": "https://localhost:8080/"
        },
        "id": "EkUTZJ_axov9",
        "outputId": "21445cc0-39b1-4a05-ac74-4bd4dc5d7921"
      },
      "source": [
        "!pip install koalanlp"
      ],
      "execution_count": null,
      "outputs": [
        {
          "output_type": "stream",
          "name": "stdout",
          "text": [
            "Collecting koalanlp\n",
            "  Downloading koalanlp-2.1.7-py3-none-any.whl (51 kB)\n",
            "\u001b[K     |████████████████████████████████| 51 kB 32 kB/s \n",
            "\u001b[?25hCollecting py4j~=0.10\n",
            "  Downloading py4j-0.10.9.2-py2.py3-none-any.whl (198 kB)\n",
            "\u001b[K     |████████████████████████████████| 198 kB 10.5 MB/s \n",
            "\u001b[?25hCollecting kss~=2.5.1\n",
            "  Downloading kss-2.5.1-py3-none-any.whl (65 kB)\n",
            "\u001b[K     |████████████████████████████████| 65 kB 2.6 MB/s \n",
            "\u001b[?25hRequirement already satisfied: requests~=2.22 in /usr/local/lib/python3.7/dist-packages (from koalanlp) (2.23.0)\n",
            "Requirement already satisfied: chardet<4,>=3.0.2 in /usr/local/lib/python3.7/dist-packages (from requests~=2.22->koalanlp) (3.0.4)\n",
            "Requirement already satisfied: idna<3,>=2.5 in /usr/local/lib/python3.7/dist-packages (from requests~=2.22->koalanlp) (2.10)\n",
            "Requirement already satisfied: certifi>=2017.4.17 in /usr/local/lib/python3.7/dist-packages (from requests~=2.22->koalanlp) (2021.5.30)\n",
            "Requirement already satisfied: urllib3!=1.25.0,!=1.25.1,<1.26,>=1.21.1 in /usr/local/lib/python3.7/dist-packages (from requests~=2.22->koalanlp) (1.24.3)\n",
            "Installing collected packages: py4j, kss, koalanlp\n",
            "Successfully installed koalanlp-2.1.7 kss-2.5.1 py4j-0.10.9.2\n"
          ]
        }
      ]
    },
    {
      "cell_type": "code",
      "metadata": {
        "id": "ZxkD482WxxTe"
      },
      "source": [
        "from koalanlp.Util import initialize, finalize\n",
        "from koalanlp.proc import *\n",
        "from koalanlp import API"
      ],
      "execution_count": null,
      "outputs": []
    },
    {
      "cell_type": "code",
      "metadata": {
        "id": "R_ffGhXgoiyV"
      },
      "source": [
        ""
      ],
      "execution_count": null,
      "outputs": []
    },
    {
      "cell_type": "code",
      "metadata": {
        "colab": {
          "base_uri": "https://localhost:8080/"
        },
        "id": "PYl5F-Xyx8lW",
        "outputId": "1a09199f-e6a4-43da-ea3d-c6cbe70facbd"
      },
      "source": [
        "initialize(java_options=\"-Xmx4g -Dfile.encoding=utf-8\", EUNJEON=\"2.0.2\", ETRI=\"2.0.2\")"
      ],
      "execution_count": null,
      "outputs": [
        {
          "output_type": "stream",
          "name": "stderr",
          "text": [
            "[koalanlp.jip] [Checking] pom file /root/.m2/repository/kr/bydelta/koalanlp-etri/2.0.2/koalanlp-etri-2.0.2.pom\n",
            "[koalanlp.jip] [Skipped] pom file not found at /root/.m2/repository/kr/bydelta/koalanlp-etri/2.0.2/koalanlp-etri-2.0.2.pom\n",
            "[koalanlp.jip] [Checking] pom file /root/.ivy2/cache/kr/bydelta/koalanlp-etri/2.0.2/koalanlp-etri-2.0.2.pom\n",
            "[koalanlp.jip] [Skipped] pom file not found at /root/.ivy2/cache/kr/bydelta/koalanlp-etri/2.0.2/koalanlp-etri-2.0.2.pom\n",
            "[koalanlp.jip] [Checking] pom file https://oss.sonatype.org/content/repositories/public/kr/bydelta/koalanlp-etri/2.0.2/koalanlp-etri-2.0.2.pom\n",
            "[koalanlp.jip] [Checking] pom file /root/.m2/repository/net/sf/py4j/py4j/0.10.8.1/py4j-0.10.8.1.pom\n",
            "[koalanlp.jip] [Skipped] pom file not found at /root/.m2/repository/net/sf/py4j/py4j/0.10.8.1/py4j-0.10.8.1.pom\n",
            "[koalanlp.jip] [Checking] pom file /root/.ivy2/cache/net/sf/py4j/py4j/0.10.8.1/py4j-0.10.8.1.pom\n",
            "[koalanlp.jip] [Skipped] pom file not found at /root/.ivy2/cache/net/sf/py4j/py4j/0.10.8.1/py4j-0.10.8.1.pom\n",
            "[koalanlp.jip] [Checking] pom file https://oss.sonatype.org/content/repositories/public/net/sf/py4j/py4j/0.10.8.1/py4j-0.10.8.1.pom\n",
            "[koalanlp.jip] [Checking] pom file /root/.m2/repository/org/sonatype/oss/oss-parent/7/oss-parent-7.pom\n",
            "[koalanlp.jip] [Skipped] pom file not found at /root/.m2/repository/org/sonatype/oss/oss-parent/7/oss-parent-7.pom\n",
            "[koalanlp.jip] [Checking] pom file /root/.ivy2/cache/org/sonatype/oss/oss-parent/7/oss-parent-7.pom\n",
            "[koalanlp.jip] [Skipped] pom file not found at /root/.ivy2/cache/org/sonatype/oss/oss-parent/7/oss-parent-7.pom\n",
            "[koalanlp.jip] [Checking] pom file https://oss.sonatype.org/content/repositories/public/org/sonatype/oss/oss-parent/7/oss-parent-7.pom\n",
            "[koalanlp.jip] [Checking] pom file /root/.m2/repository/org/jetbrains/kotlin/kotlin-stdlib/1.3.10/kotlin-stdlib-1.3.10.pom\n",
            "[koalanlp.jip] [Skipped] pom file not found at /root/.m2/repository/org/jetbrains/kotlin/kotlin-stdlib/1.3.10/kotlin-stdlib-1.3.10.pom\n",
            "[koalanlp.jip] [Checking] pom file /root/.ivy2/cache/org/jetbrains/kotlin/kotlin-stdlib/1.3.10/kotlin-stdlib-1.3.10.pom\n",
            "[koalanlp.jip] [Skipped] pom file not found at /root/.ivy2/cache/org/jetbrains/kotlin/kotlin-stdlib/1.3.10/kotlin-stdlib-1.3.10.pom\n",
            "[koalanlp.jip] [Checking] pom file https://oss.sonatype.org/content/repositories/public/org/jetbrains/kotlin/kotlin-stdlib/1.3.10/kotlin-stdlib-1.3.10.pom\n",
            "[koalanlp.jip] [Checking] pom file /root/.m2/repository/org/jetbrains/kotlin/kotlin-stdlib-common/1.3.10/kotlin-stdlib-common-1.3.10.pom\n",
            "[koalanlp.jip] [Skipped] pom file not found at /root/.m2/repository/org/jetbrains/kotlin/kotlin-stdlib-common/1.3.10/kotlin-stdlib-common-1.3.10.pom\n",
            "[koalanlp.jip] [Checking] pom file /root/.ivy2/cache/org/jetbrains/kotlin/kotlin-stdlib-common/1.3.10/kotlin-stdlib-common-1.3.10.pom\n",
            "[koalanlp.jip] [Skipped] pom file not found at /root/.ivy2/cache/org/jetbrains/kotlin/kotlin-stdlib-common/1.3.10/kotlin-stdlib-common-1.3.10.pom\n",
            "[koalanlp.jip] [Checking] pom file https://oss.sonatype.org/content/repositories/public/org/jetbrains/kotlin/kotlin-stdlib-common/1.3.10/kotlin-stdlib-common-1.3.10.pom\n",
            "[koalanlp.jip] [Checking] pom file /root/.m2/repository/com/github/kittinunf/fuel/fuel/1.15.1/fuel-1.15.1.pom\n",
            "[koalanlp.jip] [Skipped] pom file not found at /root/.m2/repository/com/github/kittinunf/fuel/fuel/1.15.1/fuel-1.15.1.pom\n",
            "[koalanlp.jip] [Checking] pom file /root/.ivy2/cache/com/github/kittinunf/fuel/fuel/1.15.1/fuel-1.15.1.pom\n",
            "[koalanlp.jip] [Skipped] pom file not found at /root/.ivy2/cache/com/github/kittinunf/fuel/fuel/1.15.1/fuel-1.15.1.pom\n",
            "[koalanlp.jip] [Checking] pom file https://oss.sonatype.org/content/repositories/public/com/github/kittinunf/fuel/fuel/1.15.1/fuel-1.15.1.pom\n",
            "[koalanlp.jip] [Skipped] Pom file not found at https://oss.sonatype.org/content/repositories/public/com/github/kittinunf/fuel/fuel/1.15.1/fuel-1.15.1.pom\n",
            "[koalanlp.jip] [Checking] pom file https://jcenter.bintray.com/com/github/kittinunf/fuel/fuel/1.15.1/fuel-1.15.1.pom\n",
            "[koalanlp.jip] [Checking] pom file /root/.m2/repository/kr/bydelta/koalanlp-eunjeon/2.0.2/koalanlp-eunjeon-2.0.2.pom\n",
            "[koalanlp.jip] [Skipped] pom file not found at /root/.m2/repository/kr/bydelta/koalanlp-eunjeon/2.0.2/koalanlp-eunjeon-2.0.2.pom\n",
            "[koalanlp.jip] [Checking] pom file /root/.ivy2/cache/kr/bydelta/koalanlp-eunjeon/2.0.2/koalanlp-eunjeon-2.0.2.pom\n",
            "[koalanlp.jip] [Skipped] pom file not found at /root/.ivy2/cache/kr/bydelta/koalanlp-eunjeon/2.0.2/koalanlp-eunjeon-2.0.2.pom\n",
            "[koalanlp.jip] [Checking] pom file https://oss.sonatype.org/content/repositories/public/kr/bydelta/koalanlp-eunjeon/2.0.2/koalanlp-eunjeon-2.0.2.pom\n",
            "[koalanlp.jip] [Checking] pom file /root/.m2/repository/org/bitbucket/eunjeon/seunjeon_2.12/1.5.0/seunjeon_2.12-1.5.0.pom\n",
            "[koalanlp.jip] [Skipped] pom file not found at /root/.m2/repository/org/bitbucket/eunjeon/seunjeon_2.12/1.5.0/seunjeon_2.12-1.5.0.pom\n",
            "[koalanlp.jip] [Checking] pom file /root/.ivy2/cache/org/bitbucket/eunjeon/seunjeon_2.12/1.5.0/seunjeon_2.12-1.5.0.pom\n",
            "[koalanlp.jip] [Skipped] pom file not found at /root/.ivy2/cache/org/bitbucket/eunjeon/seunjeon_2.12/1.5.0/seunjeon_2.12-1.5.0.pom\n",
            "[koalanlp.jip] [Checking] pom file https://oss.sonatype.org/content/repositories/public/org/bitbucket/eunjeon/seunjeon_2.12/1.5.0/seunjeon_2.12-1.5.0.pom\n",
            "[koalanlp.jip] [Checking] pom file /root/.m2/repository/com/beust/klaxon/3.0.1/klaxon-3.0.1.pom\n",
            "[koalanlp.jip] [Skipped] pom file not found at /root/.m2/repository/com/beust/klaxon/3.0.1/klaxon-3.0.1.pom\n",
            "[koalanlp.jip] [Checking] pom file /root/.ivy2/cache/com/beust/klaxon/3.0.1/klaxon-3.0.1.pom\n",
            "[koalanlp.jip] [Skipped] pom file not found at /root/.ivy2/cache/com/beust/klaxon/3.0.1/klaxon-3.0.1.pom\n",
            "[koalanlp.jip] [Checking] pom file https://oss.sonatype.org/content/repositories/public/com/beust/klaxon/3.0.1/klaxon-3.0.1.pom\n",
            "[koalanlp.jip] [Skipped] Pom file not found at https://oss.sonatype.org/content/repositories/public/com/beust/klaxon/3.0.1/klaxon-3.0.1.pom\n",
            "[koalanlp.jip] [Checking] pom file https://jcenter.bintray.com/com/beust/klaxon/3.0.1/klaxon-3.0.1.pom\n",
            "[koalanlp.jip] [Checking] pom file /root/.m2/repository/org/scala-lang/scala-library/2.12.0/scala-library-2.12.0.pom\n",
            "[koalanlp.jip] [Skipped] pom file not found at /root/.m2/repository/org/scala-lang/scala-library/2.12.0/scala-library-2.12.0.pom\n",
            "[koalanlp.jip] [Checking] pom file /root/.ivy2/cache/org/scala-lang/scala-library/2.12.0/scala-library-2.12.0.pom\n",
            "[koalanlp.jip] [Skipped] pom file not found at /root/.ivy2/cache/org/scala-lang/scala-library/2.12.0/scala-library-2.12.0.pom\n",
            "[koalanlp.jip] [Checking] pom file https://oss.sonatype.org/content/repositories/public/org/scala-lang/scala-library/2.12.0/scala-library-2.12.0.pom\n",
            "[koalanlp.jip] [Checking] pom file /root/.m2/repository/kr/bydelta/koalanlp-core/2.0.2/koalanlp-core-2.0.2.pom\n",
            "[koalanlp.jip] [Skipped] pom file not found at /root/.m2/repository/kr/bydelta/koalanlp-core/2.0.2/koalanlp-core-2.0.2.pom\n",
            "[koalanlp.jip] [Checking] pom file /root/.ivy2/cache/kr/bydelta/koalanlp-core/2.0.2/koalanlp-core-2.0.2.pom\n",
            "[koalanlp.jip] [Skipped] pom file not found at /root/.ivy2/cache/kr/bydelta/koalanlp-core/2.0.2/koalanlp-core-2.0.2.pom\n",
            "[koalanlp.jip] [Checking] pom file https://oss.sonatype.org/content/repositories/public/kr/bydelta/koalanlp-core/2.0.2/koalanlp-core-2.0.2.pom\n",
            "[koalanlp.jip] [Checking] pom file /root/.m2/repository/org/slf4j/slf4j-nop/1.7.12/slf4j-nop-1.7.12.pom\n",
            "[koalanlp.jip] [Skipped] pom file not found at /root/.m2/repository/org/slf4j/slf4j-nop/1.7.12/slf4j-nop-1.7.12.pom\n",
            "[koalanlp.jip] [Checking] pom file /root/.ivy2/cache/org/slf4j/slf4j-nop/1.7.12/slf4j-nop-1.7.12.pom\n",
            "[koalanlp.jip] [Skipped] pom file not found at /root/.ivy2/cache/org/slf4j/slf4j-nop/1.7.12/slf4j-nop-1.7.12.pom\n",
            "[koalanlp.jip] [Checking] pom file https://oss.sonatype.org/content/repositories/public/org/slf4j/slf4j-nop/1.7.12/slf4j-nop-1.7.12.pom\n",
            "[koalanlp.jip] [Checking] pom file /root/.m2/repository/org/slf4j/slf4j-parent/1.7.12/slf4j-parent-1.7.12.pom\n",
            "[koalanlp.jip] [Skipped] pom file not found at /root/.m2/repository/org/slf4j/slf4j-parent/1.7.12/slf4j-parent-1.7.12.pom\n",
            "[koalanlp.jip] [Checking] pom file /root/.ivy2/cache/org/slf4j/slf4j-parent/1.7.12/slf4j-parent-1.7.12.pom\n",
            "[koalanlp.jip] [Skipped] pom file not found at /root/.ivy2/cache/org/slf4j/slf4j-parent/1.7.12/slf4j-parent-1.7.12.pom\n",
            "[koalanlp.jip] [Checking] pom file https://oss.sonatype.org/content/repositories/public/org/slf4j/slf4j-parent/1.7.12/slf4j-parent-1.7.12.pom\n",
            "[koalanlp.jip] [Checking] pom file /root/.m2/repository/com/typesafe/scala-logging/scala-logging_2.12/3.5.0/scala-logging_2.12-3.5.0.pom\n",
            "[koalanlp.jip] [Skipped] pom file not found at /root/.m2/repository/com/typesafe/scala-logging/scala-logging_2.12/3.5.0/scala-logging_2.12-3.5.0.pom\n",
            "[koalanlp.jip] [Checking] pom file /root/.ivy2/cache/com/typesafe/scala-logging/scala-logging_2.12/3.5.0/scala-logging_2.12-3.5.0.pom\n",
            "[koalanlp.jip] [Skipped] pom file not found at /root/.ivy2/cache/com/typesafe/scala-logging/scala-logging_2.12/3.5.0/scala-logging_2.12-3.5.0.pom\n",
            "[koalanlp.jip] [Checking] pom file https://oss.sonatype.org/content/repositories/public/com/typesafe/scala-logging/scala-logging_2.12/3.5.0/scala-logging_2.12-3.5.0.pom\n",
            "[koalanlp.jip] [Checking] pom file /root/.m2/repository/org/jetbrains/annotations/13.0/annotations-13.0.pom\n",
            "[koalanlp.jip] [Skipped] pom file not found at /root/.m2/repository/org/jetbrains/annotations/13.0/annotations-13.0.pom\n",
            "[koalanlp.jip] [Checking] pom file /root/.ivy2/cache/org/jetbrains/annotations/13.0/annotations-13.0.pom\n",
            "[koalanlp.jip] [Skipped] pom file not found at /root/.ivy2/cache/org/jetbrains/annotations/13.0/annotations-13.0.pom\n",
            "[koalanlp.jip] [Checking] pom file https://oss.sonatype.org/content/repositories/public/org/jetbrains/annotations/13.0/annotations-13.0.pom\n",
            "[koalanlp.jip] [Checking] pom file /root/.m2/repository/com/github/kittinunf/result/result/1.6.0/result-1.6.0.pom\n",
            "[koalanlp.jip] [Skipped] pom file not found at /root/.m2/repository/com/github/kittinunf/result/result/1.6.0/result-1.6.0.pom\n",
            "[koalanlp.jip] [Checking] pom file /root/.ivy2/cache/com/github/kittinunf/result/result/1.6.0/result-1.6.0.pom\n",
            "[koalanlp.jip] [Skipped] pom file not found at /root/.ivy2/cache/com/github/kittinunf/result/result/1.6.0/result-1.6.0.pom\n",
            "[koalanlp.jip] [Checking] pom file https://oss.sonatype.org/content/repositories/public/com/github/kittinunf/result/result/1.6.0/result-1.6.0.pom\n",
            "[koalanlp.jip] [Skipped] Pom file not found at https://oss.sonatype.org/content/repositories/public/com/github/kittinunf/result/result/1.6.0/result-1.6.0.pom\n",
            "[koalanlp.jip] [Checking] pom file https://jcenter.bintray.com/com/github/kittinunf/result/result/1.6.0/result-1.6.0.pom\n",
            "[koalanlp.jip] [Checking] pom file /root/.m2/repository/org/jetbrains/kotlin/kotlin-stdlib-jdk8/1.3.10/kotlin-stdlib-jdk8-1.3.10.pom\n",
            "[koalanlp.jip] [Skipped] pom file not found at /root/.m2/repository/org/jetbrains/kotlin/kotlin-stdlib-jdk8/1.3.10/kotlin-stdlib-jdk8-1.3.10.pom\n",
            "[koalanlp.jip] [Checking] pom file /root/.ivy2/cache/org/jetbrains/kotlin/kotlin-stdlib-jdk8/1.3.10/kotlin-stdlib-jdk8-1.3.10.pom\n",
            "[koalanlp.jip] [Skipped] pom file not found at /root/.ivy2/cache/org/jetbrains/kotlin/kotlin-stdlib-jdk8/1.3.10/kotlin-stdlib-jdk8-1.3.10.pom\n",
            "[koalanlp.jip] [Checking] pom file https://oss.sonatype.org/content/repositories/public/org/jetbrains/kotlin/kotlin-stdlib-jdk8/1.3.10/kotlin-stdlib-jdk8-1.3.10.pom\n",
            "[koalanlp.jip] [Checking] pom file /root/.m2/repository/org/slf4j/slf4j-api/1.7.21/slf4j-api-1.7.21.pom\n",
            "[koalanlp.jip] [Skipped] pom file not found at /root/.m2/repository/org/slf4j/slf4j-api/1.7.21/slf4j-api-1.7.21.pom\n",
            "[koalanlp.jip] [Checking] pom file /root/.ivy2/cache/org/slf4j/slf4j-api/1.7.21/slf4j-api-1.7.21.pom\n",
            "[koalanlp.jip] [Skipped] pom file not found at /root/.ivy2/cache/org/slf4j/slf4j-api/1.7.21/slf4j-api-1.7.21.pom\n",
            "[koalanlp.jip] [Checking] pom file https://oss.sonatype.org/content/repositories/public/org/slf4j/slf4j-api/1.7.21/slf4j-api-1.7.21.pom\n",
            "[koalanlp.jip] [Checking] pom file /root/.m2/repository/org/slf4j/slf4j-parent/1.7.21/slf4j-parent-1.7.21.pom\n",
            "[koalanlp.jip] [Skipped] pom file not found at /root/.m2/repository/org/slf4j/slf4j-parent/1.7.21/slf4j-parent-1.7.21.pom\n",
            "[koalanlp.jip] [Checking] pom file /root/.ivy2/cache/org/slf4j/slf4j-parent/1.7.21/slf4j-parent-1.7.21.pom\n",
            "[koalanlp.jip] [Skipped] pom file not found at /root/.ivy2/cache/org/slf4j/slf4j-parent/1.7.21/slf4j-parent-1.7.21.pom\n",
            "[koalanlp.jip] [Checking] pom file https://oss.sonatype.org/content/repositories/public/org/slf4j/slf4j-parent/1.7.21/slf4j-parent-1.7.21.pom\n",
            "[koalanlp.jip] [Checking] pom file /root/.m2/repository/org/scala-lang/scala-reflect/2.12.0/scala-reflect-2.12.0.pom\n",
            "[koalanlp.jip] [Skipped] pom file not found at /root/.m2/repository/org/scala-lang/scala-reflect/2.12.0/scala-reflect-2.12.0.pom\n",
            "[koalanlp.jip] [Checking] pom file /root/.ivy2/cache/org/scala-lang/scala-reflect/2.12.0/scala-reflect-2.12.0.pom\n",
            "[koalanlp.jip] [Skipped] pom file not found at /root/.ivy2/cache/org/scala-lang/scala-reflect/2.12.0/scala-reflect-2.12.0.pom\n",
            "[koalanlp.jip] [Checking] pom file https://oss.sonatype.org/content/repositories/public/org/scala-lang/scala-reflect/2.12.0/scala-reflect-2.12.0.pom\n",
            "[koalanlp.jip] [Checking] pom file /root/.m2/repository/org/slf4j/slf4j-jdk14/1.7.12/slf4j-jdk14-1.7.12.pom\n",
            "[koalanlp.jip] [Skipped] pom file not found at /root/.m2/repository/org/slf4j/slf4j-jdk14/1.7.12/slf4j-jdk14-1.7.12.pom\n",
            "[koalanlp.jip] [Checking] pom file /root/.ivy2/cache/org/slf4j/slf4j-jdk14/1.7.12/slf4j-jdk14-1.7.12.pom\n",
            "[koalanlp.jip] [Skipped] pom file not found at /root/.ivy2/cache/org/slf4j/slf4j-jdk14/1.7.12/slf4j-jdk14-1.7.12.pom\n",
            "[koalanlp.jip] [Checking] pom file https://oss.sonatype.org/content/repositories/public/org/slf4j/slf4j-jdk14/1.7.12/slf4j-jdk14-1.7.12.pom\n",
            "[koalanlp.jip] [Checking] pom file /root/.m2/repository/org/jetbrains/kotlin/kotlin-stdlib-jdk7/1.3.10/kotlin-stdlib-jdk7-1.3.10.pom\n",
            "[koalanlp.jip] [Skipped] pom file not found at /root/.m2/repository/org/jetbrains/kotlin/kotlin-stdlib-jdk7/1.3.10/kotlin-stdlib-jdk7-1.3.10.pom\n",
            "[koalanlp.jip] [Checking] pom file /root/.ivy2/cache/org/jetbrains/kotlin/kotlin-stdlib-jdk7/1.3.10/kotlin-stdlib-jdk7-1.3.10.pom\n",
            "[koalanlp.jip] [Skipped] pom file not found at /root/.ivy2/cache/org/jetbrains/kotlin/kotlin-stdlib-jdk7/1.3.10/kotlin-stdlib-jdk7-1.3.10.pom\n",
            "[koalanlp.jip] [Checking] pom file https://oss.sonatype.org/content/repositories/public/org/jetbrains/kotlin/kotlin-stdlib-jdk7/1.3.10/kotlin-stdlib-jdk7-1.3.10.pom\n",
            "[koalanlp.jip] [Checking] pom file /root/.m2/repository/org/jetbrains/kotlin/kotlin-reflect/1.2.10/kotlin-reflect-1.2.10.pom\n",
            "[koalanlp.jip] [Skipped] pom file not found at /root/.m2/repository/org/jetbrains/kotlin/kotlin-reflect/1.2.10/kotlin-reflect-1.2.10.pom\n",
            "[koalanlp.jip] [Checking] pom file /root/.ivy2/cache/org/jetbrains/kotlin/kotlin-reflect/1.2.10/kotlin-reflect-1.2.10.pom\n",
            "[koalanlp.jip] [Skipped] pom file not found at /root/.ivy2/cache/org/jetbrains/kotlin/kotlin-reflect/1.2.10/kotlin-reflect-1.2.10.pom\n",
            "[koalanlp.jip] [Checking] pom file https://oss.sonatype.org/content/repositories/public/org/jetbrains/kotlin/kotlin-reflect/1.2.10/kotlin-reflect-1.2.10.pom\n",
            "[koalanlp.jip] [Downloading] jar from https://jcenter.bintray.com/com/github/kittinunf/fuel/fuel/1.15.1/fuel-1.15.1.jar\n",
            "[koalanlp.jip] [Downloading] jar from https://jcenter.bintray.com/com/beust/klaxon/3.0.1/klaxon-3.0.1.jar\n",
            "[koalanlp.jip] [Downloading] jar from https://jcenter.bintray.com/com/github/kittinunf/result/result/1.6.0/result-1.6.0.jar\n",
            "[koalanlp.jip] [Downloading] jar from https://oss.sonatype.org/content/repositories/public/kr/bydelta/koalanlp-etri/2.0.2/koalanlp-etri-2.0.2.jar\n",
            "[koalanlp.jip] [Downloading] jar from https://oss.sonatype.org/content/repositories/public/net/sf/py4j/py4j/0.10.8.1/py4j-0.10.8.1.jar\n",
            "[koalanlp.jip] [Downloading] jar from https://oss.sonatype.org/content/repositories/public/org/jetbrains/kotlin/kotlin-stdlib/1.3.10/kotlin-stdlib-1.3.10.jar\n",
            "[koalanlp.jip] [Downloading] jar from https://oss.sonatype.org/content/repositories/public/org/jetbrains/kotlin/kotlin-stdlib-common/1.3.10/kotlin-stdlib-common-1.3.10.jar\n",
            "[koalanlp.jip] [Downloading] jar from https://oss.sonatype.org/content/repositories/public/kr/bydelta/koalanlp-eunjeon/2.0.2/koalanlp-eunjeon-2.0.2.jar\n",
            "[koalanlp.jip] [Downloading] jar from https://oss.sonatype.org/content/repositories/public/org/bitbucket/eunjeon/seunjeon_2.12/1.5.0/seunjeon_2.12-1.5.0.jar\n",
            "[koalanlp.jip] [Downloading] jar from https://oss.sonatype.org/content/repositories/public/org/scala-lang/scala-library/2.12.0/scala-library-2.12.0.jar\n",
            "[koalanlp.jip] [Downloading] jar from https://oss.sonatype.org/content/repositories/public/kr/bydelta/koalanlp-core/2.0.2/koalanlp-core-2.0.2.jar\n",
            "[koalanlp.jip] [Downloading] jar from https://oss.sonatype.org/content/repositories/public/org/slf4j/slf4j-nop/1.7.12/slf4j-nop-1.7.12.jar\n",
            "[koalanlp.jip] [Downloading] jar from https://oss.sonatype.org/content/repositories/public/com/typesafe/scala-logging/scala-logging_2.12/3.5.0/scala-logging_2.12-3.5.0.jar\n",
            "[koalanlp.jip] [Downloading] jar from https://oss.sonatype.org/content/repositories/public/org/jetbrains/annotations/13.0/annotations-13.0.jar\n",
            "[koalanlp.jip] [Downloading] jar from https://oss.sonatype.org/content/repositories/public/org/jetbrains/kotlin/kotlin-stdlib-jdk8/1.3.10/kotlin-stdlib-jdk8-1.3.10.jar\n",
            "[koalanlp.jip] [Downloading] jar from https://oss.sonatype.org/content/repositories/public/org/slf4j/slf4j-api/1.7.21/slf4j-api-1.7.21.jar\n",
            "[koalanlp.jip] [Downloading] jar from https://oss.sonatype.org/content/repositories/public/org/scala-lang/scala-reflect/2.12.0/scala-reflect-2.12.0.jar\n",
            "[koalanlp.jip] [Downloading] jar from https://oss.sonatype.org/content/repositories/public/org/slf4j/slf4j-jdk14/1.7.12/slf4j-jdk14-1.7.12.jar\n",
            "[koalanlp.jip] [Downloading] jar from https://oss.sonatype.org/content/repositories/public/org/jetbrains/kotlin/kotlin-stdlib-jdk7/1.3.10/kotlin-stdlib-jdk7-1.3.10.jar\n",
            "[koalanlp.jip] [Downloading] jar from https://oss.sonatype.org/content/repositories/public/org/jetbrains/kotlin/kotlin-reflect/1.2.10/kotlin-reflect-1.2.10.jar\n",
            "[koalanlp.jip] [Downloading] https://jcenter.bintray.com/com/github/kittinunf/result/result/1.6.0/result-1.6.0.jar 15625 bytes to download\n",
            "[koalanlp.jip] [Downloading] Download https://jcenter.bintray.com/com/github/kittinunf/result/result/1.6.0/result-1.6.0.jar completed in 0.101527 secs\n",
            "[koalanlp.jip] [Downloading] https://jcenter.bintray.com/com/github/kittinunf/fuel/fuel/1.15.1/fuel-1.15.1.jar 163013 bytes to download\n",
            "[koalanlp.jip] [Downloading] Download https://jcenter.bintray.com/com/github/kittinunf/fuel/fuel/1.15.1/fuel-1.15.1.jar completed in 0.169137 secs\n",
            "[koalanlp.jip] [Downloading] https://jcenter.bintray.com/com/beust/klaxon/3.0.1/klaxon-3.0.1.jar 133553 bytes to download\n",
            "[koalanlp.jip] [Downloading] Download https://jcenter.bintray.com/com/beust/klaxon/3.0.1/klaxon-3.0.1.jar completed in 0.191317 secs\n",
            "[koalanlp.jip] [Downloading] https://oss.sonatype.org/content/repositories/public/kr/bydelta/koalanlp-etri/2.0.2/koalanlp-etri-2.0.2.jar 61247 bytes to download\n",
            "[koalanlp.jip] [Downloading] Download https://oss.sonatype.org/content/repositories/public/kr/bydelta/koalanlp-etri/2.0.2/koalanlp-etri-2.0.2.jar completed in 0.264822 secs\n",
            "[koalanlp.jip] [Downloading] https://oss.sonatype.org/content/repositories/public/net/sf/py4j/py4j/0.10.8.1/py4j-0.10.8.1.jar 122939 bytes to download\n",
            "[koalanlp.jip] [Downloading] Download https://oss.sonatype.org/content/repositories/public/net/sf/py4j/py4j/0.10.8.1/py4j-0.10.8.1.jar completed in 0.252066 secs\n",
            "[koalanlp.jip] [Downloading] https://oss.sonatype.org/content/repositories/public/org/jetbrains/kotlin/kotlin-stdlib/1.3.10/kotlin-stdlib-1.3.10.jar 1181292 bytes to download\n",
            "[koalanlp.jip] [Downloading] Download https://oss.sonatype.org/content/repositories/public/org/jetbrains/kotlin/kotlin-stdlib/1.3.10/kotlin-stdlib-1.3.10.jar completed in 0.290817 secs\n",
            "[koalanlp.jip] [Downloading] https://oss.sonatype.org/content/repositories/public/org/jetbrains/kotlin/kotlin-stdlib-common/1.3.10/kotlin-stdlib-common-1.3.10.jar 151024 bytes to download\n",
            "[koalanlp.jip] [Downloading] Download https://oss.sonatype.org/content/repositories/public/org/jetbrains/kotlin/kotlin-stdlib-common/1.3.10/kotlin-stdlib-common-1.3.10.jar completed in 0.253495 secs\n",
            "[koalanlp.jip] [Downloading] https://oss.sonatype.org/content/repositories/public/kr/bydelta/koalanlp-eunjeon/2.0.2/koalanlp-eunjeon-2.0.2.jar 29556 bytes to download\n",
            "[koalanlp.jip] [Downloading] Download https://oss.sonatype.org/content/repositories/public/kr/bydelta/koalanlp-eunjeon/2.0.2/koalanlp-eunjeon-2.0.2.jar completed in 0.273071 secs\n",
            "[koalanlp.jip] [Downloading] https://oss.sonatype.org/content/repositories/public/kr/bydelta/koalanlp-core/2.0.2/koalanlp-core-2.0.2.jar 243671 bytes to download\n",
            "[koalanlp.jip] [Downloading] Download https://oss.sonatype.org/content/repositories/public/kr/bydelta/koalanlp-core/2.0.2/koalanlp-core-2.0.2.jar completed in 0.324658 secs\n",
            "[koalanlp.jip] [Downloading] https://oss.sonatype.org/content/repositories/public/org/scala-lang/scala-library/2.12.0/scala-library-2.12.0.jar 5451017 bytes to download\n",
            "[koalanlp.jip] [Downloading] Download https://oss.sonatype.org/content/repositories/public/org/scala-lang/scala-library/2.12.0/scala-library-2.12.0.jar completed in 0.442126 secs\n",
            "[koalanlp.jip] [Downloading] https://oss.sonatype.org/content/repositories/public/org/bitbucket/eunjeon/seunjeon_2.12/1.5.0/seunjeon_2.12-1.5.0.jar 24094365 bytes to download\n",
            "[koalanlp.jip] [Downloading] Download https://oss.sonatype.org/content/repositories/public/org/bitbucket/eunjeon/seunjeon_2.12/1.5.0/seunjeon_2.12-1.5.0.jar completed in 0.786388 secs\n",
            "[koalanlp.jip] [Downloading] https://oss.sonatype.org/content/repositories/public/org/slf4j/slf4j-nop/1.7.12/slf4j-nop-1.7.12.jar 4084 bytes to download\n",
            "[koalanlp.jip] [Downloading] Download https://oss.sonatype.org/content/repositories/public/org/slf4j/slf4j-nop/1.7.12/slf4j-nop-1.7.12.jar completed in 0.297901 secs\n",
            "[koalanlp.jip] [Downloading] https://oss.sonatype.org/content/repositories/public/com/typesafe/scala-logging/scala-logging_2.12/3.5.0/scala-logging_2.12-3.5.0.jar 25497 bytes to download\n",
            "[koalanlp.jip] [Downloading] Download https://oss.sonatype.org/content/repositories/public/com/typesafe/scala-logging/scala-logging_2.12/3.5.0/scala-logging_2.12-3.5.0.jar completed in 0.253623 secs\n",
            "[koalanlp.jip] [Downloading] https://oss.sonatype.org/content/repositories/public/org/jetbrains/annotations/13.0/annotations-13.0.jar 17536 bytes to download\n",
            "[koalanlp.jip] [Downloading] Download https://oss.sonatype.org/content/repositories/public/org/jetbrains/annotations/13.0/annotations-13.0.jar completed in 0.230365 secs\n",
            "[koalanlp.jip] [Downloading] https://oss.sonatype.org/content/repositories/public/org/slf4j/slf4j-api/1.7.21/slf4j-api-1.7.21.jar 41071 bytes to download\n",
            "[koalanlp.jip] [Downloading] Download https://oss.sonatype.org/content/repositories/public/org/slf4j/slf4j-api/1.7.21/slf4j-api-1.7.21.jar completed in 0.251262 secs\n",
            "[koalanlp.jip] [Downloading] https://oss.sonatype.org/content/repositories/public/org/jetbrains/kotlin/kotlin-stdlib-jdk8/1.3.10/kotlin-stdlib-jdk8-1.3.10.jar 13769 bytes to download\n",
            "[koalanlp.jip] [Downloading] Download https://oss.sonatype.org/content/repositories/public/org/jetbrains/kotlin/kotlin-stdlib-jdk8/1.3.10/kotlin-stdlib-jdk8-1.3.10.jar completed in 0.303043 secs\n",
            "[koalanlp.jip] [Downloading] https://oss.sonatype.org/content/repositories/public/org/slf4j/slf4j-jdk14/1.7.12/slf4j-jdk14-1.7.12.jar 7892 bytes to download\n",
            "[koalanlp.jip] [Downloading] Download https://oss.sonatype.org/content/repositories/public/org/slf4j/slf4j-jdk14/1.7.12/slf4j-jdk14-1.7.12.jar completed in 0.235369 secs\n",
            "[koalanlp.jip] [Downloading] https://oss.sonatype.org/content/repositories/public/org/scala-lang/scala-reflect/2.12.0/scala-reflect-2.12.0.jar 3574999 bytes to download\n",
            "[koalanlp.jip] [Downloading] Download https://oss.sonatype.org/content/repositories/public/org/scala-lang/scala-reflect/2.12.0/scala-reflect-2.12.0.jar completed in 0.361799 secs\n",
            "[koalanlp.jip] [Downloading] https://oss.sonatype.org/content/repositories/public/org/jetbrains/kotlin/kotlin-stdlib-jdk7/1.3.10/kotlin-stdlib-jdk7-1.3.10.jar 3137 bytes to download\n",
            "[koalanlp.jip] [Downloading] Download https://oss.sonatype.org/content/repositories/public/org/jetbrains/kotlin/kotlin-stdlib-jdk7/1.3.10/kotlin-stdlib-jdk7-1.3.10.jar completed in 0.255843 secs\n",
            "[koalanlp.jip] [Downloading] https://oss.sonatype.org/content/repositories/public/org/jetbrains/kotlin/kotlin-reflect/1.2.10/kotlin-reflect-1.2.10.jar 2540188 bytes to download\n",
            "[koalanlp.jip] [Downloading] Download https://oss.sonatype.org/content/repositories/public/org/jetbrains/kotlin/kotlin-reflect/1.2.10/kotlin-reflect-1.2.10.jar completed in 0.517329 secs\n",
            "[root] Java gateway started with port number 45659\n",
            "[root] Callback server will use port number 25334\n",
            "[koalanlp.jip] JVM initialization procedure is completed.\n"
          ]
        }
      ]
    },
    {
      "cell_type": "code",
      "metadata": {
        "colab": {
          "base_uri": "https://localhost:8080/"
        },
        "id": "f6vMvZQ5yAbS",
        "outputId": "d05954fd-f344-497d-f736-e9bbce39c824"
      },
      "source": [
        "tagger = Tagger(API.EUNJEON)\n",
        "\n",
        "tagged = tagger.tag(text)\n",
        "\n",
        "print(tagged[0].singleLineString())"
      ],
      "execution_count": null,
      "outputs": [
        {
          "output_type": "stream",
          "name": "stdout",
          "text": [
            "최근/NNG 정부/NNG 주도/NNG 디지털/NNG 뉴딜/NNG 사업/NNG+이/VCP+ᆫ/ETM 확장/NNG 현실/NNG (/SS XR/SL )/SS 메타/NNG 버스/NNG 프로젝트/NNG+는/JX 증강/NNG+현실/NNG (/SS AR/SL )/SS 플랫폼/NNG 분야/NNG+의/JKG 주도/NNG 기업/NNG+이/JKS 추진/NNG+하/XSV+ᆯ/ETM 것/NNB+으로/JKB 예상/NNG+되/XSV+ᆫ다/EF ./SF\n"
          ]
        }
      ]
    },
    {
      "cell_type": "code",
      "metadata": {
        "id": "i-Qv_HqozG39",
        "colab": {
          "base_uri": "https://localhost:8080/"
        },
        "outputId": "cc214726-48fe-47c4-82f6-97869203d2a2"
      },
      "source": [
        "tagger = Tagger(API.ETRI, etri_key='4409fdbe-0408-48b6-9119-1cf24571a3b0')\n",
        "\n",
        "tagged = tagger.tag(text)\n",
        "\n",
        "print(tagged[0].singleLineString()) "
      ],
      "execution_count": null,
      "outputs": [
        {
          "output_type": "stream",
          "name": "stdout",
          "text": [
            "최근/NNG 정부/NNG 주도/NNG 디지털/NNG+뉴딜/NNG 사업/NNG+이/VCP+ㄴ/ETM 확장/NNG+현실/NNG+(/SS+XR/SL+)/SS 메타버스/NNG 프로젝트/NNG+는/JX 증강/NNG+현실/NNG+(/SS+AR/SL+)/SS 플랫폼/NNG 분야/NNG+의/JKG 주도/NNG 기업/NNG+이/JKS 추진하/VV+ㄹ/ETM 것/NNB+으로/JKB 예상되/VV+ㄴ다/EF+./SF\n"
          ]
        }
      ]
    },
    {
      "cell_type": "code",
      "metadata": {
        "id": "AjjWRdS51RVM",
        "colab": {
          "base_uri": "https://localhost:8080/"
        },
        "outputId": "a5079e93-07af-4e2f-fe64-e55cbd113098"
      },
      "source": [
        "from koalanlp.types import POS\n",
        "from koalanlp.proc import Dictionary\n",
        "\n",
        "dictionary = Dictionary(API.EUNJEON)\n",
        " \n",
        "dictionary.addUserDictionary((\"메타버스\", POS.NNG)) \n",
        "dictionary.addUserDictionary((\"확장현실\", POS.NNG), (\"메타버스\", POS.NNG)) \n",
        "\n",
        "print(dictionary.getItems())"
      ],
      "execution_count": null,
      "outputs": [
        {
          "output_type": "stream",
          "name": "stdout",
          "text": [
            "[('메타버스', NNG), ('확장현실', NNG)]\n"
          ]
        }
      ]
    },
    {
      "cell_type": "code",
      "metadata": {
        "colab": {
          "base_uri": "https://localhost:8080/"
        },
        "id": "y15KxaNe3PvU",
        "outputId": "0a2bb46d-60ba-497a-90ff-2da7145a645c"
      },
      "source": [
        "tagger = Tagger(API.EUNJEON)\n",
        "\n",
        "tagged = tagger.tag(text)\n",
        "\n",
        "print(tagged[0].singleLineString())"
      ],
      "execution_count": null,
      "outputs": [
        {
          "output_type": "stream",
          "name": "stdout",
          "text": [
            "최근/NNG 정부/NNG 주도/NNG 디지털/NNG 뉴딜/NNG 사업/NNG+이/VCP+ᆫ/ETM 확장현실/NNG (/SS XR/SL )/SS 메타버스/NNG 프로젝트/NNG+는/JX 증강/NNG+현실/NNG (/SS AR/SL )/SS 플랫폼/NNG 분야/NNG+의/JKG 주도/NNG 기업/NNG+이/JKS 추진/NNG+하/XSV+ᆯ/ETM 것/NNB+으로/JKB 예상/NNG+되/XSV+ᆫ다/EF ./SF\n"
          ]
        }
      ]
    },
    {
      "cell_type": "code",
      "metadata": {
        "id": "RCdC3m-VrDRF",
        "colab": {
          "base_uri": "https://localhost:8080/"
        },
        "outputId": "8812826e-c958-4da5-acd3-77ab5e8b4747"
      },
      "source": [
        "finalize()"
      ],
      "execution_count": null,
      "outputs": [
        {
          "output_type": "execute_result",
          "data": {
            "text/plain": [
              "True"
            ]
          },
          "metadata": {},
          "execution_count": 9
        }
      ]
    },
    {
      "cell_type": "code",
      "metadata": {
        "id": "Ls8oJZFukbk1"
      },
      "source": [
        ""
      ],
      "execution_count": null,
      "outputs": []
    }
  ]
}