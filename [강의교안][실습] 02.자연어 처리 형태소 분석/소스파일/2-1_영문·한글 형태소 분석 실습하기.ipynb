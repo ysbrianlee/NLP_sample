{
  "nbformat": 4,
  "nbformat_minor": 0,
  "metadata": {
    "colab": {
      "name": "2.1 영문 한글 형태소 분석.ipynb",
      "provenance": [],
      "collapsed_sections": []
    },
    "kernelspec": {
      "display_name": "Python 3",
      "language": "python",
      "name": "python3"
    },
    "language_info": {
      "codemirror_mode": {
        "name": "ipython",
        "version": 3
      },
      "file_extension": ".py",
      "mimetype": "text/x-python",
      "name": "python",
      "nbconvert_exporter": "python",
      "pygments_lexer": "ipython3",
      "version": "3.8.3"
    }
  },
  "cells": [
    {
      "cell_type": "markdown",
      "metadata": {
        "id": "Dz9dAYq1L0HW"
      },
      "source": [
        "### 영문 한글 형태소 분석"
      ]
    },
    {
      "cell_type": "markdown",
      "metadata": {
        "id": "PcPKUCvtL0HY"
      },
      "source": [
        "---"
      ]
    },
    {
      "cell_type": "code",
      "metadata": {
        "id": "UeTUFvP_L0HZ"
      },
      "source": [
        "text = \"\"\"Beneath it were the words: \"Stay Hungry. Stay Foolish.\" It was their farewell message \n",
        "as they signed off. Stay Hungry. Stay Foolish. And I have always wished that for myself. And now, as \n",
        "you graduate to begin a new, I wish that for you.\"\"\""
      ],
      "execution_count": null,
      "outputs": []
    },
    {
      "cell_type": "markdown",
      "metadata": {
        "id": "2heeyUABL0Ha"
      },
      "source": [
        "---"
      ]
    },
    {
      "cell_type": "markdown",
      "metadata": {
        "id": "AeRwvNTPL0Hb"
      },
      "source": [
        "#### 특수문자 제거(Cleaning)"
      ]
    },
    {
      "cell_type": "code",
      "metadata": {
        "colab": {
          "base_uri": "https://localhost:8080/"
        },
        "id": "swWXtq9hL0Hc",
        "outputId": "fdb329e8-e417-4f0e-d398-41d682fb7158"
      },
      "source": [
        "import string\n",
        "import re\n",
        "\n",
        "clean = re.sub('[^\\w\\s]','',text)\n",
        "print(clean)"
      ],
      "execution_count": null,
      "outputs": [
        {
          "output_type": "stream",
          "name": "stdout",
          "text": [
            "Beneath it were the words Stay Hungry Stay Foolish It was their farewell message \n",
            "as they signed off Stay Hungry Stay Foolish And I have always wished that for myself And now as \n",
            "you graduate to begin a new I wish that for you\n"
          ]
        }
      ]
    },
    {
      "cell_type": "code",
      "metadata": {
        "colab": {
          "base_uri": "https://localhost:8080/"
        },
        "id": "t9GjnEtnL0He",
        "outputId": "0fd3cf63-d5b3-4e0a-c16c-152f55321a93"
      },
      "source": [
        "clean = re.sub('\\n','',clean)\n",
        "print(clean)"
      ],
      "execution_count": null,
      "outputs": [
        {
          "output_type": "stream",
          "name": "stdout",
          "text": [
            "Beneath it were the words Stay Hungry Stay Foolish It was their farewell message as they signed off Stay Hungry Stay Foolish And I have always wished that for myself And now as you graduate to begin a new I wish that for you\n"
          ]
        }
      ]
    },
    {
      "cell_type": "markdown",
      "metadata": {
        "id": "BdPRucrAL0Hf"
      },
      "source": [
        "---"
      ]
    },
    {
      "cell_type": "markdown",
      "metadata": {
        "id": "uyGol3UoL0Hg"
      },
      "source": [
        "#### 토큰화(Tokenization)"
      ]
    },
    {
      "cell_type": "code",
      "metadata": {
        "colab": {
          "base_uri": "https://localhost:8080/"
        },
        "id": "hSHJr-0eL0Hh",
        "outputId": "6065571b-d1c3-47d7-f5e6-c5479fe31661"
      },
      "source": [
        "import nltk\n",
        "nltk.download('punkt')"
      ],
      "execution_count": null,
      "outputs": [
        {
          "output_type": "stream",
          "name": "stdout",
          "text": [
            "[nltk_data] Downloading package punkt to /root/nltk_data...\n",
            "[nltk_data]   Package punkt is already up-to-date!\n"
          ]
        },
        {
          "output_type": "execute_result",
          "data": {
            "text/plain": [
              "True"
            ]
          },
          "metadata": {},
          "execution_count": 55
        }
      ]
    },
    {
      "cell_type": "code",
      "metadata": {
        "colab": {
          "base_uri": "https://localhost:8080/"
        },
        "id": "9RRPIimhNvUp",
        "outputId": "91dd048a-5376-40f9-99a9-9f35492c8c7b"
      },
      "source": [
        "sent_tokens = nltk.sent_tokenize(text)\n",
        "print(sent_tokens)"
      ],
      "execution_count": null,
      "outputs": [
        {
          "output_type": "stream",
          "name": "stdout",
          "text": [
            "['Beneath it were the words: \"Stay Hungry.', 'Stay Foolish.\"', 'It was their farewell message \\nas they signed off.', 'Stay Hungry.', 'Stay Foolish.', 'And I have always wished that for myself.', 'And now, as \\nyou graduate to begin a new, I wish that for you.']\n"
          ]
        }
      ]
    },
    {
      "cell_type": "code",
      "metadata": {
        "colab": {
          "base_uri": "https://localhost:8080/"
        },
        "id": "iuvxpNPlL0Hh",
        "scrolled": true,
        "outputId": "430297f2-add6-42e8-bc7b-c2e85273f249"
      },
      "source": [
        "tokens = nltk.word_tokenize(clean)\n",
        "print(tokens)"
      ],
      "execution_count": null,
      "outputs": [
        {
          "output_type": "stream",
          "name": "stdout",
          "text": [
            "['Beneath', 'it', 'were', 'the', 'words', 'Stay', 'Hungry', 'Stay', 'Foolish', 'It', 'was', 'their', 'farewell', 'message', 'as', 'they', 'signed', 'off', 'Stay', 'Hungry', 'Stay', 'Foolish', 'And', 'I', 'have', 'always', 'wished', 'that', 'for', 'myself', 'And', 'now', 'as', 'you', 'graduate', 'to', 'begin', 'a', 'new', 'I', 'wish', 'that', 'for', 'you']\n"
          ]
        }
      ]
    },
    {
      "cell_type": "markdown",
      "metadata": {
        "id": "PBYg3zULL0Hi"
      },
      "source": [
        "---"
      ]
    },
    {
      "cell_type": "markdown",
      "metadata": {
        "id": "192DmVzfL0Hi"
      },
      "source": [
        "#### 불용어 제거(Stopword Elimination)"
      ]
    },
    {
      "cell_type": "code",
      "metadata": {
        "colab": {
          "base_uri": "https://localhost:8080/"
        },
        "id": "MvojRcwSU8cP",
        "outputId": "3c2b7b1e-308a-440f-93e6-535948f68779"
      },
      "source": [
        "nltk.download('stopwords')"
      ],
      "execution_count": null,
      "outputs": [
        {
          "output_type": "stream",
          "name": "stdout",
          "text": [
            "[nltk_data] Downloading package stopwords to /root/nltk_data...\n",
            "[nltk_data]   Package stopwords is already up-to-date!\n"
          ]
        },
        {
          "output_type": "execute_result",
          "data": {
            "text/plain": [
              "True"
            ]
          },
          "metadata": {},
          "execution_count": 58
        }
      ]
    },
    {
      "cell_type": "code",
      "metadata": {
        "colab": {
          "base_uri": "https://localhost:8080/"
        },
        "id": "SV0CL6vNL0Hi",
        "outputId": "11f4f3f6-51cb-4ae7-9a46-f8a85af81c8e"
      },
      "source": [
        "from nltk.corpus import stopwords \n",
        "\n",
        "stop = stopwords.words('english')\n",
        "tokens = [token for token in tokens if token not in stop]\n",
        "print(tokens)"
      ],
      "execution_count": null,
      "outputs": [
        {
          "output_type": "stream",
          "name": "stdout",
          "text": [
            "['Beneath', 'words', 'Stay', 'Hungry', 'Stay', 'Foolish', 'It', 'farewell', 'message', 'signed', 'Stay', 'Hungry', 'Stay', 'Foolish', 'And', 'I', 'always', 'wished', 'And', 'graduate', 'begin', 'new', 'I', 'wish']\n"
          ]
        }
      ]
    },
    {
      "cell_type": "code",
      "metadata": {
        "colab": {
          "base_uri": "https://localhost:8080/"
        },
        "id": "sszCLpSJL0Hj",
        "outputId": "73ef3feb-fabe-488f-9154-e7c1e1829dc0"
      },
      "source": [
        "tokens = [token for token in tokens if len(token) >= 3]\n",
        "print(tokens)"
      ],
      "execution_count": null,
      "outputs": [
        {
          "output_type": "stream",
          "name": "stdout",
          "text": [
            "['Beneath', 'words', 'Stay', 'Hungry', 'Stay', 'Foolish', 'farewell', 'message', 'signed', 'Stay', 'Hungry', 'Stay', 'Foolish', 'And', 'always', 'wished', 'And', 'graduate', 'begin', 'new', 'wish']\n"
          ]
        }
      ]
    },
    {
      "cell_type": "markdown",
      "metadata": {
        "id": "3tHRG3ihL0Hj"
      },
      "source": [
        "---"
      ]
    },
    {
      "cell_type": "markdown",
      "metadata": {
        "id": "kpAx62MDL0Hj"
      },
      "source": [
        "#### 소문자화(lower capitalization)"
      ]
    },
    {
      "cell_type": "code",
      "metadata": {
        "colab": {
          "base_uri": "https://localhost:8080/"
        },
        "id": "zREdzuy7L0Hk",
        "outputId": "c49b1240-4554-45e0-bc24-8003c4b6cc05"
      },
      "source": [
        "tokens = [token.lower() for token in tokens]\n",
        "print(tokens)"
      ],
      "execution_count": null,
      "outputs": [
        {
          "output_type": "stream",
          "name": "stdout",
          "text": [
            "['beneath', 'words', 'stay', 'hungry', 'stay', 'foolish', 'farewell', 'message', 'signed', 'stay', 'hungry', 'stay', 'foolish', 'and', 'always', 'wished', 'and', 'graduate', 'begin', 'new', 'wish']\n"
          ]
        }
      ]
    },
    {
      "cell_type": "code",
      "metadata": {
        "colab": {
          "base_uri": "https://localhost:8080/"
        },
        "id": "pZxnERBKOBY9",
        "outputId": "28474005-af12-4972-f659-cb90dc3d4eb8"
      },
      "source": [
        "nltk.download('averaged_perceptron_tagger')"
      ],
      "execution_count": null,
      "outputs": [
        {
          "output_type": "stream",
          "name": "stdout",
          "text": [
            "[nltk_data] Downloading package averaged_perceptron_tagger to\n",
            "[nltk_data]     /root/nltk_data...\n",
            "[nltk_data]   Package averaged_perceptron_tagger is already up-to-\n",
            "[nltk_data]       date!\n"
          ]
        },
        {
          "output_type": "execute_result",
          "data": {
            "text/plain": [
              "True"
            ]
          },
          "metadata": {},
          "execution_count": 62
        }
      ]
    },
    {
      "cell_type": "code",
      "metadata": {
        "colab": {
          "base_uri": "https://localhost:8080/"
        },
        "id": "qrkOx6T8L0Hk",
        "outputId": "fcbc75f4-97e6-45ec-f0a6-ef0f4859b600"
      },
      "source": [
        "from nltk.tag import pos_tag\n",
        "\n",
        "tagged_list = pos_tag(set(tokens))\n",
        "print(tagged_list)"
      ],
      "execution_count": null,
      "outputs": [
        {
          "output_type": "stream",
          "name": "stdout",
          "text": [
            "[('stay', 'NN'), ('and', 'CC'), ('words', 'NNS'), ('new', 'JJ'), ('graduate', 'NN'), ('hungry', 'JJ'), ('always', 'RB'), ('begin', 'VBP'), ('beneath', 'NN'), ('farewell', 'NN'), ('wished', 'VBD'), ('signed', 'JJ'), ('wish', 'JJ'), ('foolish', 'JJ'), ('message', 'NN')]\n"
          ]
        }
      ]
    },
    {
      "cell_type": "code",
      "metadata": {
        "id": "1Vx5FY7eQU3C"
      },
      "source": [
        ""
      ],
      "execution_count": null,
      "outputs": []
    },
    {
      "cell_type": "code",
      "metadata": {
        "id": "4aRde3UNQa3r"
      },
      "source": [
        "text = \"\"\"그 밑에는 \"계속 배고픔을 느끼세요. 계속 바보로 남으세요\" 라는 문구가 새겨져 있었습니다. 그들이 전한 마지막\n",
        "인사말이었습니다. 계속 배고픔을 느끼세요, 계속 바보로 남으세요. 그리고 저는 항상 제 자신이 그렇길 바랬습니다. 이제는 \n",
        "졸업을 하고 새로운 출발을 하는 여러분에게 바라는 바 입니다.\n",
        "\"\"\""
      ],
      "execution_count": null,
      "outputs": []
    },
    {
      "cell_type": "code",
      "metadata": {
        "colab": {
          "base_uri": "https://localhost:8080/"
        },
        "id": "Li-z57awaNqR",
        "outputId": "e3c22bc5-cccf-4792-b5be-85d24f5c89a6"
      },
      "source": [
        "import string\n",
        "import re\n",
        "\n",
        "cleaned_text = re.sub('[^\\w\\s]','',text)\n",
        "print(cleaned_text)"
      ],
      "execution_count": null,
      "outputs": [
        {
          "output_type": "stream",
          "name": "stdout",
          "text": [
            "그 밑에는 계속 배고픔을 느끼세요 계속 바보로 남으세요 라는 문구가 새겨져 있었습니다 그들이 전한 마지막\n",
            "인사말이었습니다 계속 배고픔을 느끼세요 계속 바보로 남으세요 그리고 저는 항상 제 자신이 그렇길 바랬습니다 이제는 \n",
            "졸업을 하고 새로운 출발을 하는 여러분에게 바라는 바 입니다\n",
            "\n"
          ]
        }
      ]
    },
    {
      "cell_type": "code",
      "metadata": {
        "colab": {
          "base_uri": "https://localhost:8080/"
        },
        "id": "7UBenDHUaSp3",
        "outputId": "e7c4efba-8889-4257-f4f2-58ddc8188542"
      },
      "source": [
        "cleaned_text = re.sub('\\n',' ',cleaned_text)\n",
        "print(cleaned_text)"
      ],
      "execution_count": null,
      "outputs": [
        {
          "output_type": "stream",
          "name": "stdout",
          "text": [
            "그 밑에는 계속 배고픔을 느끼세요 계속 바보로 남으세요 라는 문구가 새겨져 있었습니다 그들이 전한 마지막 인사말이었습니다 계속 배고픔을 느끼세요 계속 바보로 남으세요 그리고 저는 항상 제 자신이 그렇길 바랬습니다 이제는  졸업을 하고 새로운 출발을 하는 여러분에게 바라는 바 입니다 \n"
          ]
        }
      ]
    },
    {
      "cell_type": "code",
      "metadata": {
        "colab": {
          "base_uri": "https://localhost:8080/"
        },
        "id": "xjzvkSlcaWow",
        "outputId": "b4e91ed0-e6aa-4956-9bea-21acb19c8e57"
      },
      "source": [
        "def tokenizer(words):\n",
        "  tokens = words.split()\n",
        "  return tokens\n",
        "\n",
        "tokens = tokenizer(cleaned_text)\n",
        "print(tokens)"
      ],
      "execution_count": null,
      "outputs": [
        {
          "output_type": "stream",
          "name": "stdout",
          "text": [
            "['그', '밑에는', '계속', '배고픔을', '느끼세요', '계속', '바보로', '남으세요', '라는', '문구가', '새겨져', '있었습니다', '그들이', '전한', '마지막', '인사말이었습니다', '계속', '배고픔을', '느끼세요', '계속', '바보로', '남으세요', '그리고', '저는', '항상', '제', '자신이', '그렇길', '바랬습니다', '이제는', '졸업을', '하고', '새로운', '출발을', '하는', '여러분에게', '바라는', '바', '입니다']\n"
          ]
        }
      ]
    },
    {
      "cell_type": "code",
      "metadata": {
        "colab": {
          "base_uri": "https://localhost:8080/"
        },
        "id": "HCZCdnFwafxE",
        "outputId": "2a491287-7472-445a-fb23-7cd94cc1b5fd"
      },
      "source": [
        "!pip install JPype1\n",
        "!pip install konlpy\n",
        "!sudo apt-get install curl git\n",
        "!bash <(curl -s https://raw.githubusercontent.com/konlpy/konlpy/master/scripts/mecab.sh)"
      ],
      "execution_count": null,
      "outputs": [
        {
          "output_type": "stream",
          "name": "stdout",
          "text": [
            "Requirement already satisfied: JPype1 in /usr/local/lib/python3.7/dist-packages (1.3.0)\n",
            "Requirement already satisfied: typing-extensions in /usr/local/lib/python3.7/dist-packages (from JPype1) (3.7.4.3)\n",
            "Requirement already satisfied: konlpy in /usr/local/lib/python3.7/dist-packages (0.5.2)\n",
            "Requirement already satisfied: beautifulsoup4==4.6.0 in /usr/local/lib/python3.7/dist-packages (from konlpy) (4.6.0)\n",
            "Requirement already satisfied: lxml>=4.1.0 in /usr/local/lib/python3.7/dist-packages (from konlpy) (4.2.6)\n",
            "Requirement already satisfied: JPype1>=0.7.0 in /usr/local/lib/python3.7/dist-packages (from konlpy) (1.3.0)\n",
            "Requirement already satisfied: colorama in /usr/local/lib/python3.7/dist-packages (from konlpy) (0.4.4)\n",
            "Requirement already satisfied: tweepy>=3.7.0 in /usr/local/lib/python3.7/dist-packages (from konlpy) (3.10.0)\n",
            "Requirement already satisfied: numpy>=1.6 in /usr/local/lib/python3.7/dist-packages (from konlpy) (1.19.5)\n",
            "Requirement already satisfied: typing-extensions in /usr/local/lib/python3.7/dist-packages (from JPype1>=0.7.0->konlpy) (3.7.4.3)\n",
            "Requirement already satisfied: six>=1.10.0 in /usr/local/lib/python3.7/dist-packages (from tweepy>=3.7.0->konlpy) (1.15.0)\n",
            "Requirement already satisfied: requests[socks]>=2.11.1 in /usr/local/lib/python3.7/dist-packages (from tweepy>=3.7.0->konlpy) (2.23.0)\n",
            "Requirement already satisfied: requests-oauthlib>=0.7.0 in /usr/local/lib/python3.7/dist-packages (from tweepy>=3.7.0->konlpy) (1.3.0)\n",
            "Requirement already satisfied: oauthlib>=3.0.0 in /usr/local/lib/python3.7/dist-packages (from requests-oauthlib>=0.7.0->tweepy>=3.7.0->konlpy) (3.1.1)\n",
            "Requirement already satisfied: urllib3!=1.25.0,!=1.25.1,<1.26,>=1.21.1 in /usr/local/lib/python3.7/dist-packages (from requests[socks]>=2.11.1->tweepy>=3.7.0->konlpy) (1.24.3)\n",
            "Requirement already satisfied: idna<3,>=2.5 in /usr/local/lib/python3.7/dist-packages (from requests[socks]>=2.11.1->tweepy>=3.7.0->konlpy) (2.10)\n",
            "Requirement already satisfied: chardet<4,>=3.0.2 in /usr/local/lib/python3.7/dist-packages (from requests[socks]>=2.11.1->tweepy>=3.7.0->konlpy) (3.0.4)\n",
            "Requirement already satisfied: certifi>=2017.4.17 in /usr/local/lib/python3.7/dist-packages (from requests[socks]>=2.11.1->tweepy>=3.7.0->konlpy) (2021.5.30)\n",
            "Requirement already satisfied: PySocks!=1.5.7,>=1.5.6 in /usr/local/lib/python3.7/dist-packages (from requests[socks]>=2.11.1->tweepy>=3.7.0->konlpy) (1.7.1)\n",
            "Reading package lists... Done\n",
            "Building dependency tree       \n",
            "Reading state information... Done\n",
            "curl is already the newest version (7.58.0-2ubuntu3.16).\n",
            "git is already the newest version (1:2.17.1-1ubuntu0.9).\n",
            "0 upgraded, 0 newly installed, 0 to remove and 38 not upgraded.\n",
            "mecab-ko is already installed\n",
            "mecab-ko-dic is already installed\n",
            "mecab-python is already installed\n",
            "Done.\n"
          ]
        }
      ]
    },
    {
      "cell_type": "code",
      "metadata": {
        "id": "oucnJzVCamb8"
      },
      "source": [
        "from konlpy.tag import Okt, Kkma, Komoran, Hannanum, Mecab\n",
        "# tagger = Kkma()\n",
        "# tagger = Komoran()\n",
        "# tagger = Hannanum()\n",
        "# tagger = Okt()\n",
        "tagger = Mecab()"
      ],
      "execution_count": null,
      "outputs": []
    },
    {
      "cell_type": "code",
      "metadata": {
        "colab": {
          "base_uri": "https://localhost:8080/"
        },
        "id": "adpgKDtIau8P",
        "outputId": "cd2ccacf-df12-4533-d64d-31781f595659"
      },
      "source": [
        "tag_list = tagger.morphs(cleaned_text)\n",
        "print(tag_list)"
      ],
      "execution_count": null,
      "outputs": [
        {
          "output_type": "stream",
          "name": "stdout",
          "text": [
            "['그', '밑', '에', '는', '계속', '배고픔', '을', '느끼', '세요', '계속', '바보', '로', '남', '으세요', '라는', '문구', '가', '새겨져', '있', '었', '습니다', '그', '들', '이', '전한', '마지막', '인사말', '이', '었', '습니다', '계속', '배고픔', '을', '느끼', '세요', '계속', '바보', '로', '남', '으세요', '그리고', '저', '는', '항상', '제', '자신', '이', '그렇', '길', '바랬', '습니다', '이제', '는', '졸업', '을', '하', '고', '새로운', '출발', '을', '하', '는', '여러분', '에게', '바라', '는', '바', '입', '니다']\n"
          ]
        }
      ]
    },
    {
      "cell_type": "code",
      "metadata": {
        "colab": {
          "base_uri": "https://localhost:8080/"
        },
        "id": "nTYxlubJa2_Q",
        "outputId": "be4648ea-8d29-4a00-85f8-387485190ac8"
      },
      "source": [
        "pos_list = tagger.pos(cleaned_text)\n",
        "print(pos_list)"
      ],
      "execution_count": null,
      "outputs": [
        {
          "output_type": "stream",
          "name": "stdout",
          "text": [
            "[('그', 'MM'), ('밑', 'NNG'), ('에', 'JKB'), ('는', 'JX'), ('계속', 'MAG'), ('배고픔', 'NNG'), ('을', 'JKO'), ('느끼', 'VV'), ('세요', 'EP+EF'), ('계속', 'MAG'), ('바보', 'NNG'), ('로', 'JKB'), ('남', 'VV'), ('으세요', 'EF'), ('라는', 'ETM'), ('문구', 'NNG'), ('가', 'JKS'), ('새겨져', 'VV+EC+VX+EC'), ('있', 'VX'), ('었', 'EP'), ('습니다', 'EF'), ('그', 'NP'), ('들', 'XSN'), ('이', 'JKS'), ('전한', 'VV+ETM'), ('마지막', 'NNG'), ('인사말', 'NNG'), ('이', 'VCP'), ('었', 'EP'), ('습니다', 'EF'), ('계속', 'MAG'), ('배고픔', 'NNG'), ('을', 'JKO'), ('느끼', 'VV'), ('세요', 'EP+EF'), ('계속', 'MAG'), ('바보', 'NNG'), ('로', 'JKB'), ('남', 'VV'), ('으세요', 'EF'), ('그리고', 'MAJ'), ('저', 'NP'), ('는', 'JX'), ('항상', 'MAG'), ('제', 'MM'), ('자신', 'NNG'), ('이', 'JKS'), ('그렇', 'VA'), ('길', 'ETN+JKO'), ('바랬', 'VV+EC+EP'), ('습니다', 'EF'), ('이제', 'MAG'), ('는', 'JX'), ('졸업', 'NNG'), ('을', 'JKO'), ('하', 'VV'), ('고', 'EC'), ('새로운', 'VA+ETM'), ('출발', 'NNG'), ('을', 'JKO'), ('하', 'VV'), ('는', 'ETM'), ('여러분', 'NP'), ('에게', 'JKB'), ('바라', 'VV'), ('는', 'ETM'), ('바', 'NNB'), ('입', 'VV'), ('니다', 'EC')]\n"
          ]
        }
      ]
    },
    {
      "cell_type": "code",
      "metadata": {
        "colab": {
          "base_uri": "https://localhost:8080/"
        },
        "id": "6_ATUCXOa3AX",
        "outputId": "37ae638f-8e67-4155-ba96-4d8bdc328986"
      },
      "source": [
        "noun_list = tagger.nouns(cleaned_text)\n",
        "print(noun_list)"
      ],
      "execution_count": null,
      "outputs": [
        {
          "output_type": "stream",
          "name": "stdout",
          "text": [
            "['밑', '배고픔', '바보', '문구', '그', '마지막', '인사말', '배고픔', '바보', '저', '자신', '졸업', '출발', '여러분', '바']\n"
          ]
        }
      ]
    },
    {
      "cell_type": "code",
      "metadata": {
        "id": "KHQTjtR3bgc6"
      },
      "source": [
        ""
      ],
      "execution_count": null,
      "outputs": []
    }
  ]
}