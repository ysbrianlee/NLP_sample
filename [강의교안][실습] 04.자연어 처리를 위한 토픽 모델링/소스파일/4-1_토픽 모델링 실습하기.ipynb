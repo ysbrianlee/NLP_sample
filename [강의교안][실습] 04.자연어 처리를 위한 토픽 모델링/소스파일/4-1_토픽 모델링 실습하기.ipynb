{
  "nbformat": 4,
  "nbformat_minor": 0,
  "metadata": {
    "kernelspec": {
      "display_name": "Python 3",
      "language": "python",
      "name": "python3"
    },
    "language_info": {
      "codemirror_mode": {
        "name": "ipython",
        "version": 3
      },
      "file_extension": ".py",
      "mimetype": "text/x-python",
      "name": "python",
      "nbconvert_exporter": "python",
      "pygments_lexer": "ipython3",
      "version": "3.8.3"
    },
    "colab": {
      "name": "4.1 토픽모델링 LDA.ipynb",
      "provenance": [],
      "collapsed_sections": []
    }
  },
  "cells": [
    {
      "cell_type": "code",
      "metadata": {
        "colab": {
          "resources": {
            "http://localhost:8080/nbextensions/google.colab/files.js": {
              "data": "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",
              "ok": true,
              "headers": [
                [
                  "content-type",
                  "application/javascript"
                ]
              ],
              "status": 200,
              "status_text": ""
            }
          },
          "base_uri": "https://localhost:8080/",
          "height": 41
        },
        "id": "uhB6cJY5m0OE",
        "outputId": "942c9575-b470-48da-8efb-af302cee5c7c"
      },
      "source": [
        "from google.colab import files\n",
        "import os\n",
        "\n",
        "data_dir = 'data'\n",
        "\n",
        "if not os.path.exists(data_dir):\n",
        "    os.mkdir(data_dir)\n",
        "os.chdir(data_dir)\n",
        "files.upload()\n",
        "os.chdir('..')"
      ],
      "execution_count": 73,
      "outputs": [
        {
          "output_type": "display_data",
          "data": {
            "text/html": [
              "\n",
              "     <input type=\"file\" id=\"files-6e1a2f2e-05d5-4947-bc6d-0ebd1e1e4341\" name=\"files[]\" multiple disabled\n",
              "        style=\"border:none\" />\n",
              "     <output id=\"result-6e1a2f2e-05d5-4947-bc6d-0ebd1e1e4341\">\n",
              "      Upload widget is only available when the cell has been executed in the\n",
              "      current browser session. Please rerun this cell to enable.\n",
              "      </output>\n",
              "      <script src=\"/nbextensions/google.colab/files.js\"></script> "
            ],
            "text/plain": [
              "<IPython.core.display.HTML object>"
            ]
          },
          "metadata": {}
        }
      ]
    },
    {
      "cell_type": "code",
      "metadata": {
        "id": "eYyPR_-Cm0OF",
        "colab": {
          "base_uri": "https://localhost:8080/",
          "height": 35
        },
        "outputId": "b287a6d5-4afb-4fd0-e8a9-6cf3adf787f9"
      },
      "source": [
        "import pandas as pd\n",
        "df_news = pd.read_csv('./data/news.csv')"
      ],
      "execution_count": 93,
      "outputs": [
        {
          "output_type": "execute_result",
          "data": {
            "application/vnd.google.colaboratory.intrinsic+json": {
              "type": "string"
            },
            "text/plain": [
              "'1.1.5'"
            ]
          },
          "metadata": {},
          "execution_count": 93
        }
      ]
    },
    {
      "cell_type": "code",
      "metadata": {
        "colab": {
          "base_uri": "https://localhost:8080/",
          "height": 206
        },
        "id": "JxggyXABm0OG",
        "outputId": "cb39ae19-ea17-47b5-d4ad-f2a2a779e2b2"
      },
      "source": [
        "df_news[df_news.category==7 ].head()"
      ],
      "execution_count": 77,
      "outputs": [
        {
          "output_type": "execute_result",
          "data": {
            "text/html": [
              "<div>\n",
              "<style scoped>\n",
              "    .dataframe tbody tr th:only-of-type {\n",
              "        vertical-align: middle;\n",
              "    }\n",
              "\n",
              "    .dataframe tbody tr th {\n",
              "        vertical-align: top;\n",
              "    }\n",
              "\n",
              "    .dataframe thead th {\n",
              "        text-align: right;\n",
              "    }\n",
              "</style>\n",
              "<table border=\"1\" class=\"dataframe\">\n",
              "  <thead>\n",
              "    <tr style=\"text-align: right;\">\n",
              "      <th></th>\n",
              "      <th>category</th>\n",
              "      <th>num</th>\n",
              "      <th>news</th>\n",
              "    </tr>\n",
              "  </thead>\n",
              "  <tbody>\n",
              "    <tr>\n",
              "      <th>1400</th>\n",
              "      <td>7</td>\n",
              "      <td>7000</td>\n",
              "      <td>차명종 서대현 김라희 등 韓7명 호치민3쿠션월드컵 PPPQ통과 PPQ에 임정완 강상...</td>\n",
              "    </tr>\n",
              "    <tr>\n",
              "      <th>1401</th>\n",
              "      <td>7</td>\n",
              "      <td>7001</td>\n",
              "      <td>정현 한국 선수 최초로 메이저대회 시드 받는다 ㆍ27일 프랑스오픈서 19번 내외  ...</td>\n",
              "    </tr>\n",
              "    <tr>\n",
              "      <th>1402</th>\n",
              "      <td>7</td>\n",
              "      <td>7002</td>\n",
              "      <td>흙 위에서 되찾은 세계 1위 클레이코트의 황제 라파엘 나달스페인이 세계랭킹 2위로 ...</td>\n",
              "    </tr>\n",
              "    <tr>\n",
              "      <th>1403</th>\n",
              "      <td>7</td>\n",
              "      <td>7003</td>\n",
              "      <td>빙상경기연맹 논란의 진실 밝혀질까문체부 23일 감사 결과 발표 스포티비뉴스정형근 기...</td>\n",
              "    </tr>\n",
              "    <tr>\n",
              "      <th>1404</th>\n",
              "      <td>7</td>\n",
              "      <td>7004</td>\n",
              "      <td>세계최강 남자 사브르 마드리드 월드컵 단체전 우승 윈터뉴스김태경 기자 대한민국 남자...</td>\n",
              "    </tr>\n",
              "  </tbody>\n",
              "</table>\n",
              "</div>"
            ],
            "text/plain": [
              "      category   num                                               news\n",
              "1400         7  7000  차명종 서대현 김라희 등 韓7명 호치민3쿠션월드컵 PPPQ통과 PPQ에 임정완 강상...\n",
              "1401         7  7001  정현 한국 선수 최초로 메이저대회 시드 받는다 ㆍ27일 프랑스오픈서 19번 내외  ...\n",
              "1402         7  7002  흙 위에서 되찾은 세계 1위 클레이코트의 황제 라파엘 나달스페인이 세계랭킹 2위로 ...\n",
              "1403         7  7003  빙상경기연맹 논란의 진실 밝혀질까문체부 23일 감사 결과 발표 스포티비뉴스정형근 기...\n",
              "1404         7  7004  세계최강 남자 사브르 마드리드 월드컵 단체전 우승 윈터뉴스김태경 기자 대한민국 남자..."
            ]
          },
          "metadata": {},
          "execution_count": 77
        }
      ]
    },
    {
      "cell_type": "code",
      "metadata": {
        "colab": {
          "base_uri": "https://localhost:8080/"
        },
        "id": "nuGR0KrGOclX",
        "outputId": "4b4403b9-a1ff-4a78-c5d0-a2d26c396eb5"
      },
      "source": [
        "!pip install JPype1\n",
        "!pip install konlpy"
      ],
      "execution_count": 78,
      "outputs": [
        {
          "output_type": "stream",
          "name": "stdout",
          "text": [
            "Requirement already satisfied: JPype1 in /usr/local/lib/python3.7/dist-packages (1.3.0)\n",
            "Requirement already satisfied: typing-extensions in /usr/local/lib/python3.7/dist-packages (from JPype1) (3.7.4.3)\n",
            "Requirement already satisfied: konlpy in /usr/local/lib/python3.7/dist-packages (0.5.2)\n",
            "Requirement already satisfied: beautifulsoup4==4.6.0 in /usr/local/lib/python3.7/dist-packages (from konlpy) (4.6.0)\n",
            "Requirement already satisfied: lxml>=4.1.0 in /usr/local/lib/python3.7/dist-packages (from konlpy) (4.2.6)\n",
            "Requirement already satisfied: colorama in /usr/local/lib/python3.7/dist-packages (from konlpy) (0.4.4)\n",
            "Requirement already satisfied: tweepy>=3.7.0 in /usr/local/lib/python3.7/dist-packages (from konlpy) (3.10.0)\n",
            "Requirement already satisfied: JPype1>=0.7.0 in /usr/local/lib/python3.7/dist-packages (from konlpy) (1.3.0)\n",
            "Requirement already satisfied: numpy>=1.6 in /usr/local/lib/python3.7/dist-packages (from konlpy) (1.21.2)\n",
            "Requirement already satisfied: typing-extensions in /usr/local/lib/python3.7/dist-packages (from JPype1>=0.7.0->konlpy) (3.7.4.3)\n",
            "Requirement already satisfied: six>=1.10.0 in /usr/local/lib/python3.7/dist-packages (from tweepy>=3.7.0->konlpy) (1.15.0)\n",
            "Requirement already satisfied: requests-oauthlib>=0.7.0 in /usr/local/lib/python3.7/dist-packages (from tweepy>=3.7.0->konlpy) (1.3.0)\n",
            "Requirement already satisfied: requests[socks]>=2.11.1 in /usr/local/lib/python3.7/dist-packages (from tweepy>=3.7.0->konlpy) (2.23.0)\n",
            "Requirement already satisfied: oauthlib>=3.0.0 in /usr/local/lib/python3.7/dist-packages (from requests-oauthlib>=0.7.0->tweepy>=3.7.0->konlpy) (3.1.1)\n",
            "Requirement already satisfied: chardet<4,>=3.0.2 in /usr/local/lib/python3.7/dist-packages (from requests[socks]>=2.11.1->tweepy>=3.7.0->konlpy) (3.0.4)\n",
            "Requirement already satisfied: urllib3!=1.25.0,!=1.25.1,<1.26,>=1.21.1 in /usr/local/lib/python3.7/dist-packages (from requests[socks]>=2.11.1->tweepy>=3.7.0->konlpy) (1.24.3)\n",
            "Requirement already satisfied: idna<3,>=2.5 in /usr/local/lib/python3.7/dist-packages (from requests[socks]>=2.11.1->tweepy>=3.7.0->konlpy) (2.10)\n",
            "Requirement already satisfied: certifi>=2017.4.17 in /usr/local/lib/python3.7/dist-packages (from requests[socks]>=2.11.1->tweepy>=3.7.0->konlpy) (2021.5.30)\n",
            "Requirement already satisfied: PySocks!=1.5.7,>=1.5.6 in /usr/local/lib/python3.7/dist-packages (from requests[socks]>=2.11.1->tweepy>=3.7.0->konlpy) (1.7.1)\n"
          ]
        }
      ]
    },
    {
      "cell_type": "code",
      "metadata": {
        "id": "LuotuTgWxENe",
        "colab": {
          "base_uri": "https://localhost:8080/"
        },
        "outputId": "40acb53b-e1fb-4636-c96c-4ac235dfb7b9"
      },
      "source": [
        "text = df_news[(df_news.category==7) & (df_news.num==7001)]['news'].values[0]\n",
        "print(text)"
      ],
      "execution_count": 79,
      "outputs": [
        {
          "output_type": "stream",
          "name": "stdout",
          "text": [
            "정현 한국 선수 최초로 메이저대회 시드 받는다 ㆍ27일 프랑스오픈서 19번 내외          한국 남자테니스의 희망 정현22한국체대사진이 21일 발표된 남자 프로테니스ATP 단식 세계랭킹에서 지난주와 같은 20위를 유지했다 이에 따라 정현은 오는 27일 개막하는 메이저대회 프랑스오픈에서 한국 선수 최초로 단식 본선 시드를 받게 됐다    시즌 2번째 메이저대회인 프랑스오픈 남자 단식 본선에는 상위 32명이 시드를 받아 출전한다 세계랭킹 20위인 정현 역시 시드를 받는다    정현은 이번 대회에 불참하는 로저 페더러2위스위스를 제외하고 19번 시드를 받을 가능성이 높다 지난해부터 페더러는 클레이코트에서 열리는 대회에는 출전하지 않는다    정현은 올해 첫 메이저대회인 1월 호주 오픈에서 한국 선수 최초로 4강에 오르며 역대 최고 성적을 거뒀다 종전 기록은 이덕희 이형택 등이 US오픈에서 기록한 16강이 최고 성적이었다 메이저대회에서 시드를 받는 것 역시 한국 선수로서는 정현이 처음이다    정현은 지난해 프랑스오픈에서는 예선을 거쳐 32강에 올랐다 32강전에서 니시코리 게이일본를 만나 풀세트 접전 끝에 아쉽게 23으로 졌다     정현은 프랑스오픈에 앞서 ATP투어 리옹오픈에 출전한다\n"
          ]
        }
      ]
    },
    {
      "cell_type": "code",
      "metadata": {
        "id": "soEgj93wSg8T"
      },
      "source": [
        "import konlpy\n",
        "import re"
      ],
      "execution_count": 80,
      "outputs": []
    },
    {
      "cell_type": "code",
      "metadata": {
        "colab": {
          "base_uri": "https://localhost:8080/"
        },
        "id": "pXOhx5ffSFv5",
        "outputId": "200fd050-1c2d-402c-db1b-4f94720a8800"
      },
      "source": [
        "okt = konlpy.tag.Okt()\n",
        "morphs = okt.pos(text, stem = True) \n",
        "print(morphs)"
      ],
      "execution_count": 81,
      "outputs": [
        {
          "output_type": "stream",
          "name": "stdout",
          "text": [
            "[('정현', 'Noun'), ('한국', 'Noun'), ('선수', 'Noun'), ('최초', 'Noun'), ('로', 'Josa'), ('메이저', 'Noun'), ('대회', 'Noun'), ('시드', 'Noun'), ('받다', 'Verb'), ('ㆍ', 'Foreign'), ('27일', 'Number'), ('프랑스', 'Noun'), ('오픈', 'Noun'), ('서', 'Josa'), ('19', 'Number'), ('번', 'Noun'), ('내외', 'Noun'), ('한국', 'Noun'), ('남자', 'Noun'), ('테니스', 'Noun'), ('의', 'Josa'), ('희망', 'Noun'), ('정현', 'Noun'), ('22', 'Number'), ('한', 'Determiner'), ('국체', 'Noun'), ('대', 'Modifier'), ('사진', 'Noun'), ('이', 'Josa'), ('21일', 'Number'), ('발표', 'Noun'), ('되다', 'Verb'), ('남자', 'Noun'), ('프로', 'Noun'), ('테니스', 'Noun'), ('ATP', 'Alpha'), ('단식', 'Noun'), ('세계', 'Noun'), ('랭킹', 'Noun'), ('에서', 'Josa'), ('지난주', 'Noun'), ('와', 'Josa'), ('같다', 'Adjective'), ('20', 'Number'), ('위', 'Noun'), ('를', 'Josa'), ('유지', 'Noun'), ('하다', 'Verb'), ('이', 'Noun'), ('에', 'Josa'), ('따르다', 'Verb'), ('정현', 'Noun'), ('은', 'Josa'), ('오다', 'Verb'), ('27일', 'Number'), ('개막', 'Noun'), ('하다', 'Verb'), ('메이저', 'Noun'), ('대회', 'Noun'), ('프랑스', 'Noun'), ('오픈', 'Noun'), ('에서', 'Josa'), ('한국', 'Noun'), ('선수', 'Noun'), ('최초', 'Noun'), ('로', 'Josa'), ('단식', 'Noun'), ('본선', 'Noun'), ('시드', 'Noun'), ('를', 'Josa'), ('받다', 'Verb'), ('돼다', 'Verb'), ('시즌', 'Noun'), ('2', 'Number'), ('번째', 'Suffix'), ('메이저', 'Noun'), ('대회', 'Noun'), ('인', 'Josa'), ('프랑스', 'Noun'), ('오픈', 'Noun'), ('남자', 'Noun'), ('단식', 'Noun'), ('본선', 'Noun'), ('에는', 'Josa'), ('상위', 'Noun'), ('32', 'Number'), ('명', 'Noun'), ('이', 'Josa'), ('시드', 'Noun'), ('를', 'Josa'), ('받다', 'Verb'), ('출전', 'Noun'), ('하다', 'Verb'), ('세계', 'Noun'), ('랭킹', 'Noun'), ('20', 'Number'), ('위인', 'Noun'), ('정현', 'Noun'), ('역시', 'Noun'), ('시드', 'Noun'), ('를', 'Josa'), ('받다', 'Verb'), ('정현', 'Noun'), ('은', 'Josa'), ('이번', 'Noun'), ('대회', 'Noun'), ('에', 'Josa'), ('불참', 'Noun'), ('하다', 'Verb'), ('로저', 'Noun'), ('페더러', 'Noun'), ('2', 'Number'), ('위', 'Noun'), ('스위스', 'Noun'), ('를', 'Josa'), ('제외', 'Noun'), ('하고', 'Josa'), ('19', 'Number'), ('번', 'Noun'), ('시드', 'Noun'), ('를', 'Josa'), ('받다', 'Verb'), ('가능성', 'Noun'), ('이', 'Josa'), ('높다', 'Adjective'), ('지난해', 'Noun'), ('부터', 'Josa'), ('페더러', 'Noun'), ('는', 'Josa'), ('클레이', 'Noun'), ('코트', 'Noun'), ('에서', 'Josa'), ('열리다', 'Verb'), ('대회', 'Noun'), ('에는', 'Josa'), ('출전', 'Noun'), ('하다', 'Verb'), ('않다', 'Verb'), ('정현', 'Noun'), ('은', 'Josa'), ('올해', 'Noun'), ('첫', 'Noun'), ('메이저', 'Noun'), ('대회', 'Noun'), ('인', 'Josa'), ('1월', 'Number'), ('호주', 'Noun'), ('오픈', 'Noun'), ('에서', 'Josa'), ('한국', 'Noun'), ('선수', 'Noun'), ('최초', 'Noun'), ('로', 'Josa'), ('4', 'Number'), ('강', 'Noun'), ('에', 'Josa'), ('오르다', 'Verb'), ('역대', 'Noun'), ('최고', 'Noun'), ('성적', 'Noun'), ('을', 'Josa'), ('거두다', 'Verb'), ('종전', 'Noun'), ('기록', 'Noun'), ('은', 'Josa'), ('이덕희', 'Noun'), ('이형택', 'Noun'), ('등', 'Noun'), ('이', 'Josa'), ('US', 'Alpha'), ('오픈', 'Noun'), ('에서', 'Josa'), ('기록', 'Noun'), ('한', 'Josa'), ('16', 'Number'), ('강', 'Noun'), ('이', 'Josa'), ('최고', 'Noun'), ('성적', 'Noun'), ('이다', 'Verb'), ('메이저', 'Noun'), ('대회', 'Noun'), ('에서', 'Josa'), ('시드', 'Noun'), ('를', 'Josa'), ('받다', 'Verb'), ('것', 'Noun'), ('역시', 'Noun'), ('한국', 'Noun'), ('선수', 'Noun'), ('로서', 'Noun'), ('는', 'Josa'), ('정현', 'Noun'), ('이', 'Josa'), ('처음', 'Noun'), ('이다', 'Josa'), ('정현', 'Noun'), ('은', 'Josa'), ('지난해', 'Noun'), ('프랑스', 'Noun'), ('오픈', 'Noun'), ('에서는', 'Josa'), ('예선', 'Noun'), ('을', 'Josa'), ('거치다', 'Verb'), ('32', 'Number'), ('강', 'Noun'), ('에', 'Josa'), ('오르다', 'Verb'), ('32', 'Number'), ('강전', 'Noun'), ('에서', 'Josa'), ('니시코리', 'Noun'), ('게이', 'Noun'), ('일본', 'Noun'), ('를', 'Noun'), ('만나다', 'Verb'), ('풀', 'Noun'), ('세트', 'Noun'), ('접전', 'Noun'), ('끝', 'Noun'), ('에', 'Josa'), ('아쉽다', 'Adjective'), ('23', 'Number'), ('으로', 'Josa'), ('지다', 'Verb'), ('\\xa0', 'Foreign'), ('정현', 'Noun'), ('은', 'Josa'), ('프랑스', 'Noun'), ('오픈', 'Noun'), ('에', 'Josa'), ('앞서', 'Noun'), ('ATP', 'Alpha'), ('투어', 'Noun'), ('리옹', 'Noun'), ('오픈', 'Noun'), ('에', 'Josa'), ('출전', 'Noun'), ('하다', 'Verb')]\n"
          ]
        }
      ]
    },
    {
      "cell_type": "code",
      "metadata": {
        "id": "JsYMb3LqQksX"
      },
      "source": [
        "def get_words(text):\n",
        "    morphs = okt.pos(text, stem = True)   \n",
        "    \n",
        "    word_list = []\n",
        "    for word, pos in morphs:\n",
        "        if pos == 'Noun' or pos == 'Adjective' or pos == 'Verb':\n",
        "          if len(word) > 1:\n",
        "            word_list.append(word)\n",
        "\n",
        "    words = ' '.join(word_list)\n",
        "    return words"
      ],
      "execution_count": 82,
      "outputs": []
    },
    {
      "cell_type": "code",
      "metadata": {
        "id": "Yi8SqQKBxyDG"
      },
      "source": [
        "df_news['words'] = df_news.news.apply(get_words)"
      ],
      "execution_count": 83,
      "outputs": []
    },
    {
      "cell_type": "code",
      "metadata": {
        "colab": {
          "base_uri": "https://localhost:8080/",
          "height": 206
        },
        "id": "k3hro6vbzlJr",
        "outputId": "f8985add-035d-4f49-82d1-27ed1b3c8878"
      },
      "source": [
        "df_news[df_news.category==7].head()"
      ],
      "execution_count": 84,
      "outputs": [
        {
          "output_type": "execute_result",
          "data": {
            "text/html": [
              "<div>\n",
              "<style scoped>\n",
              "    .dataframe tbody tr th:only-of-type {\n",
              "        vertical-align: middle;\n",
              "    }\n",
              "\n",
              "    .dataframe tbody tr th {\n",
              "        vertical-align: top;\n",
              "    }\n",
              "\n",
              "    .dataframe thead th {\n",
              "        text-align: right;\n",
              "    }\n",
              "</style>\n",
              "<table border=\"1\" class=\"dataframe\">\n",
              "  <thead>\n",
              "    <tr style=\"text-align: right;\">\n",
              "      <th></th>\n",
              "      <th>category</th>\n",
              "      <th>num</th>\n",
              "      <th>news</th>\n",
              "      <th>words</th>\n",
              "    </tr>\n",
              "  </thead>\n",
              "  <tbody>\n",
              "    <tr>\n",
              "      <th>1400</th>\n",
              "      <td>7</td>\n",
              "      <td>7000</td>\n",
              "      <td>차명종 서대현 김라희 등 韓7명 호치민3쿠션월드컵 PPPQ통과 PPQ에 임정완 강상...</td>\n",
              "      <td>명종 대현 희다 호치민 쿠션 월드컵 통과 임정 상구 출전 빌리다 뉴스 이상동 기자 ...</td>\n",
              "    </tr>\n",
              "    <tr>\n",
              "      <th>1401</th>\n",
              "      <td>7</td>\n",
              "      <td>7001</td>\n",
              "      <td>정현 한국 선수 최초로 메이저대회 시드 받는다 ㆍ27일 프랑스오픈서 19번 내외  ...</td>\n",
              "      <td>정현 한국 선수 최초 메이저 대회 시드 받다 프랑스 오픈 내외 한국 남자 테니스 희...</td>\n",
              "    </tr>\n",
              "    <tr>\n",
              "      <th>1402</th>\n",
              "      <td>7</td>\n",
              "      <td>7002</td>\n",
              "      <td>흙 위에서 되찾은 세계 1위 클레이코트의 황제 라파엘 나달스페인이 세계랭킹 2위로 ...</td>\n",
              "      <td>되찾다 세계 클레이 코트 황제 라파엘 나달 스페인 세계 랭킹 위로 낙마 지다 주일 ...</td>\n",
              "    </tr>\n",
              "    <tr>\n",
              "      <th>1403</th>\n",
              "      <td>7</td>\n",
              "      <td>7003</td>\n",
              "      <td>빙상경기연맹 논란의 진실 밝혀질까문체부 23일 감사 결과 발표 스포티비뉴스정형근 기...</td>\n",
              "      <td>빙상 경기 연맹 논란 진실 밝혀지다 문체부 감사 결과 발표 스포 티비 뉴스 정형근 ...</td>\n",
              "    </tr>\n",
              "    <tr>\n",
              "      <th>1404</th>\n",
              "      <td>7</td>\n",
              "      <td>7004</td>\n",
              "      <td>세계최강 남자 사브르 마드리드 월드컵 단체전 우승 윈터뉴스김태경 기자 대한민국 남자...</td>\n",
              "      <td>세계 최강 남자 사브르 마드리드 월드컵 체전 우승 윈터 뉴스 김태경 기자 대한민국 ...</td>\n",
              "    </tr>\n",
              "  </tbody>\n",
              "</table>\n",
              "</div>"
            ],
            "text/plain": [
              "      category  ...                                              words\n",
              "1400         7  ...  명종 대현 희다 호치민 쿠션 월드컵 통과 임정 상구 출전 빌리다 뉴스 이상동 기자 ...\n",
              "1401         7  ...  정현 한국 선수 최초 메이저 대회 시드 받다 프랑스 오픈 내외 한국 남자 테니스 희...\n",
              "1402         7  ...  되찾다 세계 클레이 코트 황제 라파엘 나달 스페인 세계 랭킹 위로 낙마 지다 주일 ...\n",
              "1403         7  ...  빙상 경기 연맹 논란 진실 밝혀지다 문체부 감사 결과 발표 스포 티비 뉴스 정형근 ...\n",
              "1404         7  ...  세계 최강 남자 사브르 마드리드 월드컵 체전 우승 윈터 뉴스 김태경 기자 대한민국 ...\n",
              "\n",
              "[5 rows x 4 columns]"
            ]
          },
          "metadata": {},
          "execution_count": 84
        }
      ]
    },
    {
      "cell_type": "code",
      "metadata": {
        "id": "nKpXJlRWm0OL"
      },
      "source": [
        "from sklearn.feature_extraction.text import CountVectorizer\n",
        "count_vectorizer = CountVectorizer(max_df=0.1, max_features=1000, \n",
        "                                   min_df=2, ngram_range=(1,2))"
      ],
      "execution_count": 85,
      "outputs": []
    },
    {
      "cell_type": "code",
      "metadata": {
        "colab": {
          "base_uri": "https://localhost:8080/"
        },
        "id": "Pxytefw9ZX4J",
        "outputId": "1205520e-f491-4327-8f41-09f146ff49a5"
      },
      "source": [
        "feat_vect = count_vectorizer.fit_transform(df_news.words)\n",
        "print(feat_vect.shape)\n",
        "print(feat_vect[0,:])"
      ],
      "execution_count": 86,
      "outputs": [
        {
          "output_type": "stream",
          "name": "stdout",
          "text": [
            "(1600, 1000)\n",
            "  (0, 210)\t3\n",
            "  (0, 389)\t9\n",
            "  (0, 364)\t5\n",
            "  (0, 518)\t5\n",
            "  (0, 751)\t1\n",
            "  (0, 347)\t3\n",
            "  (0, 796)\t2\n",
            "  (0, 881)\t1\n",
            "  (0, 394)\t4\n",
            "  (0, 392)\t3\n",
            "  (0, 724)\t4\n",
            "  (0, 867)\t1\n",
            "  (0, 595)\t3\n",
            "  (0, 84)\t3\n",
            "  (0, 261)\t1\n",
            "  (0, 833)\t1\n",
            "  (0, 316)\t1\n",
            "  (0, 852)\t1\n",
            "  (0, 540)\t1\n",
            "  (0, 760)\t2\n",
            "  (0, 989)\t1\n",
            "  (0, 31)\t1\n",
            "  (0, 733)\t1\n",
            "  (0, 636)\t1\n",
            "  (0, 86)\t2\n",
            "  (0, 183)\t2\n",
            "  (0, 810)\t1\n",
            "  (0, 438)\t1\n",
            "  (0, 892)\t1\n",
            "  (0, 660)\t1\n",
            "  (0, 939)\t1\n",
            "  (0, 325)\t1\n",
            "  (0, 13)\t1\n",
            "  (0, 783)\t1\n",
            "  (0, 694)\t1\n",
            "  (0, 393)\t2\n",
            "  (0, 649)\t1\n",
            "  (0, 811)\t1\n"
          ]
        }
      ]
    },
    {
      "cell_type": "code",
      "metadata": {
        "colab": {
          "base_uri": "https://localhost:8080/"
        },
        "id": "_QjcRBttfxcw",
        "outputId": "3f58f44b-741a-4563-aa30-a0e0189ab6ca"
      },
      "source": [
        "feature_names = count_vectorizer.get_feature_names()\n",
        "print(feature_names[:5])"
      ],
      "execution_count": 87,
      "outputs": [
        {
          "output_type": "stream",
          "name": "stdout",
          "text": [
            "['가격', '가구', '가능성 있다', '가능하다', '가량']\n"
          ]
        }
      ]
    },
    {
      "cell_type": "code",
      "metadata": {
        "colab": {
          "base_uri": "https://localhost:8080/"
        },
        "id": "yY0ZDkEBm0ON",
        "outputId": "bbce9664-c210-49f4-80cd-801fa8c2f14c"
      },
      "source": [
        "from sklearn.decomposition import LatentDirichletAllocation\n",
        "topic_cnt = 8\n",
        "lda = LatentDirichletAllocation(n_components=topic_cnt)\n",
        "lda.fit(feat_vect)"
      ],
      "execution_count": 88,
      "outputs": [
        {
          "output_type": "execute_result",
          "data": {
            "text/plain": [
              "LatentDirichletAllocation(batch_size=128, doc_topic_prior=None,\n",
              "                          evaluate_every=-1, learning_decay=0.7,\n",
              "                          learning_method='batch', learning_offset=10.0,\n",
              "                          max_doc_update_iter=100, max_iter=10,\n",
              "                          mean_change_tol=0.001, n_components=8, n_jobs=None,\n",
              "                          perp_tol=0.1, random_state=None,\n",
              "                          topic_word_prior=None, total_samples=1000000.0,\n",
              "                          verbose=0)"
            ]
          },
          "metadata": {},
          "execution_count": 88
        }
      ]
    },
    {
      "cell_type": "code",
      "metadata": {
        "colab": {
          "base_uri": "https://localhost:8080/"
        },
        "id": "fnAJRSmQeV5W",
        "outputId": "94f95759-4364-428e-b346-c2c1db57ba85"
      },
      "source": [
        "topic_num = 5\n",
        "topic = lda.components_[topic_num]\n",
        "\n",
        "topic_word_indexes = topic.argsort()[::-1]\n",
        "top_indexes=topic_word_indexes[:10]\n",
        "\n",
        "feature_name_list = ' '.join([feature_names[i] for i in top_indexes])                \n",
        "print(feature_name_list)\n"
      ],
      "execution_count": 89,
      "outputs": [
        {
          "output_type": "stream",
          "name": "stdout",
          "text": [
            "북한 트럼프 회담 정상회담 북미 남북 트럼프 대통령 북미 정상회담 비핵화 위원장\n"
          ]
        }
      ]
    },
    {
      "cell_type": "code",
      "metadata": {
        "colab": {
          "base_uri": "https://localhost:8080/"
        },
        "id": "XWMh2Mzbm0Oe",
        "outputId": "4b17449d-57a0-4692-d7fb-84c76e53355a"
      },
      "source": [
        "!pip install pyLDAvis"
      ],
      "execution_count": 90,
      "outputs": [
        {
          "output_type": "stream",
          "name": "stdout",
          "text": [
            "Requirement already satisfied: pyLDAvis in /usr/local/lib/python3.7/dist-packages (3.3.1)\n",
            "Requirement already satisfied: scikit-learn in /usr/local/lib/python3.7/dist-packages (from pyLDAvis) (0.22.2.post1)\n",
            "Requirement already satisfied: pandas>=1.2.0 in /usr/local/lib/python3.7/dist-packages (from pyLDAvis) (1.3.3)\n",
            "Requirement already satisfied: gensim in /usr/local/lib/python3.7/dist-packages (from pyLDAvis) (3.6.0)\n",
            "Requirement already satisfied: numexpr in /usr/local/lib/python3.7/dist-packages (from pyLDAvis) (2.7.3)\n",
            "Requirement already satisfied: sklearn in /usr/local/lib/python3.7/dist-packages (from pyLDAvis) (0.0)\n",
            "Requirement already satisfied: joblib in /usr/local/lib/python3.7/dist-packages (from pyLDAvis) (1.0.1)\n",
            "Requirement already satisfied: jinja2 in /usr/local/lib/python3.7/dist-packages (from pyLDAvis) (2.11.3)\n",
            "Requirement already satisfied: numpy>=1.20.0 in /usr/local/lib/python3.7/dist-packages (from pyLDAvis) (1.21.2)\n",
            "Requirement already satisfied: future in /usr/local/lib/python3.7/dist-packages (from pyLDAvis) (0.16.0)\n",
            "Requirement already satisfied: funcy in /usr/local/lib/python3.7/dist-packages (from pyLDAvis) (1.16)\n",
            "Requirement already satisfied: setuptools in /usr/local/lib/python3.7/dist-packages (from pyLDAvis) (57.4.0)\n",
            "Requirement already satisfied: scipy in /usr/local/lib/python3.7/dist-packages (from pyLDAvis) (1.4.1)\n",
            "Requirement already satisfied: pytz>=2017.3 in /usr/local/lib/python3.7/dist-packages (from pandas>=1.2.0->pyLDAvis) (2018.9)\n",
            "Requirement already satisfied: python-dateutil>=2.7.3 in /usr/local/lib/python3.7/dist-packages (from pandas>=1.2.0->pyLDAvis) (2.8.2)\n",
            "Requirement already satisfied: six>=1.5 in /usr/local/lib/python3.7/dist-packages (from python-dateutil>=2.7.3->pandas>=1.2.0->pyLDAvis) (1.15.0)\n",
            "Requirement already satisfied: smart-open>=1.2.1 in /usr/local/lib/python3.7/dist-packages (from gensim->pyLDAvis) (5.2.1)\n",
            "Requirement already satisfied: MarkupSafe>=0.23 in /usr/local/lib/python3.7/dist-packages (from jinja2->pyLDAvis) (2.0.1)\n"
          ]
        }
      ]
    },
    {
      "cell_type": "code",
      "metadata": {
        "id": "sEQIUeqGm0Of"
      },
      "source": [
        "import pyLDAvis.sklearn  \n",
        "\n",
        "pyLDAvis.enable_notebook()"
      ],
      "execution_count": 91,
      "outputs": []
    },
    {
      "cell_type": "code",
      "metadata": {
        "colab": {
          "base_uri": "https://localhost:8080/",
          "height": 364
        },
        "id": "ox1tcyvUkSXP",
        "outputId": "840bcc3a-7895-488b-a312-4fa0e34cd41f"
      },
      "source": [
        "!pip install --upgrade pandas==1.2"
      ],
      "execution_count": 94,
      "outputs": [
        {
          "output_type": "stream",
          "name": "stdout",
          "text": [
            "Collecting pandas==1.2\n",
            "  Downloading pandas-1.2.0-cp37-cp37m-manylinux1_x86_64.whl (9.9 MB)\n",
            "\u001b[K     |████████████████████████████████| 9.9 MB 13.0 MB/s \n",
            "\u001b[?25hRequirement already satisfied: pytz>=2017.3 in /usr/local/lib/python3.7/dist-packages (from pandas==1.2) (2018.9)\n",
            "Requirement already satisfied: python-dateutil>=2.7.3 in /usr/local/lib/python3.7/dist-packages (from pandas==1.2) (2.8.2)\n",
            "Requirement already satisfied: numpy>=1.16.5 in /usr/local/lib/python3.7/dist-packages (from pandas==1.2) (1.21.2)\n",
            "Requirement already satisfied: six>=1.5 in /usr/local/lib/python3.7/dist-packages (from python-dateutil>=2.7.3->pandas==1.2) (1.15.0)\n",
            "Installing collected packages: pandas\n",
            "  Attempting uninstall: pandas\n",
            "    Found existing installation: pandas 1.3.3\n",
            "    Uninstalling pandas-1.3.3:\n",
            "      Successfully uninstalled pandas-1.3.3\n",
            "\u001b[31mERROR: pip's dependency resolver does not currently take into account all the packages that are installed. This behaviour is the source of the following dependency conflicts.\n",
            "google-colab 1.0.0 requires pandas~=1.1.0; python_version >= \"3.0\", but you have pandas 1.2.0 which is incompatible.\u001b[0m\n",
            "Successfully installed pandas-1.2.0\n"
          ]
        },
        {
          "output_type": "display_data",
          "data": {
            "application/vnd.colab-display-data+json": {
              "pip_warning": {
                "packages": [
                  "pandas"
                ]
              }
            }
          },
          "metadata": {}
        }
      ]
    },
    {
      "cell_type": "code",
      "metadata": {
        "colab": {
          "base_uri": "https://localhost:8080/",
          "height": 861
        },
        "id": "rRu5Vz-BifsH",
        "outputId": "2cdd8966-f099-4204-bc41-9972fa415e88"
      },
      "source": [
        "vis = pyLDAvis.sklearn.prepare(lda, feat_vect, count_vectorizer)\n",
        "pyLDAvis.display(vis)"
      ],
      "execution_count": 95,
      "outputs": [
        {
          "output_type": "execute_result",
          "data": {
            "text/html": [
              "\n",
              "<link rel=\"stylesheet\" type=\"text/css\" href=\"https://cdn.jsdelivr.net/gh/bmabey/pyLDAvis@3.3.1/pyLDAvis/js/ldavis.v1.0.0.css\">\n",
              "\n",
              "\n",
              "<div id=\"ldavis_el641398150660101927081543063\"></div>\n",
              "<script type=\"text/javascript\">\n",
              "\n",
              "var ldavis_el641398150660101927081543063_data = {\"mdsDat\": {\"x\": [0.08884259158527842, 0.03628524869369545, -0.0770600531603873, -0.08787683596234223, -0.19053346091760895, 0.04032019207559268, -0.08895835547960386, 0.2789806731653763], \"y\": [-0.10629005399884628, -0.023771913359611527, 0.13909285183072184, -0.08479232485775924, 0.16308151817260264, -0.14132912479921206, -0.09587539094031028, 0.14988443795241524], \"topics\": [1, 2, 3, 4, 5, 6, 7, 8], \"cluster\": [1, 1, 1, 1, 1, 1, 1, 1], \"Freq\": [20.87071327474553, 15.34895479316895, 13.79111708457157, 11.21255166505181, 10.88163595667681, 10.67076525831127, 9.848552334149439, 7.375709633324626]}, \"tinfo\": {\"Term\": [\"\\ubd81\\ud55c\", \"\\ub300\\ud68c\", \"\\ud6c4\\ubcf4\", \"\\uc758\\uc6d0\", \"\\uacbd\\uae30\", \"\\uc120\\uc218\", \"\\ud2b8\\ub7fc\\ud504\", \"\\ud68c\\ub2f4\", \"\\uc815\\uc0c1\\ud68c\\ub2f4\", \"\\ub4dc\\ub8e8\", \"\\ubbfc\\uc8fc\\ub2f9\", \"\\ubd81\\ubbf8\", \"\\ubc14\\uc774\\uc624\", \"\\uad6d\\ud68c\", \"\\uac8c\\uc784\", \"\\uc0ac\\uace0\", \"\\ucc28\\ub7c9\", \"\\ud2b9\\uac80\", \"\\uc6d0\\ub0b4\\ub300\\ud45c\", \"\\uba39\\ub2e4\", \"\\ub0a8\\ubd81\", \"\\ud68c\\uc7a5\", \"\\uc218\\uc0ac\", \"\\uc120\\uac70\", \"\\ucc98\\ub9ac\", \"\\uc804\\uc790\", \"\\uc99d\\uac00\", \"\\ud2b8\\ub7fc\\ud504 \\ub300\\ud1b5\\ub839\", \"\\ubd81\\ubbf8 \\uc815\\uc0c1\\ud68c\\ub2f4\", \"\\uac00\\uaca9\", \"\\uc5f0\\uad6c\", \"\\uc99d\\uac00\", \"\\ub9e4\\ucd9c\", \"\\uaddc\\uc81c\", \"\\uc7ac\\uac74\\ucd95\", \"\\uc218\\uc694\", \"\\ub9ac\\ub2c8\\uc9c0\", \"\\uac10\\uc18c\", \"\\uad6c\\uc9c4\", \"\\ubc18\\ub3c4\\uccb4\", \"\\ubd84\\uc591\", \"\\uce58\\ub9e4\", \"\\uc2e0\\uaddc\", \"\\ucd08\\uacfc\", \"\\uc0c1\\ud488\", \"\\ubd80\\ub3d9\\uc0b0\", \"\\uc138\\ud3ec\", \"\\uc99d\\uac00 \\ud558\\ub2e4\", \"\\uc0ac\\uc5c5\\uc790\", \"\\uc218\\uc785\", \"\\uc2dd\\ud488\", \"\\ub370\\uc774\\ud130\", \"\\ud3c9\\uade0\", \"\\uc0dd\\uc0b0\", \"\\ub2f4\\ubc30\", \"\\uc8fc\\ud0dd\", \"\\uac00\\uad6c\", \"\\uac00\\uaca9\", \"\\ud6a8\\uacfc\", \"\\ub514\\uc2a4\\ud50c\\ub808\\uc774\", \"\\uae30\\uc220\", \"\\ubaa8\\ubc14\\uc77c\", \"\\uc5c5\\uacc4\", \"\\uac1c\\ubc1c\", \"\\ubd80\\ub2f4\", \"\\uc0ac\\uc5c5\", \"\\ud310\\ub9e4\", \"\\uc544\\ud30c\\ud2b8\", \"\\ub298\\uc5b4\\ub098\\ub2e4\", \"\\uc81c\\ud488\", \"\\ucd9c\\uc2dc\", \"\\uc131\\uc7a5\", \"\\uc5c5\\uccb4\", \"\\uc11c\\ube44\\uc2a4\", \"\\ub0ae\\ub2e4\", \"\\ub300\\ube44\", \"\\ud22c\\uc790\", \"\\uc704\\ud5d8\", \"\\ub3c4\\uc785\", \"\\uac8c\\uc784\", \"\\uae30\\uc5c5\", \"\\ud655\\ub300\", \"\\uacb0\\ud63c\", \"\\ub0a8\\ud3b8\", \"\\ubc29\\uc1a1 \\ub418\\ub2e4\", \"\\uc5b4\\uba38\\ub2c8\", \"\\uc0ac\\ub791\", \"\\uac00\\uc218\", \"\\uc784\\uc2e0\", \"\\uacb0\\ud63c\\uc2dd\", \"\\uc138\\uc0c1\", \"\\ub4dc\\ub77c\\ub9c8\", \"\\ubc30\\uc6b0\", \"\\uc218\\uc220\", \"\\ucd9c\\uc5f0\", \"\\ucd9c\\uc5f0 \\ud558\\ub2e4\", \"\\uc544\\ub0b4\", \"\\uc5c4\\ub9c8\", \"\\ud658\\uc790\", \"\\uc9c4\\uc9dc\", \"\\uce74\\uce74\\uc624\", \"\\uc791\\ud488\", \"\\uce5c\\uad6c\", \"\\ub9c8\\uc74c\", \"\\uc544\\ubc84\\uc9c0\", \"\\ud654\\uc81c\", \"\\uba39\\ub2e4\", \"\\uc601\\ud654\", \"\\uacf5\\uc5f0\", \"\\uc544\\ub4e4\", \"\\ud76c\\ub2e4\", \"\\uc2f6\\ub2e4\", \"\\uac00\\uc871\", \"\\uce58\\ub8cc\", \"\\uc74c\\uc2dd\", \"\\uc0b4\\ub2e4\", \"\\uc544\\uc774\", \"\\uc5ec\\uc131\", \"\\ubcd1\\uc6d0\", \"\\uc774\\uc57c\\uae30\", \"\\uc54c\\ub2e4\", \"\\ud558\\ub2e4 \\uc0ac\\ub78c\", \"\\ubaa8\\ub974\\ub2e4\", \"\\ud65c\\ub3d9\", \"\\uc6b4\\ub3d9\", \"\\uc0ac\\uc9c4\", \"\\ubd81\\ud55c\", \"\\ud2b8\\ub7fc\\ud504\", \"\\ud68c\\ub2f4\", \"\\uc815\\uc0c1\\ud68c\\ub2f4\", \"\\ud2b8\\ub7fc\\ud504 \\ub300\\ud1b5\\ub839\", \"\\ubd81\\ubbf8 \\uc815\\uc0c1\\ud68c\\ub2f4\", \"\\ube44\\ud575\\ud654\", \"\\uae40\\uc815\\uc740\", \"\\ud310\\ubb38\\uc810\", \"\\ud55c\\ubbf8\", \"\\ud3d0\\uae30\", \"\\uc678\\uad50\", \"\\uace0\\uc704 \\ud68c\\ub2f4\", \"\\ubc31\\uc545\\uad00\", \"\\ud310\\ubb38\\uc810 \\uc120\\uc5b8\", \"\\ud558\\ub2e4 \\ubd81\\ud55c\", \"\\uc5b5\\ub958\", \"\\ubbf8\\uad70\", \"\\ud575\\uc2e4\\ud5d8\", \"\\ubcfc\\ud134\", \"\\ud1b5\\uc77c\\ubd80\", \"\\ub3c4\\ub110\\ub4dc\", \"\\ub3c4\\ub110\\ub4dc \\ud2b8\\ub7fc\\ud504\", \"\\uad6d\\ubb34\\uc704\\uc6d0\", \"\\ub0a8\\ubd81\", \"\\ud55c\\ubc18\\ub3c4\", \"\\ub300\\ubd81\", \"\\ubd81\\ubbf8\", \"\\ub0a8\\ubd81\\uc815\\uc0c1\\ud68c\\ub2f4\", \"\\uace0\\uc704\", \"\\uc7a5\\uad00\", \"\\uc120\\uc5b8\", \"\\uc704\\uc6d0\\uc7a5\", \"\\ubc09\\ub2e4\", \"\\ud3c9\\ud654\", \"\\ud6c8\\ub828\", \"\\ub17c\\uc758\", \"\\uccad\\uc640\\ub300\", \"\\ud68c\\uc758\", \"\\uc77c\\ubcf8\", \"\\ud611\\uc0c1\", \"\\uc2dc\\uc704\", \"\\ub300\\ud55c\\ud56d\\uacf5\", \"\\uc774\\uc2a4\\ub77c\\uc5d8\", \"\\uc720\\ud29c\\ube0c\", \"\\uc544\\uc774\\ud3f0\", \"\\ud55c\\uc9c4\", \"\\uc9d1\\ud68c\", \"\\uc77c\\uac00\", \"\\uac24\\ub7ed\\uc2dc\", \"\\ub514\\uc790\\uc778\", \"\\ub178\\uc870\", \"\\ub86f\\ub370\", \"\\uad6c\\uae00\", \"\\uc0ac\\uc6a9\\uc790\", \"\\uc0ac\\uc774\\ud2b8\", \"\\ub124\\uc774\\ubc84\", \"\\uc131\\ud3ed\\ud589\", \"\\uce74\\uba54\\ub77c\", \"\\uc7ac\\uc0b0\", \"\\ub3d9\\uc601\\uc0c1\", \"\\ud398\\uc774\\uc2a4\\ubd81\", \"\\ud544\\ub9ac\\ud540\", \"\\uc560\\ud50c\", \"\\ubcf4\\uc0c1\", \"\\ub9e4\\uc7a5\", \"\\ud558\\ub2e4 \\uacbd\\ucc30\", \"\\uc2a4\\ub9c8\\ud2b8\\ud3f0\", \"\\uc555\\uc218\\uc218\\uc0c9\", \"\\ud574\\uc678\", \"\\ubd88\\ubc95\", \"\\uc804\\uc790\", \"\\ud68c\\uc7a5\", \"\\uc9c1\\uc6d0\", \"\\ucd2c\\uc601\", \"\\uadf8\\ub8f9\", \"\\uae30\\uc0ac\", \"\\ud53c\\ud574\\uc790\", \"\\uc218\\uc0ac\", \"\\uc0ac\\uc9c4\", \"\\uc758\\ud639\", \"\\ub0a8\\uc131\", \"\\ubaa8\\ub378\", \"\\ud53c\\ud574\", \"\\uc9c0\\uc6d0\", \"\\uc758\\uc6d0\", \"\\ub4dc\\ub8e8\", \"\\ubbfc\\uc8fc\\ub2f9\", \"\\ud2b9\\uac80\", \"\\uc6d0\\ub0b4\\ub300\\ud45c\", \"\\uc5ec\\uc57c\", \"\\ubcf8\\ud68c\\uc758\", \"\\uc790\\uc720 \\ud55c\\uad6d\", \"\\uae40\\uacbd\\uc218\", \"\\ub354\\ubd88\\ub2e4 \\ubbfc\\uc8fc\\ub2f9\", \"\\ucd9c\\ub9c8\", \"\\ub313\\uae00 \\uc870\\uc791\", \"\\uc120\\uac70\", \"\\uacf5\\ucc9c\", \"\\uc0ac\\uc9c1\\uc11c\", \"\\uc5ec\\ub2f9\", \"\\uae40\\uc131\\ud0dc\", \"\\uc57c\\ub2f9\", \"\\ud6c4\\ubcf4\", \"\\uc9c0\\ubc29\\uc120\\uac70\", \"\\uad6d\\ud68c\", \"\\uc758\\uc7a5\", \"\\ub300\\uc120\", \"\\uc0ac\\ub2e8\", \"\\uad6d\\ud68c\\uc758\\uc6d0\", \"\\uc870\\uc791\", \"\\ucc98\\ub9ac \\ud558\\ub2e4\", \"\\ub313\\uae00\", \"\\uc790\\uc720\", \"\\ube44\\ub9ac\", \"\\ucc98\\ub9ac\", \"\\ub354\\ubd88\\ub2e4\", \"\\ubbf8\\ub798\", \"\\uc218\\uc0ac\", \"\\uc815\\uce58\", \"\\uc815\\uc0c1\\ud654\", \"\\ucc44\\uc6a9\", \"\\ud611\\uc0c1\", \"\\uac80\\uc0ac\", \"\\uac80\\ucc30\", \"\\ud569\\uc758\", \"\\uad6d\\ubbfc\", \"\\uae30\\uc628\", \"\\uc790\\uc804\\uac70\", \"\\ud654\\uc0b0\", \"\\ub0a0\\uc528\", \"\\uc870\\uad50\\uc0ac\", \"\\uace0\\uc18d\\ub3c4\\ub85c\", \"\\ub18d\\ub3c4\", \"\\ucc28\\ub7c9\", \"\\ubbf8\\uc138\\uba3c\\uc9c0\", \"\\ud558\\uc640\\uc774\", \"\\uc8fc\\ubbfc\", \"\\uc228\\uc9c0\\ub2e4\", \"\\uc9c0\\uad6c\", \"\\ubc84\\uc2a4\", \"\\ub3c4\\ub85c\", \"\\uc2dc\\ubbfc\", \"\\uc0ac\\uace0\", \"\\uad6c\\uac04\", \"\\ube44\\ud589\", \"\\uc11c\\uc6b8\\uc2dc\", \"\\uc790\\uc728\", \"\\uc548\\uc804\", \"\\uc124\\uce58\", \"\\uacf5\\ud56d\", \"\\ubc1c\\uacac\", \"\\ub300\\uad6c\", \"\\uc815\\uccb4\", \"\\uc2dc\\uc124\", \"\\uc778\\uadfc\", \"\\uad00\\uad11\\uac1d\", \"\\ud3ed\\ubc1c\", \"\\uac00\\uc0c1\", \"\\ub300\\ud559\", \"\\ubb38\\ud654\", \"\\ud53c\\ud574\", \"\\uc804\\uad6d\", \"\\uc13c\\ud130\", \"\\uad11\\uc8fc\", \"\\ud604\\uc7a5\", \"\\ub0b4\\ub9ac\\ub2e4\", \"\\ub300\\ubd80\\ubd84\", \"\\ubc14\\uc774\\uc624\", \"\\uc9c1\\uc2a4\", \"\\ubc14\\uc774\\uc624 \\uc9c1\\uc2a4\", \"\\uc120\\uace0\", \"\\uac10\\ub9ac\", \"\\uae08\\uac10\\uc6d0\", \"\\ud68c\\uacc4\", \"\\uad50\\uc0ac\", \"\\ub9e4\\ub3c4\", \"\\uc99d\\uad8c\", \"\\uc9d5\\uc5ed\", \"\\uc8fc\\uc2dd\", \"\\uc7ac\\ud310\", \"\\ud22c\\uc790\\uc790\", \"\\ud615\\uc0ac\", \"\\ud310\\uc0ac\", \"\\uae08\\uc735\", \"\\ubc95\\uc6d0\", \"\\uc774\\ub780\", \"\\uae08\\ub9ac\", \"\\ub2ec\\ub7ec\", \"\\ud310\\uacb0\", \"\\ud3ed\\ud589\", \"\\uc0b4\\ud574\", \"\\ucc98\\ubd84\", \"\\uae30\\uc18c\", \"\\uc18c\\uc1a1\", \"\\uc740\\ud589\", \"\\uc678\\uad6d\\uc778\", \"\\uc790\\uae08\", \"\\uc704\\ubc18\", \"\\uc0bc\\uc131\", \"\\uc81c\\uc7ac\", \"\\uc704\\uc6d0\\ud68c\", \"\\uae30\\uad00\", \"\\uac80\\ucc30\", \"\\ud310\\ub2e8\", \"\\uc0c1\\uc2b9\", \"\\uac70\\ub798\", \"\\uc704\\uc6d0\", \"\\ud68c\\uc0ac\", \"\\ud558\\ub77d\", \"\\ub0b4\\ub9ac\\ub2e4\", \"\\ub300\\ud68c\", \"\\uc120\\uc218\", \"\\uc6b0\\uc2b9\", \"\\ucd9c\\uc804\", \"\\uacb0\\uc2b9\", \"\\uacbd\\uc8fc\", \"\\uc815\\ud604\", \"\\ub300\\ud45c\\ud300\", \"\\ucd9c\\uc804 \\ud558\\ub2e4\", \"\\uc6d4\\ub4dc\\ucef5\", \"\\uc5f0\\ub9f9\", \"\\uc624\\ud508\", \"\\uc62c\\ub9bc\\ud53d\", \"\\uaebe\\ub2e4\", \"\\uccb4\\uc721\", \"\\uacbd\\uae30\", \"\\uc2a4\\ud3ec\\uce20\", \"\\ucc38\\uac00\", \"\\uc9c4\\ucd9c\", \"\\uc2b9\\ub9ac\", \"\\uc774\\ubca4\\ud2b8\", \"\\ub300\\ud55c\\ubbfc\\uad6d\", \"\\ub300\\uacb0\", \"\\uc544\\uc2dc\\uc544\", \"\\ud504\\ub791\\uc2a4\", \"\\ud611\\ud68c\", \"\\uc885\\ubaa9\", \"\\ub3c4\\uc804\", \"\\uac70\\ub450\\ub2e4\", \"\\ucc28\\uc9c0 \\ud558\\ub2e4\", \"\\ub7ec\\uc2dc\\uc544\", \"\\uac8c\\uc784\", \"\\uad6d\\uc81c\", \"\\uc5ec\\uc790\", \"\\uc778\\ucc9c\", \"\\ucc28\\uc9c0\", \"\\uac1c\\ucd5c\", \"\\uc77c\\ubcf8\", \"\\ud68c\\uc7a5\", \"\\ub0a8\\uc790\"], \"Freq\": [834.0, 515.0, 533.0, 501.0, 372.0, 305.0, 389.0, 376.0, 361.0, 309.0, 303.0, 344.0, 269.0, 292.0, 343.0, 285.0, 239.0, 226.0, 222.0, 315.0, 259.0, 340.0, 356.0, 209.0, 291.0, 336.0, 289.0, 223.0, 221.0, 365.0, 238.01916720990874, 288.1606703193585, 138.90636968642463, 131.95874469356067, 98.26318036082935, 97.27158573051463, 93.306625744544, 181.50707908290374, 79.4280780799184, 77.44552524753652, 74.47177796660942, 71.49758756639815, 67.52612533969294, 66.54122344561392, 68.42983165843242, 98.55043651210605, 68.05282212740286, 114.50833763323025, 90.02281720833534, 96.30543704058918, 83.1808435442935, 66.11708988652225, 168.71040942548146, 153.59465351612272, 97.90051987447383, 174.97760461851857, 83.97375220724001, 341.04697017032294, 117.60773729239756, 89.64988593138875, 245.70715931961465, 135.72901075263349, 206.59965001887755, 182.42850338448562, 179.99851886616153, 241.87129821293294, 182.87251198006174, 154.0401693759419, 128.74191519715035, 175.04737578644077, 186.68360810811717, 103.92080092147796, 175.2740405346128, 189.25679550404286, 118.08509808981906, 128.03671646702662, 131.60379743464955, 116.10542470711273, 114.89396081727345, 151.38870602353805, 129.39000391374483, 116.41701184342855, 153.77928840826027, 143.80175150328623, 122.8489071048108, 98.85797448544444, 139.17144009215525, 77.94952094154208, 76.9446773580457, 75.95423728803685, 71.81269943401468, 100.19106664900147, 170.74039342298673, 111.52213231460179, 164.38134485052984, 109.53543749540927, 102.2288761609394, 91.88231720810259, 177.36872467070796, 61.84455585672018, 147.7127905491327, 72.85312527406407, 121.35125132244906, 122.54090389082258, 76.83031777441843, 57.81525268269649, 276.2618163704797, 87.72061815548224, 59.77578600937334, 122.49622016395796, 71.5239582918828, 177.19899205409848, 163.81900035715128, 158.5259917872548, 109.96624520621182, 128.43609383677605, 169.40438250198716, 169.9849995322207, 139.1549027749711, 106.83575763118932, 113.45265309012021, 92.72630643457047, 110.71853515031006, 121.21122206776, 111.66613552928851, 109.08494307011942, 833.59479508066, 388.4119334404843, 375.43582239757563, 360.4632024887607, 222.7161055119307, 220.71974206001067, 162.82608058002748, 155.83889639151488, 142.86149285305171, 119.90480112635102, 113.91549656601892, 106.9284872152799, 105.9304783383756, 98.94324388501352, 96.92978066797754, 92.95431958283906, 89.95972387376705, 74.98721701683752, 73.98915117977425, 69.99647592573857, 66.00378766144723, 66.00348531312332, 65.0053856493285, 72.96973221335593, 252.30275743919745, 157.6948879882174, 74.12652394637182, 330.2724127846455, 70.34033370234569, 135.90369601786307, 156.36514551707126, 143.60576163475176, 160.39422440768337, 142.16768283307368, 135.3249471034801, 126.09297291829215, 117.91938395073859, 101.79732765120548, 102.71264791860568, 110.77445285071597, 97.16900180680621, 107.56158618805507, 93.63472725557398, 91.64487936131681, 82.69177318593084, 180.1408945793398, 68.76491051498255, 64.78568208295134, 64.78562105289045, 163.41674639942136, 99.69747816100275, 63.90445833863168, 74.07911563218785, 98.90928081395265, 63.51310090047853, 66.6823465164449, 139.9439764584545, 83.49927587376632, 93.4111996283755, 64.87328947112437, 53.42653149066864, 95.78666678709622, 53.335897322600324, 119.24163777640874, 105.914635036155, 70.43136843962506, 94.71464812771191, 155.47546637699116, 53.75917858833948, 148.32773046311485, 101.88837905137055, 214.04483043849984, 213.40478694718806, 162.87617409137923, 105.28731998938848, 145.79074548794247, 106.856546470321, 111.02270267296399, 146.1588336699682, 120.54549457883434, 106.21405779362067, 101.65494750624197, 96.14437325393361, 105.88118905321187, 86.97162241789124, 500.2577211161347, 308.35773741214365, 302.3918268273878, 225.83068515911282, 221.85352373877504, 160.20673405126627, 154.24104780351811, 136.34343000905858, 113.47458262685238, 100.54853256368314, 89.61127219565427, 81.6569404689157, 207.4991067942782, 75.69119050034529, 74.69688549969524, 66.74222275419629, 64.75381705510256, 86.58866225927355, 520.8949204241092, 138.424761322394, 281.16203198932425, 67.97080843674416, 92.3193500708717, 82.64128300431776, 66.761139381339, 123.2426521410959, 67.5451997171673, 206.81314778967553, 159.75411675451997, 58.54080684021067, 230.28019536838602, 101.03050914332604, 131.54800004558965, 191.4744065044497, 89.42074374367807, 79.75395801431108, 82.81155328637074, 104.37795966096648, 97.61409117468403, 106.36078592282152, 101.47773761917529, 89.27663814216615, 110.97761015270378, 102.14829287330748, 87.43324398536748, 75.66072823771171, 75.65932458566928, 80.31304619615796, 65.74641639961183, 235.37570038451378, 105.49562735279302, 83.28532917254925, 144.69921677937793, 117.21130915031127, 100.75071099623706, 72.93783070516763, 112.61136824425519, 107.1813728898382, 258.3434701032151, 63.69674579402422, 74.10366061183507, 59.81482505342661, 79.09142521270006, 138.53540450364133, 78.78787609854702, 53.78988450826933, 170.4995541731283, 57.304779506956336, 53.39946590332859, 87.12282305783218, 76.53731792623798, 82.03676019601536, 77.43420042597458, 64.83288792389821, 80.70215386904613, 97.29152021029805, 117.29440365820093, 104.18817764455753, 85.08597075918223, 88.47989403150635, 89.04389952027134, 85.6414794750696, 76.90492168640004, 269.0683441466264, 166.0052857218404, 149.3188827663765, 112.01962822445638, 111.03824705018611, 105.14877282403131, 98.27794505716368, 96.31006801538535, 67.84973358319338, 100.0569531504268, 97.76830650112403, 117.26103781590542, 173.31086054231378, 66.46556508810902, 61.343400049602096, 72.21856895551304, 171.0742089701786, 73.99484201619926, 131.47364542793147, 68.39037243061809, 81.47584573319895, 58.20360335231497, 117.5493713245938, 67.70950225874299, 57.42437909538345, 88.18764750275783, 85.25648676255192, 63.61726866834933, 63.27174033775553, 66.65215762679465, 86.12063212211868, 143.83483378458382, 84.24702552672979, 117.78149966534038, 81.68741708955365, 114.64917199590988, 90.36092009793092, 90.44348226394814, 87.5287277509229, 81.70482593198467, 84.91384520191116, 78.22739642305461, 78.88992998719387, 514.8587262706124, 304.6010026878824, 164.75979901030811, 161.78442604372617, 99.30218782978764, 90.18557313904772, 68.55654340529057, 67.56515932149708, 67.56513534046705, 67.565101050156, 123.07098945271727, 111.23142303945093, 94.27922007432747, 61.48108987106161, 60.3749625561267, 327.1411238478945, 115.2093211076325, 98.21276311421937, 103.70575061435837, 88.05481838235427, 54.7563232215255, 51.40940744801755, 50.3357724573517, 120.70152828008679, 64.19913749886483, 94.73480040957222, 54.39487719009965, 54.149451403607536, 47.31269525797448, 55.319134132314964, 84.2023589179134, 178.3456524252731, 137.1803195651521, 91.15742285417048, 78.28345078646647, 71.11439968298475, 98.82056509545765, 106.57651117582319, 92.63282207717332, 68.80385293064872], \"Total\": [834.0, 515.0, 533.0, 501.0, 372.0, 305.0, 389.0, 376.0, 361.0, 309.0, 303.0, 344.0, 269.0, 292.0, 343.0, 285.0, 239.0, 226.0, 222.0, 315.0, 259.0, 340.0, 356.0, 209.0, 291.0, 336.0, 289.0, 223.0, 221.0, 365.0, 238.90457075107798, 289.4570975205899, 139.77416298440568, 132.83504651165478, 99.13062065111026, 98.13931472123492, 94.17409118679727, 183.39866224183538, 80.29580663418632, 78.31319584855301, 75.33927832370266, 72.36535981858614, 68.40013766722079, 67.40883038348005, 69.39051952455624, 100.11500788284096, 69.39450877770447, 116.95840606842809, 93.18388627902826, 100.0929824758309, 87.25568896310932, 69.39990819075341, 177.38909855819398, 161.60873718153536, 103.08430508771883, 185.29728486722928, 89.17214588449286, 365.7194360172162, 127.94020861102761, 98.16612343701246, 270.41777574229195, 148.73847203039003, 239.8186931064637, 210.27006330217975, 208.24972700377486, 316.28326699510484, 225.99798125725968, 185.1155380394004, 148.66349327908455, 218.22270954347837, 248.03851249015662, 116.02077587501294, 245.82454643490934, 288.732924493667, 141.6368550696664, 169.24525195924292, 192.74648717322387, 148.46678655000997, 149.72692329396665, 343.1627352911261, 228.46151518709522, 161.64812785901813, 154.6461096843329, 144.66852727346202, 123.71560443404005, 99.76865994113724, 140.67559372484604, 78.81647985999972, 77.8186750874995, 76.82096406287414, 72.8293987703692, 101.7628192926443, 173.59758427642407, 113.72929538816157, 168.61606972312285, 112.74122185973653, 105.71724153347287, 96.7641515014182, 188.50194403982405, 65.83630554766707, 158.60644789803632, 78.79526911433783, 132.5403013793144, 136.66574300509012, 86.64825562399895, 65.77404934677443, 315.0384413876567, 100.64834196320557, 68.81961003332854, 141.4528900387455, 82.75920764553754, 215.35847570362503, 209.86097528493218, 209.8964959627752, 142.45467379803034, 175.09194458647266, 256.61000439247874, 292.5205383570013, 216.3836152508076, 144.63829686577054, 175.215328364478, 116.63242705949038, 176.22923128891662, 246.22432352098545, 219.79272361702542, 256.8503819532388, 834.4615387027785, 389.27865067951234, 376.3024688549026, 361.32994977435254, 223.5827779546672, 221.58644252085614, 163.6927040815293, 156.7055287731226, 143.7293413001012, 120.77148349730814, 114.78247414092552, 107.79529942668336, 106.79713241661275, 99.80995742896918, 97.81355551285029, 93.8209503902796, 90.82644502304555, 75.85392788528542, 74.85576014064264, 70.86308829952186, 66.87041691421287, 66.87041315834973, 65.87224546972887, 74.85181136485885, 259.4830006974986, 162.6785257820711, 76.8211571593437, 344.27019976446564, 77.82452902936343, 152.60992410044219, 178.46918843396094, 190.50198343399327, 256.12706508083704, 231.68023725090922, 219.26711333268813, 199.05178509527857, 186.18481407599268, 142.56593048460746, 221.69714271428018, 348.85031483842306, 224.02652389223633, 108.42893513939212, 94.501839726199, 92.51225401361707, 83.55912107349019, 182.03996047312856, 69.63202463984489, 65.6528545981862, 65.65285395384424, 166.12044853439036, 103.44484170995149, 67.62027023750635, 80.55513036770697, 108.39861015210592, 69.61361781733403, 73.56149420005327, 157.165667705108, 97.30455607687445, 110.46015168134447, 78.4337855113155, 65.60495031136526, 121.33213642942387, 68.59231738174701, 156.05255889166068, 140.33654271780108, 95.39943954273795, 128.85580744306034, 213.67529870146575, 74.48154165597582, 212.73501657381505, 146.15114633446268, 336.61455353936174, 340.583286226361, 268.54275627831106, 161.30768029131823, 276.91494215839987, 174.0768679833505, 188.9961461154926, 356.7794109961163, 256.8503819532388, 195.8138860691692, 178.5941812938568, 168.07141189406957, 246.80422806855393, 234.1797124609875, 501.1250916208603, 309.22486330794203, 303.25905222559646, 226.69782109657737, 222.72061497581277, 161.07390981538995, 155.1080992491723, 137.21066836573303, 114.3417292552648, 101.4158066891144, 90.47848808899664, 82.52407478629276, 209.80024591673322, 76.55826452231665, 75.56396268603802, 67.60954846822054, 65.62094549603968, 88.49347852797891, 533.9375721424309, 142.1934146109743, 292.3394534803956, 71.58782016656751, 97.45266560665502, 87.44348117188274, 71.5360326768899, 139.1742868849369, 76.51812805479916, 248.61414607812708, 192.99649319822586, 71.47803067465107, 291.7218034427873, 128.2823409137888, 197.91520115687558, 356.7794109961163, 124.3281532443705, 99.38893294719365, 108.30150600855477, 224.02652389223633, 185.3948356019193, 301.8111808211937, 261.02886469411095, 248.35787060581745, 111.84639787399357, 103.01723549645095, 88.30195900268522, 76.52974445090754, 76.5297594240171, 81.43748565917353, 66.72065343660398, 239.38074290141606, 107.93866357488746, 85.37946141683021, 149.17328102503987, 121.6585364521682, 107.00498157971256, 78.55840317230681, 122.75806270171108, 117.85592646236385, 285.7023769520071, 70.70764014197647, 82.49612003803743, 66.80300545829913, 88.38943579869725, 159.23757001194372, 100.31198327321901, 69.91940496589099, 225.10914742694555, 75.76701543093358, 70.8874742599395, 116.12606552683788, 102.36503846203686, 110.173649682473, 106.37354396678842, 87.54822369974922, 114.18184211819658, 172.69885281085215, 246.80422806855393, 207.09770287046175, 138.93028113361734, 157.6351265557121, 163.91479673856625, 230.5032098128381, 158.7296503668219, 269.9371496887495, 166.87397233483705, 150.18755310072376, 112.88850155009418, 111.90694492620422, 106.01762277678503, 99.1467433970167, 97.18363569956864, 68.71856739275003, 102.10298640455618, 101.14267533389327, 121.75818027754872, 180.69931718588086, 69.70586531556947, 64.81718148022549, 76.61798504617813, 182.69204009521167, 79.5774372865445, 141.5042901286404, 75.65233757004484, 93.3898720933916, 66.86148139316226, 139.54917073850294, 80.61484285662087, 68.8301478967251, 109.22080402513787, 109.2600803622961, 82.65182939147789, 87.62271613500403, 98.50690400530071, 132.11362514973416, 254.5501408120219, 136.30416299934265, 265.8328381054719, 140.89381426532609, 301.8111808211937, 188.67222061978796, 202.3238153197196, 183.62473818288265, 147.15285698271748, 210.5420876043722, 136.02426682124815, 230.5032098128381, 515.7263249821845, 305.4684870483968, 165.6271891563146, 162.65184216939167, 100.16956046024549, 91.24145302115588, 69.42431056528429, 68.43252837993982, 68.4325283193601, 68.43252855865504, 126.95681471101773, 115.04487970600796, 103.19438288472259, 67.43393029324983, 67.46869803559369, 372.5641042668842, 131.85190020073895, 116.10794958779755, 128.93638947817237, 111.16135937523467, 74.442686938619, 74.47790986384322, 73.47397034562867, 178.6048543461642, 96.93745218506501, 143.83278359499732, 83.02001619034343, 85.41405658903362, 75.32992908308717, 88.25352678749148, 134.99542342478466, 343.1627352911261, 259.7415008711274, 161.01711622745842, 133.61266640941287, 119.02419860049878, 213.7166614286278, 348.85031483842306, 340.583286226361, 142.21961948922456], \"Category\": [\"Default\", \"Default\", \"Default\", \"Default\", \"Default\", \"Default\", \"Default\", \"Default\", \"Default\", \"Default\", \"Default\", \"Default\", \"Default\", \"Default\", \"Default\", \"Default\", \"Default\", \"Default\", \"Default\", \"Default\", \"Default\", \"Default\", \"Default\", \"Default\", \"Default\", \"Default\", \"Default\", \"Default\", \"Default\", \"Default\", \"Topic1\", \"Topic1\", \"Topic1\", \"Topic1\", \"Topic1\", \"Topic1\", \"Topic1\", \"Topic1\", \"Topic1\", \"Topic1\", \"Topic1\", \"Topic1\", \"Topic1\", \"Topic1\", \"Topic1\", \"Topic1\", \"Topic1\", \"Topic1\", \"Topic1\", \"Topic1\", \"Topic1\", \"Topic1\", \"Topic1\", \"Topic1\", \"Topic1\", \"Topic1\", \"Topic1\", \"Topic1\", \"Topic1\", \"Topic1\", \"Topic1\", \"Topic1\", \"Topic1\", \"Topic1\", \"Topic1\", \"Topic1\", \"Topic1\", \"Topic1\", \"Topic1\", \"Topic1\", \"Topic1\", \"Topic1\", \"Topic1\", \"Topic1\", \"Topic1\", \"Topic1\", \"Topic1\", \"Topic1\", \"Topic1\", \"Topic1\", \"Topic1\", \"Topic1\", \"Topic2\", \"Topic2\", \"Topic2\", \"Topic2\", \"Topic2\", \"Topic2\", \"Topic2\", \"Topic2\", \"Topic2\", \"Topic2\", \"Topic2\", \"Topic2\", \"Topic2\", \"Topic2\", \"Topic2\", \"Topic2\", \"Topic2\", \"Topic2\", \"Topic2\", \"Topic2\", \"Topic2\", \"Topic2\", \"Topic2\", \"Topic2\", \"Topic2\", \"Topic2\", \"Topic2\", \"Topic2\", \"Topic2\", \"Topic2\", \"Topic2\", \"Topic2\", \"Topic2\", \"Topic2\", \"Topic2\", \"Topic2\", \"Topic2\", \"Topic2\", \"Topic2\", \"Topic2\", \"Topic2\", \"Topic2\", \"Topic2\", \"Topic2\", \"Topic3\", \"Topic3\", \"Topic3\", \"Topic3\", \"Topic3\", \"Topic3\", \"Topic3\", \"Topic3\", \"Topic3\", \"Topic3\", \"Topic3\", \"Topic3\", \"Topic3\", \"Topic3\", \"Topic3\", \"Topic3\", \"Topic3\", \"Topic3\", \"Topic3\", \"Topic3\", \"Topic3\", \"Topic3\", \"Topic3\", \"Topic3\", \"Topic3\", \"Topic3\", \"Topic3\", \"Topic3\", \"Topic3\", \"Topic3\", \"Topic3\", \"Topic3\", \"Topic3\", \"Topic3\", \"Topic3\", \"Topic3\", \"Topic3\", \"Topic3\", \"Topic3\", \"Topic3\", \"Topic3\", \"Topic4\", \"Topic4\", \"Topic4\", \"Topic4\", \"Topic4\", \"Topic4\", \"Topic4\", \"Topic4\", \"Topic4\", \"Topic4\", \"Topic4\", \"Topic4\", \"Topic4\", \"Topic4\", \"Topic4\", \"Topic4\", \"Topic4\", \"Topic4\", \"Topic4\", \"Topic4\", \"Topic4\", \"Topic4\", \"Topic4\", \"Topic4\", \"Topic4\", \"Topic4\", \"Topic4\", \"Topic4\", \"Topic4\", \"Topic4\", \"Topic4\", \"Topic4\", \"Topic4\", \"Topic4\", \"Topic4\", \"Topic4\", \"Topic4\", \"Topic4\", \"Topic4\", \"Topic4\", \"Topic4\", \"Topic4\", \"Topic4\", \"Topic4\", \"Topic5\", \"Topic5\", \"Topic5\", \"Topic5\", \"Topic5\", \"Topic5\", \"Topic5\", \"Topic5\", \"Topic5\", \"Topic5\", \"Topic5\", \"Topic5\", \"Topic5\", \"Topic5\", \"Topic5\", \"Topic5\", \"Topic5\", \"Topic5\", \"Topic5\", \"Topic5\", \"Topic5\", \"Topic5\", \"Topic5\", \"Topic5\", \"Topic5\", \"Topic5\", \"Topic5\", \"Topic5\", \"Topic5\", \"Topic5\", \"Topic5\", \"Topic5\", \"Topic5\", \"Topic5\", \"Topic5\", \"Topic5\", \"Topic5\", \"Topic5\", \"Topic5\", \"Topic5\", \"Topic5\", \"Topic5\", \"Topic6\", \"Topic6\", \"Topic6\", \"Topic6\", \"Topic6\", \"Topic6\", \"Topic6\", \"Topic6\", \"Topic6\", \"Topic6\", \"Topic6\", \"Topic6\", \"Topic6\", \"Topic6\", \"Topic6\", \"Topic6\", \"Topic6\", \"Topic6\", \"Topic6\", \"Topic6\", \"Topic6\", \"Topic6\", \"Topic6\", \"Topic6\", \"Topic6\", \"Topic6\", \"Topic6\", \"Topic6\", \"Topic6\", \"Topic6\", \"Topic6\", \"Topic6\", \"Topic6\", \"Topic6\", \"Topic6\", \"Topic6\", \"Topic6\", \"Topic6\", \"Topic6\", \"Topic6\", \"Topic6\", \"Topic7\", \"Topic7\", \"Topic7\", \"Topic7\", \"Topic7\", \"Topic7\", \"Topic7\", \"Topic7\", \"Topic7\", \"Topic7\", \"Topic7\", \"Topic7\", \"Topic7\", \"Topic7\", \"Topic7\", \"Topic7\", \"Topic7\", \"Topic7\", \"Topic7\", \"Topic7\", \"Topic7\", \"Topic7\", \"Topic7\", \"Topic7\", \"Topic7\", \"Topic7\", \"Topic7\", \"Topic7\", \"Topic7\", \"Topic7\", \"Topic7\", \"Topic7\", \"Topic7\", \"Topic7\", \"Topic7\", \"Topic7\", \"Topic7\", \"Topic7\", \"Topic7\", \"Topic7\", \"Topic7\", \"Topic7\", \"Topic7\", \"Topic8\", \"Topic8\", \"Topic8\", \"Topic8\", \"Topic8\", \"Topic8\", \"Topic8\", \"Topic8\", \"Topic8\", \"Topic8\", \"Topic8\", \"Topic8\", \"Topic8\", \"Topic8\", \"Topic8\", \"Topic8\", \"Topic8\", \"Topic8\", \"Topic8\", \"Topic8\", \"Topic8\", \"Topic8\", \"Topic8\", \"Topic8\", \"Topic8\", \"Topic8\", \"Topic8\", \"Topic8\", \"Topic8\", \"Topic8\", \"Topic8\", \"Topic8\", \"Topic8\", \"Topic8\", \"Topic8\", \"Topic8\", \"Topic8\", \"Topic8\", \"Topic8\", \"Topic8\"], \"logprob\": [30.0, 29.0, 28.0, 27.0, 26.0, 25.0, 24.0, 23.0, 22.0, 21.0, 20.0, 19.0, 18.0, 17.0, 16.0, 15.0, 14.0, 13.0, 12.0, 11.0, 10.0, 9.0, 8.0, 7.0, 6.0, 5.0, 4.0, 3.0, 2.0, 1.0, -4.6764, -4.4852, -5.215, -5.2663, -5.5611, -5.5713, -5.6129, -4.9475, -5.7739, -5.7992, -5.8383, -5.8791, -5.9362, -5.9509, -5.9229, -5.5582, -5.9285, -5.4081, -5.6487, -5.5812, -5.7277, -5.9573, -5.0206, -5.1144, -5.5648, -4.9841, -5.7183, -4.3167, -5.3814, -5.6528, -4.6446, -5.2381, -4.818, -4.9424, -4.9558, -4.6604, -4.94, -5.1115, -5.2909, -4.9837, -4.9193, -5.5051, -4.9824, -4.9057, -5.3774, -5.2964, -5.269, -5.3943, -5.4047, -5.1289, -5.2859, -5.3916, -4.8059, -4.873, -5.0305, -5.2478, -4.9058, -5.4854, -5.4984, -5.5113, -5.5674, -5.2344, -4.7013, -5.1272, -4.7393, -5.1452, -5.2142, -5.3209, -4.6632, -5.7168, -4.8462, -5.553, -5.0428, -5.033, -5.4999, -5.7842, -4.2201, -5.3673, -5.7509, -5.0334, -5.5714, -4.6642, -4.7427, -4.7755, -5.1413, -4.986, -4.7092, -4.7057, -4.9059, -5.1702, -5.1101, -5.3118, -5.1345, -5.0439, -5.1259, -5.1493, -3.0087, -3.7724, -3.8063, -3.847, -4.3285, -4.3375, -4.6418, -4.6856, -4.7726, -4.9477, -4.999, -5.0623, -5.0717, -5.1399, -5.1604, -5.2023, -5.2351, -5.4171, -5.4305, -5.486, -5.5447, -5.5447, -5.56, -5.4444, -4.2038, -4.6738, -5.4287, -3.9345, -5.4811, -4.8225, -4.6822, -4.7674, -4.6568, -4.7774, -4.8268, -4.8974, -4.9644, -5.1115, -5.1025, -5.0269, -5.158, -4.8494, -4.988, -5.0095, -5.1123, -4.3337, -5.2968, -5.3564, -5.3564, -4.4311, -4.9253, -5.3701, -5.2223, -4.9332, -5.3762, -5.3275, -4.5862, -5.1026, -4.9904, -5.355, -5.5491, -4.9653, -5.5508, -4.7463, -4.8648, -5.2728, -4.9766, -4.481, -5.5429, -4.528, -4.9036, -4.1613, -4.1643, -4.4345, -4.8708, -4.5453, -4.856, -4.8177, -4.5428, -4.7354, -4.862, -4.9059, -4.9616, -4.8651, -5.0619, -3.2824, -3.7662, -3.7858, -4.0777, -4.0955, -4.421, -4.459, -4.5823, -4.7659, -4.8868, -5.002, -5.095, -4.1624, -5.1708, -5.184, -5.2966, -5.3269, -5.0363, -3.2419, -4.5672, -3.8586, -5.2784, -4.9722, -5.083, -5.2964, -4.6833, -5.2847, -4.1657, -4.4239, -5.4278, -4.0582, -4.8821, -4.6181, -4.2427, -5.0041, -5.1185, -5.0809, -4.8495, -4.9165, -4.8307, -4.8776, -5.0057, -4.7686, -4.8515, -5.007, -5.1517, -5.1517, -5.092, -5.2921, -4.0167, -4.8192, -5.0556, -4.5033, -4.7139, -4.8653, -5.1883, -4.754, -4.8034, -3.9236, -5.3238, -5.1725, -5.3867, -5.1073, -4.5468, -5.1112, -5.4928, -4.3392, -5.4295, -5.5001, -5.0106, -5.1401, -5.0708, -5.1285, -5.3061, -5.0872, -4.9002, -4.7132, -4.8317, -5.0343, -4.9951, -4.9888, -5.0277, -5.1353, -3.8028, -4.2857, -4.3917, -4.6791, -4.6879, -4.7424, -4.8099, -4.8302, -5.1804, -4.792, -4.8151, -4.6333, -4.2426, -5.2011, -5.2812, -5.118, -4.2556, -5.0937, -4.5189, -5.1725, -4.9974, -5.3338, -4.6309, -5.1825, -5.3473, -4.9183, -4.9521, -5.2448, -5.2503, -5.1982, -4.942, -4.4291, -4.964, -4.6289, -4.9948, -4.6559, -4.8939, -4.893, -4.9258, -4.9946, -4.9561, -5.0381, -5.0297, -2.8647, -3.3896, -4.0041, -4.0223, -4.5104, -4.6067, -4.8809, -4.8955, -4.8955, -4.8955, -4.2958, -4.397, -4.5623, -4.9899, -5.008, -3.3182, -4.3619, -4.5215, -4.467, -4.6306, -5.1057, -5.1688, -5.1899, -4.3153, -4.9466, -4.5575, -5.1123, -5.1169, -5.2518, -5.0955, -4.6754, -3.9249, -4.1873, -4.596, -4.7483, -4.8443, -4.5153, -4.4397, -4.58, -4.8773], \"loglift\": [30.0, 29.0, 28.0, 27.0, 26.0, 25.0, 24.0, 23.0, 22.0, 21.0, 20.0, 19.0, 18.0, 17.0, 16.0, 15.0, 14.0, 13.0, 12.0, 11.0, 10.0, 9.0, 8.0, 7.0, 6.0, 5.0, 4.0, 3.0, 2.0, 1.0, 1.5631, 1.5623, 1.5606, 1.5602, 1.558, 1.5579, 1.5576, 1.5565, 1.556, 1.5557, 1.5552, 1.5548, 1.554, 1.5539, 1.5529, 1.5511, 1.5473, 1.5457, 1.5323, 1.5282, 1.519, 1.5184, 1.5167, 1.516, 1.5152, 1.5095, 1.5068, 1.497, 1.4826, 1.4761, 1.471, 1.4753, 1.4177, 1.4248, 1.421, 1.2986, 1.3551, 1.3831, 1.4229, 1.3464, 1.2827, 1.4567, 1.2286, 1.1444, 1.385, 1.2878, 1.1852, 1.321, 1.302, 0.7485, 0.9983, 1.2386, 1.8685, 1.8681, 1.8671, 1.865, 1.8634, 1.8631, 1.8628, 1.8628, 1.8601, 1.8586, 1.8575, 1.8545, 1.8487, 1.8453, 1.8406, 1.8224, 1.8132, 1.8116, 1.803, 1.7957, 1.7859, 1.765, 1.7539, 1.7452, 1.7428, 1.7366, 1.7332, 1.7302, 1.7282, 1.6791, 1.6264, 1.5934, 1.6153, 1.5642, 1.4589, 1.3313, 1.4327, 1.5712, 1.4395, 1.6447, 1.4093, 1.1654, 1.197, 1.0178, 1.9801, 1.9789, 1.9788, 1.9787, 1.9773, 1.9772, 1.9758, 1.9756, 1.9751, 1.9739, 1.9736, 1.9731, 1.973, 1.9724, 1.9721, 1.9719, 1.9716, 1.9697, 1.9695, 1.9688, 1.9681, 1.9681, 1.9679, 1.9557, 1.9531, 1.95, 1.9454, 1.9396, 1.88, 1.8652, 1.8489, 1.6986, 1.5131, 1.4928, 1.4985, 1.5246, 1.5244, 1.6443, 1.2118, 0.834, 1.1458, 2.1801, 2.1789, 2.1787, 2.1777, 2.1776, 2.1756, 2.1748, 2.1748, 2.1717, 2.1512, 2.1316, 2.1043, 2.0965, 2.0964, 2.09, 2.0721, 2.0351, 2.0205, 1.9983, 1.9828, 1.9517, 1.9366, 1.9191, 1.9067, 1.8847, 1.8803, 1.8702, 1.8621, 1.8275, 1.8274, 1.7354, 1.7207, 1.6881, 1.7615, 1.5466, 1.7001, 1.6561, 1.2957, 1.4317, 1.5764, 1.6246, 1.6296, 1.3419, 1.1976, 2.2164, 2.2153, 2.2152, 2.2143, 2.2142, 2.2127, 2.2125, 2.2118, 2.2105, 2.2095, 2.2085, 2.2075, 2.2071, 2.2067, 2.2066, 2.2052, 2.2048, 2.1963, 2.1934, 2.1912, 2.1791, 2.1662, 2.164, 2.1616, 2.149, 2.0965, 2.0934, 2.034, 2.0291, 2.0184, 1.9816, 1.9793, 1.8096, 1.5957, 1.8885, 1.998, 1.9497, 1.4543, 1.5766, 1.1751, 1.2733, 1.195, 2.2299, 2.2292, 2.2278, 2.2262, 2.2262, 2.2238, 2.223, 2.2208, 2.2148, 2.2128, 2.2072, 2.2004, 2.1774, 2.1634, 2.1514, 2.1427, 2.137, 2.1332, 2.1304, 2.1272, 2.1265, 2.0984, 1.9961, 1.9754, 1.9598, 1.9584, 1.9544, 1.9503, 1.9469, 1.9428, 1.9201, 1.9373, 1.8906, 1.6638, 1.4938, 1.5507, 1.7474, 1.6602, 1.6274, 1.2476, 1.513, 2.3146, 2.3126, 2.312, 2.3101, 2.3101, 2.3096, 2.309, 2.3088, 2.3051, 2.2976, 2.2839, 2.2802, 2.2761, 2.2702, 2.2628, 2.2587, 2.2521, 2.2451, 2.2443, 2.2169, 2.1814, 2.1792, 2.1463, 2.1434, 2.1367, 2.1039, 2.0698, 2.0561, 1.9922, 1.9272, 1.8899, 1.747, 1.8367, 1.5038, 1.7727, 1.3499, 1.5816, 1.5127, 1.5769, 1.7295, 1.4098, 1.7646, 1.2456, 2.6053, 2.6041, 2.6017, 2.6016, 2.5983, 2.5953, 2.5944, 2.5942, 2.5942, 2.5942, 2.5759, 2.5733, 2.5166, 2.5146, 2.4959, 2.477, 2.472, 2.4396, 2.3892, 2.374, 2.2998, 2.2363, 2.2288, 2.2151, 2.1949, 2.1894, 2.1842, 2.1512, 2.1419, 2.1399, 2.135, 1.9525, 1.9686, 2.0381, 2.0724, 2.0919, 1.8356, 1.4212, 1.305, 1.8809]}, \"token.table\": {\"Topic\": [1, 4, 7, 1, 6, 1, 6, 2, 2, 3, 4, 6, 7, 7, 1, 3, 1, 3, 7, 1, 2, 3, 4, 5, 7, 8, 1, 4, 1, 2, 3, 4, 7, 8, 1, 3, 4, 5, 7, 1, 2, 5, 6, 7, 4, 5, 7, 1, 2, 3, 8, 8, 2, 2, 1, 6, 7, 8, 8, 6, 3, 5, 7, 3, 2, 3, 4, 8, 5, 2, 3, 4, 6, 1, 4, 6, 2, 5, 6, 7, 8, 7, 1, 6, 1, 4, 1, 3, 5, 1, 2, 3, 4, 5, 6, 7, 8, 1, 3, 6, 7, 8, 1, 3, 5, 5, 7, 1, 1, 2, 4, 7, 8, 7, 1, 7, 1, 5, 7, 1, 3, 5, 6, 7, 8, 2, 3, 4, 5, 6, 7, 5, 7, 1, 4, 6, 1, 3, 4, 6, 7, 6, 5, 5, 3, 1, 5, 6, 8, 6, 3, 5, 7, 3, 5, 1, 2, 4, 5, 6, 7, 2, 4, 8, 2, 1, 2, 5, 6, 7, 8, 1, 2, 3, 4, 5, 6, 7, 8, 4, 5, 4, 5, 7, 1, 3, 4, 5, 6, 7, 8, 6, 1, 2, 4, 6, 8, 3, 7, 8, 1, 4, 6, 1, 2, 3, 5, 8, 1, 5, 6, 1, 2, 3, 4, 5, 6, 7, 8, 3, 7, 1, 2, 4, 5, 6, 7, 8, 3, 4, 5, 8, 1, 2, 6, 7, 8, 1, 2, 3, 5, 8, 4, 8, 2, 4, 5, 5, 1, 2, 3, 4, 5, 8, 5, 1, 4, 3, 3, 3, 6, 7, 1, 4, 5, 7, 8, 1, 2, 5, 8, 4, 7, 8, 2, 4, 5, 1, 4, 1, 4, 3, 4, 6, 7, 8, 1, 4, 1, 2, 3, 4, 5, 7, 1, 4, 7, 1, 1, 2, 1, 2, 3, 4, 6, 8, 1, 2, 3, 4, 5, 6, 7, 1, 4, 1, 2, 3, 4, 5, 6, 7, 8, 3, 1, 2, 3, 5, 1, 6, 5, 1, 2, 3, 4, 6, 7, 8, 7, 7, 1, 1, 2, 4, 6, 7, 2, 2, 4, 3, 1, 2, 4, 6, 4, 5, 7, 1, 2, 5, 6, 3, 4, 6, 5, 3, 1, 2, 3, 4, 5, 7, 8, 1, 7, 1, 3, 3, 3, 1, 3, 4, 5, 6, 7, 1, 3, 5, 7, 3, 1, 6, 8, 2, 6, 7, 5, 6, 7, 2, 4, 1, 2, 3, 4, 5, 6, 7, 8, 1, 8, 1, 4, 1, 4, 6, 5, 1, 2, 3, 4, 5, 6, 8, 1, 2, 4, 6, 7, 2, 4, 6, 7, 1, 4, 7, 1, 7, 8, 1, 1, 3, 7, 1, 4, 5, 6, 8, 4, 5, 6, 3, 5, 7, 8, 1, 2, 3, 4, 5, 8, 1, 3, 5, 6, 8, 1, 2, 8, 4, 6, 2, 1, 2, 1, 2, 3, 4, 6, 7, 8, 4, 6, 7, 4, 5, 6, 7, 1, 2, 1, 1, 7, 6, 7, 1, 4, 1, 2, 6, 7, 8, 2, 3, 5, 8, 2, 4, 5, 6, 7, 8, 1, 3, 6, 8, 4, 1, 2, 1, 1, 2, 3, 4, 6, 8, 2, 4, 6, 2, 4, 6, 7, 2, 6, 7, 1, 2, 3, 7, 8, 1, 2, 4, 6, 7, 1, 4, 1, 2, 4, 6, 7, 1, 3, 4, 6, 1, 2, 3, 4, 5, 6, 7, 8, 4, 5, 7, 1, 4, 2, 5, 2, 3, 2, 4, 1, 4, 7, 1, 4, 6, 7, 5, 1, 2, 4, 6, 7, 5, 2, 4, 7, 8, 1, 4, 8, 2, 6, 8, 1, 8, 2, 3, 8, 3, 2, 6, 7, 8, 8, 1, 2, 3, 5, 6, 7, 5, 8, 3, 4, 5, 6, 7, 1, 2, 3, 5, 7, 8, 3, 4, 5, 7, 8, 1, 3, 4, 5, 6, 7, 8, 1, 3, 6, 7, 4, 1, 4, 7, 8, 1, 2, 7, 5, 1, 3, 5, 2, 4, 5, 6, 7, 3, 4, 7, 2, 4, 8, 4, 2, 3, 4, 5, 1, 2, 3, 4, 6, 7, 2, 4, 5, 6, 7, 8, 4, 1, 2, 3, 4, 6, 8, 2, 1, 4, 5, 7, 1, 2, 3, 4, 5, 5, 1, 6, 6, 1, 2, 4, 1, 3, 5, 6, 8, 1, 2, 4, 6, 7, 5, 7, 1, 2, 4, 6, 7, 8, 1, 4, 7, 1, 3, 5, 7, 3, 1, 2, 6, 7, 2, 3, 5, 7, 8, 1, 3, 7, 1, 4, 7, 6, 1, 3, 4, 5, 7, 7, 8, 5, 6, 1, 7, 1, 2, 6, 1, 7, 1, 7, 1, 7, 1, 2, 6, 3, 5, 1, 2, 3, 4, 5, 6, 7, 8, 7, 1, 2, 3, 4, 5, 6, 7, 2, 4, 1, 4, 8, 4, 4, 5, 7, 6, 7, 1, 2, 4, 8, 1, 8, 3, 4, 6, 8, 1, 5, 3, 4, 5, 6, 7, 4, 5, 7, 1, 2, 7, 2, 3, 4, 5, 7, 3, 6, 8, 1, 2, 4, 6, 5, 1, 4, 2, 3, 2, 3, 8, 8, 1, 2, 6, 7, 1, 2, 4, 6, 7, 2, 4, 6, 2, 4, 3, 1, 3, 7, 1, 6, 7, 3, 3, 5, 2, 4, 5, 7, 1, 2, 3, 4, 5, 6, 7, 1, 4, 7, 3, 3, 4, 7, 2, 3, 4, 5, 6, 7, 1, 2, 6, 7, 3, 5, 3, 1, 2, 6, 8, 4, 5, 6, 7, 1, 2, 3, 6, 7, 8, 2, 4, 5, 6, 7, 2, 4, 6, 7, 1, 4, 8, 4, 6, 7, 3, 1, 2, 3, 4, 5, 1, 7, 2, 6, 3, 3, 5, 4, 1, 2, 3, 4, 5, 6, 7, 1, 2, 3, 4, 6, 8, 3, 1, 2, 3, 4, 6, 7, 8, 1, 3, 4, 5, 7, 1, 2, 3, 5, 8, 2, 6, 7, 6, 1, 2, 4, 6, 8, 1, 3, 4, 5, 6, 7, 8, 1, 2, 1, 2, 3, 4, 5, 6, 7, 8, 7, 3, 1, 2, 4, 6, 7, 1, 2, 3, 4, 5, 7, 8, 1, 2, 4, 6, 7, 8, 1, 2, 3, 2, 3, 5, 8, 3, 6, 8, 2, 4, 8], \"Freq\": [0.932408744018591, 0.032812037912677686, 0.032812037912677686, 0.9419981897576797, 0.044857056655127604, 0.25129007843094614, 0.7424479590005227, 0.9896407469421368, 0.7814697314607164, 0.0190602373527004, 0.0190602373527004, 0.1715421361743036, 0.014295178014525301, 0.9918955438663588, 0.9923736507958217, 0.005452602476900119, 0.8655535511892972, 0.10938314108436173, 0.019023154971193345, 0.028074554224700645, 0.023395461853917207, 0.34625283543797464, 0.014037277112350323, 0.08890275504488539, 0.03275364659548409, 0.4632301447075607, 0.012039457018357127, 0.9812157469961059, 0.10619948933147388, 0.05309974466573694, 0.05309974466573694, 0.02654987233286847, 0.11947442549790813, 0.6239219998224091, 0.35398280560249284, 0.010891778633922858, 0.11436367565619, 0.03812122521873, 0.4792382598926057, 0.026969467535417353, 0.1779984857337545, 0.5286015636941801, 0.04315114805666776, 0.2211496337904223, 0.2650663894635353, 0.3512129660391842, 0.38103293485383194, 0.4400244679012055, 0.014570346619245214, 0.023312554590792345, 0.5187043396451296, 0.988324192949717, 0.9958220113932916, 0.9893132809137591, 0.0348933239974389, 0.08052305537870516, 0.005368203691913677, 0.8777013036278862, 0.9863937609491157, 0.982348599695359, 0.8911609176247925, 0.08518449947884046, 0.019657961418193953, 0.992536012919306, 0.8718445218004387, 0.029061484060014624, 0.08718445218004388, 0.014530742030007312, 0.9927079783508688, 0.10011526847825482, 0.11441744968943408, 0.01430218121117926, 0.77231778540368, 0.23599109292406617, 0.018153160994158937, 0.7442796007605165, 0.09515645610052931, 0.13321903854074102, 0.5582512091231052, 0.13321903854074102, 0.06978140114038815, 0.9878206275053579, 0.08485645947103282, 0.9051355676910168, 0.08302689478556154, 0.9132958426411768, 0.9838620883393103, 0.9752602999033337, 0.013359730135662105, 0.13287277717232537, 0.05234382131031, 0.19729594186193766, 0.08455540365511614, 0.35835385358596844, 0.048317373517209224, 0.048317373517209224, 0.08052895586201538, 0.20404902498155783, 0.14629930093017354, 0.026949871223979335, 0.09239955848221486, 0.5274474796693098, 0.010262042855605124, 0.023944766663078623, 0.9612113474750132, 0.9365909387597994, 0.05591587694088355, 0.9937136581528466, 0.28167494101991336, 0.06139069227357086, 0.5272377101141967, 0.10111408139176377, 0.025278520347940942, 0.9904013809201553, 0.09252853546684997, 0.8988486302493996, 0.04378953782458571, 0.01642107668421964, 0.9360013710005195, 0.1632435044783956, 0.0638778930567635, 0.08517052407568468, 0.10646315509460584, 0.5819985811838453, 0.007097543672973723, 0.1436147162435799, 0.022978354598972784, 0.614670985522522, 0.17808224814203907, 0.01723376594922959, 0.022978354598972784, 0.183115297296263, 0.8057073081035573, 0.9097035108906373, 0.011093945254763869, 0.07765761678334708, 0.5646465221696413, 0.00875420964604095, 0.13569024951363473, 0.0175084192920819, 0.27138049902726946, 0.9924324976925307, 0.9882656203994482, 0.9905373887659519, 0.9954977416645965, 0.02965865983641474, 0.02965865983641474, 0.01482932991820737, 0.9045891250106496, 0.993077927350883, 0.9711618846807535, 0.023122902016208417, 0.0038538170027014027, 0.8994593462118966, 0.08994593462118966, 0.07839001191737911, 0.14558145070370407, 0.5711272296837622, 0.005599286565527079, 0.15678002383475823, 0.039195005958689556, 0.4218827206505497, 0.09140792280761911, 0.48516512874813217, 0.9953789031653144, 0.833116493175168, 0.014120618528392678, 0.028241237056785357, 0.07766340190615974, 0.021180927792589017, 0.021180927792589017, 0.013015003142194474, 0.04772167818804641, 0.013015003142194474, 0.09544335637609282, 0.060736681330240884, 0.37309675674290826, 0.3427284160777878, 0.052060012568777896, 0.8907797869868362, 0.101803404227067, 0.946461760285922, 0.014788465004467531, 0.029576930008935062, 0.01611302197168201, 0.6337788642194924, 0.08593611718230405, 0.1772432416885021, 0.010742014647788007, 0.06982309521062205, 0.005371007323894003, 0.9891989451618797, 0.8677315267833074, 0.013453201965632674, 0.0538128078625307, 0.047086206879714355, 0.02017980294844901, 0.032123397674214016, 0.8673317372037783, 0.08566239379790404, 0.9506781843909955, 0.02910239339972435, 0.019401595599816236, 0.013610262182592054, 0.06805131091296028, 0.040830786547776166, 0.1769334083736967, 0.6805131091296027, 0.07919013261739706, 0.15838026523479412, 0.7523062598652721, 0.23940076672620747, 0.02520008070802184, 0.03780012106203276, 0.0630002017700546, 0.01260004035401092, 0.4851015536294204, 0.11340036318609828, 0.01890006053101638, 0.9632762996072552, 0.02603449458397987, 0.7562989124848509, 0.005908585253787898, 0.011817170507575796, 0.017725755761363694, 0.06499443779166687, 0.10635453456818215, 0.03545151152272739, 0.041045567867225595, 0.010261391966806399, 0.9440480609461886, 0.9936794914614522, 0.15764327905453743, 0.08757959947474302, 0.7093947557454184, 0.026273879842422906, 0.008757959947474301, 0.05370719999141489, 0.05370719999141489, 0.13426799997853722, 0.05370719999141489, 0.6847667998905399, 0.9946896300891815, 0.9985916464857412, 0.02815608086033949, 0.13675810703593466, 0.8326155340128963, 0.9936494315428568, 0.038976526031437274, 0.07015774685658709, 0.03118122082514982, 0.03118122082514982, 0.787325825835033, 0.038976526031437274, 0.9958999814458013, 0.951009903623959, 0.04322772289199814, 0.9869835833631148, 0.9867585283679193, 0.05702273110165683, 0.9205098020696031, 0.016292208886187667, 0.7680649376212354, 0.10018238316798724, 0.0734670809898573, 0.03339412772266241, 0.026715302178129927, 0.08195372377265987, 0.2224458216686482, 0.05853837412332848, 0.6322144405319475, 0.807865866043014, 0.015242752189490831, 0.15242752189490832, 0.9826771771370163, 0.009826771771370164, 0.9960389236012944, 0.9168132228196605, 0.08149450869508093, 0.029000962739270133, 0.9666987579756711, 0.27408336565287544, 0.007407658531158796, 0.051853609718111565, 0.037038292655793975, 0.6222433166173388, 0.06206929313101088, 0.918625538338961, 0.9875327579804468, 0.9000060826905164, 0.0439027357410008, 0.007317122623500133, 0.0439027357410008, 0.9895433298450014, 0.2410915631186307, 0.7337569312306151, 0.010482241874723073, 0.994461329848979, 0.12062020060987025, 0.8760835623243207, 0.18444540716739133, 0.10114748134985976, 0.09519762950575036, 0.5711857770345022, 0.011899703688218796, 0.03569911106465639, 0.017023282562480743, 0.6298614548117875, 0.0794419852915768, 0.11348855041653828, 0.0794419852915768, 0.034046565124961486, 0.05106984768744223, 0.9143565759651792, 0.08067852140869228, 0.06369469061874843, 0.19687449827613152, 0.04053298493920355, 0.017371279259658663, 0.011580852839772442, 0.5616713627289635, 0.028952132099431104, 0.0810659698784071, 0.9887424697824901, 0.1465274007781415, 0.04547402093114736, 0.14147473178579179, 0.6669523069901613, 0.018529041714625338, 0.9727746900178301, 0.9958482616879649, 0.05611182099196932, 0.060428114914428496, 0.6129137369892034, 0.07337699668180603, 0.12517252375131618, 0.05179552706951014, 0.02589776353475507, 0.9965282670805775, 0.9920928660451155, 0.9832314869247253, 0.04442289491254588, 0.026653736947527526, 0.075518921351328, 0.7551892135132799, 0.09328807931634635, 0.9942157302038517, 0.9850367487125404, 0.011520897645760707, 0.99188500376282, 0.025458765952934167, 0.025458765952934167, 0.012729382976467083, 0.9292449572820971, 0.03769912807316881, 0.025132752048779208, 0.9299118258048307, 0.009242844000373247, 0.6423776580259407, 0.05545706400223948, 0.2911495860117573, 0.22089756096056215, 0.7553271439296642, 0.01425145554584272, 0.992855954946671, 0.9878203403177436, 0.864346871373028, 0.004801927063183489, 0.07202890594775234, 0.009603854126366978, 0.014405781189550467, 0.024009635315917446, 0.009603854126366978, 0.988862729910127, 0.009988512423334617, 0.03776103772238788, 0.9585494191067694, 0.9973534368159688, 0.9994469023659305, 0.9822233720112328, 0.02736892662371676, 0.6979076289047774, 0.23263587630159246, 0.03421115827964595, 0.00684223165592919, 0.01399031269554324, 0.02798062539108648, 0.8254284490370511, 0.12591281425988918, 0.9957682653883932, 0.03636534662014111, 0.8970118832968141, 0.06060891103356852, 0.04550189654944232, 0.903037639212009, 0.04900204243786095, 0.9491845348294353, 0.022871916501914103, 0.022871916501914103, 0.9880889521737266, 0.007108553612760624, 0.7651369049623022, 0.012646890991112434, 0.056911009460005955, 0.03477895022555919, 0.012646890991112434, 0.0031617227477781086, 0.04426411846889352, 0.06955790045111838, 0.9658322226495847, 0.021462938281101882, 0.07182502729738868, 0.9193603494065752, 0.04078220586223257, 0.9108025975898608, 0.04078220586223257, 0.9925366184356789, 0.011679951484542345, 0.42437157060503855, 0.02335990296908469, 0.47109137654320793, 0.00778663432302823, 0.03114653729211292, 0.027253220130598804, 0.09709184531675705, 0.7310444823849942, 0.03997899513042937, 0.07424670524222597, 0.057112850186327675, 0.024809327031216074, 0.07442798109364822, 0.04961865406243215, 0.8435171190613464, 0.18463945786896332, 0.24749544352648276, 0.5657038709176748, 0.5140274753896635, 0.44483146908720883, 0.03459800315122735, 0.9799609581527321, 0.9529187758395238, 0.037126705552189235, 0.012375568517396412, 0.6545841640035945, 0.24936539581089318, 0.003463408275151294, 0.003463408275151294, 0.08658520687878235, 0.059877545516974474, 0.04490815913773086, 0.898163182754617, 0.009532877291258143, 0.9866527996452178, 0.9921293883974542, 0.9984663326390111, 0.0262464458892757, 0.08398862684568223, 0.7558976416111401, 0.020997156711420557, 0.11023507273495793, 0.010498578355710279, 0.12959568314577127, 0.029906696110562604, 0.009968898703520869, 0.7875429975781486, 0.029906696110562604, 0.8963911783527228, 0.04309572972849628, 0.05171487567419554, 0.852991918841156, 0.13360114391487984, 0.9886117586527896, 0.9799046235463444, 0.014410362110975653, 0.18714422649871618, 0.05038498405734666, 0.05038498405734666, 0.03598927432667619, 0.6118176635534952, 0.043187129192011425, 0.014395709730670475, 0.20135441898861944, 0.009152473590391794, 0.7779602551833025, 0.4092164387860074, 0.5353447932063521, 0.02522567088406895, 0.028028523204521053, 0.008792809245735405, 0.9847946355223653, 0.9883908429107015, 0.959108197452112, 0.0299721311703785, 0.9617081004915773, 0.03287890941851546, 0.2667598938501402, 0.7253997113468724, 0.007584266881838959, 0.053089868172872715, 0.053089868172872715, 0.007584266881838959, 0.8721906914114803, 0.044979658652086765, 0.026987795191252058, 0.13493897595626028, 0.791641992276727, 0.01696987211448107, 0.01696987211448107, 0.03393974422896214, 0.9078881581247372, 0.008484936057240535, 0.008484936057240535, 0.1550039598632576, 0.0775019799316288, 0.749185806005745, 0.008611331103514312, 0.9960440897179272, 0.9512273753874252, 0.03438171236340091, 0.9941500458790371, 0.027860524088483808, 0.8218854606102723, 0.06500788953979555, 0.04643420681413968, 0.018573682725655873, 0.02321710340706984, 0.9648378875616435, 0.009459194976094543, 0.018918389952189085, 0.8624779597403974, 0.04241694883969167, 0.03534745736640973, 0.049486440312973626, 0.8886503189877643, 0.05770456616803664, 0.05770456616803664, 0.16796855891640716, 0.04479161571104191, 0.08958323142208383, 0.027994759819401194, 0.6774731876295089, 0.2260239234916594, 0.658586949484318, 0.011690892594396176, 0.05455749877384882, 0.04286660617945265, 0.0054932993690009774, 0.988793886420176, 0.8319128779304431, 0.010804063349746014, 0.010804063349746014, 0.11344266517233315, 0.032412190049238045, 0.025119700078944797, 0.07535910023683438, 0.025119700078944797, 0.8729095777433317, 0.02282905289929493, 0.6449207444050817, 0.11414526449647465, 0.02282905289929493, 0.08560894837235598, 0.057072632248237325, 0.04565810579858986, 0.011414526449647465, 0.7250118458801726, 0.14768759823484998, 0.12083530764669545, 0.23069150711583628, 0.7625635929662365, 0.011300267733105676, 0.9831232927801938, 0.992295577172323, 0.9909008326502721, 0.9507653255105701, 0.04133762284828566, 0.8631520642475756, 0.07505670123891962, 0.05837743429693749, 0.7118898520833329, 0.2074650426071427, 0.03254353609523807, 0.04474736213095235, 0.9909842842907455, 0.02051138027333113, 0.5811557744110487, 0.2939964505844129, 0.10255690136665567, 0.003418563378888522, 0.9933328133859742, 0.3602101525533917, 0.05589467884449182, 0.012421039743220404, 0.5651573083165283, 0.9962136733163616, 0.0236300824562169, 0.968833380704893, 0.8743313430058344, 0.03974233377299247, 0.07948466754598495, 0.026076779841626724, 0.9648408541401888, 0.0387617997044312, 0.0387617997044312, 0.9109022930541332, 0.9926221325891462, 0.17118848469486914, 0.07988795952427226, 0.7189916357184504, 0.01141256564632461, 0.9962132475983596, 0.40492696270999734, 0.5095710092530303, 0.018198964616179654, 0.04094767038640423, 0.009099482308089827, 0.018198964616179654, 0.9967644891071668, 0.993679488866405, 0.02270772599419536, 0.20436953394775823, 0.10596938797291167, 0.015138483996130239, 0.6509548118336003, 0.027182618686566067, 0.013591309343283033, 0.14950440277611338, 0.21746094949252853, 0.5572436830746044, 0.040773928029849096, 0.6246899364169184, 0.035138808923451656, 0.3084406561058534, 0.0039043121026057395, 0.0195215605130287, 0.015047049975116161, 0.1391852122698245, 0.07147348738180177, 0.23699103710807956, 0.06394996239424369, 0.4438879742659268, 0.026332337456453282, 0.7813195307552927, 0.0404130791769979, 0.10776821113866107, 0.06735513196166316, 0.993308676942659, 0.1209894575065641, 0.02419789150131282, 0.7743325280420102, 0.07259367450393846, 0.21059330101400153, 0.772175437051339, 0.007019776700466718, 0.9977548687150722, 0.027937713361665218, 0.013968856680832609, 0.9498822542966174, 0.02553445059679681, 0.5413303526520924, 0.3779098688325928, 0.005106890119359362, 0.045962011074234255, 0.0636023119286219, 0.007066923547624656, 0.9257669847388299, 0.013433152954628576, 0.2283636002286858, 0.7388234125045717, 0.994462852309904, 0.739776409973216, 0.1728449556012187, 0.04839658756834124, 0.04148278934429249, 0.019537920661669275, 0.04884480165417319, 0.058613761985007826, 0.08792064297751173, 0.752209945474267, 0.03907584132333855, 0.03742160181639602, 0.014968640726558407, 0.11974912581246726, 0.1945923294452593, 0.04490592217967523, 0.583776988335778, 0.9900559699308241, 0.29238901517759364, 0.05446462047425764, 0.31818804592855776, 0.017199353833976097, 0.014332794861646746, 0.3067218100392404, 0.9894797092525801, 0.20303145451534838, 0.050757863628837094, 0.07106100908037193, 0.680155372626417, 0.010362882593653184, 0.02590720648413296, 0.12435459112383822, 0.010362882593653184, 0.8290306074922548, 0.9911765726371509, 0.10182212295705872, 0.8937719681786266, 0.9901255795542485, 0.025382234523469303, 0.9264515601066295, 0.038073351785203956, 0.02801604043742348, 0.8741004616476125, 0.03922245661239287, 0.03922245661239287, 0.011206416174969392, 0.988594637623732, 0.0127496077548843, 0.8287245040674794, 0.0382488232646529, 0.1147464697939587, 0.038738386558479776, 0.9573915535167143, 0.20763146767927318, 0.03380047148267238, 0.004828638783238912, 0.5021784334568468, 0.024143193916194558, 0.22694602281222884, 0.30598795838444276, 0.6357419717890365, 0.056444380672858376, 0.02012296480798944, 0.11067630644394191, 0.8049185923195776, 0.06036889442396832, 0.9963192927262656, 0.0564274583311048, 0.16928237499331442, 0.7476638228871386, 0.0141068645827762, 0.0402161527339054, 0.1930375331227459, 0.7158475186635161, 0.0402161527339054, 0.9938881558660164, 0.014673066148461257, 0.3668266537115314, 0.6162687782353727, 0.8019330360533959, 0.18788145416108135, 0.0045824744917336915, 0.9930777330543803, 0.014370470614686971, 0.028740941229373942, 0.043111411844060914, 0.8837839428032488, 0.021555705922030457, 0.3372680623887526, 0.6504455488925943, 0.026814453449800903, 0.9720239375552827, 0.032852002147880074, 0.9609210628254923, 0.9444283013935818, 0.005396733150820467, 0.04317386520656374, 0.9949661019437043, 0.0034547434095267508, 0.9832555338751598, 0.01710009624130713, 0.00979403282131008, 0.9794032821310079, 0.03738143720925955, 0.009345359302314888, 0.9438812895338037, 0.021098023478848676, 0.9705090800270392, 0.24767303448483968, 0.004270224732497236, 0.1067556183124309, 0.3715095517272595, 0.025621348394983416, 0.08540449464994472, 0.029891573127480652, 0.1323769667074143, 0.9947626803472779, 0.040961819832518113, 0.0484094234384305, 0.011171405408868577, 0.6069796938818594, 0.003723801802956192, 0.0484094234384305, 0.2420471171921525, 0.9417296351040007, 0.04556756298890326, 0.1551152477663088, 0.0387788119415772, 0.8065992883848058, 0.9900559602140402, 0.01977404684419884, 0.00988702342209942, 0.9689282953657432, 0.9816996854119541, 0.012532336409514308, 0.33606611487684807, 0.033606611487684804, 0.033606611487684804, 0.5965173539064053, 0.3625917418241407, 0.6232045562602418, 0.09473942171101825, 0.03445069880400664, 0.01722534940200332, 0.8440421206981626, 0.23083704854506126, 0.7663790011696033, 0.01028377023792931, 0.03427923412643103, 0.7884223849079137, 0.006855846825286206, 0.15425655356893964, 0.0653439926865331, 0.8886783005368502, 0.03920639561191986, 0.1307566564218906, 0.014528517380210068, 0.8281254906719738, 0.02104289566099317, 0.7154584524737677, 0.11222877685863022, 0.14028597107328777, 0.014028597107328778, 0.08893012870701386, 0.014821688117835644, 0.8893012870701386, 0.9939350619028061, 0.34096330627699295, 0.6509299483469866, 0.006199332841399872, 0.9947115817350308, 0.7539151808428181, 0.2459295509701171, 0.9726237853206833, 0.01779189851196372, 0.9756857180140647, 0.01773974032752845, 0.9959924083201418, 0.9936794923411044, 0.10957781784065139, 0.7575162189853727, 0.12387057668943201, 0.014292758848780616, 0.9811324116675577, 0.9129298691853172, 0.0075448749519447696, 0.030179499807779078, 0.04526924971166862, 0.1448486151472688, 0.8419325755434998, 0.0090530384467043, 0.9331272590830928, 0.063049139127236, 0.98698352792791, 0.6848373837359216, 0.015564485993998218, 0.30091339588396554, 0.014345995067600724, 0.028691990135201448, 0.9468356744616478, 0.9967153331494538, 0.9973934577609311, 0.9969218006013384, 0.014956294403944618, 0.05982517761577847, 0.044868883211833854, 0.8674650754287878, 0.16430611723424385, 0.06890256529177968, 0.09010335461232727, 0.04770177597123208, 0.11130414393287487, 0.031801183980821386, 0.47701775971232085, 0.8097417462843887, 0.13274454857121126, 0.05752263771419155, 0.9949255921337706, 0.9916825893038578, 0.05220706336233164, 0.9397271405219695, 0.016483679088296236, 0.024725518632444352, 0.7912165962382193, 0.14835311179466612, 0.016483679088296236, 0.008241839544148118, 0.9527079249718275, 0.011274649999666599, 0.0169119749994999, 0.022549299999333198, 0.6156874049560187, 0.3785337378618485, 0.9931829824476094, 0.056405002374211574, 0.17861584085166998, 0.7238641971357151, 0.028202501187105787, 0.014331865889391351, 0.07882526239165244, 0.06449339650226109, 0.8455800874740897, 0.02063186059585891, 0.02063186059585891, 0.02063186059585891, 0.17537081506480073, 0.0928433726813651, 0.6602195390674851, 0.0162071777752889, 0.42949021104515583, 0.004051794443822225, 0.4740599499272003, 0.07698409443262227, 0.010582226363376909, 0.5873135631674185, 0.042328905453507634, 0.35450458317312644, 0.1020522453125743, 0.7726812859380626, 0.1020522453125743, 0.7372581949166648, 0.20953653960789417, 0.04656367546842093, 0.9912498180111735, 0.0857394487289485, 0.7973768731792209, 0.017147889745789697, 0.06001761411026394, 0.04286972436447425, 0.4190428761869725, 0.5734270937295414, 0.011712418694209255, 0.9721307516193682, 0.9936120392416531, 0.9712406676936661, 0.024588371334016864, 0.990923362589069, 0.022985963667394235, 0.0038309939445657056, 0.31797249739895356, 0.03447894550109135, 0.3869303884011363, 0.0038309939445657056, 0.22985963667394235, 0.13631982391548383, 0.023503417916462727, 0.06580957016609564, 0.6957011703272967, 0.023503417916462727, 0.05640820299951055, 0.98856787855691, 0.03050365250414021, 0.146417532019873, 0.012201461001656084, 0.21352556752898147, 0.5429650145736957, 0.006100730500828042, 0.0427051135057963, 0.05356508591711386, 0.4329844444966704, 0.03124630011831642, 0.4642307446149868, 0.013391271479278466, 0.25724316164376104, 0.013905035764527625, 0.013905035764527625, 0.0556201430581105, 0.6604891988150622, 0.03085601617235027, 0.015428008086175135, 0.9411084932566832, 0.9852556045484152, 0.03040712894922411, 0.8818067395274992, 0.015203564474612056, 0.04561069342383616, 0.03040712894922411, 0.7176080634918934, 0.08660786973178025, 0.043303934865890126, 0.06186276409412875, 0.030931382047064374, 0.0247451056376515, 0.030931382047064374, 0.053049850763806125, 0.9389823585193685, 0.03249069744857343, 0.4914217989096731, 0.036552034629645104, 0.08934941798357693, 0.08122674362143356, 0.23149621932108566, 0.008122674362143357, 0.028429360267501747, 0.9884338773243941, 0.9965387714333471, 0.25648078545450226, 0.08074395097641737, 0.23748220875416873, 0.023748220875416875, 0.40371975488208683, 0.10825579304344407, 0.009021316086953673, 0.4645977784781142, 0.1262984252173514, 0.1353197413043051, 0.1262984252173514, 0.03157460630433785, 0.008808418150050139, 0.014680696916750233, 0.6253976886535599, 0.0029361393833500465, 0.07340348458375116, 0.27306096265155433, 0.9223058277069994, 0.06252920865810166, 0.007816151082262707, 0.0018728781269081477, 0.00936439063454074, 0.975769504119145, 0.013110146888357035, 0.6330011054142949, 0.05023818296938848, 0.31147673441020857, 0.8699938296700489, 0.060416238171531175, 0.07249948580583741], \"Term\": [\"\\uac00\\uaca9\", \"\\uac00\\uaca9\", \"\\uac00\\uaca9\", \"\\uac00\\uad6c\", \"\\uac00\\uad6c\", \"\\uac00\\uc0c1\", \"\\uac00\\uc0c1\", \"\\uac00\\uc218\", \"\\uac00\\uc871\", \"\\uac00\\uc871\", \"\\uac00\\uc871\", \"\\uac00\\uc871\", \"\\uac00\\uc871\", \"\\uac10\\ub9ac\", \"\\uac10\\uc18c\", \"\\uac10\\uc18c\", \"\\uac1c\\ubc1c\", \"\\uac1c\\ubc1c\", \"\\uac1c\\ubc1c\", \"\\uac1c\\ucd5c\", \"\\uac1c\\ucd5c\", \"\\uac1c\\ucd5c\", \"\\uac1c\\ucd5c\", \"\\uac1c\\ucd5c\", \"\\uac1c\\ucd5c\", \"\\uac1c\\ucd5c\", \"\\uac24\\ub7ed\\uc2dc\", \"\\uac24\\ub7ed\\uc2dc\", \"\\uac70\\ub450\\ub2e4\", \"\\uac70\\ub450\\ub2e4\", \"\\uac70\\ub450\\ub2e4\", \"\\uac70\\ub450\\ub2e4\", \"\\uac70\\ub450\\ub2e4\", \"\\uac70\\ub450\\ub2e4\", \"\\uac70\\ub798\", \"\\uac70\\ub798\", \"\\uac70\\ub798\", \"\\uac70\\ub798\", \"\\uac70\\ub798\", \"\\uac80\\uc0ac\", \"\\uac80\\uc0ac\", \"\\uac80\\uc0ac\", \"\\uac80\\uc0ac\", \"\\uac80\\uc0ac\", \"\\uac80\\ucc30\", \"\\uac80\\ucc30\", \"\\uac80\\ucc30\", \"\\uac8c\\uc784\", \"\\uac8c\\uc784\", \"\\uac8c\\uc784\", \"\\uac8c\\uc784\", \"\\uacb0\\uc2b9\", \"\\uacb0\\ud63c\", \"\\uacb0\\ud63c\\uc2dd\", \"\\uacbd\\uae30\", \"\\uacbd\\uae30\", \"\\uacbd\\uae30\", \"\\uacbd\\uae30\", \"\\uacbd\\uc8fc\", \"\\uace0\\uc18d\\ub3c4\\ub85c\", \"\\uace0\\uc704\", \"\\uace0\\uc704\", \"\\uace0\\uc704\", \"\\uace0\\uc704 \\ud68c\\ub2f4\", \"\\uacf5\\uc5f0\", \"\\uacf5\\uc5f0\", \"\\uacf5\\uc5f0\", \"\\uacf5\\uc5f0\", \"\\uacf5\\ucc9c\", \"\\uacf5\\ud56d\", \"\\uacf5\\ud56d\", \"\\uacf5\\ud56d\", \"\\uacf5\\ud56d\", \"\\uad00\\uad11\\uac1d\", \"\\uad00\\uad11\\uac1d\", \"\\uad00\\uad11\\uac1d\", \"\\uad11\\uc8fc\", \"\\uad11\\uc8fc\", \"\\uad11\\uc8fc\", \"\\uad11\\uc8fc\", \"\\uad11\\uc8fc\", \"\\uad50\\uc0ac\", \"\\uad6c\\uac04\", \"\\uad6c\\uac04\", \"\\uad6c\\uae00\", \"\\uad6c\\uae00\", \"\\uad6c\\uc9c4\", \"\\uad6d\\ubb34\\uc704\\uc6d0\", \"\\uad6d\\ubb34\\uc704\\uc6d0\", \"\\uad6d\\ubbfc\", \"\\uad6d\\ubbfc\", \"\\uad6d\\ubbfc\", \"\\uad6d\\ubbfc\", \"\\uad6d\\ubbfc\", \"\\uad6d\\ubbfc\", \"\\uad6d\\ubbfc\", \"\\uad6d\\ubbfc\", \"\\uad6d\\uc81c\", \"\\uad6d\\uc81c\", \"\\uad6d\\uc81c\", \"\\uad6d\\uc81c\", \"\\uad6d\\uc81c\", \"\\uad6d\\ud68c\", \"\\uad6d\\ud68c\", \"\\uad6d\\ud68c\", \"\\uad6d\\ud68c\\uc758\\uc6d0\", \"\\uad6d\\ud68c\\uc758\\uc6d0\", \"\\uaddc\\uc81c\", \"\\uadf8\\ub8f9\", \"\\uadf8\\ub8f9\", \"\\uadf8\\ub8f9\", \"\\uadf8\\ub8f9\", \"\\uadf8\\ub8f9\", \"\\uae08\\uac10\\uc6d0\", \"\\uae08\\ub9ac\", \"\\uae08\\ub9ac\", \"\\uae08\\uc735\", \"\\uae08\\uc735\", \"\\uae08\\uc735\", \"\\uae30\\uad00\", \"\\uae30\\uad00\", \"\\uae30\\uad00\", \"\\uae30\\uad00\", \"\\uae30\\uad00\", \"\\uae30\\uad00\", \"\\uae30\\uc0ac\", \"\\uae30\\uc0ac\", \"\\uae30\\uc0ac\", \"\\uae30\\uc0ac\", \"\\uae30\\uc0ac\", \"\\uae30\\uc0ac\", \"\\uae30\\uc18c\", \"\\uae30\\uc18c\", \"\\uae30\\uc220\", \"\\uae30\\uc220\", \"\\uae30\\uc220\", \"\\uae30\\uc5c5\", \"\\uae30\\uc5c5\", \"\\uae30\\uc5c5\", \"\\uae30\\uc5c5\", \"\\uae30\\uc5c5\", \"\\uae30\\uc628\", \"\\uae40\\uacbd\\uc218\", \"\\uae40\\uc131\\ud0dc\", \"\\uae40\\uc815\\uc740\", \"\\uaebe\\ub2e4\", \"\\uaebe\\ub2e4\", \"\\uaebe\\ub2e4\", \"\\uaebe\\ub2e4\", \"\\ub0a0\\uc528\", \"\\ub0a8\\ubd81\", \"\\ub0a8\\ubd81\", \"\\ub0a8\\ubd81\", \"\\ub0a8\\ubd81\\uc815\\uc0c1\\ud68c\\ub2f4\", \"\\ub0a8\\ubd81\\uc815\\uc0c1\\ud68c\\ub2f4\", \"\\ub0a8\\uc131\", \"\\ub0a8\\uc131\", \"\\ub0a8\\uc131\", \"\\ub0a8\\uc131\", \"\\ub0a8\\uc131\", \"\\ub0a8\\uc131\", \"\\ub0a8\\uc790\", \"\\ub0a8\\uc790\", \"\\ub0a8\\uc790\", \"\\ub0a8\\ud3b8\", \"\\ub0ae\\ub2e4\", \"\\ub0ae\\ub2e4\", \"\\ub0ae\\ub2e4\", \"\\ub0ae\\ub2e4\", \"\\ub0ae\\ub2e4\", \"\\ub0ae\\ub2e4\", \"\\ub0b4\\ub9ac\\ub2e4\", \"\\ub0b4\\ub9ac\\ub2e4\", \"\\ub0b4\\ub9ac\\ub2e4\", \"\\ub0b4\\ub9ac\\ub2e4\", \"\\ub0b4\\ub9ac\\ub2e4\", \"\\ub0b4\\ub9ac\\ub2e4\", \"\\ub0b4\\ub9ac\\ub2e4\", \"\\ub0b4\\ub9ac\\ub2e4\", \"\\ub124\\uc774\\ubc84\", \"\\ub124\\uc774\\ubc84\", \"\\ub178\\uc870\", \"\\ub178\\uc870\", \"\\ub178\\uc870\", \"\\ub17c\\uc758\", \"\\ub17c\\uc758\", \"\\ub17c\\uc758\", \"\\ub17c\\uc758\", \"\\ub17c\\uc758\", \"\\ub17c\\uc758\", \"\\ub17c\\uc758\", \"\\ub18d\\ub3c4\", \"\\ub298\\uc5b4\\ub098\\ub2e4\", \"\\ub298\\uc5b4\\ub098\\ub2e4\", \"\\ub298\\uc5b4\\ub098\\ub2e4\", \"\\ub298\\uc5b4\\ub098\\ub2e4\", \"\\ub298\\uc5b4\\ub098\\ub2e4\", \"\\ub2ec\\ub7ec\", \"\\ub2ec\\ub7ec\", \"\\ub2ec\\ub7ec\", \"\\ub2f4\\ubc30\", \"\\ub2f4\\ubc30\", \"\\ub2f4\\ubc30\", \"\\ub300\\uacb0\", \"\\ub300\\uacb0\", \"\\ub300\\uacb0\", \"\\ub300\\uacb0\", \"\\ub300\\uacb0\", \"\\ub300\\uad6c\", \"\\ub300\\uad6c\", \"\\ub300\\uad6c\", \"\\ub300\\ubd80\\ubd84\", \"\\ub300\\ubd80\\ubd84\", \"\\ub300\\ubd80\\ubd84\", \"\\ub300\\ubd80\\ubd84\", \"\\ub300\\ubd80\\ubd84\", \"\\ub300\\ubd80\\ubd84\", \"\\ub300\\ubd80\\ubd84\", \"\\ub300\\ubd80\\ubd84\", \"\\ub300\\ubd81\", \"\\ub300\\ubd81\", \"\\ub300\\ube44\", \"\\ub300\\ube44\", \"\\ub300\\ube44\", \"\\ub300\\ube44\", \"\\ub300\\ube44\", \"\\ub300\\ube44\", \"\\ub300\\ube44\", \"\\ub300\\uc120\", \"\\ub300\\uc120\", \"\\ub300\\uc120\", \"\\ub300\\ud45c\\ud300\", \"\\ub300\\ud559\", \"\\ub300\\ud559\", \"\\ub300\\ud559\", \"\\ub300\\ud559\", \"\\ub300\\ud559\", \"\\ub300\\ud55c\\ubbfc\\uad6d\", \"\\ub300\\ud55c\\ubbfc\\uad6d\", \"\\ub300\\ud55c\\ubbfc\\uad6d\", \"\\ub300\\ud55c\\ubbfc\\uad6d\", \"\\ub300\\ud55c\\ubbfc\\uad6d\", \"\\ub300\\ud55c\\ud56d\\uacf5\", \"\\ub300\\ud68c\", \"\\ub313\\uae00\", \"\\ub313\\uae00\", \"\\ub313\\uae00\", \"\\ub313\\uae00 \\uc870\\uc791\", \"\\ub354\\ubd88\\ub2e4\", \"\\ub354\\ubd88\\ub2e4\", \"\\ub354\\ubd88\\ub2e4\", \"\\ub354\\ubd88\\ub2e4\", \"\\ub354\\ubd88\\ub2e4\", \"\\ub354\\ubd88\\ub2e4\", \"\\ub354\\ubd88\\ub2e4 \\ubbfc\\uc8fc\\ub2f9\", \"\\ub370\\uc774\\ud130\", \"\\ub370\\uc774\\ud130\", \"\\ub3c4\\ub110\\ub4dc\", \"\\ub3c4\\ub110\\ub4dc \\ud2b8\\ub7fc\\ud504\", \"\\ub3c4\\ub85c\", \"\\ub3c4\\ub85c\", \"\\ub3c4\\ub85c\", \"\\ub3c4\\uc785\", \"\\ub3c4\\uc785\", \"\\ub3c4\\uc785\", \"\\ub3c4\\uc785\", \"\\ub3c4\\uc785\", \"\\ub3c4\\uc804\", \"\\ub3c4\\uc804\", \"\\ub3c4\\uc804\", \"\\ub3c4\\uc804\", \"\\ub3d9\\uc601\\uc0c1\", \"\\ub3d9\\uc601\\uc0c1\", \"\\ub3d9\\uc601\\uc0c1\", \"\\ub4dc\\ub77c\\ub9c8\", \"\\ub4dc\\ub77c\\ub9c8\", \"\\ub4dc\\ub8e8\", \"\\ub514\\uc2a4\\ud50c\\ub808\\uc774\", \"\\ub514\\uc2a4\\ud50c\\ub808\\uc774\", \"\\ub514\\uc790\\uc778\", \"\\ub514\\uc790\\uc778\", \"\\ub7ec\\uc2dc\\uc544\", \"\\ub7ec\\uc2dc\\uc544\", \"\\ub7ec\\uc2dc\\uc544\", \"\\ub7ec\\uc2dc\\uc544\", \"\\ub7ec\\uc2dc\\uc544\", \"\\ub86f\\ub370\", \"\\ub86f\\ub370\", \"\\ub9ac\\ub2c8\\uc9c0\", \"\\ub9c8\\uc74c\", \"\\ub9c8\\uc74c\", \"\\ub9c8\\uc74c\", \"\\ub9c8\\uc74c\", \"\\ub9e4\\ub3c4\", \"\\ub9e4\\uc7a5\", \"\\ub9e4\\uc7a5\", \"\\ub9e4\\uc7a5\", \"\\ub9e4\\ucd9c\", \"\\uba39\\ub2e4\", \"\\uba39\\ub2e4\", \"\\ubaa8\\ub378\", \"\\ubaa8\\ub378\", \"\\ubaa8\\ub378\", \"\\ubaa8\\ub378\", \"\\ubaa8\\ub378\", \"\\ubaa8\\ub378\", \"\\ubaa8\\ub974\\ub2e4\", \"\\ubaa8\\ub974\\ub2e4\", \"\\ubaa8\\ub974\\ub2e4\", \"\\ubaa8\\ub974\\ub2e4\", \"\\ubaa8\\ub974\\ub2e4\", \"\\ubaa8\\ub974\\ub2e4\", \"\\ubaa8\\ub974\\ub2e4\", \"\\ubaa8\\ubc14\\uc77c\", \"\\ubaa8\\ubc14\\uc77c\", \"\\ubb38\\ud654\", \"\\ubb38\\ud654\", \"\\ubb38\\ud654\", \"\\ubb38\\ud654\", \"\\ubb38\\ud654\", \"\\ubb38\\ud654\", \"\\ubb38\\ud654\", \"\\ubb38\\ud654\", \"\\ubbf8\\uad70\", \"\\ubbf8\\ub798\", \"\\ubbf8\\ub798\", \"\\ubbf8\\ub798\", \"\\ubbf8\\ub798\", \"\\ubbf8\\uc138\\uba3c\\uc9c0\", \"\\ubbf8\\uc138\\uba3c\\uc9c0\", \"\\ubbfc\\uc8fc\\ub2f9\", \"\\ubc09\\ub2e4\", \"\\ubc09\\ub2e4\", \"\\ubc09\\ub2e4\", \"\\ubc09\\ub2e4\", \"\\ubc09\\ub2e4\", \"\\ubc09\\ub2e4\", \"\\ubc09\\ub2e4\", \"\\ubc14\\uc774\\uc624\", \"\\ubc14\\uc774\\uc624 \\uc9c1\\uc2a4\", \"\\ubc18\\ub3c4\\uccb4\", \"\\ubc1c\\uacac\", \"\\ubc1c\\uacac\", \"\\ubc1c\\uacac\", \"\\ubc1c\\uacac\", \"\\ubc1c\\uacac\", \"\\ubc29\\uc1a1 \\ub418\\ub2e4\", \"\\ubc30\\uc6b0\", \"\\ubc30\\uc6b0\", \"\\ubc31\\uc545\\uad00\", \"\\ubc84\\uc2a4\", \"\\ubc84\\uc2a4\", \"\\ubc84\\uc2a4\", \"\\ubc84\\uc2a4\", \"\\ubc95\\uc6d0\", \"\\ubc95\\uc6d0\", \"\\ubc95\\uc6d0\", \"\\ubcd1\\uc6d0\", \"\\ubcd1\\uc6d0\", \"\\ubcd1\\uc6d0\", \"\\ubcd1\\uc6d0\", \"\\ubcf4\\uc0c1\", \"\\ubcf4\\uc0c1\", \"\\ubcf4\\uc0c1\", \"\\ubcf8\\ud68c\\uc758\", \"\\ubcfc\\ud134\", \"\\ubd80\\ub2f4\", \"\\ubd80\\ub2f4\", \"\\ubd80\\ub2f4\", \"\\ubd80\\ub2f4\", \"\\ubd80\\ub2f4\", \"\\ubd80\\ub2f4\", \"\\ubd80\\ub2f4\", \"\\ubd80\\ub3d9\\uc0b0\", \"\\ubd80\\ub3d9\\uc0b0\", \"\\ubd81\\ubbf8\", \"\\ubd81\\ubbf8\", \"\\ubd81\\ubbf8 \\uc815\\uc0c1\\ud68c\\ub2f4\", \"\\ubd81\\ud55c\", \"\\ubd84\\uc591\", \"\\ubd88\\ubc95\", \"\\ubd88\\ubc95\", \"\\ubd88\\ubc95\", \"\\ubd88\\ubc95\", \"\\ubd88\\ubc95\", \"\\ube44\\ub9ac\", \"\\ube44\\ub9ac\", \"\\ube44\\ub9ac\", \"\\ube44\\ub9ac\", \"\\ube44\\ud575\\ud654\", \"\\ube44\\ud589\", \"\\ube44\\ud589\", \"\\ube44\\ud589\", \"\\uc0ac\\uace0\", \"\\uc0ac\\uace0\", \"\\uc0ac\\uace0\", \"\\uc0ac\\ub2e8\", \"\\uc0ac\\ub2e8\", \"\\uc0ac\\ub2e8\", \"\\uc0ac\\ub791\", \"\\uc0ac\\ub791\", \"\\uc0ac\\uc5c5\", \"\\uc0ac\\uc5c5\", \"\\uc0ac\\uc5c5\", \"\\uc0ac\\uc5c5\", \"\\uc0ac\\uc5c5\", \"\\uc0ac\\uc5c5\", \"\\uc0ac\\uc5c5\", \"\\uc0ac\\uc5c5\", \"\\uc0ac\\uc5c5\\uc790\", \"\\uc0ac\\uc5c5\\uc790\", \"\\uc0ac\\uc6a9\\uc790\", \"\\uc0ac\\uc6a9\\uc790\", \"\\uc0ac\\uc774\\ud2b8\", \"\\uc0ac\\uc774\\ud2b8\", \"\\uc0ac\\uc774\\ud2b8\", \"\\uc0ac\\uc9c1\\uc11c\", \"\\uc0ac\\uc9c4\", \"\\uc0ac\\uc9c4\", \"\\uc0ac\\uc9c4\", \"\\uc0ac\\uc9c4\", \"\\uc0ac\\uc9c4\", \"\\uc0ac\\uc9c4\", \"\\uc0ac\\uc9c4\", \"\\uc0b4\\ub2e4\", \"\\uc0b4\\ub2e4\", \"\\uc0b4\\ub2e4\", \"\\uc0b4\\ub2e4\", \"\\uc0b4\\ub2e4\", \"\\uc0b4\\ud574\", \"\\uc0b4\\ud574\", \"\\uc0b4\\ud574\", \"\\uc0b4\\ud574\", \"\\uc0bc\\uc131\", \"\\uc0bc\\uc131\", \"\\uc0bc\\uc131\", \"\\uc0c1\\uc2b9\", \"\\uc0c1\\uc2b9\", \"\\uc0c1\\uc2b9\", \"\\uc0c1\\ud488\", \"\\uc0dd\\uc0b0\", \"\\uc0dd\\uc0b0\", \"\\uc0dd\\uc0b0\", \"\\uc11c\\ube44\\uc2a4\", \"\\uc11c\\ube44\\uc2a4\", \"\\uc11c\\ube44\\uc2a4\", \"\\uc11c\\ube44\\uc2a4\", \"\\uc11c\\ube44\\uc2a4\", \"\\uc11c\\uc6b8\\uc2dc\", \"\\uc11c\\uc6b8\\uc2dc\", \"\\uc11c\\uc6b8\\uc2dc\", \"\\uc120\\uac70\", \"\\uc120\\uac70\", \"\\uc120\\uace0\", \"\\uc120\\uc218\", \"\\uc120\\uc5b8\", \"\\uc120\\uc5b8\", \"\\uc120\\uc5b8\", \"\\uc120\\uc5b8\", \"\\uc120\\uc5b8\", \"\\uc120\\uc5b8\", \"\\uc124\\uce58\", \"\\uc124\\uce58\", \"\\uc124\\uce58\", \"\\uc124\\uce58\", \"\\uc124\\uce58\", \"\\uc131\\uc7a5\", \"\\uc131\\uc7a5\", \"\\uc131\\uc7a5\", \"\\uc131\\ud3ed\\ud589\", \"\\uc131\\ud3ed\\ud589\", \"\\uc138\\uc0c1\", \"\\uc138\\ud3ec\", \"\\uc138\\ud3ec\", \"\\uc13c\\ud130\", \"\\uc13c\\ud130\", \"\\uc13c\\ud130\", \"\\uc13c\\ud130\", \"\\uc13c\\ud130\", \"\\uc13c\\ud130\", \"\\uc13c\\ud130\", \"\\uc18c\\uc1a1\", \"\\uc18c\\uc1a1\", \"\\uc18c\\uc1a1\", \"\\uc218\\uc0ac\", \"\\uc218\\uc0ac\", \"\\uc218\\uc0ac\", \"\\uc218\\uc0ac\", \"\\uc218\\uc220\", \"\\uc218\\uc220\", \"\\uc218\\uc694\", \"\\uc218\\uc785\", \"\\uc218\\uc785\", \"\\uc228\\uc9c0\\ub2e4\", \"\\uc228\\uc9c0\\ub2e4\", \"\\uc2a4\\ub9c8\\ud2b8\\ud3f0\", \"\\uc2a4\\ub9c8\\ud2b8\\ud3f0\", \"\\uc2a4\\ud3ec\\uce20\", \"\\uc2a4\\ud3ec\\uce20\", \"\\uc2a4\\ud3ec\\uce20\", \"\\uc2a4\\ud3ec\\uce20\", \"\\uc2a4\\ud3ec\\uce20\", \"\\uc2b9\\ub9ac\", \"\\uc2b9\\ub9ac\", \"\\uc2b9\\ub9ac\", \"\\uc2b9\\ub9ac\", \"\\uc2dc\\ubbfc\", \"\\uc2dc\\ubbfc\", \"\\uc2dc\\ubbfc\", \"\\uc2dc\\ubbfc\", \"\\uc2dc\\ubbfc\", \"\\uc2dc\\ubbfc\", \"\\uc2dc\\uc124\", \"\\uc2dc\\uc124\", \"\\uc2dc\\uc124\", \"\\uc2dc\\uc124\", \"\\uc2dc\\uc704\", \"\\uc2dd\\ud488\", \"\\uc2dd\\ud488\", \"\\uc2e0\\uaddc\", \"\\uc2f6\\ub2e4\", \"\\uc2f6\\ub2e4\", \"\\uc2f6\\ub2e4\", \"\\uc2f6\\ub2e4\", \"\\uc2f6\\ub2e4\", \"\\uc2f6\\ub2e4\", \"\\uc544\\ub0b4\", \"\\uc544\\ub0b4\", \"\\uc544\\ub0b4\", \"\\uc544\\ub4e4\", \"\\uc544\\ub4e4\", \"\\uc544\\ub4e4\", \"\\uc544\\ub4e4\", \"\\uc544\\ubc84\\uc9c0\", \"\\uc544\\ubc84\\uc9c0\", \"\\uc544\\ubc84\\uc9c0\", \"\\uc544\\uc2dc\\uc544\", \"\\uc544\\uc2dc\\uc544\", \"\\uc544\\uc2dc\\uc544\", \"\\uc544\\uc2dc\\uc544\", \"\\uc544\\uc2dc\\uc544\", \"\\uc544\\uc774\", \"\\uc544\\uc774\", \"\\uc544\\uc774\", \"\\uc544\\uc774\", \"\\uc544\\uc774\", \"\\uc544\\uc774\\ud3f0\", \"\\uc544\\uc774\\ud3f0\", \"\\uc544\\ud30c\\ud2b8\", \"\\uc544\\ud30c\\ud2b8\", \"\\uc544\\ud30c\\ud2b8\", \"\\uc544\\ud30c\\ud2b8\", \"\\uc544\\ud30c\\ud2b8\", \"\\uc548\\uc804\", \"\\uc548\\uc804\", \"\\uc548\\uc804\", \"\\uc548\\uc804\", \"\\uc54c\\ub2e4\", \"\\uc54c\\ub2e4\", \"\\uc54c\\ub2e4\", \"\\uc54c\\ub2e4\", \"\\uc54c\\ub2e4\", \"\\uc54c\\ub2e4\", \"\\uc54c\\ub2e4\", \"\\uc54c\\ub2e4\", \"\\uc555\\uc218\\uc218\\uc0c9\", \"\\uc555\\uc218\\uc218\\uc0c9\", \"\\uc555\\uc218\\uc218\\uc0c9\", \"\\uc560\\ud50c\", \"\\uc560\\ud50c\", \"\\uc57c\\ub2f9\", \"\\uc57c\\ub2f9\", \"\\uc5b4\\uba38\\ub2c8\", \"\\uc5b5\\ub958\", \"\\uc5c4\\ub9c8\", \"\\uc5c4\\ub9c8\", \"\\uc5c5\\uacc4\", \"\\uc5c5\\uacc4\", \"\\uc5c5\\uacc4\", \"\\uc5c5\\uccb4\", \"\\uc5c5\\uccb4\", \"\\uc5c5\\uccb4\", \"\\uc5c5\\uccb4\", \"\\uc5ec\\ub2f9\", \"\\uc5ec\\uc131\", \"\\uc5ec\\uc131\", \"\\uc5ec\\uc131\", \"\\uc5ec\\uc131\", \"\\uc5ec\\uc131\", \"\\uc5ec\\uc57c\", \"\\uc5ec\\uc790\", \"\\uc5ec\\uc790\", \"\\uc5ec\\uc790\", \"\\uc5ec\\uc790\", \"\\uc5f0\\uad6c\", \"\\uc5f0\\ub9f9\", \"\\uc5f0\\ub9f9\", \"\\uc601\\ud654\", \"\\uc601\\ud654\", \"\\uc601\\ud654\", \"\\uc624\\ud508\", \"\\uc624\\ud508\", \"\\uc62c\\ub9bc\\ud53d\", \"\\uc62c\\ub9bc\\ud53d\", \"\\uc62c\\ub9bc\\ud53d\", \"\\uc678\\uad50\", \"\\uc678\\uad6d\\uc778\", \"\\uc678\\uad6d\\uc778\", \"\\uc678\\uad6d\\uc778\", \"\\uc678\\uad6d\\uc778\", \"\\uc6b0\\uc2b9\", \"\\uc6b4\\ub3d9\", \"\\uc6b4\\ub3d9\", \"\\uc6b4\\ub3d9\", \"\\uc6b4\\ub3d9\", \"\\uc6b4\\ub3d9\", \"\\uc6b4\\ub3d9\", \"\\uc6d0\\ub0b4\\ub300\\ud45c\", \"\\uc6d4\\ub4dc\\ucef5\", \"\\uc704\\ubc18\", \"\\uc704\\ubc18\", \"\\uc704\\ubc18\", \"\\uc704\\ubc18\", \"\\uc704\\ubc18\", \"\\uc704\\uc6d0\", \"\\uc704\\uc6d0\", \"\\uc704\\uc6d0\", \"\\uc704\\uc6d0\", \"\\uc704\\uc6d0\", \"\\uc704\\uc6d0\", \"\\uc704\\uc6d0\\uc7a5\", \"\\uc704\\uc6d0\\uc7a5\", \"\\uc704\\uc6d0\\uc7a5\", \"\\uc704\\uc6d0\\uc7a5\", \"\\uc704\\uc6d0\\uc7a5\", \"\\uc704\\uc6d0\\ud68c\", \"\\uc704\\uc6d0\\ud68c\", \"\\uc704\\uc6d0\\ud68c\", \"\\uc704\\uc6d0\\ud68c\", \"\\uc704\\uc6d0\\ud68c\", \"\\uc704\\uc6d0\\ud68c\", \"\\uc704\\uc6d0\\ud68c\", \"\\uc704\\ud5d8\", \"\\uc704\\ud5d8\", \"\\uc704\\ud5d8\", \"\\uc704\\ud5d8\", \"\\uc720\\ud29c\\ube0c\", \"\\uc740\\ud589\", \"\\uc740\\ud589\", \"\\uc740\\ud589\", \"\\uc740\\ud589\", \"\\uc74c\\uc2dd\", \"\\uc74c\\uc2dd\", \"\\uc74c\\uc2dd\", \"\\uc758\\uc6d0\", \"\\uc758\\uc7a5\", \"\\uc758\\uc7a5\", \"\\uc758\\uc7a5\", \"\\uc758\\ud639\", \"\\uc758\\ud639\", \"\\uc758\\ud639\", \"\\uc758\\ud639\", \"\\uc758\\ud639\", \"\\uc774\\ub780\", \"\\uc774\\ub780\", \"\\uc774\\ub780\", \"\\uc774\\ubca4\\ud2b8\", \"\\uc774\\ubca4\\ud2b8\", \"\\uc774\\ubca4\\ud2b8\", \"\\uc774\\uc2a4\\ub77c\\uc5d8\", \"\\uc774\\uc57c\\uae30\", \"\\uc774\\uc57c\\uae30\", \"\\uc774\\uc57c\\uae30\", \"\\uc774\\uc57c\\uae30\", \"\\uc778\\uadfc\", \"\\uc778\\uadfc\", \"\\uc778\\uadfc\", \"\\uc778\\uadfc\", \"\\uc778\\uadfc\", \"\\uc778\\uadfc\", \"\\uc778\\ucc9c\", \"\\uc778\\ucc9c\", \"\\uc778\\ucc9c\", \"\\uc778\\ucc9c\", \"\\uc778\\ucc9c\", \"\\uc778\\ucc9c\", \"\\uc77c\\uac00\", \"\\uc77c\\ubcf8\", \"\\uc77c\\ubcf8\", \"\\uc77c\\ubcf8\", \"\\uc77c\\ubcf8\", \"\\uc77c\\ubcf8\", \"\\uc77c\\ubcf8\", \"\\uc784\\uc2e0\", \"\\uc790\\uae08\", \"\\uc790\\uae08\", \"\\uc790\\uae08\", \"\\uc790\\uae08\", \"\\uc790\\uc720\", \"\\uc790\\uc720\", \"\\uc790\\uc720\", \"\\uc790\\uc720\", \"\\uc790\\uc720\", \"\\uc790\\uc720 \\ud55c\\uad6d\", \"\\uc790\\uc728\", \"\\uc790\\uc728\", \"\\uc790\\uc804\\uac70\", \"\\uc791\\ud488\", \"\\uc791\\ud488\", \"\\uc791\\ud488\", \"\\uc7a5\\uad00\", \"\\uc7a5\\uad00\", \"\\uc7a5\\uad00\", \"\\uc7a5\\uad00\", \"\\uc7a5\\uad00\", \"\\uc7ac\\uac74\\ucd95\", \"\\uc7ac\\uc0b0\", \"\\uc7ac\\uc0b0\", \"\\uc7ac\\uc0b0\", \"\\uc7ac\\uc0b0\", \"\\uc7ac\\ud310\", \"\\uc7ac\\ud310\", \"\\uc804\\uad6d\", \"\\uc804\\uad6d\", \"\\uc804\\uad6d\", \"\\uc804\\uad6d\", \"\\uc804\\uad6d\", \"\\uc804\\uad6d\", \"\\uc804\\uc790\", \"\\uc804\\uc790\", \"\\uc804\\uc790\", \"\\uc815\\uc0c1\\ud654\", \"\\uc815\\uc0c1\\ud654\", \"\\uc815\\uc0c1\\ud654\", \"\\uc815\\uc0c1\\ud654\", \"\\uc815\\uc0c1\\ud68c\\ub2f4\", \"\\uc815\\uccb4\", \"\\uc815\\uccb4\", \"\\uc815\\uccb4\", \"\\uc815\\uccb4\", \"\\uc815\\uce58\", \"\\uc815\\uce58\", \"\\uc815\\uce58\", \"\\uc815\\uce58\", \"\\uc815\\ud604\", \"\\uc81c\\uc7ac\", \"\\uc81c\\uc7ac\", \"\\uc81c\\uc7ac\", \"\\uc81c\\ud488\", \"\\uc81c\\ud488\", \"\\uc81c\\ud488\", \"\\uc870\\uad50\\uc0ac\", \"\\uc870\\uc791\", \"\\uc870\\uc791\", \"\\uc870\\uc791\", \"\\uc870\\uc791\", \"\\uc870\\uc791\", \"\\uc885\\ubaa9\", \"\\uc885\\ubaa9\", \"\\uc8fc\\ubbfc\", \"\\uc8fc\\ubbfc\", \"\\uc8fc\\uc2dd\", \"\\uc8fc\\uc2dd\", \"\\uc8fc\\ud0dd\", \"\\uc8fc\\ud0dd\", \"\\uc8fc\\ud0dd\", \"\\uc99d\\uac00\", \"\\uc99d\\uac00\", \"\\uc99d\\uac00 \\ud558\\ub2e4\", \"\\uc99d\\uac00 \\ud558\\ub2e4\", \"\\uc99d\\uad8c\", \"\\uc99d\\uad8c\", \"\\uc9c0\\uad6c\", \"\\uc9c0\\uad6c\", \"\\uc9c0\\uad6c\", \"\\uc9c0\\ubc29\\uc120\\uac70\", \"\\uc9c0\\ubc29\\uc120\\uac70\", \"\\uc9c0\\uc6d0\", \"\\uc9c0\\uc6d0\", \"\\uc9c0\\uc6d0\", \"\\uc9c0\\uc6d0\", \"\\uc9c0\\uc6d0\", \"\\uc9c0\\uc6d0\", \"\\uc9c0\\uc6d0\", \"\\uc9c0\\uc6d0\", \"\\uc9c1\\uc2a4\", \"\\uc9c1\\uc6d0\", \"\\uc9c1\\uc6d0\", \"\\uc9c1\\uc6d0\", \"\\uc9c1\\uc6d0\", \"\\uc9c1\\uc6d0\", \"\\uc9c1\\uc6d0\", \"\\uc9c1\\uc6d0\", \"\\uc9c4\\uc9dc\", \"\\uc9c4\\uc9dc\", \"\\uc9c4\\ucd9c\", \"\\uc9c4\\ucd9c\", \"\\uc9c4\\ucd9c\", \"\\uc9d1\\ud68c\", \"\\uc9d5\\uc5ed\", \"\\uc9d5\\uc5ed\", \"\\uc9d5\\uc5ed\", \"\\ucc28\\ub7c9\", \"\\ucc28\\ub7c9\", \"\\ucc28\\uc9c0\", \"\\ucc28\\uc9c0\", \"\\ucc28\\uc9c0\", \"\\ucc28\\uc9c0\", \"\\ucc28\\uc9c0 \\ud558\\ub2e4\", \"\\ucc28\\uc9c0 \\ud558\\ub2e4\", \"\\ucc38\\uac00\", \"\\ucc38\\uac00\", \"\\ucc38\\uac00\", \"\\ucc38\\uac00\", \"\\ucc44\\uc6a9\", \"\\ucc44\\uc6a9\", \"\\ucc98\\ub9ac\", \"\\ucc98\\ub9ac\", \"\\ucc98\\ub9ac\", \"\\ucc98\\ub9ac\", \"\\ucc98\\ub9ac\", \"\\ucc98\\ub9ac \\ud558\\ub2e4\", \"\\ucc98\\ub9ac \\ud558\\ub2e4\", \"\\ucc98\\ub9ac \\ud558\\ub2e4\", \"\\ucc98\\ubd84\", \"\\ucc98\\ubd84\", \"\\ucc98\\ubd84\", \"\\uccad\\uc640\\ub300\", \"\\uccad\\uc640\\ub300\", \"\\uccad\\uc640\\ub300\", \"\\uccad\\uc640\\ub300\", \"\\uccad\\uc640\\ub300\", \"\\uccb4\\uc721\", \"\\uccb4\\uc721\", \"\\uccb4\\uc721\", \"\\ucd08\\uacfc\", \"\\ucd2c\\uc601\", \"\\ucd2c\\uc601\", \"\\ucd2c\\uc601\", \"\\ucd9c\\ub9c8\", \"\\ucd9c\\uc2dc\", \"\\ucd9c\\uc2dc\", \"\\ucd9c\\uc5f0\", \"\\ucd9c\\uc5f0\", \"\\ucd9c\\uc5f0 \\ud558\\ub2e4\", \"\\ucd9c\\uc5f0 \\ud558\\ub2e4\", \"\\ucd9c\\uc804\", \"\\ucd9c\\uc804 \\ud558\\ub2e4\", \"\\uce58\\ub8cc\", \"\\uce58\\ub8cc\", \"\\uce58\\ub8cc\", \"\\uce58\\ub8cc\", \"\\uce58\\ub9e4\", \"\\uce5c\\uad6c\", \"\\uce5c\\uad6c\", \"\\uce5c\\uad6c\", \"\\uce5c\\uad6c\", \"\\uce74\\uba54\\ub77c\", \"\\uce74\\uba54\\ub77c\", \"\\uce74\\uba54\\ub77c\", \"\\uce74\\uce74\\uc624\", \"\\uce74\\uce74\\uc624\", \"\\ud1b5\\uc77c\\ubd80\", \"\\ud22c\\uc790\", \"\\ud22c\\uc790\", \"\\ud22c\\uc790\", \"\\ud22c\\uc790\\uc790\", \"\\ud22c\\uc790\\uc790\", \"\\ud22c\\uc790\\uc790\", \"\\ud2b8\\ub7fc\\ud504\", \"\\ud2b8\\ub7fc\\ud504 \\ub300\\ud1b5\\ub839\", \"\\ud2b9\\uac80\", \"\\ud310\\uacb0\", \"\\ud310\\uacb0\", \"\\ud310\\uacb0\", \"\\ud310\\uacb0\", \"\\ud310\\ub2e8\", \"\\ud310\\ub2e8\", \"\\ud310\\ub2e8\", \"\\ud310\\ub2e8\", \"\\ud310\\ub2e8\", \"\\ud310\\ub2e8\", \"\\ud310\\ub2e8\", \"\\ud310\\ub9e4\", \"\\ud310\\ub9e4\", \"\\ud310\\ub9e4\", \"\\ud310\\ubb38\\uc810\", \"\\ud310\\ubb38\\uc810 \\uc120\\uc5b8\", \"\\ud310\\uc0ac\", \"\\ud310\\uc0ac\", \"\\ud398\\uc774\\uc2a4\\ubd81\", \"\\ud398\\uc774\\uc2a4\\ubd81\", \"\\ud398\\uc774\\uc2a4\\ubd81\", \"\\ud398\\uc774\\uc2a4\\ubd81\", \"\\ud398\\uc774\\uc2a4\\ubd81\", \"\\ud398\\uc774\\uc2a4\\ubd81\", \"\\ud3c9\\uade0\", \"\\ud3c9\\uade0\", \"\\ud3c9\\uade0\", \"\\ud3c9\\uade0\", \"\\ud3c9\\ud654\", \"\\ud3c9\\ud654\", \"\\ud3d0\\uae30\", \"\\ud3ed\\ubc1c\", \"\\ud3ed\\ubc1c\", \"\\ud3ed\\ubc1c\", \"\\ud3ed\\ubc1c\", \"\\ud3ed\\ud589\", \"\\ud3ed\\ud589\", \"\\ud3ed\\ud589\", \"\\ud3ed\\ud589\", \"\\ud504\\ub791\\uc2a4\", \"\\ud504\\ub791\\uc2a4\", \"\\ud504\\ub791\\uc2a4\", \"\\ud504\\ub791\\uc2a4\", \"\\ud504\\ub791\\uc2a4\", \"\\ud504\\ub791\\uc2a4\", \"\\ud53c\\ud574\", \"\\ud53c\\ud574\", \"\\ud53c\\ud574\", \"\\ud53c\\ud574\", \"\\ud53c\\ud574\", \"\\ud53c\\ud574\\uc790\", \"\\ud53c\\ud574\\uc790\", \"\\ud53c\\ud574\\uc790\", \"\\ud53c\\ud574\\uc790\", \"\\ud544\\ub9ac\\ud540\", \"\\ud544\\ub9ac\\ud540\", \"\\ud544\\ub9ac\\ud540\", \"\\ud558\\ub2e4 \\uacbd\\ucc30\", \"\\ud558\\ub2e4 \\uacbd\\ucc30\", \"\\ud558\\ub2e4 \\uacbd\\ucc30\", \"\\ud558\\ub2e4 \\ubd81\\ud55c\", \"\\ud558\\ub2e4 \\uc0ac\\ub78c\", \"\\ud558\\ub2e4 \\uc0ac\\ub78c\", \"\\ud558\\ub2e4 \\uc0ac\\ub78c\", \"\\ud558\\ub2e4 \\uc0ac\\ub78c\", \"\\ud558\\ub2e4 \\uc0ac\\ub78c\", \"\\ud558\\ub77d\", \"\\ud558\\ub77d\", \"\\ud558\\uc640\\uc774\", \"\\ud558\\uc640\\uc774\", \"\\ud55c\\ubbf8\", \"\\ud55c\\ubc18\\ub3c4\", \"\\ud55c\\ubc18\\ub3c4\", \"\\ud55c\\uc9c4\", \"\\ud569\\uc758\", \"\\ud569\\uc758\", \"\\ud569\\uc758\", \"\\ud569\\uc758\", \"\\ud569\\uc758\", \"\\ud569\\uc758\", \"\\ud569\\uc758\", \"\\ud574\\uc678\", \"\\ud574\\uc678\", \"\\ud574\\uc678\", \"\\ud574\\uc678\", \"\\ud574\\uc678\", \"\\ud574\\uc678\", \"\\ud575\\uc2e4\\ud5d8\", \"\\ud604\\uc7a5\", \"\\ud604\\uc7a5\", \"\\ud604\\uc7a5\", \"\\ud604\\uc7a5\", \"\\ud604\\uc7a5\", \"\\ud604\\uc7a5\", \"\\ud604\\uc7a5\", \"\\ud611\\uc0c1\", \"\\ud611\\uc0c1\", \"\\ud611\\uc0c1\", \"\\ud611\\uc0c1\", \"\\ud611\\uc0c1\", \"\\ud611\\ud68c\", \"\\ud611\\ud68c\", \"\\ud611\\ud68c\", \"\\ud611\\ud68c\", \"\\ud611\\ud68c\", \"\\ud615\\uc0ac\", \"\\ud615\\uc0ac\", \"\\ud615\\uc0ac\", \"\\ud654\\uc0b0\", \"\\ud654\\uc81c\", \"\\ud654\\uc81c\", \"\\ud654\\uc81c\", \"\\ud654\\uc81c\", \"\\ud654\\uc81c\", \"\\ud655\\ub300\", \"\\ud655\\ub300\", \"\\ud655\\ub300\", \"\\ud655\\ub300\", \"\\ud655\\ub300\", \"\\ud655\\ub300\", \"\\ud655\\ub300\", \"\\ud658\\uc790\", \"\\ud658\\uc790\", \"\\ud65c\\ub3d9\", \"\\ud65c\\ub3d9\", \"\\ud65c\\ub3d9\", \"\\ud65c\\ub3d9\", \"\\ud65c\\ub3d9\", \"\\ud65c\\ub3d9\", \"\\ud65c\\ub3d9\", \"\\ud65c\\ub3d9\", \"\\ud68c\\uacc4\", \"\\ud68c\\ub2f4\", \"\\ud68c\\uc0ac\", \"\\ud68c\\uc0ac\", \"\\ud68c\\uc0ac\", \"\\ud68c\\uc0ac\", \"\\ud68c\\uc0ac\", \"\\ud68c\\uc758\", \"\\ud68c\\uc758\", \"\\ud68c\\uc758\", \"\\ud68c\\uc758\", \"\\ud68c\\uc758\", \"\\ud68c\\uc758\", \"\\ud68c\\uc758\", \"\\ud68c\\uc7a5\", \"\\ud68c\\uc7a5\", \"\\ud68c\\uc7a5\", \"\\ud68c\\uc7a5\", \"\\ud68c\\uc7a5\", \"\\ud68c\\uc7a5\", \"\\ud6a8\\uacfc\", \"\\ud6a8\\uacfc\", \"\\ud6a8\\uacfc\", \"\\ud6c4\\ubcf4\", \"\\ud6c4\\ubcf4\", \"\\ud6c4\\ubcf4\", \"\\ud6c4\\ubcf4\", \"\\ud6c8\\ub828\", \"\\ud6c8\\ub828\", \"\\ud6c8\\ub828\", \"\\ud76c\\ub2e4\", \"\\ud76c\\ub2e4\", \"\\ud76c\\ub2e4\"]}, \"R\": 30, \"lambda.step\": 0.01, \"plot.opts\": {\"xlab\": \"PC1\", \"ylab\": \"PC2\"}, \"topic.order\": [4, 8, 6, 3, 5, 2, 1, 7]};\n",
              "\n",
              "function LDAvis_load_lib(url, callback){\n",
              "  var s = document.createElement('script');\n",
              "  s.src = url;\n",
              "  s.async = true;\n",
              "  s.onreadystatechange = s.onload = callback;\n",
              "  s.onerror = function(){console.warn(\"failed to load library \" + url);};\n",
              "  document.getElementsByTagName(\"head\")[0].appendChild(s);\n",
              "}\n",
              "\n",
              "if(typeof(LDAvis) !== \"undefined\"){\n",
              "   // already loaded: just create the visualization\n",
              "   !function(LDAvis){\n",
              "       new LDAvis(\"#\" + \"ldavis_el641398150660101927081543063\", ldavis_el641398150660101927081543063_data);\n",
              "   }(LDAvis);\n",
              "}else if(typeof define === \"function\" && define.amd){\n",
              "   // require.js is available: use it to load d3/LDAvis\n",
              "   require.config({paths: {d3: \"https://d3js.org/d3.v5\"}});\n",
              "   require([\"d3\"], function(d3){\n",
              "      window.d3 = d3;\n",
              "      LDAvis_load_lib(\"https://cdn.jsdelivr.net/gh/bmabey/pyLDAvis@3.3.1/pyLDAvis/js/ldavis.v3.0.0.js\", function(){\n",
              "        new LDAvis(\"#\" + \"ldavis_el641398150660101927081543063\", ldavis_el641398150660101927081543063_data);\n",
              "      });\n",
              "    });\n",
              "}else{\n",
              "    // require.js not available: dynamically load d3 & LDAvis\n",
              "    LDAvis_load_lib(\"https://d3js.org/d3.v5.js\", function(){\n",
              "         LDAvis_load_lib(\"https://cdn.jsdelivr.net/gh/bmabey/pyLDAvis@3.3.1/pyLDAvis/js/ldavis.v3.0.0.js\", function(){\n",
              "                 new LDAvis(\"#\" + \"ldavis_el641398150660101927081543063\", ldavis_el641398150660101927081543063_data);\n",
              "            })\n",
              "         });\n",
              "}\n",
              "</script>"
            ],
            "text/plain": [
              "<IPython.core.display.HTML object>"
            ]
          },
          "metadata": {},
          "execution_count": 95
        }
      ]
    },
    {
      "cell_type": "code",
      "metadata": {
        "id": "-lWEr8zqkVUC"
      },
      "source": [
        ""
      ],
      "execution_count": null,
      "outputs": []
    }
  ]
}