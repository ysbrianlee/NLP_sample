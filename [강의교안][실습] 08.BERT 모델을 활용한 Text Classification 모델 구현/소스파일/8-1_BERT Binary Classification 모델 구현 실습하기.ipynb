{
  "nbformat": 4,
  "nbformat_minor": 0,
  "metadata": {
    "colab": {
      "name": "8_1_Bert_Binary_Classification",
      "provenance": []
    },
    "kernelspec": {
      "name": "python3",
      "display_name": "Python 3"
    },
    "language_info": {
      "name": "python"
    }
  },
  "cells": [
    {
      "cell_type": "code",
      "execution_count": null,
      "metadata": {
        "id": "bgLDOTSwsE8q"
      },
      "outputs": [],
      "source": [
        "!pip install transformers"
      ]
    },
    {
      "cell_type": "code",
      "source": [
        "from google.colab import drive \n",
        "drive.mount('/content/mnt')"
      ],
      "metadata": {
        "id": "QdyX30aEsI89"
      },
      "execution_count": null,
      "outputs": []
    },
    {
      "cell_type": "code",
      "source": [
        "import pandas as pd\n",
        "\n",
        "dataset = pd.read_table(\"/content/mnt/MyDrive/data/ratings_train.txt\")"
      ],
      "metadata": {
        "id": "6Pm2huo2sKU0"
      },
      "execution_count": null,
      "outputs": []
    },
    {
      "cell_type": "code",
      "source": [
        "dataset.columns=['id', 'review', 'sentiment']"
      ],
      "metadata": {
        "id": "OHpv08NysLPV"
      },
      "execution_count": null,
      "outputs": []
    },
    {
      "cell_type": "code",
      "source": [
        "dataset.head()"
      ],
      "metadata": {
        "id": "bIW2MxybsMBZ"
      },
      "execution_count": null,
      "outputs": []
    },
    {
      "cell_type": "code",
      "source": [
        "dataset.sentiment.value_counts()"
      ],
      "metadata": {
        "id": "2O9dD7vfsM3m"
      },
      "execution_count": null,
      "outputs": []
    },
    {
      "cell_type": "code",
      "source": [
        "from sklearn.model_selection import train_test_split\n",
        "\n",
        "train_idx, test_idx,_ ,_ = train_test_split(dataset.index, dataset.sentiment, \n",
        "                                            test_size=0.2, stratify=dataset.sentiment)\n",
        "train_set = dataset.iloc[train_idx]\n",
        "test_set = dataset.iloc[test_idx]\n",
        "train_set.reset_index(drop=True, inplace=True)"
      ],
      "metadata": {
        "id": "jHYbP3iVsOJD"
      },
      "execution_count": null,
      "outputs": []
    },
    {
      "cell_type": "code",
      "source": [
        "train_idx, valid_idx, _, _ = train_test_split(train_set.index, train_set.sentiment, \n",
        "                                              test_size=0.3, stratify=train_set.sentiment)\n",
        "valid_set = train_set.iloc[valid_idx]\n",
        "train_set = train_set.iloc[train_idx]"
      ],
      "metadata": {
        "id": "3ZoCE6zpsPLj"
      },
      "execution_count": null,
      "outputs": []
    },
    {
      "cell_type": "code",
      "source": [
        "train_set.shape, valid_set.shape, test_set.shape"
      ],
      "metadata": {
        "id": "o5s_prHSsQNM"
      },
      "execution_count": null,
      "outputs": []
    },
    {
      "cell_type": "code",
      "source": [
        "import torch\n",
        "from transformers import BertTokenizerFast\n",
        "\n",
        "class BertDataset(torch.utils.data.Dataset):\n",
        "\n",
        "    def __init__(self, reviews, sentiments, tokenizer):\n",
        "        self.reviews    = reviews\n",
        "        self.sentiments = sentiments\n",
        "        self.tokenizer  = tokenizer\n",
        "        self.max_len    = tokenizer.model_max_length\n",
        "  \n",
        "    def __len__(self):\n",
        "        return len(self.reviews)\n",
        "  \n",
        "    def __getitem__(self, index):\n",
        "        review = str(self.reviews[index])\n",
        "        sentiments = self.sentiments[index]\n",
        "\n",
        "        encoded_review = self.tokenizer.encode_plus(\n",
        "            review,\n",
        "            add_special_tokens    = True,\n",
        "            max_length            = self.max_len,\n",
        "            return_token_type_ids = False,\n",
        "            return_attention_mask = True,\n",
        "            return_tensors        = \"pt\",\n",
        "            padding               = \"max_length\",\n",
        "            truncation            = True\n",
        "        )\n",
        "\n",
        "        return {\n",
        "            'input_ids': encoded_review['input_ids'][0],\n",
        "            'attention_mask': encoded_review['attention_mask'][0],\n",
        "            'labels': torch.tensor(sentiments, dtype=torch.long)\n",
        "        }"
      ],
      "metadata": {
        "id": "cUfMMsyWsROs"
      },
      "execution_count": null,
      "outputs": []
    },
    {
      "cell_type": "code",
      "source": [
        "bert_model_name = 'kykim/bert-kor-base'\n",
        "\n",
        "tokenizer = BertTokenizerFast.from_pretrained(bert_model_name)"
      ],
      "metadata": {
        "id": "K_rrGgiysV1a"
      },
      "execution_count": null,
      "outputs": []
    },
    {
      "cell_type": "code",
      "source": [
        "train_set_dataset = BertDataset(\n",
        "    reviews    = train_set.review.tolist(),\n",
        "    sentiments = train_set.sentiment.tolist(),\n",
        "    tokenizer  = tokenizer,\n",
        ")\n",
        "\n",
        "valid_set_dataset = BertDataset(\n",
        "    reviews    = valid_set.review.tolist(),\n",
        "    sentiments = valid_set.sentiment.tolist(),\n",
        "    tokenizer  = tokenizer,\n",
        ")"
      ],
      "metadata": {
        "id": "Tc3u2YTHsXfb"
      },
      "execution_count": null,
      "outputs": []
    },
    {
      "cell_type": "code",
      "source": [
        "from transformers import BertForSequenceClassification\n",
        "\n",
        "model = BertForSequenceClassification.from_pretrained(bert_model_name)"
      ],
      "metadata": {
        "id": "6lXp0u2msYgz"
      },
      "execution_count": null,
      "outputs": []
    },
    {
      "cell_type": "code",
      "source": [
        "tl_strategy = 3\n",
        "\n",
        "if tl_strategy == 1:\n",
        "  for name, param in model.bert.named_parameters():\n",
        "    print(name)\n",
        "    param.requires_grad = False\n",
        "\n",
        "elif tl_strategy == 2:\n",
        "  for name, param in model.bert.named_parameters():\n",
        "    if not name.startswith('pooler'):\n",
        "      param.requires_grad = False\n",
        "\n",
        "elif tl_strategy == 3:\n",
        "  for name, param in model.bert.named_parameters():\n",
        "    if ( not name.startswith('pooler') ) and \"layer.23\" not in name :\n",
        "      param.requires_grad = False"
      ],
      "metadata": {
        "id": "2ABhJbRisZgr"
      },
      "execution_count": null,
      "outputs": []
    },
    {
      "cell_type": "code",
      "source": [
        "from transformers import TrainingArguments, Trainer\n",
        "from sklearn.metrics import accuracy_score, precision_recall_fscore_support\n",
        "\n",
        "model_dir = './model'\n",
        "\n",
        "def compute_metrics(pred):\n",
        "    labels = pred.label_ids\n",
        "    preds = pred.predictions.argmax(-1)\n",
        "    acc = accuracy_score(labels, preds)\n",
        "    return { 'accuracy': acc }\n",
        "\n",
        "training_args = TrainingArguments(\n",
        "    output_dir                  = model_dir,\n",
        "    num_train_epochs            = 1,\n",
        "    per_device_train_batch_size = 128,\n",
        "    per_device_eval_batch_size  = 64,\n",
        "    warmup_steps                = 500,\n",
        "    weight_decay                = 0.01,\n",
        "    save_strategy               = \"epoch\",\n",
        "    evaluation_strategy         = \"steps\"\n",
        ")\n",
        "\n",
        "trainer = Trainer(\n",
        "    model           = model,\n",
        "    args            = training_args,\n",
        "    train_dataset   = train_set_dataset,\n",
        "    eval_dataset    = valid_set_dataset,\n",
        "    compute_metrics = compute_metrics\n",
        ")\n",
        "\n",
        "trainer.train()"
      ],
      "metadata": {
        "id": "mDvNCiV5sbBc"
      },
      "execution_count": null,
      "outputs": []
    },
    {
      "cell_type": "code",
      "source": [
        "test_set_dataset = BertDataset(\n",
        "    reviews    = test_set.review.tolist(),\n",
        "    sentiments = test_set.sentiment.tolist(),\n",
        "    tokenizer  = tokenizer,\n",
        ")\n",
        "\n",
        "training_args = TrainingArguments(\n",
        "    output_dir = model_dir,\n",
        "    do_predict = True\n",
        ")\n",
        "\n",
        "trainer = Trainer(\n",
        "    model           = model,\n",
        "    args            = training_args,\n",
        "    compute_metrics = compute_metrics,\n",
        ")\n",
        "\n",
        "trainer.predict(test_set_dataset)"
      ],
      "metadata": {
        "id": "pOsSvv66sc35"
      },
      "execution_count": null,
      "outputs": []
    }
  ]
}