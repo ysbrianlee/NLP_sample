{
  "nbformat": 4,
  "nbformat_minor": 0,
  "metadata": {
    "colab": {
      "name": "Untitled15.ipynb",
      "provenance": []
    },
    "kernelspec": {
      "name": "python3",
      "display_name": "Python 3"
    },
    "language_info": {
      "name": "python"
    }
  },
  "cells": [
    {
      "cell_type": "code",
      "metadata": {
        "colab": {
          "base_uri": "https://localhost:8080/"
        },
        "id": "_WBya5cCrJEP",
        "outputId": "af23e3ed-de8c-4bc7-a2b5-d7e817e3fd94"
      },
      "source": [
        "!pip install transformers\n",
        "import torch"
      ],
      "execution_count": null,
      "outputs": [
        {
          "output_type": "stream",
          "name": "stdout",
          "text": [
            "Collecting transformers\n",
            "  Downloading transformers-4.12.5-py3-none-any.whl (3.1 MB)\n",
            "\u001b[K     |████████████████████████████████| 3.1 MB 12.2 MB/s \n",
            "\u001b[?25hCollecting huggingface-hub<1.0,>=0.1.0\n",
            "  Downloading huggingface_hub-0.1.2-py3-none-any.whl (59 kB)\n",
            "\u001b[K     |████████████████████████████████| 59 kB 6.5 MB/s \n",
            "\u001b[?25hRequirement already satisfied: packaging>=20.0 in /usr/local/lib/python3.7/dist-packages (from transformers) (21.3)\n",
            "Requirement already satisfied: filelock in /usr/local/lib/python3.7/dist-packages (from transformers) (3.4.0)\n",
            "Collecting pyyaml>=5.1\n",
            "  Downloading PyYAML-6.0-cp37-cp37m-manylinux_2_5_x86_64.manylinux1_x86_64.manylinux_2_12_x86_64.manylinux2010_x86_64.whl (596 kB)\n",
            "\u001b[K     |████████████████████████████████| 596 kB 69.3 MB/s \n",
            "\u001b[?25hRequirement already satisfied: requests in /usr/local/lib/python3.7/dist-packages (from transformers) (2.23.0)\n",
            "Collecting sacremoses\n",
            "  Downloading sacremoses-0.0.46-py3-none-any.whl (895 kB)\n",
            "\u001b[K     |████████████████████████████████| 895 kB 58.7 MB/s \n",
            "\u001b[?25hRequirement already satisfied: numpy>=1.17 in /usr/local/lib/python3.7/dist-packages (from transformers) (1.19.5)\n",
            "Requirement already satisfied: regex!=2019.12.17 in /usr/local/lib/python3.7/dist-packages (from transformers) (2019.12.20)\n",
            "Collecting tokenizers<0.11,>=0.10.1\n",
            "  Downloading tokenizers-0.10.3-cp37-cp37m-manylinux_2_5_x86_64.manylinux1_x86_64.manylinux_2_12_x86_64.manylinux2010_x86_64.whl (3.3 MB)\n",
            "\u001b[K     |████████████████████████████████| 3.3 MB 43.2 MB/s \n",
            "\u001b[?25hRequirement already satisfied: importlib-metadata in /usr/local/lib/python3.7/dist-packages (from transformers) (4.8.2)\n",
            "Requirement already satisfied: tqdm>=4.27 in /usr/local/lib/python3.7/dist-packages (from transformers) (4.62.3)\n",
            "Requirement already satisfied: typing-extensions>=3.7.4.3 in /usr/local/lib/python3.7/dist-packages (from huggingface-hub<1.0,>=0.1.0->transformers) (3.10.0.2)\n",
            "Requirement already satisfied: pyparsing!=3.0.5,>=2.0.2 in /usr/local/lib/python3.7/dist-packages (from packaging>=20.0->transformers) (3.0.6)\n",
            "Requirement already satisfied: zipp>=0.5 in /usr/local/lib/python3.7/dist-packages (from importlib-metadata->transformers) (3.6.0)\n",
            "Requirement already satisfied: urllib3!=1.25.0,!=1.25.1,<1.26,>=1.21.1 in /usr/local/lib/python3.7/dist-packages (from requests->transformers) (1.24.3)\n",
            "Requirement already satisfied: certifi>=2017.4.17 in /usr/local/lib/python3.7/dist-packages (from requests->transformers) (2021.10.8)\n",
            "Requirement already satisfied: chardet<4,>=3.0.2 in /usr/local/lib/python3.7/dist-packages (from requests->transformers) (3.0.4)\n",
            "Requirement already satisfied: idna<3,>=2.5 in /usr/local/lib/python3.7/dist-packages (from requests->transformers) (2.10)\n",
            "Requirement already satisfied: joblib in /usr/local/lib/python3.7/dist-packages (from sacremoses->transformers) (1.1.0)\n",
            "Requirement already satisfied: six in /usr/local/lib/python3.7/dist-packages (from sacremoses->transformers) (1.15.0)\n",
            "Requirement already satisfied: click in /usr/local/lib/python3.7/dist-packages (from sacremoses->transformers) (7.1.2)\n",
            "Installing collected packages: pyyaml, tokenizers, sacremoses, huggingface-hub, transformers\n",
            "  Attempting uninstall: pyyaml\n",
            "    Found existing installation: PyYAML 3.13\n",
            "    Uninstalling PyYAML-3.13:\n",
            "      Successfully uninstalled PyYAML-3.13\n",
            "Successfully installed huggingface-hub-0.1.2 pyyaml-6.0 sacremoses-0.0.46 tokenizers-0.10.3 transformers-4.12.5\n"
          ]
        }
      ]
    },
    {
      "cell_type": "code",
      "metadata": {
        "colab": {
          "resources": {
            "http://localhost:8080/nbextensions/google.colab/files.js": {
              "data": "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",
              "ok": true,
              "headers": [
                [
                  "content-type",
                  "application/javascript"
                ]
              ],
              "status": 200,
              "status_text": ""
            }
          },
          "base_uri": "https://localhost:8080/",
          "height": 78
        },
        "id": "GDr_ETFhrTat",
        "outputId": "583c42fe-5616-499f-b481-c02df4a6dd1b"
      },
      "source": [
        "from google.colab import files\n",
        "import os\n",
        "\n",
        "data_dir = 'data'\n",
        "\n",
        "if not os.path.exists(data_dir):\n",
        "    os.mkdir(data_dir)\n",
        "os.chdir(data_dir)\n",
        "files.upload()\n",
        "os.chdir('..')"
      ],
      "execution_count": null,
      "outputs": [
        {
          "output_type": "display_data",
          "data": {
            "text/html": [
              "\n",
              "     <input type=\"file\" id=\"files-5f1c4917-7383-494e-9b83-6777425f3fb3\" name=\"files[]\" multiple disabled\n",
              "        style=\"border:none\" />\n",
              "     <output id=\"result-5f1c4917-7383-494e-9b83-6777425f3fb3\">\n",
              "      Upload widget is only available when the cell has been executed in the\n",
              "      current browser session. Please rerun this cell to enable.\n",
              "      </output>\n",
              "      <script src=\"/nbextensions/google.colab/files.js\"></script> "
            ],
            "text/plain": [
              "<IPython.core.display.HTML object>"
            ]
          },
          "metadata": {}
        },
        {
          "output_type": "stream",
          "name": "stdout",
          "text": [
            "Saving news.csv to news.csv\n"
          ]
        }
      ]
    },
    {
      "cell_type": "code",
      "metadata": {
        "id": "R3CIbNbBrZzn"
      },
      "source": [
        "import pandas as pd\n",
        "dataset = pd.read_csv('./data/news.csv')"
      ],
      "execution_count": null,
      "outputs": []
    },
    {
      "cell_type": "code",
      "metadata": {
        "colab": {
          "base_uri": "https://localhost:8080/",
          "height": 206
        },
        "id": "Pq1NKV31rtTn",
        "outputId": "9143ebcd-b810-4abe-949f-12981e6ec341"
      },
      "source": [
        "dataset[dataset.category==7 ].head()"
      ],
      "execution_count": null,
      "outputs": [
        {
          "output_type": "execute_result",
          "data": {
            "text/html": [
              "<div>\n",
              "<style scoped>\n",
              "    .dataframe tbody tr th:only-of-type {\n",
              "        vertical-align: middle;\n",
              "    }\n",
              "\n",
              "    .dataframe tbody tr th {\n",
              "        vertical-align: top;\n",
              "    }\n",
              "\n",
              "    .dataframe thead th {\n",
              "        text-align: right;\n",
              "    }\n",
              "</style>\n",
              "<table border=\"1\" class=\"dataframe\">\n",
              "  <thead>\n",
              "    <tr style=\"text-align: right;\">\n",
              "      <th></th>\n",
              "      <th>category</th>\n",
              "      <th>num</th>\n",
              "      <th>news</th>\n",
              "    </tr>\n",
              "  </thead>\n",
              "  <tbody>\n",
              "    <tr>\n",
              "      <th>1054</th>\n",
              "      <td>7</td>\n",
              "      <td>7000</td>\n",
              "      <td>“종주국 자존심 지킨다” 25일 도쿄올림픽 태권도 남자 68㎏급에 출전하는 이대훈(...</td>\n",
              "    </tr>\n",
              "    <tr>\n",
              "      <th>1055</th>\n",
              "      <td>7</td>\n",
              "      <td>7001</td>\n",
              "      <td>23일 도쿄올림픽이 개막식을 열고 본격적인 스포츠 축제의 시작을 알리는 가운데, 재...</td>\n",
              "    </tr>\n",
              "    <tr>\n",
              "      <th>1056</th>\n",
              "      <td>7</td>\n",
              "      <td>7002</td>\n",
              "      <td>호텔 전체 빌려 급식지원센터로 ..생선 제외, 육류 뉴질랜드·호주산 ..채소·과일도...</td>\n",
              "    </tr>\n",
              "    <tr>\n",
              "      <th>1057</th>\n",
              "      <td>7</td>\n",
              "      <td>7003</td>\n",
              "      <td>2020 도쿄올림픽 남자 축구 대표팀 선수인 이동경이 뉴질랜드와의 첫 경기 후 상대...</td>\n",
              "    </tr>\n",
              "    <tr>\n",
              "      <th>1058</th>\n",
              "      <td>7</td>\n",
              "      <td>7004</td>\n",
              "      <td>코로나19로 1년 미뤄진 2020 도쿄올림픽이 23일 결국 막을 올렸다... 해를 ...</td>\n",
              "    </tr>\n",
              "  </tbody>\n",
              "</table>\n",
              "</div>"
            ],
            "text/plain": [
              "      category   num                                               news\n",
              "1054         7  7000  “종주국 자존심 지킨다” 25일 도쿄올림픽 태권도 남자 68㎏급에 출전하는 이대훈(...\n",
              "1055         7  7001  23일 도쿄올림픽이 개막식을 열고 본격적인 스포츠 축제의 시작을 알리는 가운데, 재...\n",
              "1056         7  7002  호텔 전체 빌려 급식지원센터로 ..생선 제외, 육류 뉴질랜드·호주산 ..채소·과일도...\n",
              "1057         7  7003  2020 도쿄올림픽 남자 축구 대표팀 선수인 이동경이 뉴질랜드와의 첫 경기 후 상대...\n",
              "1058         7  7004  코로나19로 1년 미뤄진 2020 도쿄올림픽이 23일 결국 막을 올렸다... 해를 ..."
            ]
          },
          "metadata": {},
          "execution_count": 22
        }
      ]
    },
    {
      "cell_type": "code",
      "metadata": {
        "colab": {
          "base_uri": "https://localhost:8080/"
        },
        "id": "4fgDP5g9yLT0",
        "outputId": "9b573ab4-bb53-4b7b-e6e1-1ef8ba066266"
      },
      "source": [
        "!pip install JPype1\n",
        "!pip install konlpy"
      ],
      "execution_count": 23,
      "outputs": [
        {
          "output_type": "stream",
          "name": "stdout",
          "text": [
            "Collecting JPype1\n",
            "  Downloading JPype1-1.3.0-cp37-cp37m-manylinux_2_5_x86_64.manylinux1_x86_64.whl (448 kB)\n",
            "\u001b[?25l\r\u001b[K     |▊                               | 10 kB 20.2 MB/s eta 0:00:01\r\u001b[K     |█▌                              | 20 kB 21.0 MB/s eta 0:00:01\r\u001b[K     |██▏                             | 30 kB 22.7 MB/s eta 0:00:01\r\u001b[K     |███                             | 40 kB 25.4 MB/s eta 0:00:01\r\u001b[K     |███▋                            | 51 kB 20.0 MB/s eta 0:00:01\r\u001b[K     |████▍                           | 61 kB 13.7 MB/s eta 0:00:01\r\u001b[K     |█████                           | 71 kB 13.5 MB/s eta 0:00:01\r\u001b[K     |█████▉                          | 81 kB 14.4 MB/s eta 0:00:01\r\u001b[K     |██████▋                         | 92 kB 13.8 MB/s eta 0:00:01\r\u001b[K     |███████▎                        | 102 kB 14.7 MB/s eta 0:00:01\r\u001b[K     |████████                        | 112 kB 14.7 MB/s eta 0:00:01\r\u001b[K     |████████▊                       | 122 kB 14.7 MB/s eta 0:00:01\r\u001b[K     |█████████▌                      | 133 kB 14.7 MB/s eta 0:00:01\r\u001b[K     |██████████▏                     | 143 kB 14.7 MB/s eta 0:00:01\r\u001b[K     |███████████                     | 153 kB 14.7 MB/s eta 0:00:01\r\u001b[K     |███████████▊                    | 163 kB 14.7 MB/s eta 0:00:01\r\u001b[K     |████████████▍                   | 174 kB 14.7 MB/s eta 0:00:01\r\u001b[K     |█████████████▏                  | 184 kB 14.7 MB/s eta 0:00:01\r\u001b[K     |█████████████▉                  | 194 kB 14.7 MB/s eta 0:00:01\r\u001b[K     |██████████████▋                 | 204 kB 14.7 MB/s eta 0:00:01\r\u001b[K     |███████████████▎                | 215 kB 14.7 MB/s eta 0:00:01\r\u001b[K     |████████████████                | 225 kB 14.7 MB/s eta 0:00:01\r\u001b[K     |████████████████▉               | 235 kB 14.7 MB/s eta 0:00:01\r\u001b[K     |█████████████████▌              | 245 kB 14.7 MB/s eta 0:00:01\r\u001b[K     |██████████████████▎             | 256 kB 14.7 MB/s eta 0:00:01\r\u001b[K     |███████████████████             | 266 kB 14.7 MB/s eta 0:00:01\r\u001b[K     |███████████████████▊            | 276 kB 14.7 MB/s eta 0:00:01\r\u001b[K     |████████████████████▍           | 286 kB 14.7 MB/s eta 0:00:01\r\u001b[K     |█████████████████████▏          | 296 kB 14.7 MB/s eta 0:00:01\r\u001b[K     |██████████████████████          | 307 kB 14.7 MB/s eta 0:00:01\r\u001b[K     |██████████████████████▋         | 317 kB 14.7 MB/s eta 0:00:01\r\u001b[K     |███████████████████████▍        | 327 kB 14.7 MB/s eta 0:00:01\r\u001b[K     |████████████████████████        | 337 kB 14.7 MB/s eta 0:00:01\r\u001b[K     |████████████████████████▉       | 348 kB 14.7 MB/s eta 0:00:01\r\u001b[K     |█████████████████████████▌      | 358 kB 14.7 MB/s eta 0:00:01\r\u001b[K     |██████████████████████████▎     | 368 kB 14.7 MB/s eta 0:00:01\r\u001b[K     |███████████████████████████     | 378 kB 14.7 MB/s eta 0:00:01\r\u001b[K     |███████████████████████████▊    | 389 kB 14.7 MB/s eta 0:00:01\r\u001b[K     |████████████████████████████▌   | 399 kB 14.7 MB/s eta 0:00:01\r\u001b[K     |█████████████████████████████▏  | 409 kB 14.7 MB/s eta 0:00:01\r\u001b[K     |██████████████████████████████  | 419 kB 14.7 MB/s eta 0:00:01\r\u001b[K     |██████████████████████████████▋ | 430 kB 14.7 MB/s eta 0:00:01\r\u001b[K     |███████████████████████████████▍| 440 kB 14.7 MB/s eta 0:00:01\r\u001b[K     |████████████████████████████████| 448 kB 14.7 MB/s \n",
            "\u001b[?25hRequirement already satisfied: typing-extensions in /usr/local/lib/python3.7/dist-packages (from JPype1) (3.10.0.2)\n",
            "Installing collected packages: JPype1\n",
            "Successfully installed JPype1-1.3.0\n",
            "Collecting konlpy\n",
            "  Downloading konlpy-0.5.2-py2.py3-none-any.whl (19.4 MB)\n",
            "\u001b[K     |████████████████████████████████| 19.4 MB 588 kB/s \n",
            "\u001b[?25hCollecting beautifulsoup4==4.6.0\n",
            "  Downloading beautifulsoup4-4.6.0-py3-none-any.whl (86 kB)\n",
            "\u001b[K     |████████████████████████████████| 86 kB 2.5 MB/s \n",
            "\u001b[?25hRequirement already satisfied: lxml>=4.1.0 in /usr/local/lib/python3.7/dist-packages (from konlpy) (4.2.6)\n",
            "Requirement already satisfied: JPype1>=0.7.0 in /usr/local/lib/python3.7/dist-packages (from konlpy) (1.3.0)\n",
            "Requirement already satisfied: tweepy>=3.7.0 in /usr/local/lib/python3.7/dist-packages (from konlpy) (3.10.0)\n",
            "Collecting colorama\n",
            "  Downloading colorama-0.4.4-py2.py3-none-any.whl (16 kB)\n",
            "Requirement already satisfied: numpy>=1.6 in /usr/local/lib/python3.7/dist-packages (from konlpy) (1.19.5)\n",
            "Requirement already satisfied: typing-extensions in /usr/local/lib/python3.7/dist-packages (from JPype1>=0.7.0->konlpy) (3.10.0.2)\n",
            "Requirement already satisfied: requests[socks]>=2.11.1 in /usr/local/lib/python3.7/dist-packages (from tweepy>=3.7.0->konlpy) (2.23.0)\n",
            "Requirement already satisfied: requests-oauthlib>=0.7.0 in /usr/local/lib/python3.7/dist-packages (from tweepy>=3.7.0->konlpy) (1.3.0)\n",
            "Requirement already satisfied: six>=1.10.0 in /usr/local/lib/python3.7/dist-packages (from tweepy>=3.7.0->konlpy) (1.15.0)\n",
            "Requirement already satisfied: oauthlib>=3.0.0 in /usr/local/lib/python3.7/dist-packages (from requests-oauthlib>=0.7.0->tweepy>=3.7.0->konlpy) (3.1.1)\n",
            "Requirement already satisfied: urllib3!=1.25.0,!=1.25.1,<1.26,>=1.21.1 in /usr/local/lib/python3.7/dist-packages (from requests[socks]>=2.11.1->tweepy>=3.7.0->konlpy) (1.24.3)\n",
            "Requirement already satisfied: certifi>=2017.4.17 in /usr/local/lib/python3.7/dist-packages (from requests[socks]>=2.11.1->tweepy>=3.7.0->konlpy) (2021.10.8)\n",
            "Requirement already satisfied: idna<3,>=2.5 in /usr/local/lib/python3.7/dist-packages (from requests[socks]>=2.11.1->tweepy>=3.7.0->konlpy) (2.10)\n",
            "Requirement already satisfied: chardet<4,>=3.0.2 in /usr/local/lib/python3.7/dist-packages (from requests[socks]>=2.11.1->tweepy>=3.7.0->konlpy) (3.0.4)\n",
            "Requirement already satisfied: PySocks!=1.5.7,>=1.5.6 in /usr/local/lib/python3.7/dist-packages (from requests[socks]>=2.11.1->tweepy>=3.7.0->konlpy) (1.7.1)\n",
            "Installing collected packages: colorama, beautifulsoup4, konlpy\n",
            "  Attempting uninstall: beautifulsoup4\n",
            "    Found existing installation: beautifulsoup4 4.6.3\n",
            "    Uninstalling beautifulsoup4-4.6.3:\n",
            "      Successfully uninstalled beautifulsoup4-4.6.3\n",
            "Successfully installed beautifulsoup4-4.6.0 colorama-0.4.4 konlpy-0.5.2\n"
          ]
        }
      ]
    },
    {
      "cell_type": "code",
      "metadata": {
        "colab": {
          "base_uri": "https://localhost:8080/"
        },
        "id": "BV6DfbOQyPt9",
        "outputId": "e2cb925e-09b7-438a-c0fd-7c19995edc92"
      },
      "source": [
        "text = df_news[(df_news.category==7) & (df_news.num==7001)]['news'].values[0]\n",
        "print(text)"
      ],
      "execution_count": 24,
      "outputs": [
        {
          "output_type": "stream",
          "name": "stdout",
          "text": [
            "23일 도쿄올림픽이 개막식을 열고 본격적인 스포츠 축제의 시작을 알리는 가운데, 재계에선 대회에 출전한 선수들의 사기를 북돋기 위해 ..'통 큰 후원' 약속이 이어졌다... .. .. .. .. .. .. .. .. ..━ .. 최태원, 여자핸드볼팀 ..金 1인당 1억 .. .. 최태원 SK그룹 회장이 이끄는 대한핸드볼협회는 여자 국가대표팀이 금메달..\n"
          ]
        }
      ]
    },
    {
      "cell_type": "code",
      "metadata": {
        "id": "poeuL4QOySgG"
      },
      "source": [
        "import konlpy\n",
        "import re"
      ],
      "execution_count": 25,
      "outputs": []
    },
    {
      "cell_type": "code",
      "metadata": {
        "colab": {
          "base_uri": "https://localhost:8080/"
        },
        "id": "DOtP5LImyUKj",
        "outputId": "18d980ac-8312-4c9d-d2f4-948bad4c807b"
      },
      "source": [
        "okt = konlpy.tag.Okt()\n",
        "morphs = okt.pos(text, stem = True) \n",
        "print(morphs)"
      ],
      "execution_count": 27,
      "outputs": [
        {
          "output_type": "stream",
          "name": "stdout",
          "text": [
            "[('23일', 'Number'), ('도쿄올림픽', 'Noun'), ('이', 'Josa'), ('개막식', 'Noun'), ('을', 'Josa'), ('열다', 'Verb'), ('본격', 'Noun'), ('적', 'Suffix'), ('인', 'Josa'), ('스포츠', 'Noun'), ('축제', 'Noun'), ('의', 'Josa'), ('시작', 'Noun'), ('을', 'Josa'), ('알리다', 'Verb'), ('가운데', 'Noun'), (',', 'Punctuation'), ('재계', 'Noun'), ('에선', 'Josa'), ('대회', 'Noun'), ('에', 'Josa'), ('출전', 'Noun'), ('한', 'Josa'), ('선수', 'Noun'), ('들', 'Suffix'), ('의', 'Josa'), ('사기', 'Noun'), ('를', 'Josa'), ('북', 'Noun'), ('돋다', 'Verb'), ('위해', 'Noun'), (\"..'\", 'Punctuation'), ('통', 'Noun'), ('크다', 'Verb'), ('후원', 'Noun'), (\"'\", 'Punctuation'), ('약속', 'Noun'), ('이', 'Josa'), ('이어지다', 'Verb'), ('...', 'Punctuation'), ('..', 'Punctuation'), ('..', 'Punctuation'), ('..', 'Punctuation'), ('..', 'Punctuation'), ('..', 'Punctuation'), ('..', 'Punctuation'), ('..', 'Punctuation'), ('..', 'Punctuation'), ('..', 'Punctuation'), ('━', 'Foreign'), ('..', 'Punctuation'), ('최태원', 'Noun'), (',', 'Punctuation'), ('여자', 'Noun'), ('핸드볼', 'Noun'), ('팀', 'Noun'), ('..', 'Punctuation'), ('金', 'Foreign'), ('1', 'Number'), ('이다', 'Verb'), ('1억', 'Number'), ('..', 'Punctuation'), ('..', 'Punctuation'), ('최태원', 'Noun'), ('SK', 'Alpha'), ('그룹', 'Noun'), ('회장', 'Noun'), ('이', 'Josa'), ('이끌다', 'Verb'), ('대', 'Modifier'), ('한', 'Modifier'), ('핸드볼', 'Noun'), ('협회', 'Noun'), ('는', 'Josa'), ('여자', 'Noun'), ('국가대표팀', 'Noun'), ('이', 'Josa'), ('금메달', 'Noun'), ('..', 'Punctuation')]\n"
          ]
        }
      ]
    },
    {
      "cell_type": "code",
      "metadata": {
        "id": "aCmqtNCLye9A"
      },
      "source": [
        "def get_words(text):\n",
        "    morphs = okt.pos(text, stem = True)   \n",
        "    \n",
        "    word_list = []\n",
        "    for word, pos in morphs:\n",
        "        if pos == 'Noun' or pos == 'Adjective' or pos == 'Verb':\n",
        "          if len(word) > 1:\n",
        "            word_list.append(word)\n",
        "\n",
        "    words = ' '.join(word_list)\n",
        "    return words"
      ],
      "execution_count": 28,
      "outputs": []
    },
    {
      "cell_type": "code",
      "metadata": {
        "id": "KZ5R-tlDygY6"
      },
      "source": [
        "df_news['words'] = df_news.news.apply(get_words)"
      ],
      "execution_count": 30,
      "outputs": []
    },
    {
      "cell_type": "code",
      "metadata": {
        "colab": {
          "base_uri": "https://localhost:8080/",
          "height": 206
        },
        "id": "FduP5hFgzjF4",
        "outputId": "458d7881-2b8e-4c0d-a0e8-13ca4131e46d"
      },
      "source": [
        "df_news[df_news.category==7].head()"
      ],
      "execution_count": 31,
      "outputs": [
        {
          "output_type": "execute_result",
          "data": {
            "text/html": [
              "<div>\n",
              "<style scoped>\n",
              "    .dataframe tbody tr th:only-of-type {\n",
              "        vertical-align: middle;\n",
              "    }\n",
              "\n",
              "    .dataframe tbody tr th {\n",
              "        vertical-align: top;\n",
              "    }\n",
              "\n",
              "    .dataframe thead th {\n",
              "        text-align: right;\n",
              "    }\n",
              "</style>\n",
              "<table border=\"1\" class=\"dataframe\">\n",
              "  <thead>\n",
              "    <tr style=\"text-align: right;\">\n",
              "      <th></th>\n",
              "      <th>category</th>\n",
              "      <th>num</th>\n",
              "      <th>news</th>\n",
              "      <th>words</th>\n",
              "    </tr>\n",
              "  </thead>\n",
              "  <tbody>\n",
              "    <tr>\n",
              "      <th>1054</th>\n",
              "      <td>7</td>\n",
              "      <td>7000</td>\n",
              "      <td>“종주국 자존심 지킨다” 25일 도쿄올림픽 태권도 남자 68㎏급에 출전하는 이대훈(...</td>\n",
              "      <td>종주국 자존심 지키다 도쿄올림픽 태권도 남자 출전 하다 이대훈 왼쪽 진천선수촌 동료...</td>\n",
              "    </tr>\n",
              "    <tr>\n",
              "      <th>1055</th>\n",
              "      <td>7</td>\n",
              "      <td>7001</td>\n",
              "      <td>23일 도쿄올림픽이 개막식을 열고 본격적인 스포츠 축제의 시작을 알리는 가운데, 재...</td>\n",
              "      <td>도쿄올림픽 개막식 열다 본격 스포츠 축제 시작 알리다 가운데 재계 대회 출전 선수 ...</td>\n",
              "    </tr>\n",
              "    <tr>\n",
              "      <th>1056</th>\n",
              "      <td>7</td>\n",
              "      <td>7002</td>\n",
              "      <td>호텔 전체 빌려 급식지원센터로 ..생선 제외, 육류 뉴질랜드·호주산 ..채소·과일도...</td>\n",
              "      <td>호텔 전체 빌리다 급식 센터 생선 제외 육류 뉴질랜드 호주 채소 과일 후쿠시마 써다...</td>\n",
              "    </tr>\n",
              "    <tr>\n",
              "      <th>1057</th>\n",
              "      <td>7</td>\n",
              "      <td>7003</td>\n",
              "      <td>2020 도쿄올림픽 남자 축구 대표팀 선수인 이동경이 뉴질랜드와의 첫 경기 후 상대...</td>\n",
              "      <td>도쿄올림픽 남자 축구 대표팀 선수 이동 경이 뉴질랜드 경기 상대 선수 악수 거부 하...</td>\n",
              "    </tr>\n",
              "    <tr>\n",
              "      <th>1058</th>\n",
              "      <td>7</td>\n",
              "      <td>7004</td>\n",
              "      <td>코로나19로 1년 미뤄진 2020 도쿄올림픽이 23일 결국 막을 올렸다... 해를 ...</td>\n",
              "      <td>코로나 미루다 도쿄올림픽 올리다 넘기다 잠잠하다 커녕 확산 더하다 코로나 온갖 우려...</td>\n",
              "    </tr>\n",
              "  </tbody>\n",
              "</table>\n",
              "</div>"
            ],
            "text/plain": [
              "      category  ...                                              words\n",
              "1054         7  ...  종주국 자존심 지키다 도쿄올림픽 태권도 남자 출전 하다 이대훈 왼쪽 진천선수촌 동료...\n",
              "1055         7  ...  도쿄올림픽 개막식 열다 본격 스포츠 축제 시작 알리다 가운데 재계 대회 출전 선수 ...\n",
              "1056         7  ...  호텔 전체 빌리다 급식 센터 생선 제외 육류 뉴질랜드 호주 채소 과일 후쿠시마 써다...\n",
              "1057         7  ...  도쿄올림픽 남자 축구 대표팀 선수 이동 경이 뉴질랜드 경기 상대 선수 악수 거부 하...\n",
              "1058         7  ...  코로나 미루다 도쿄올림픽 올리다 넘기다 잠잠하다 커녕 확산 더하다 코로나 온갖 우려...\n",
              "\n",
              "[5 rows x 4 columns]"
            ]
          },
          "metadata": {},
          "execution_count": 31
        }
      ]
    },
    {
      "cell_type": "code",
      "metadata": {
        "id": "z06hmjYGzk7h"
      },
      "source": [
        "from sklearn.feature_extraction.text import CountVectorizer\n",
        "count_vectorizer = CountVectorizer(max_df=0.1, max_features=1000, \n",
        "                                   min_df=2, ngram_range=(1,2))"
      ],
      "execution_count": 32,
      "outputs": []
    },
    {
      "cell_type": "code",
      "metadata": {
        "colab": {
          "base_uri": "https://localhost:8080/"
        },
        "id": "m2k5a3IBznTi",
        "outputId": "1e8d05ad-95c6-4300-e2d9-06f857a96529"
      },
      "source": [
        "feat_vect = count_vectorizer.fit_transform(df_news.words)\n",
        "print(feat_vect.shape)\n",
        "print(feat_vect[0,:])"
      ],
      "execution_count": 33,
      "outputs": [
        {
          "output_type": "stream",
          "name": "stdout",
          "text": [
            "(1249, 1000)\n",
            "  (0, 452)\t1\n",
            "  (0, 859)\t2\n",
            "  (0, 593)\t1\n",
            "  (0, 716)\t1\n",
            "  (0, 963)\t1\n",
            "  (0, 466)\t1\n",
            "  (0, 182)\t1\n",
            "  (0, 572)\t1\n",
            "  (0, 840)\t1\n",
            "  (0, 126)\t1\n",
            "  (0, 955)\t1\n",
            "  (0, 821)\t1\n",
            "  (0, 690)\t1\n"
          ]
        }
      ]
    },
    {
      "cell_type": "code",
      "metadata": {
        "colab": {
          "base_uri": "https://localhost:8080/"
        },
        "id": "bngw5wxzzqHT",
        "outputId": "d790b940-02cf-41a8-ab05-d731a2cce16c"
      },
      "source": [
        "feature_names = count_vectorizer.get_feature_names()\n",
        "print(feature_names[:5])"
      ],
      "execution_count": 34,
      "outputs": [
        {
          "output_type": "stream",
          "name": "stdout",
          "text": [
            "['가격', '가능성', '가능하다', '가다 도쿄올림픽', '가수']\n"
          ]
        },
        {
          "output_type": "stream",
          "name": "stderr",
          "text": [
            "/usr/local/lib/python3.7/dist-packages/sklearn/utils/deprecation.py:87: FutureWarning: Function get_feature_names is deprecated; get_feature_names is deprecated in 1.0 and will be removed in 1.2. Please use get_feature_names_out instead.\n",
            "  warnings.warn(msg, category=FutureWarning)\n"
          ]
        }
      ]
    },
    {
      "cell_type": "code",
      "metadata": {
        "colab": {
          "base_uri": "https://localhost:8080/"
        },
        "id": "Q-p9e-5XzscQ",
        "outputId": "daf02811-0ce3-4630-f80b-bc00b5463a54"
      },
      "source": [
        "from sklearn.decomposition import LatentDirichletAllocation\n",
        "topic_cnt = 8\n",
        "lda = LatentDirichletAllocation(n_components=topic_cnt)\n",
        "lda.fit(feat_vect)"
      ],
      "execution_count": 35,
      "outputs": [
        {
          "output_type": "execute_result",
          "data": {
            "text/plain": [
              "LatentDirichletAllocation(n_components=8)"
            ]
          },
          "metadata": {},
          "execution_count": 35
        }
      ]
    },
    {
      "cell_type": "code",
      "metadata": {
        "colab": {
          "base_uri": "https://localhost:8080/"
        },
        "id": "Uww0rB1Mzvrz",
        "outputId": "8691aaee-e4ea-4ab9-9db6-e7b0443379db"
      },
      "source": [
        "topic_num = 5\n",
        "topic = lda.components_[topic_num]\n",
        "\n",
        "topic_word_indexes = topic.argsort()[::-1]\n",
        "top_indexes=topic_word_indexes[:10]\n",
        "\n",
        "feature_name_list = ' '.join([feature_names[i] for i in top_indexes])                \n",
        "print(feature_name_list)"
      ],
      "execution_count": 36,
      "outputs": [
        {
          "output_type": "stream",
          "name": "stdout",
          "text": [
            "양궁 뉴스 출연 안산 그룹 회장 출연 하다 방송 되다 관왕 대선\n"
          ]
        }
      ]
    },
    {
      "cell_type": "code",
      "metadata": {
        "colab": {
          "base_uri": "https://localhost:8080/",
          "height": 1000
        },
        "id": "D6THM2NfzyZE",
        "outputId": "ce9b5eb8-a9f3-47f2-ef38-3c4f17d836ac"
      },
      "source": [
        "!pip install pyLDAvis"
      ],
      "execution_count": 37,
      "outputs": [
        {
          "output_type": "stream",
          "name": "stdout",
          "text": [
            "Collecting pyLDAvis\n",
            "  Downloading pyLDAvis-3.3.1.tar.gz (1.7 MB)\n",
            "\u001b[?25l\r\u001b[K     |▏                               | 10 kB 21.8 MB/s eta 0:00:01\r\u001b[K     |▍                               | 20 kB 25.6 MB/s eta 0:00:01\r\u001b[K     |▋                               | 30 kB 30.2 MB/s eta 0:00:01\r\u001b[K     |▉                               | 40 kB 23.8 MB/s eta 0:00:01\r\u001b[K     |█                               | 51 kB 17.7 MB/s eta 0:00:01\r\u001b[K     |█▏                              | 61 kB 12.3 MB/s eta 0:00:01\r\u001b[K     |█▍                              | 71 kB 13.6 MB/s eta 0:00:01\r\u001b[K     |█▋                              | 81 kB 14.6 MB/s eta 0:00:01\r\u001b[K     |█▉                              | 92 kB 15.3 MB/s eta 0:00:01\r\u001b[K     |██                              | 102 kB 15.0 MB/s eta 0:00:01\r\u001b[K     |██▏                             | 112 kB 15.0 MB/s eta 0:00:01\r\u001b[K     |██▍                             | 122 kB 15.0 MB/s eta 0:00:01\r\u001b[K     |██▋                             | 133 kB 15.0 MB/s eta 0:00:01\r\u001b[K     |██▊                             | 143 kB 15.0 MB/s eta 0:00:01\r\u001b[K     |███                             | 153 kB 15.0 MB/s eta 0:00:01\r\u001b[K     |███▏                            | 163 kB 15.0 MB/s eta 0:00:01\r\u001b[K     |███▍                            | 174 kB 15.0 MB/s eta 0:00:01\r\u001b[K     |███▋                            | 184 kB 15.0 MB/s eta 0:00:01\r\u001b[K     |███▊                            | 194 kB 15.0 MB/s eta 0:00:01\r\u001b[K     |████                            | 204 kB 15.0 MB/s eta 0:00:01\r\u001b[K     |████▏                           | 215 kB 15.0 MB/s eta 0:00:01\r\u001b[K     |████▍                           | 225 kB 15.0 MB/s eta 0:00:01\r\u001b[K     |████▋                           | 235 kB 15.0 MB/s eta 0:00:01\r\u001b[K     |████▊                           | 245 kB 15.0 MB/s eta 0:00:01\r\u001b[K     |█████                           | 256 kB 15.0 MB/s eta 0:00:01\r\u001b[K     |█████▏                          | 266 kB 15.0 MB/s eta 0:00:01\r\u001b[K     |█████▍                          | 276 kB 15.0 MB/s eta 0:00:01\r\u001b[K     |█████▌                          | 286 kB 15.0 MB/s eta 0:00:01\r\u001b[K     |█████▊                          | 296 kB 15.0 MB/s eta 0:00:01\r\u001b[K     |██████                          | 307 kB 15.0 MB/s eta 0:00:01\r\u001b[K     |██████▏                         | 317 kB 15.0 MB/s eta 0:00:01\r\u001b[K     |██████▍                         | 327 kB 15.0 MB/s eta 0:00:01\r\u001b[K     |██████▌                         | 337 kB 15.0 MB/s eta 0:00:01\r\u001b[K     |██████▊                         | 348 kB 15.0 MB/s eta 0:00:01\r\u001b[K     |███████                         | 358 kB 15.0 MB/s eta 0:00:01\r\u001b[K     |███████▏                        | 368 kB 15.0 MB/s eta 0:00:01\r\u001b[K     |███████▎                        | 378 kB 15.0 MB/s eta 0:00:01\r\u001b[K     |███████▌                        | 389 kB 15.0 MB/s eta 0:00:01\r\u001b[K     |███████▊                        | 399 kB 15.0 MB/s eta 0:00:01\r\u001b[K     |████████                        | 409 kB 15.0 MB/s eta 0:00:01\r\u001b[K     |████████▏                       | 419 kB 15.0 MB/s eta 0:00:01\r\u001b[K     |████████▎                       | 430 kB 15.0 MB/s eta 0:00:01\r\u001b[K     |████████▌                       | 440 kB 15.0 MB/s eta 0:00:01\r\u001b[K     |████████▊                       | 450 kB 15.0 MB/s eta 0:00:01\r\u001b[K     |█████████                       | 460 kB 15.0 MB/s eta 0:00:01\r\u001b[K     |█████████▏                      | 471 kB 15.0 MB/s eta 0:00:01\r\u001b[K     |█████████▎                      | 481 kB 15.0 MB/s eta 0:00:01\r\u001b[K     |█████████▌                      | 491 kB 15.0 MB/s eta 0:00:01\r\u001b[K     |█████████▊                      | 501 kB 15.0 MB/s eta 0:00:01\r\u001b[K     |██████████                      | 512 kB 15.0 MB/s eta 0:00:01\r\u001b[K     |██████████                      | 522 kB 15.0 MB/s eta 0:00:01\r\u001b[K     |██████████▎                     | 532 kB 15.0 MB/s eta 0:00:01\r\u001b[K     |██████████▌                     | 542 kB 15.0 MB/s eta 0:00:01\r\u001b[K     |██████████▊                     | 552 kB 15.0 MB/s eta 0:00:01\r\u001b[K     |███████████                     | 563 kB 15.0 MB/s eta 0:00:01\r\u001b[K     |███████████                     | 573 kB 15.0 MB/s eta 0:00:01\r\u001b[K     |███████████▎                    | 583 kB 15.0 MB/s eta 0:00:01\r\u001b[K     |███████████▌                    | 593 kB 15.0 MB/s eta 0:00:01\r\u001b[K     |███████████▊                    | 604 kB 15.0 MB/s eta 0:00:01\r\u001b[K     |███████████▉                    | 614 kB 15.0 MB/s eta 0:00:01\r\u001b[K     |████████████                    | 624 kB 15.0 MB/s eta 0:00:01\r\u001b[K     |████████████▎                   | 634 kB 15.0 MB/s eta 0:00:01\r\u001b[K     |████████████▌                   | 645 kB 15.0 MB/s eta 0:00:01\r\u001b[K     |████████████▊                   | 655 kB 15.0 MB/s eta 0:00:01\r\u001b[K     |████████████▉                   | 665 kB 15.0 MB/s eta 0:00:01\r\u001b[K     |█████████████                   | 675 kB 15.0 MB/s eta 0:00:01\r\u001b[K     |█████████████▎                  | 686 kB 15.0 MB/s eta 0:00:01\r\u001b[K     |█████████████▌                  | 696 kB 15.0 MB/s eta 0:00:01\r\u001b[K     |█████████████▊                  | 706 kB 15.0 MB/s eta 0:00:01\r\u001b[K     |█████████████▉                  | 716 kB 15.0 MB/s eta 0:00:01\r\u001b[K     |██████████████                  | 727 kB 15.0 MB/s eta 0:00:01\r\u001b[K     |██████████████▎                 | 737 kB 15.0 MB/s eta 0:00:01\r\u001b[K     |██████████████▌                 | 747 kB 15.0 MB/s eta 0:00:01\r\u001b[K     |██████████████▋                 | 757 kB 15.0 MB/s eta 0:00:01\r\u001b[K     |██████████████▉                 | 768 kB 15.0 MB/s eta 0:00:01\r\u001b[K     |███████████████                 | 778 kB 15.0 MB/s eta 0:00:01\r\u001b[K     |███████████████▎                | 788 kB 15.0 MB/s eta 0:00:01\r\u001b[K     |███████████████▌                | 798 kB 15.0 MB/s eta 0:00:01\r\u001b[K     |███████████████▋                | 808 kB 15.0 MB/s eta 0:00:01\r\u001b[K     |███████████████▉                | 819 kB 15.0 MB/s eta 0:00:01\r\u001b[K     |████████████████                | 829 kB 15.0 MB/s eta 0:00:01\r\u001b[K     |████████████████▎               | 839 kB 15.0 MB/s eta 0:00:01\r\u001b[K     |████████████████▍               | 849 kB 15.0 MB/s eta 0:00:01\r\u001b[K     |████████████████▋               | 860 kB 15.0 MB/s eta 0:00:01\r\u001b[K     |████████████████▉               | 870 kB 15.0 MB/s eta 0:00:01\r\u001b[K     |█████████████████               | 880 kB 15.0 MB/s eta 0:00:01\r\u001b[K     |█████████████████▎              | 890 kB 15.0 MB/s eta 0:00:01\r\u001b[K     |█████████████████▍              | 901 kB 15.0 MB/s eta 0:00:01\r\u001b[K     |█████████████████▋              | 911 kB 15.0 MB/s eta 0:00:01\r\u001b[K     |█████████████████▉              | 921 kB 15.0 MB/s eta 0:00:01\r\u001b[K     |██████████████████              | 931 kB 15.0 MB/s eta 0:00:01\r\u001b[K     |██████████████████▎             | 942 kB 15.0 MB/s eta 0:00:01\r\u001b[K     |██████████████████▍             | 952 kB 15.0 MB/s eta 0:00:01\r\u001b[K     |██████████████████▋             | 962 kB 15.0 MB/s eta 0:00:01\r\u001b[K     |██████████████████▉             | 972 kB 15.0 MB/s eta 0:00:01\r\u001b[K     |███████████████████             | 983 kB 15.0 MB/s eta 0:00:01\r\u001b[K     |███████████████████▏            | 993 kB 15.0 MB/s eta 0:00:01\r\u001b[K     |███████████████████▍            | 1.0 MB 15.0 MB/s eta 0:00:01\r\u001b[K     |███████████████████▋            | 1.0 MB 15.0 MB/s eta 0:00:01\r\u001b[K     |███████████████████▉            | 1.0 MB 15.0 MB/s eta 0:00:01\r\u001b[K     |████████████████████            | 1.0 MB 15.0 MB/s eta 0:00:01\r\u001b[K     |████████████████████▏           | 1.0 MB 15.0 MB/s eta 0:00:01\r\u001b[K     |████████████████████▍           | 1.1 MB 15.0 MB/s eta 0:00:01\r\u001b[K     |████████████████████▋           | 1.1 MB 15.0 MB/s eta 0:00:01\r\u001b[K     |████████████████████▉           | 1.1 MB 15.0 MB/s eta 0:00:01\r\u001b[K     |█████████████████████           | 1.1 MB 15.0 MB/s eta 0:00:01\r\u001b[K     |█████████████████████▏          | 1.1 MB 15.0 MB/s eta 0:00:01\r\u001b[K     |█████████████████████▍          | 1.1 MB 15.0 MB/s eta 0:00:01\r\u001b[K     |█████████████████████▋          | 1.1 MB 15.0 MB/s eta 0:00:01\r\u001b[K     |█████████████████████▉          | 1.1 MB 15.0 MB/s eta 0:00:01\r\u001b[K     |██████████████████████          | 1.1 MB 15.0 MB/s eta 0:00:01\r\u001b[K     |██████████████████████▏         | 1.1 MB 15.0 MB/s eta 0:00:01\r\u001b[K     |██████████████████████▍         | 1.2 MB 15.0 MB/s eta 0:00:01\r\u001b[K     |██████████████████████▋         | 1.2 MB 15.0 MB/s eta 0:00:01\r\u001b[K     |██████████████████████▉         | 1.2 MB 15.0 MB/s eta 0:00:01\r\u001b[K     |███████████████████████         | 1.2 MB 15.0 MB/s eta 0:00:01\r\u001b[K     |███████████████████████▏        | 1.2 MB 15.0 MB/s eta 0:00:01\r\u001b[K     |███████████████████████▍        | 1.2 MB 15.0 MB/s eta 0:00:01\r\u001b[K     |███████████████████████▋        | 1.2 MB 15.0 MB/s eta 0:00:01\r\u001b[K     |███████████████████████▊        | 1.2 MB 15.0 MB/s eta 0:00:01\r\u001b[K     |████████████████████████        | 1.2 MB 15.0 MB/s eta 0:00:01\r\u001b[K     |████████████████████████▏       | 1.2 MB 15.0 MB/s eta 0:00:01\r\u001b[K     |████████████████████████▍       | 1.3 MB 15.0 MB/s eta 0:00:01\r\u001b[K     |████████████████████████▋       | 1.3 MB 15.0 MB/s eta 0:00:01\r\u001b[K     |████████████████████████▊       | 1.3 MB 15.0 MB/s eta 0:00:01\r\u001b[K     |█████████████████████████       | 1.3 MB 15.0 MB/s eta 0:00:01\r\u001b[K     |█████████████████████████▏      | 1.3 MB 15.0 MB/s eta 0:00:01\r\u001b[K     |█████████████████████████▍      | 1.3 MB 15.0 MB/s eta 0:00:01\r\u001b[K     |█████████████████████████▌      | 1.3 MB 15.0 MB/s eta 0:00:01\r\u001b[K     |█████████████████████████▊      | 1.3 MB 15.0 MB/s eta 0:00:01\r\u001b[K     |██████████████████████████      | 1.3 MB 15.0 MB/s eta 0:00:01\r\u001b[K     |██████████████████████████▏     | 1.4 MB 15.0 MB/s eta 0:00:01\r\u001b[K     |██████████████████████████▍     | 1.4 MB 15.0 MB/s eta 0:00:01\r\u001b[K     |██████████████████████████▌     | 1.4 MB 15.0 MB/s eta 0:00:01\r\u001b[K     |██████████████████████████▊     | 1.4 MB 15.0 MB/s eta 0:00:01\r\u001b[K     |███████████████████████████     | 1.4 MB 15.0 MB/s eta 0:00:01\r\u001b[K     |███████████████████████████▏    | 1.4 MB 15.0 MB/s eta 0:00:01\r\u001b[K     |███████████████████████████▍    | 1.4 MB 15.0 MB/s eta 0:00:01\r\u001b[K     |███████████████████████████▌    | 1.4 MB 15.0 MB/s eta 0:00:01\r\u001b[K     |███████████████████████████▊    | 1.4 MB 15.0 MB/s eta 0:00:01\r\u001b[K     |████████████████████████████    | 1.4 MB 15.0 MB/s eta 0:00:01\r\u001b[K     |████████████████████████████▏   | 1.5 MB 15.0 MB/s eta 0:00:01\r\u001b[K     |████████████████████████████▎   | 1.5 MB 15.0 MB/s eta 0:00:01\r\u001b[K     |████████████████████████████▌   | 1.5 MB 15.0 MB/s eta 0:00:01\r\u001b[K     |████████████████████████████▊   | 1.5 MB 15.0 MB/s eta 0:00:01\r\u001b[K     |█████████████████████████████   | 1.5 MB 15.0 MB/s eta 0:00:01\r\u001b[K     |█████████████████████████████▏  | 1.5 MB 15.0 MB/s eta 0:00:01\r\u001b[K     |█████████████████████████████▎  | 1.5 MB 15.0 MB/s eta 0:00:01\r\u001b[K     |█████████████████████████████▌  | 1.5 MB 15.0 MB/s eta 0:00:01\r\u001b[K     |█████████████████████████████▊  | 1.5 MB 15.0 MB/s eta 0:00:01\r\u001b[K     |██████████████████████████████  | 1.5 MB 15.0 MB/s eta 0:00:01\r\u001b[K     |██████████████████████████████▏ | 1.6 MB 15.0 MB/s eta 0:00:01\r\u001b[K     |██████████████████████████████▎ | 1.6 MB 15.0 MB/s eta 0:00:01\r\u001b[K     |██████████████████████████████▌ | 1.6 MB 15.0 MB/s eta 0:00:01\r\u001b[K     |██████████████████████████████▊ | 1.6 MB 15.0 MB/s eta 0:00:01\r\u001b[K     |███████████████████████████████ | 1.6 MB 15.0 MB/s eta 0:00:01\r\u001b[K     |███████████████████████████████ | 1.6 MB 15.0 MB/s eta 0:00:01\r\u001b[K     |███████████████████████████████▎| 1.6 MB 15.0 MB/s eta 0:00:01\r\u001b[K     |███████████████████████████████▌| 1.6 MB 15.0 MB/s eta 0:00:01\r\u001b[K     |███████████████████████████████▊| 1.6 MB 15.0 MB/s eta 0:00:01\r\u001b[K     |████████████████████████████████| 1.6 MB 15.0 MB/s eta 0:00:01\r\u001b[K     |████████████████████████████████| 1.7 MB 15.0 MB/s \n",
            "\u001b[?25h  Installing build dependencies ... \u001b[?25l\u001b[?25hdone\n",
            "  Getting requirements to build wheel ... \u001b[?25l\u001b[?25hdone\n",
            "  Installing backend dependencies ... \u001b[?25l\u001b[?25hdone\n",
            "    Preparing wheel metadata ... \u001b[?25l\u001b[?25hdone\n",
            "Requirement already satisfied: future in /usr/local/lib/python3.7/dist-packages (from pyLDAvis) (0.16.0)\n",
            "Requirement already satisfied: numexpr in /usr/local/lib/python3.7/dist-packages (from pyLDAvis) (2.7.3)\n",
            "Collecting funcy\n",
            "  Downloading funcy-1.16-py2.py3-none-any.whl (32 kB)\n",
            "Requirement already satisfied: jinja2 in /usr/local/lib/python3.7/dist-packages (from pyLDAvis) (2.11.3)\n",
            "Requirement already satisfied: joblib in /usr/local/lib/python3.7/dist-packages (from pyLDAvis) (1.1.0)\n",
            "Collecting pandas>=1.2.0\n",
            "  Downloading pandas-1.3.4-cp37-cp37m-manylinux_2_17_x86_64.manylinux2014_x86_64.whl (11.3 MB)\n",
            "\u001b[K     |████████████████████████████████| 11.3 MB 45.5 MB/s \n",
            "\u001b[?25hRequirement already satisfied: sklearn in /usr/local/lib/python3.7/dist-packages (from pyLDAvis) (0.0)\n",
            "Requirement already satisfied: scipy in /usr/local/lib/python3.7/dist-packages (from pyLDAvis) (1.4.1)\n",
            "Requirement already satisfied: scikit-learn in /usr/local/lib/python3.7/dist-packages (from pyLDAvis) (1.0.1)\n",
            "Collecting numpy>=1.20.0\n",
            "  Downloading numpy-1.21.4-cp37-cp37m-manylinux_2_12_x86_64.manylinux2010_x86_64.whl (15.7 MB)\n",
            "\u001b[K     |████████████████████████████████| 15.7 MB 42.4 MB/s \n",
            "\u001b[?25hRequirement already satisfied: setuptools in /usr/local/lib/python3.7/dist-packages (from pyLDAvis) (57.4.0)\n",
            "Requirement already satisfied: gensim in /usr/local/lib/python3.7/dist-packages (from pyLDAvis) (3.6.0)\n",
            "Requirement already satisfied: pytz>=2017.3 in /usr/local/lib/python3.7/dist-packages (from pandas>=1.2.0->pyLDAvis) (2018.9)\n",
            "Requirement already satisfied: python-dateutil>=2.7.3 in /usr/local/lib/python3.7/dist-packages (from pandas>=1.2.0->pyLDAvis) (2.8.2)\n",
            "Requirement already satisfied: six>=1.5 in /usr/local/lib/python3.7/dist-packages (from python-dateutil>=2.7.3->pandas>=1.2.0->pyLDAvis) (1.15.0)\n",
            "Requirement already satisfied: smart-open>=1.2.1 in /usr/local/lib/python3.7/dist-packages (from gensim->pyLDAvis) (5.2.1)\n",
            "Requirement already satisfied: MarkupSafe>=0.23 in /usr/local/lib/python3.7/dist-packages (from jinja2->pyLDAvis) (2.0.1)\n",
            "Requirement already satisfied: threadpoolctl>=2.0.0 in /usr/local/lib/python3.7/dist-packages (from scikit-learn->pyLDAvis) (3.0.0)\n",
            "Building wheels for collected packages: pyLDAvis\n",
            "  Building wheel for pyLDAvis (PEP 517) ... \u001b[?25l\u001b[?25hdone\n",
            "  Created wheel for pyLDAvis: filename=pyLDAvis-3.3.1-py2.py3-none-any.whl size=136897 sha256=74ffe0d01410aef23337c770e0fc6dd3a72916cb6887a96c27d656dd618c0f34\n",
            "  Stored in directory: /root/.cache/pip/wheels/c9/21/f6/17bcf2667e8a68532ba2fbf6d5c72fdf4c7f7d9abfa4852d2f\n",
            "Successfully built pyLDAvis\n",
            "Installing collected packages: numpy, pandas, funcy, pyLDAvis\n",
            "  Attempting uninstall: numpy\n",
            "    Found existing installation: numpy 1.19.5\n",
            "    Uninstalling numpy-1.19.5:\n",
            "      Successfully uninstalled numpy-1.19.5\n",
            "  Attempting uninstall: pandas\n",
            "    Found existing installation: pandas 1.1.5\n",
            "    Uninstalling pandas-1.1.5:\n",
            "      Successfully uninstalled pandas-1.1.5\n",
            "\u001b[31mERROR: pip's dependency resolver does not currently take into account all the packages that are installed. This behaviour is the source of the following dependency conflicts.\n",
            "yellowbrick 1.3.post1 requires numpy<1.20,>=1.16.0, but you have numpy 1.21.4 which is incompatible.\n",
            "google-colab 1.0.0 requires pandas~=1.1.0; python_version >= \"3.0\", but you have pandas 1.3.4 which is incompatible.\n",
            "datascience 0.10.6 requires folium==0.2.1, but you have folium 0.8.3 which is incompatible.\n",
            "albumentations 0.1.12 requires imgaug<0.2.7,>=0.2.5, but you have imgaug 0.2.9 which is incompatible.\u001b[0m\n",
            "Successfully installed funcy-1.16 numpy-1.21.4 pandas-1.3.4 pyLDAvis-3.3.1\n"
          ]
        },
        {
          "output_type": "display_data",
          "data": {
            "application/vnd.colab-display-data+json": {
              "pip_warning": {
                "packages": [
                  "numpy",
                  "pandas"
                ]
              }
            }
          },
          "metadata": {}
        }
      ]
    },
    {
      "cell_type": "code",
      "metadata": {
        "colab": {
          "base_uri": "https://localhost:8080/"
        },
        "id": "XHy99AA5ybY4",
        "outputId": "d77a4554-1c29-4b84-8d4d-3ab27133fc0d"
      },
      "source": [
        "import pyLDAvis.sklearn  \n",
        "\n",
        "pyLDAvis.enable_notebook()"
      ],
      "execution_count": 38,
      "outputs": [
        {
          "output_type": "stream",
          "name": "stderr",
          "text": [
            "/usr/local/lib/python3.7/dist-packages/past/types/oldstr.py:5: DeprecationWarning: Using or importing the ABCs from 'collections' instead of from 'collections.abc' is deprecated since Python 3.3,and in 3.9 it will stop working\n",
            "  from collections import Iterable\n"
          ]
        }
      ]
    },
    {
      "cell_type": "code",
      "metadata": {
        "colab": {
          "base_uri": "https://localhost:8080/",
          "height": 393
        },
        "id": "hdaiO0Rmz8ni",
        "outputId": "de074db9-7715-48e0-d14f-b022abebc872"
      },
      "source": [
        "!pip install --upgrade pandas==1.2"
      ],
      "execution_count": 39,
      "outputs": [
        {
          "output_type": "stream",
          "name": "stdout",
          "text": [
            "Collecting pandas==1.2\n",
            "  Downloading pandas-1.2.0-cp37-cp37m-manylinux1_x86_64.whl (9.9 MB)\n",
            "\u001b[K     |████████████████████████████████| 9.9 MB 11.8 MB/s \n",
            "\u001b[?25hRequirement already satisfied: pytz>=2017.3 in /usr/local/lib/python3.7/dist-packages (from pandas==1.2) (2018.9)\n",
            "Requirement already satisfied: numpy>=1.16.5 in /usr/local/lib/python3.7/dist-packages (from pandas==1.2) (1.21.4)\n",
            "Requirement already satisfied: python-dateutil>=2.7.3 in /usr/local/lib/python3.7/dist-packages (from pandas==1.2) (2.8.2)\n",
            "Requirement already satisfied: six>=1.5 in /usr/local/lib/python3.7/dist-packages (from python-dateutil>=2.7.3->pandas==1.2) (1.15.0)\n",
            "Installing collected packages: pandas\n",
            "  Attempting uninstall: pandas\n",
            "    Found existing installation: pandas 1.3.4\n",
            "    Uninstalling pandas-1.3.4:\n",
            "      Successfully uninstalled pandas-1.3.4\n",
            "\u001b[31mERROR: pip's dependency resolver does not currently take into account all the packages that are installed. This behaviour is the source of the following dependency conflicts.\n",
            "google-colab 1.0.0 requires pandas~=1.1.0; python_version >= \"3.0\", but you have pandas 1.2.0 which is incompatible.\u001b[0m\n",
            "Successfully installed pandas-1.2.0\n"
          ]
        },
        {
          "output_type": "display_data",
          "data": {
            "application/vnd.colab-display-data+json": {
              "pip_warning": {
                "packages": [
                  "pandas"
                ]
              }
            }
          },
          "metadata": {}
        }
      ]
    },
    {
      "cell_type": "code",
      "metadata": {
        "colab": {
          "base_uri": "https://localhost:8080/",
          "height": 918
        },
        "id": "bydbQTt90AFx",
        "outputId": "84704c78-4661-408d-c3a6-9ec6016d0353"
      },
      "source": [
        "vis = pyLDAvis.sklearn.prepare(lda, feat_vect, count_vectorizer)\n",
        "pyLDAvis.display(vis)"
      ],
      "execution_count": 40,
      "outputs": [
        {
          "output_type": "stream",
          "name": "stderr",
          "text": [
            "/usr/local/lib/python3.7/dist-packages/sklearn/utils/deprecation.py:87: FutureWarning: Function get_feature_names is deprecated; get_feature_names is deprecated in 1.0 and will be removed in 1.2. Please use get_feature_names_out instead.\n",
            "  warnings.warn(msg, category=FutureWarning)\n"
          ]
        },
        {
          "output_type": "execute_result",
          "data": {
            "text/html": [
              "\n",
              "<link rel=\"stylesheet\" type=\"text/css\" href=\"https://cdn.jsdelivr.net/gh/bmabey/pyLDAvis@3.3.1/pyLDAvis/js/ldavis.v1.0.0.css\">\n",
              "\n",
              "\n",
              "<div id=\"ldavis_el611398649886161445837955973\"></div>\n",
              "<script type=\"text/javascript\">\n",
              "\n",
              "var ldavis_el611398649886161445837955973_data = {\"mdsDat\": {\"x\": [0.006074353467342917, -0.029452544564912475, -0.018877440198354262, -0.3116330462018955, -0.05868469670459672, -0.015006376125393432, 0.1837337838305514, 0.24384596649725815], \"y\": [-0.053446033979283936, -0.16794933222924227, -0.009276936165219168, 0.23482876875814646, -0.1731310256099616, -0.08102107109888151, 0.06576047766545333, 0.18423515265898882], \"topics\": [1, 2, 3, 4, 5, 6, 7, 8], \"cluster\": [1, 1, 1, 1, 1, 1, 1, 1], \"Freq\": [17.633250444379144, 15.43917349559209, 14.38097000244842, 13.379761737943467, 11.622643231627793, 9.68912133194718, 9.212241113870496, 8.642838642191421]}, \"tinfo\": {\"Term\": [\"\\uc591\\uad81\", \"\\uc5ec\\uc790\", \"\\uc0ac\\uc7a5\", \"\\uc0ac\\uacfc\", \"\\uc911\\uacc4\", \"\\uce58\\ub8cc\", \"\\uc548\\uc0b0\", \"\\uc131\\uc81c\", \"\\ucd95\\uad6c\", \"\\uc131\\uc81c \\uc0ac\\uc7a5\", \"\\ub274\\uc2a4\", \"\\ub300\\ud45c\\ud300\", \"\\ud658\\uc790\", \"\\uc758\\ub8cc\", \"\\ubcd1\\uc6d0\", \"\\ub0a8\\uc790\", \"\\ucd9c\\uc5f0\", \"\\uc9c4\\uc790\", \"\\ub300\\ud1b5\\ub839\", \"\\ub77c\\uc6b4\\ub4dc\", \"\\uadf8\\ub8f9\", \"\\ud68c\\uc7a5\", \"\\uac74\\uac15\", \"\\uc790\\ub9c9\", \"\\ub7ad\\ud0b9\", \"\\uc0ac\\uacfc \\ud558\\ub2e4\", \"\\ub300\\ud68c\", \"\\ucd9c\\uc5f0 \\ud558\\ub2e4\", \"\\uac1c\\ub9c9\\uc2dd\", \"\\uc575\\ucee4\", \"\\uc9c4\\uc790\", \"\\uad6d\\ub9bd\\uacbd\\uae30\\uc7a5\", \"\\uc2e0\\uc885\", \"\\uc2e0\\uaddc \\uc9c4\\uc790\", \"\\uac10\\uc5fc\\uc99d \\ucf54\\ub85c\\ub098\", \"\\uac10\\uc5fc\\uc99d\", \"\\ucf54\\ub85c\\ub098\\ubc14\\uc774\\ub7ec\\uc2a4\", \"\\ucf54\\ub85c\\ub098\\ubc14\\uc774\\ub7ec\\uc2a4 \\uac10\\uc5fc\\uc99d\", \"\\uc2e0\\uc885 \\ucf54\\ub85c\\ub098\\ubc14\\uc774\\ub7ec\\uc2a4\", \"\\ud0dc\\ud48d\", \"\\uc2e0\\uc8fc\\ucfe0\", \"\\uac1c\\ub9c9 \\ud558\\ub2e4\", \"\\ub3c4\\ucfc4 \\uc2e0\\uc8fc\\ucfe0\", \"\\uc870\\uc9c1\", \"\\uc2e0\\uc8fc\\ucfe0 \\uad6d\\ub9bd\\uacbd\\uae30\\uc7a5\", \"\\ucd95\\uc81c\", \"\\uc2e0\\uaddc\", \"\\uc9d1\\uacc4\", \"\\uc870\\uc9c1 \\uc704\\uc6d0\\ud68c\", \"\\uce58\\ub974\\ub2e4\", \"\\ucf54\\ub85c\\ub098 \\uc2e0\\uaddc\", \"\\uad6d\\ub9bd\\uacbd\\uae30\\uc7a5 \\uc5f4\\ub9ac\\ub2e4\", \"\\uc6b0\\uc5ec\\uace1\\uc808\", \"\\uc62c\\ub9bc\\ud53d \\uc2a4\\ud0c0\\ub514\\uc6c0\", \"\\ub354\\uc704\", \"\\uc5f4\\uc804\", \"\\uc5f0\\uae30 \\ub418\\ub2e4\", \"\\ub3cc\\uc785\", \"\\uc77c\\ubcf8 \\ucf54\\ub85c\\ub098\", \"\\ub3c4\\ucfc4\\ub3c4\", \"\\ucf54\\ub85c\\ub098 \\uc9c4\\uc790\", \"\\ucf54\\ub85c\\ub098 \\ud655\\uc0b0\", \"\\ud3b8\\uc758\\uc810\", \"\\uac1c\\ucd5c\", \"\\ubb34\\uad00\", \"\\ud655\\uc0b0\", \"\\ub9e4\\ucd9c\", \"\\uac10\\uc5fc\", \"\\ub300\\ud68c\", \"\\ubd84\\uc704\\uae30\", \"\\ud558\\ub8e8\", \"\\uac1c\\ub9c9\\uc2dd\", \"\\uc77c\\ubcf8 \\ub3c4\\ucfc4\", \"\\uc2dc\\uc791\", \"\\ub3c4\\ucfc4\\uc62c\\ub9bc\\ud53d \\uac1c\\ub9c9\", \"\\uc624\\ub298\", \"\\uc6b0\\ub824\", \"\\uc774\\ubc88\", \"\\uac00\\uc6b4\\ub370\", \"\\uc2a4\\ud3ec\\uce20\", \"\\ub3c4\\ucfc4\\uc62c\\ub9bc\\ud53d \\uac1c\\ub9c9\\uc2dd\", \"\\uac1c\\ud68c\", \"\\uc138\\uacc4\", \"\\uce58\\ub8cc\", \"\\ud658\\uc790\", \"\\ubcd1\\uc6d0\", \"\\ub274\\uc9c8\\ub79c\\ub4dc\", \"\\uc9c4\\ub8cc\", \"\\uc758\\ub8cc\", \"\\ucd95\\uad6c \\ub300\\ud45c\\ud300\", \"\\ub9ac\\uadf8\", \"\\uac08\\ub2e4\", \"\\uac08\\ub2e4 \\uc2a4\\ud0c0\\ub514\\uc6c0\", \"\\ub9ac\\uadf8 \\ucc28\\ub2e4\", \"\\uc2a4\\ud0c0\\ub514\\uc6c0 \\uc5f4\\ub9ac\\ub2e4\", \"\\uce58\\ub8cc \\ud558\\ub2e4\", \"\\ub3d9\\uacbd\", \"\\uc9c8\\ubcd1 \\uce58\\ub8cc\", \"\\uae40\\ud559\\ubc94\", \"\\uc694\\uc591\", \"\\uc774\\ubc14\\ub77c\\ud0a4\\ud604\", \"\\ubcf4\\uac74\\uc18c\", \"\\uc0c1\\ub300 \\uc120\\uc218\", \"\\uc545\\uc218\", \"\\ubcf4\\ud5d8\", \"\\ubc1c\\uacac\", \"\\ubb34\\ub8cc\", \"\\ud328\\ubc30\", \"\\uc77c\\ubcf8 \\uc774\\ubc14\\ub77c\\ud0a4\\ud604\", \"\\ucd95\\uad6c \\ub9ac\\uadf8\", \"\\uc120\\ucc9c\\uc131\", \"\\uc870\\uae30\", \"\\uac10\\ub3c5 \\uc774\\ub04c\\ub2e4\", \"\\uad00\\ub9ac\", \"\\uc2e4\\uc2dc\", \"\\uc9c4\\ub2e8\", \"\\ucd95\\uad6c\", \"\\uae30\\uad00\", \"\\uac74\\uac15\", \"\\uacbd\\uc6b0\", \"\\uc778\\uc815\", \"\\uac80\\uc0ac\", \"\\ubcf4\\uac74\", \"\\ucc28\\ub2e4\", \"\\uc774\\uc0c1\", \"\\ub0a8\\uc790 \\ucd95\\uad6c\", \"\\ub300\\uc0c1\", \"\\uc0c1\\ub300\", \"\\uc9c8\\ud658\", \"\\ub300\\ud45c\\ud300\", \"\\uc704\\ud574\", \"\\ub0a8\\uc790\", \"\\ud558\\ub2e4 \\ud558\\ub2e4\", \"\\uc0ac\\uc5c5\", \"\\ub54c\\ubb38\", \"\\ub9ce\\ub2e4\", \"\\ucd9c\\uc804\", \"\\ub300\\ud55c\", \"\\uae40\\uc5f0\\uacbd\", \"\\ub7f0\\ub2dd\\ub9e8\", \"\\ud76c\\uadf9\\uc778\", \"\\uc99d\\uc2dc\", \"\\uba64\\ubc84\", \"\\uc2dc\\uccad\\ub960\", \"\\uccb4\\uc721\\ud68c\", \"\\uace8\\ud504\", \"\\ud504\\ub791\\uc2a4\", \"\\uc774\\uad11\\uc218\", \"\\ub808\\uc774\\uc2a4\", \"\\uacb0\\uc815\", \"\\ud0dc\\uad8c\\ub3c4\", \"\\ud2b8\\uc704\\ud130\", \"\\uc9c0\\uc0c1\\ud30c\", \"\\uc5d0\\ube44\\uc559\", \"\\uc0ac\\uaca9\", \"\\ub0a8\\ubd81\", \"\\uacf5\\uc0ac\", \"\\ub3c4\\uc2dc\\ub77d\", \"\\uad6d\\uc81c\\uc62c\\ub9bc\\ud53d\\uc704\\uc6d0\\ud68c\", \"\\uc2a4\\ud1a0\", \"\\ub3c5\\ub3c4\", \"\\ubd81\\ud55c\", \"\\uce58\\uc5f4\\ud558\\ub2e4\", \"\\ubc29\\uc1a1\\uc0ac\", \"\\uac10\\ub3d9\", \"\\ubc84\\uc2a4\", \"\\uc218\\uc81c \\ub9e5\\uc8fc\", \"\\uc218\\uc81c\", \"\\uc57c\\uad6c\", \"\\ubc30\\uad6c\", \"\\uae30\\uc220\", \"\\uacb0\\ubc29\", \"\\uc0ac\\uc9c4\", \"\\uc62c\\ub9ac\\ub2e4\", \"\\uc120\\uc218\\ub2e8\", \"\\uacf5\\uac1c\", \"\\uc9c4\\ud589\", \"\\uc624\\ub2e4\", \"\\uc9c4\\ud589 \\ub418\\ub2e4\", \"\\uc790\\uc2e0\", \"\\uac19\\ub2e4\", \"\\uac1c\\ub9c9\\uc2dd\", \"\\uc911\\uacc4\", \"\\uc138\\uacc4\", \"\\uc785\\uc7a5\", \"\\ubbf8\\uad6d\", \"\\uac00\\uc6b4\\ub370\", \"\\uc751\\uc6d0\", \"\\ub300\\ud55c\\ubbfc\\uad6d\", \"\\uc774\\ubc88\", \"\\ubc29\\uc1a1 \\ub418\\ub2e4\", \"\\uc885\\ubaa9\", \"\\uc704\\ud574\", \"\\uc0ac\\uacfc\", \"\\uc131\\uc81c\", \"\\uc131\\uc81c \\uc0ac\\uc7a5\", \"\\uc0ac\\uacfc \\ud558\\ub2e4\", \"\\uae30\\uc790\\ud68c\\uacac\", \"\\uc0c1\\uc554\\ub3d9\", \"\\ub300\\uad6d\\ubbfc\", \"\\ub9c8\\ud3ec\\uad6c\", \"\\ub300\\uad6d\\ubbfc \\uc0ac\\uacfc\", \"\\ub9c8\\ud3ec\\uad6c \\uc0c1\\uc554\\ub3d9\", \"\\uae30\\uc790\\ud68c\\uacac \\uc5f4\\ub2e4\", \"\\uc11c\\uc6b8 \\ub9c8\\ud3ec\\uad6c\", \"\\uc0ac\\uc7a5 \\ub3c4\\ucfc4\\uc62c\\ub9bc\\ud53d\", \"\\ud6fc\\uc190\", \"\\ubd80\\uc801\\uc808\\ud558\\ub2e4\", \"\\uc62c\\ub9bc\\ud53d \\uc815\\uc2e0\", \"\\ubc29\\uc1a1\\uc0ac\\uace0\", \"\\ud6fc\\uc190 \\ud558\\ub2e4\", \"\\uac1c\\ud68c \\uc911\\uacc4\", \"\\uc219\\uc774\\ub2e4\", \"\\ubc8c\\uc5b4\\uc9c0\\ub2e4\", \"\\uc9c0\\uad6c\\uc778\", \"\\ud558\\ub2e4 \\uc0ac\\uc7a5\", \"\\uaca9\\ub9ac\", \"\\ub3c4\\ucfc4\\uc62c\\ub9bc\\ud53d \\uc911\\uacc4\", \"\\uc0ac\\uacfc \\uae30\\uc790\\ud68c\\uacac\", \"\\ud654\\ud569\", \"\\uc790\\uac00\", \"\\uc790\\uac00 \\uaca9\\ub9ac\", \"\\uc5f0\\ub300 \\ud654\\ud569\", \"\\uc0ac\\uc7a5\", \"\\uc790\\ub9c9\", \"\\ud310\\uc815 \\ubc1b\\ub2e4\", \"\\uc720\\uc7ac\\uc11d\", \"\\uc911\\uacc4\", \"\\uc0ac\\uc6a9 \\ud558\\ub2e4\", \"\\uc5f4\\ub2e4\", \"\\ud310\\uc815\", \"\\uc0ac\\uc6a9\", \"\\ub17c\\ub780\", \"\\ub3c4\\ucfc4\\uc62c\\ub9bc\\ud53d \\uac1c\\ud68c\", \"\\ub300\\ud574\", \"\\uac1c\\ud68c\", \"\\uc11c\\uc6b8\", \"\\uc811\\uc885\", \"\\ubc31\\uc2e0\", \"\\ud68c\\ubcf5\", \"\\uc815\\ud655\\ud558\\ub2e4\", \"\\ubc31\\uc2e0 \\uc811\\uc885\", \"\\ubc14\\ub77c\\ub2e4\", \"\\ubcf4\\uc88c\", \"\\ubcf4\\uc88c \\ud68c\\uc758\", \"\\ud754\\ud558\\ub2e4\", \"\\ub300\\ud1b5\\ub839 \\uccad\\uc640\\ub300\", \"\\uae30\\uc628\", \"\\uc2ec\\uc7a5\", \"\\uc2e4\\uc218\", \"\\uadf8\\ub798\\ud53d\", \"\\ucd95\\uad6c \\uc911\\uacc4\", \"\\ucc28\\uc774 \\uc788\\ub2e4\", \"\\ubc29\\uc1a1 \\ub0b4\\uc6a9\", \"\\ud558\\ub2e4 \\ubc14\\ub77c\\ub2e4\", \"\\uc544\\ub798\", \"\\uc2e4\\uc81c \\ubc29\\uc1a1\", \"\\uc788\\ub2e4 \\uc788\\ub2e4\", \"\\uc8fc\\uc7ac\", \"\\uc2e4\\uc2dc \\ud558\\ub2e4\", \"\\uc790\\ub9c9 \\uc0ac\\uace0\", \"\\uccad\\uc640\\ub300\", \"\\ucc28\\uc774\", \"\\uae30\\ub2a5\", \"\\uae30\\uc0ac\", \"\\ud655\\uc778 \\ud558\\ub2e4\", \"\\uc0c1\\ucc98\", \"\\uc6d0\\uc778\", \"\\uac00\\uaca9\", \"\\ub0b4\\uc6a9\", \"\\ubb38\\uc7ac\\uc778 \\ub300\\ud1b5\\ub839\", \"\\ud655\\uc778\", \"\\uc575\\ucee4\", \"\\ubb38\\uc7ac\\uc778\", \"\\ub300\\ud1b5\\ub839\", \"\\ud68c\\uc758\", \"\\uc815\\ub3c4\", \"\\uc2e4\\uc81c\", \"\\ub300\\ud55c\", \"\\ubcf4\\ub2e4\", \"\\ubcf4\\ub3c4\", \"\\uc778\\ud558\\ub2e4\", \"\\uc774\\ub974\\ub2e4\", \"\\ucd5c\\uadfc\", \"\\ub098\\uc624\\ub2e4\", \"\\uad6d\\ubbfc\", \"\\uc9c8\\ud658\", \"\\uc804\\uc790\", \"\\uad00\\ub828\", \"\\ub9ce\\ub2e4\", \"\\ud558\\ub2e4 \\uc788\\ub2e4\", \"\\uc9c4\\ud589\", \"\\uad00\\uc2ec\", \"\\uc544\\ub2c8\\ub2e4\", \"\\uac19\\ub2e4\", \"\\ub4e4\\ub2e4\", \"\\ub098\\ud0c0\\ub098\\ub2e4\", \"\\uc774\\ubc88\", \"\\ucd1d\\ub9ac\", \"\\uac70\\ub9ac \\ub450\\uae30\", \"\\ub450\\uae30\", \"\\ubc14\\uc774\\ub4e0\", \"\\ub140\\uc11d\", \"\\ub450\\uae30 \\ub2e8\\uacc4\", \"\\ucc38\\uc11d \\ud558\\ub2e4\", \"\\uc77c\\ubcf8 \\ucd1d\\ub9ac\", \"\\uc0ac\\ud68c \\uac70\\ub9ac\", \"\\ub2f9\\ub098\\uadc0\", \"\\ud788\\ub370\", \"\\ubbf8\\uad6d \\ub300\\ud1b5\\ub839\", \"\\uc0ac\\ube0c\\ub974\", \"\\uc548\\ucc3d\\ub9bc\", \"\\ubc09\\ub2e4\", \"\\ucc38\\uc11d\", \"\\uc5ec\\uc0ac\", \"\\ub0a8\\uc790 \\uc0ac\\ube0c\\ub974\", \"\\ud39c\\uc2f1 \\ub0a8\\uc790\", \"\\ub9db\\uc788\\ub2e4\", \"\\ud788\\ub370 \\uc77c\\ubcf8\", \"\\ub9db\\uc788\\ub2e4 \\ub140\\uc11d\", \"\\uceec\\ub9ac\", \"\\ub2e4\\ud589\", \"\\uc815\\ucc45\", \"\\uc778\\uc0ac\", \"\\uc0ac\\ud68c\", \"\\ud761\\uc5f0\", \"\\ud39c\\uc2f1\", \"\\uad6d\\ud68c\", \"\\ub2e8\\uacc4\", \"\\uac70\\ub9ac\", \"\\uc815\\uc0c1\", \"\\ubbf8\\uad6d\", \"\\uc758\\uc6d0\", \"\\uc815\\ubd80\", \"\\ub300\\ud45c\", \"\\uc720\\ub3c4\", \"\\uc870\\uce58\", \"\\ub300\\ud1b5\\ub839\", \"\\uad6d\\ubbfc\", \"\\uc608\\ub2a5\", \"\\ub0a8\\uc790\", \"\\uad50\\uc218\", \"\\ud504\\ub85c\\uadf8\\ub7a8\", \"\\uc99d\\uac00\", \"\\ub2e4\\uc74c\", \"\\ud604\\uc9c0\", \"\\uc608\\ub2a5 \\ud504\\ub85c\\uadf8\\ub7a8\", \"\\uadf8\\ub8f9\", \"\\ud68c\\uc7a5\", \"\\ub300\\uc120\", \"\\uadf8\\ub8f9 \\ud68c\\uc7a5\", \"\\uc815\\uc758\\uc120\", \"\\uacbd\\uc120\", \"\\ub354\\ubd88\\ub2e4\", \"\\uad70\\uccad\", \"\\uc790\\ub3d9\\ucc28 \\uadf8\\ub8f9\", \"\\ub354\\ubd88\\ub2e4 \\ubbfc\\uc8fc\\ub2f9\", \"\\ud604\\ub300\\ucc28 \\uadf8\\ub8f9\", \"\\ud45c\\ucc3d\\uc6d0\", \"\\uac24\\ub7ed\\uc2dc \\uc6cc\\uce58\", \"\\uc6cc\\uce58\", \"\\ud611\\ud68c\\uc7a5\", \"\\ub274\\uc2a4 \\ucd9c\\uc5f0\", \"\\ub274\\uc2a4 \\ud558\\uc774\\ud0a5\", \"\\ud558\\uc774\\ud0a5\", \"\\uc5c4\\uc9c0\\uc6d0\", \"\\uce74\\uce74\\uc624 \\ucc44\\ub110\", \"\\uace8\\ubaa9\", \"\\uc2dc\\uc810\", \"\\uc804\\uc9c0\", \"\\uc804\\uc9c0 \\ucc38\\uacac\", \"\\ucc38\\uacac\", \"\\ucc38\\uacac \\uc2dc\\uc810\", \"\\ucc44\\ub110 \\uad70\\uccad\", \"\\ub274\\uc2a4\", \"\\uc548\\uc0b0 \\uc120\\uc218\", \"\\uc591\\uad81 \\uad00\\uc655\", \"\\uc790\\ub3d9\\ucc28\", \"\\ubbfc\\uc8fc\\ub2f9\", \"\\ud604\\ub300\\ucc28\", \"\\ucd9c\\uc5f0 \\ud558\\ub2e4\", \"\\ucd9c\\uc5f0\", \"\\uc548\\uc0b0\", \"\\ud6c4\\ubcf4\", \"\\uc591\\uad81\", \"\\ub9e1\\ub2e4\", \"\\uad00\\uc655\", \"\\uce74\\uce74\\uc624\", \"\\ubc29\\uc1a1 \\ub418\\ub2e4\", \"\\uc608\\ub2a5\", \"\\ud504\\ub85c\\uadf8\\ub7a8\", \"\\uc608\\ub2a5 \\ud504\\ub85c\\uadf8\\ub7a8\", \"\\uae08\\uba54\\ub2ec\", \"\\ubc30\\uc6b0\", \"\\ub77c\\uc6b4\\ub4dc\", \"\\ub7ad\\ud0b9\", \"\\ub7ad\\ud0b9 \\ub77c\\uc6b4\\ub4dc\", \"\\ub9c9\\ub0b4\", \"\\uba54\\ub2e4\", \"\\uc5ec\\uc790 \\uc591\\uad81\", \"\\ub3c4\\ucfc4 \\uba54\\ub2e4\", \"\\ub300\\ud45c\\ud300 \\ub9c9\\ub0b4\", \"\\uacf5\\uc6d0\", \"\\ub3c4\\ucfc4\\uc62c\\ub9bc\\ud53d \\uc5ec\\uc790\", \"\\uc591\\uad81 \\uc5f4\\ub9ac\\ub2e4\", \"\\uacf5\\uc6d0 \\uc591\\uad81\", \"\\uba54\\ub2e4 \\uacf5\\uc6d0\", \"\\ud55c\\uad6d \\uc5ec\\uc790\", \"\\ud39c\\ud2b8\\ud558\\uc6b0\\uc2a4\", \"\\ucd94\\ucca8\", \"\\ub9c9\\ub0b4 \\uc548\\uc0b0\", \"\\uc3d8\\ub2e4\", \"\\ucd5c\\uac15\", \"\\ucc28\\uc9c0 \\ud558\\ub2e4\", \"\\uc21c\\uc704\", \"\\uc5f0\\ud328\", \"\\ud558\\ub8e8 \\uc55e\\ub450\\ub2e4\", \"\\ud63c\\uc131\", \"\\uac1c\\uc778 \\uc608\\uc120\", \"\\uc5ec\\uc790 \\uac1c\\uc778\", \"\\ubd81\\uc77c\\uace0\", \"\\uc5ec\\uc790\", \"\\uc608\\uc120 \\ub7ad\\ud0b9\", \"\\uae40\\uc81c \\ubd81\\uc77c\\uace0\", \"\\uccb4\\uc804\", \"\\uc548\\uc0b0 \\uad11\\uc8fc\", \"\\uae40\\uc81c\", \"\\uad11\\uc8fc\", \"\\uad11\\uc8fc \\uc5ec\\ub300\", \"\\uc5ec\\ub300\", \"\\uc591\\uad81\", \"\\ucc28\\uc9c0\", \"\\uac1c\\uc778\", \"\\ub3c4\\uc804\", \"\\ub300\\ud45c\\ud300\", \"\\uae08\\uba54\\ub2ec\", \"\\uc548\\uc0b0\", \"\\ub0a8\\uc790\", \"\\ucd9c\\uc804\", \"\\uc138\\uacc4\", \"\\ud55c\\uad6d \\uc591\\uad81\", \"\\uc77c\\ubcf8 \\ub3c4\\ucfc4\"], \"Freq\": [239.0, 114.0, 123.0, 104.0, 164.0, 100.0, 98.0, 77.0, 111.0, 75.0, 64.0, 134.0, 74.0, 74.0, 71.0, 133.0, 87.0, 73.0, 91.0, 47.0, 49.0, 49.0, 95.0, 61.0, 44.0, 54.0, 92.0, 56.0, 111.0, 87.0, 72.87926389718527, 42.243546770559405, 44.02485669980969, 36.49943374697085, 36.490761958810054, 42.07700069459463, 40.121506890816505, 39.14016862304324, 39.140134544486514, 29.79788722945791, 25.968405064996166, 54.55268415678574, 23.096302445075032, 23.096055827550046, 22.13898927163706, 22.13878859232339, 46.063529225092594, 18.3092609775984, 17.35212275058809, 17.351751359243085, 16.39477578044314, 16.394729366765898, 16.394510474141338, 15.437387482636549, 15.437076870757156, 13.522700632024645, 13.52269876291948, 13.522395097109372, 12.565352742803265, 12.565337998351936, 15.232259385387835, 31.784148178240898, 29.05510332403794, 47.0534964356146, 32.86424817657645, 43.673516918047405, 35.638292917725906, 46.367967084228205, 69.87763765062975, 28.89738811099351, 38.53456199829459, 70.31985776318923, 52.84067837347588, 55.341994524772474, 41.49320733325649, 55.94406595041442, 26.93916496800405, 46.235641979919805, 39.48989195365193, 36.01694898034065, 31.503164985771523, 35.493073372179964, 34.936848128653004, 99.98071031305943, 74.11847398327657, 70.19162697858529, 45.28803416821094, 40.48293492906763, 72.43538113455058, 31.833674710360814, 29.9116131680394, 28.95037139637152, 22.22356249595653, 21.262549030194023, 20.301527217584177, 20.301326185568517, 19.340489269909483, 19.340455544322307, 18.37950652464071, 21.13825458839686, 16.457453948251036, 16.45741063501339, 16.456632786992426, 15.496441457107828, 15.496425303905202, 15.496385993081402, 15.496309473478023, 14.535424457057783, 14.535418307344823, 14.535393876843052, 14.535391596065402, 13.574366173404924, 12.613380798608826, 31.412680180375617, 31.355799825760364, 33.64555341883797, 92.5591286728479, 25.921017989735528, 76.40239637622777, 64.67573594531746, 22.61478189383344, 49.404028481923, 18.339788661473236, 28.928231971160983, 48.932089398031984, 31.834767480288086, 24.37072030802446, 26.301657168390573, 37.056019722018114, 48.033358824025996, 39.91714561042683, 42.575377300199214, 31.251832852128405, 24.764300400388848, 27.69996582105988, 27.76599907668788, 26.580152652454665, 26.63692998179579, 27.813756644076953, 26.859041061219273, 26.859038657159577, 21.128950697525454, 21.12894985883966, 21.06505346414136, 17.308392867218334, 16.3539363055214, 16.353517093362495, 15.399186288855056, 15.399044688539748, 15.398626812643386, 15.398587898203136, 14.444041789827681, 13.441576590586862, 12.533991051359395, 12.533774119418544, 12.533739250963597, 12.53328558732717, 26.732027593143457, 12.471184206341254, 11.579197350895909, 11.579190492237071, 11.57870480016324, 10.62412206972792, 18.22165307670587, 17.300691718648395, 11.104582886477468, 11.085139307993755, 11.08512614641032, 19.480661832114, 16.927047275671196, 31.033437602919726, 21.733579072658774, 64.61288473584057, 35.78210384988153, 41.634894733168565, 30.067309378797482, 42.90264930802489, 43.12427370465503, 24.37765036990182, 25.91787177607009, 30.680017127187387, 32.59198376325102, 38.10579957914178, 33.94560110832211, 25.316681045405957, 29.13465771349202, 28.474704209100295, 22.184816106667224, 22.597505288393016, 26.578302184049946, 22.19395386666982, 21.511212332801918, 21.033098757728812, 103.50946048332838, 76.9261151692675, 74.95680566082675, 53.29435133514728, 49.35570506166534, 42.463216944693656, 41.47853141084543, 39.50925337464913, 37.53993292730645, 36.555288886917815, 34.58598432477103, 29.662712532908362, 27.69339659571482, 26.708459366778822, 46.71726746346302, 25.723865305626788, 28.49275141353941, 22.77009284896359, 22.769981627060105, 21.785471405416185, 23.670257398666873, 20.80082861530494, 20.800698106772025, 20.800670224524502, 38.72405843010735, 19.81616072025689, 19.816142342960134, 19.816021412196875, 19.81602141219687, 18.8315196243251, 116.20982944667895, 58.07584503866583, 28.90636310814853, 43.89729241030238, 118.85623650842489, 28.3153999494071, 39.46061193625751, 28.74109626749393, 43.26595039355931, 55.76852033911201, 41.267780518326155, 59.01280012697331, 59.337852765565145, 34.50922242253263, 36.71074564813514, 33.82199674127766, 19.37768098722307, 17.452112881016163, 16.48960964970803, 15.526811413073048, 14.563934809760688, 14.563934809760672, 13.600727780433207, 12.638124824876675, 12.63802827615825, 12.6377462914147, 12.637683564670441, 12.636263263576348, 12.636257099274744, 11.67521620992628, 11.675212838360554, 11.67520636628703, 17.055850874972684, 10.71232159292168, 10.71232159292168, 10.71176920661066, 10.710845069592036, 10.710859277291407, 26.031584290764993, 15.341287166318468, 14.450139126955724, 13.53881390986657, 14.736002311663746, 12.195360223084197, 16.81619110007973, 18.260183185626342, 36.39629868079415, 29.355469059369923, 22.874540904331067, 50.86869530793988, 30.00137008879424, 49.2978718863055, 21.90876318639643, 28.89999334153486, 20.159249787529827, 45.40266099913375, 40.97841020334893, 25.806944585832156, 23.59953959234423, 22.740067683248775, 27.022117412457632, 26.2616479996925, 29.536329170640474, 23.775052514946246, 19.006672210760453, 25.548365753682205, 23.861064287751933, 23.820444170486144, 24.13229493256662, 21.601396591620137, 22.614363792621578, 21.527811248381038, 20.135139532871936, 19.957622865508107, 20.467392445426118, 39.474160594134254, 27.955825079353012, 27.955825079353016, 26.03623741949656, 17.397499350051245, 17.397371492299516, 17.397276961889247, 16.437523582605134, 16.43751110498356, 15.47769608461613, 15.477613501863717, 14.517909553135251, 14.517851657612718, 14.517331561649707, 14.51728453173905, 29.72134507894129, 12.598173501337236, 12.598127977896167, 12.598127977896167, 12.598117841642408, 12.598105939121764, 11.638333593645505, 11.638305222653402, 11.638207970902936, 16.31413743045383, 11.62404913478621, 30.249364146266046, 17.75975827494864, 22.364478908751476, 12.686500225785212, 28.273764728868773, 31.949162258707087, 26.080682228404747, 43.70604592174105, 19.419501815506514, 30.20430788304594, 33.6823275260967, 19.136574965715834, 15.350244526821104, 31.32025748013554, 31.47645809450287, 24.52292286962859, 28.60721089237331, 20.422991286557245, 21.684746129677347, 18.7507137193075, 17.68872557406, 18.07687808638545, 16.779476914092292, 48.21275493143332, 48.21270306935476, 27.051833849663257, 23.204633370945892, 22.242759519999225, 21.28086288283634, 20.318519145291503, 18.395265707513875, 17.433518031439526, 17.43330836726122, 16.471623648540564, 15.509855580031173, 15.509797893525114, 15.509797893525114, 14.547778152217, 13.586169541548163, 13.586139731173267, 13.586139731173267, 12.624319725193365, 12.624318670814903, 12.624127301520883, 12.624119112634524, 11.662466666949763, 11.662466666949763, 11.662466666949763, 11.662466666949763, 11.66246552300168, 59.84653415773789, 24.06827306755622, 20.72705718745303, 25.00250802067253, 24.75463086322208, 23.16595974667677, 41.8256541076844, 56.000527749789015, 55.8171936254834, 20.015576938477523, 106.0585784709187, 18.699606197058074, 28.691070185835365, 17.026516066584737, 28.740792648403275, 25.995727941687694, 22.071598847163635, 20.03079123100519, 20.844263135210852, 16.723927246371296, 47.15416582667138, 43.23489876069424, 39.31559540868108, 28.53746530032682, 27.55750940268871, 23.63831219655721, 20.69884845415862, 20.698832416309553, 20.69882872235874, 20.69863138213703, 19.719019698863423, 18.73919415733737, 18.73919415733737, 18.73913780916864, 18.739100053030295, 15.799689172824525, 14.819896925902643, 14.819884337287517, 14.819569958179217, 14.819469967195516, 14.819404633938909, 13.839899582030396, 13.838808939910066, 13.781569471200786, 12.860237878557266, 12.860220852086437, 12.860219479428798, 107.11322889708889, 11.880413407377484, 11.880390507310798, 26.222072905771103, 20.86890137057997, 30.19879845063071, 27.217145616970534, 21.061091906649995, 21.06109188014611, 132.2619289668495, 19.515891223808257, 36.349994164303695, 22.19817967578664, 56.71976776649849, 37.424981731825525, 42.34724519717269, 45.3113541482576, 24.97056204440348, 25.875804233568218, 19.41383604324268, 19.723058127193315], \"Total\": [239.0, 114.0, 123.0, 104.0, 164.0, 100.0, 98.0, 77.0, 111.0, 75.0, 64.0, 134.0, 74.0, 74.0, 71.0, 133.0, 87.0, 73.0, 91.0, 47.0, 49.0, 49.0, 95.0, 61.0, 44.0, 54.0, 92.0, 56.0, 111.0, 87.0, 73.72510123478666, 43.089399027515626, 45.00793498134969, 37.345205420763875, 37.34545152650636, 43.09414612656793, 41.18057871454825, 40.22389630801568, 40.22389727128399, 30.643646307053558, 26.81418331953402, 56.495371706620965, 23.942086465611695, 23.94208767699379, 22.984720438388322, 22.98472160061557, 47.879918487392565, 19.155258650356235, 18.197892909960714, 18.19789343823362, 17.240526989277036, 17.240526661206903, 17.24052827660388, 16.283160078452617, 16.28316269490434, 14.368429209107962, 14.36842927977032, 14.368431805875352, 13.411064125885835, 13.411063720540023, 16.2890068396025, 34.47791600530007, 31.60166143600967, 52.674509525617886, 36.40334006503588, 50.75943555989661, 41.19080752637694, 55.57773701535891, 92.32424874044221, 33.525583099516254, 48.017887248245806, 111.19083281854797, 77.0585980156768, 82.45898243567544, 57.584527466057374, 98.0205656478698, 32.60344678196319, 122.8745018107269, 97.81097590439967, 78.59972074578269, 54.707635901987075, 122.29603366272697, 131.16103427215432, 100.91160603600794, 74.96388517899054, 71.11996663888497, 46.13327150683202, 41.328169386518596, 74.00428668584333, 32.678985353752985, 30.75694413149112, 29.795923689444123, 23.068780739715997, 22.107760265506297, 21.146739960726855, 21.146740085174905, 20.185719304754258, 20.185719675968105, 19.224698733809685, 22.11081549644387, 17.302658132052876, 17.302657911626113, 17.30267623350592, 16.34163743430102, 16.34163753725583, 16.34163749953474, 16.341637365472682, 15.380616936102873, 15.380617286420954, 15.380617066559841, 15.380616966989985, 14.419596539074753, 13.45857593006968, 34.59820273140059, 34.60573830984175, 37.48996521851716, 111.91752428480426, 28.83896759584069, 95.35805047071432, 80.77859951624163, 25.028466003467763, 65.67470792773454, 20.210326222917228, 36.52891415495472, 73.06541065394265, 42.308106546776514, 29.78077548063564, 34.73631711572521, 61.555955301352576, 134.62825568313474, 95.07240907812455, 133.8342737101067, 68.25310432125224, 38.4561889291386, 61.477279662631695, 77.80570453909182, 62.926697985551705, 112.4583720864403, 28.659972878581023, 27.7049823964457, 27.704982413727095, 21.975053306567894, 21.975053812562575, 21.97670855795319, 18.155117617697552, 17.20011533016297, 17.200116689002872, 16.24512278342741, 16.245125146585902, 16.24512621527704, 16.245127908460464, 15.290136566316866, 14.336381420346543, 13.380163635717166, 13.380166122135195, 13.380160894243884, 13.380163990804055, 28.666805304103274, 13.380556264472094, 12.42516984761966, 12.425170247132112, 12.425172659533477, 11.470182408456568, 20.09101588163131, 19.115006629849404, 12.428168837052251, 12.426399889218569, 12.4263999219829, 21.985464882618924, 20.08155288185512, 40.16765825376959, 28.691013664622275, 121.42021226669658, 57.42846459852295, 76.53217341993772, 48.86885626944107, 94.24449660868238, 105.45499189088753, 44.18071855658532, 55.65548152603141, 80.63714358267768, 111.19083281854797, 164.06863662818884, 131.16103427215432, 66.21925784876687, 99.7494674472374, 97.81097590439967, 46.962887799570844, 58.63238833924902, 122.8745018107269, 66.34937342054793, 57.57856888787658, 95.07240907812455, 104.35399434126803, 77.76837063549793, 75.79906136763223, 54.13665874972906, 50.19803847769763, 43.30545881219363, 42.32080345540258, 40.35149491986537, 38.382185436346276, 37.39753101323666, 35.42822188970046, 30.504948758800154, 28.53563932105729, 27.550977612852986, 48.213630631263754, 26.56632393346423, 29.51620104318136, 23.61236526689663, 23.612362746814167, 22.627711604514236, 24.595151863538987, 21.643057257724994, 21.643054238079092, 21.643053070684953, 40.327838972932724, 20.658402326415878, 20.658401719515567, 20.658398606760617, 20.658398606760613, 19.67374800122509, 123.87101423478254, 61.934078427149785, 31.441354460355097, 50.98857211836782, 164.06863662818884, 31.436418411101304, 50.898331293892824, 33.35943393188938, 62.526978833419705, 97.31894667083525, 62.41335057579969, 115.73188094492012, 122.29603366272697, 80.57198314159487, 37.555793864442876, 34.667071334106936, 20.22346084543028, 18.297643167590703, 17.33473639994178, 16.371829799165344, 15.408922160728915, 15.408922160728913, 14.446014025217357, 13.483107217694982, 13.483106590215833, 13.48310642223198, 13.48311030962907, 13.483145480037244, 13.483147094585622, 12.52019979982682, 12.520200035483638, 12.52019985476299, 18.306594044243646, 11.557292219660296, 11.557292219660296, 11.557290557804887, 11.557289341276132, 11.557325719488034, 28.87307450545771, 17.332485920586322, 16.3907463815815, 15.403022511531418, 17.365554228671833, 14.443284379494312, 20.281307961467594, 22.153896841802112, 48.141678093438415, 38.45029122668966, 30.818286516811185, 87.44497852902371, 44.185533086385036, 91.29709659130765, 31.74630786172399, 50.963638031641935, 28.838768336427602, 112.4583720864403, 95.15445151625073, 45.1638756893933, 46.19806946114401, 45.22484907209258, 66.31667818573426, 70.09191848589994, 101.03407783180766, 61.555955301352576, 32.70152135371914, 87.06887913425193, 77.80570453909182, 84.59076108944446, 94.24449660868238, 57.593435558076436, 72.01699493707211, 80.63714358267768, 50.04708498606043, 47.125449083767755, 122.8745018107269, 40.31967534578189, 28.80132430167179, 28.801324301671794, 26.881599209041923, 18.242836138519692, 18.24283622082545, 18.24283605173335, 17.282973458991805, 17.28297345617655, 16.323111585467085, 16.32311104173071, 15.36324853027803, 15.363249108269832, 15.363261763038473, 15.36324969414405, 31.68322581374231, 13.443523536139349, 13.44352398706671, 13.44352398706671, 13.44352322870361, 13.443523206381165, 12.483660795587776, 12.483660733452432, 12.483660992679559, 18.24627162342191, 13.446619626141858, 35.50599874728377, 21.130409354337946, 26.87090708878317, 15.367045597521116, 34.5670635741656, 42.21484067776914, 34.5451477928152, 99.7494674472374, 27.85477816478662, 59.4964320033872, 89.50454419805916, 30.87389580656269, 20.155509761058955, 91.29709659130765, 101.03407783180766, 73.06924902344261, 133.8342737101067, 48.045719097447254, 62.35074278433734, 37.44087581547543, 35.54111324046446, 45.027790111256536, 49.89641488885977, 49.05796034307283, 49.05795953040748, 27.897193367269022, 24.04978199474877, 23.087929254932572, 22.126075367962585, 21.16422138536056, 19.240518859798637, 18.278664020772133, 18.278663354059155, 17.31681239384466, 16.35495831225989, 16.354957586318562, 16.354957586318562, 15.393104142993582, 14.431251957785742, 14.431252514912853, 14.431252514912853, 13.469398887726795, 13.469398889454904, 13.469399538589938, 13.46939858655747, 12.507545896391282, 12.507545896391282, 12.507545896391282, 12.507545896391282, 12.507545898262006, 64.4517263222925, 25.99329734631504, 23.1162544176916, 27.8994408385464, 27.899711979195413, 26.93854635012964, 56.72364476234128, 87.64920589986814, 98.88707916431912, 25.003045243475878, 239.04340176537602, 23.075249662931753, 46.48329620297767, 22.124775730941614, 66.34937342054793, 73.06924902344261, 62.35074278433734, 49.89641488885977, 77.64428208460048, 26.87083379711526, 47.99705377427698, 44.07774282468135, 40.15843091630147, 29.380322242294888, 28.40049191158883, 24.481181878209632, 21.541698187917426, 21.541697885547965, 21.541697790101182, 21.541693717756612, 20.561870150604335, 19.582042169093018, 19.582042169093018, 19.582040952855095, 19.582039873555512, 16.642557591815127, 15.662730343352633, 15.662730208346872, 15.662723859265117, 15.662721699609245, 15.662719851604534, 14.682898966317168, 14.682873802199587, 14.681828996878501, 13.703074226426349, 13.703073924567555, 13.703073885508458, 114.46943000139002, 12.723246279651372, 12.723245849665206, 29.337845857056095, 23.468523799597257, 35.18191733838915, 32.24165884578912, 24.433902543240055, 24.433902542753838, 239.04340176537602, 23.43961422507561, 57.39183212445059, 29.23794879521949, 134.62825568313474, 77.64428208460048, 98.88707916431912, 133.8342737101067, 62.926697985551705, 131.16103427215432, 34.02221312726453, 77.0585980156768], \"Category\": [\"Default\", \"Default\", \"Default\", \"Default\", \"Default\", \"Default\", \"Default\", \"Default\", \"Default\", \"Default\", \"Default\", \"Default\", \"Default\", \"Default\", \"Default\", \"Default\", \"Default\", \"Default\", \"Default\", \"Default\", \"Default\", \"Default\", \"Default\", \"Default\", \"Default\", \"Default\", \"Default\", \"Default\", \"Default\", \"Default\", \"Topic1\", \"Topic1\", \"Topic1\", \"Topic1\", \"Topic1\", \"Topic1\", \"Topic1\", \"Topic1\", \"Topic1\", \"Topic1\", \"Topic1\", \"Topic1\", \"Topic1\", \"Topic1\", \"Topic1\", \"Topic1\", \"Topic1\", \"Topic1\", \"Topic1\", \"Topic1\", \"Topic1\", \"Topic1\", \"Topic1\", \"Topic1\", \"Topic1\", \"Topic1\", \"Topic1\", \"Topic1\", \"Topic1\", \"Topic1\", \"Topic1\", \"Topic1\", \"Topic1\", \"Topic1\", \"Topic1\", \"Topic1\", \"Topic1\", \"Topic1\", \"Topic1\", \"Topic1\", \"Topic1\", \"Topic1\", \"Topic1\", \"Topic1\", \"Topic1\", \"Topic1\", \"Topic1\", \"Topic1\", \"Topic1\", \"Topic1\", \"Topic1\", \"Topic1\", \"Topic1\", \"Topic2\", \"Topic2\", \"Topic2\", \"Topic2\", \"Topic2\", \"Topic2\", \"Topic2\", \"Topic2\", \"Topic2\", \"Topic2\", \"Topic2\", \"Topic2\", \"Topic2\", \"Topic2\", \"Topic2\", \"Topic2\", \"Topic2\", \"Topic2\", \"Topic2\", \"Topic2\", \"Topic2\", \"Topic2\", \"Topic2\", \"Topic2\", \"Topic2\", \"Topic2\", \"Topic2\", \"Topic2\", \"Topic2\", \"Topic2\", \"Topic2\", \"Topic2\", \"Topic2\", \"Topic2\", \"Topic2\", \"Topic2\", \"Topic2\", \"Topic2\", \"Topic2\", \"Topic2\", \"Topic2\", \"Topic2\", \"Topic2\", \"Topic2\", \"Topic2\", \"Topic2\", \"Topic2\", \"Topic2\", \"Topic2\", \"Topic2\", \"Topic2\", \"Topic2\", \"Topic2\", \"Topic2\", \"Topic2\", \"Topic3\", \"Topic3\", \"Topic3\", \"Topic3\", \"Topic3\", \"Topic3\", \"Topic3\", \"Topic3\", \"Topic3\", \"Topic3\", \"Topic3\", \"Topic3\", \"Topic3\", \"Topic3\", \"Topic3\", \"Topic3\", \"Topic3\", \"Topic3\", \"Topic3\", \"Topic3\", \"Topic3\", \"Topic3\", \"Topic3\", \"Topic3\", \"Topic3\", \"Topic3\", \"Topic3\", \"Topic3\", \"Topic3\", \"Topic3\", \"Topic3\", \"Topic3\", \"Topic3\", \"Topic3\", \"Topic3\", \"Topic3\", \"Topic3\", \"Topic3\", \"Topic3\", \"Topic3\", \"Topic3\", \"Topic3\", \"Topic3\", \"Topic3\", \"Topic3\", \"Topic3\", \"Topic3\", \"Topic3\", \"Topic3\", \"Topic3\", \"Topic3\", \"Topic3\", \"Topic3\", \"Topic3\", \"Topic3\", \"Topic4\", \"Topic4\", \"Topic4\", \"Topic4\", \"Topic4\", \"Topic4\", \"Topic4\", \"Topic4\", \"Topic4\", \"Topic4\", \"Topic4\", \"Topic4\", \"Topic4\", \"Topic4\", \"Topic4\", \"Topic4\", \"Topic4\", \"Topic4\", \"Topic4\", \"Topic4\", \"Topic4\", \"Topic4\", \"Topic4\", \"Topic4\", \"Topic4\", \"Topic4\", \"Topic4\", \"Topic4\", \"Topic4\", \"Topic4\", \"Topic4\", \"Topic4\", \"Topic4\", \"Topic4\", \"Topic4\", \"Topic4\", \"Topic4\", \"Topic4\", \"Topic4\", \"Topic4\", \"Topic4\", \"Topic4\", \"Topic4\", \"Topic4\", \"Topic5\", \"Topic5\", \"Topic5\", \"Topic5\", \"Topic5\", \"Topic5\", \"Topic5\", \"Topic5\", \"Topic5\", \"Topic5\", \"Topic5\", \"Topic5\", \"Topic5\", \"Topic5\", \"Topic5\", \"Topic5\", \"Topic5\", \"Topic5\", \"Topic5\", \"Topic5\", \"Topic5\", \"Topic5\", \"Topic5\", \"Topic5\", \"Topic5\", \"Topic5\", \"Topic5\", \"Topic5\", \"Topic5\", \"Topic5\", \"Topic5\", \"Topic5\", \"Topic5\", \"Topic5\", \"Topic5\", \"Topic5\", \"Topic5\", \"Topic5\", \"Topic5\", \"Topic5\", \"Topic5\", \"Topic5\", \"Topic5\", \"Topic5\", \"Topic5\", \"Topic5\", \"Topic5\", \"Topic5\", \"Topic5\", \"Topic5\", \"Topic5\", \"Topic5\", \"Topic5\", \"Topic5\", \"Topic5\", \"Topic5\", \"Topic5\", \"Topic5\", \"Topic5\", \"Topic5\", \"Topic5\", \"Topic6\", \"Topic6\", \"Topic6\", \"Topic6\", \"Topic6\", \"Topic6\", \"Topic6\", \"Topic6\", \"Topic6\", \"Topic6\", \"Topic6\", \"Topic6\", \"Topic6\", \"Topic6\", \"Topic6\", \"Topic6\", \"Topic6\", \"Topic6\", \"Topic6\", \"Topic6\", \"Topic6\", \"Topic6\", \"Topic6\", \"Topic6\", \"Topic6\", \"Topic6\", \"Topic6\", \"Topic6\", \"Topic6\", \"Topic6\", \"Topic6\", \"Topic6\", \"Topic6\", \"Topic6\", \"Topic6\", \"Topic6\", \"Topic6\", \"Topic6\", \"Topic6\", \"Topic6\", \"Topic6\", \"Topic6\", \"Topic6\", \"Topic6\", \"Topic6\", \"Topic6\", \"Topic6\", \"Topic6\", \"Topic6\", \"Topic7\", \"Topic7\", \"Topic7\", \"Topic7\", \"Topic7\", \"Topic7\", \"Topic7\", \"Topic7\", \"Topic7\", \"Topic7\", \"Topic7\", \"Topic7\", \"Topic7\", \"Topic7\", \"Topic7\", \"Topic7\", \"Topic7\", \"Topic7\", \"Topic7\", \"Topic7\", \"Topic7\", \"Topic7\", \"Topic7\", \"Topic7\", \"Topic7\", \"Topic7\", \"Topic7\", \"Topic7\", \"Topic7\", \"Topic7\", \"Topic7\", \"Topic7\", \"Topic7\", \"Topic7\", \"Topic7\", \"Topic7\", \"Topic7\", \"Topic7\", \"Topic7\", \"Topic7\", \"Topic7\", \"Topic7\", \"Topic7\", \"Topic7\", \"Topic7\", \"Topic7\", \"Topic7\", \"Topic8\", \"Topic8\", \"Topic8\", \"Topic8\", \"Topic8\", \"Topic8\", \"Topic8\", \"Topic8\", \"Topic8\", \"Topic8\", \"Topic8\", \"Topic8\", \"Topic8\", \"Topic8\", \"Topic8\", \"Topic8\", \"Topic8\", \"Topic8\", \"Topic8\", \"Topic8\", \"Topic8\", \"Topic8\", \"Topic8\", \"Topic8\", \"Topic8\", \"Topic8\", \"Topic8\", \"Topic8\", \"Topic8\", \"Topic8\", \"Topic8\", \"Topic8\", \"Topic8\", \"Topic8\", \"Topic8\", \"Topic8\", \"Topic8\", \"Topic8\", \"Topic8\", \"Topic8\", \"Topic8\", \"Topic8\", \"Topic8\", \"Topic8\", \"Topic8\", \"Topic8\", \"Topic8\", \"Topic8\"], \"logprob\": [30.0, 29.0, 28.0, 27.0, 26.0, 25.0, 24.0, 23.0, 22.0, 21.0, 20.0, 19.0, 18.0, 17.0, 16.0, 15.0, 14.0, 13.0, 12.0, 11.0, 10.0, 9.0, 8.0, 7.0, 6.0, 5.0, 4.0, 3.0, 2.0, 1.0, -4.182, -4.7274, -4.6861, -4.8735, -4.8738, -4.7313, -4.7789, -4.8037, -4.8037, -5.0764, -5.214, -4.4717, -5.3312, -5.3312, -5.3735, -5.3735, -4.6408, -5.5634, -5.6171, -5.6171, -5.6739, -5.6739, -5.6739, -5.734, -5.7341, -5.8665, -5.8665, -5.8665, -5.9399, -5.9399, -5.7474, -5.0119, -5.1016, -4.6195, -4.9784, -4.6941, -4.8974, -4.6342, -4.2241, -5.1071, -4.8193, -4.2178, -4.5036, -4.4573, -4.7453, -4.4465, -5.1773, -4.6371, -4.7948, -4.8868, -5.0207, -4.9015, -4.9173, -3.733, -4.0323, -4.0867, -4.5249, -4.6371, -4.0553, -4.8774, -4.9397, -4.9724, -5.2368, -5.281, -5.3273, -5.3273, -5.3758, -5.3758, -5.4267, -5.2869, -5.5372, -5.5372, -5.5372, -5.5973, -5.5973, -5.5973, -5.5974, -5.6614, -5.6614, -5.6614, -5.6614, -5.7298, -5.8032, -4.8907, -4.8926, -4.8221, -3.8101, -5.0829, -4.0019, -4.1686, -5.2194, -4.4379, -5.4289, -4.9731, -4.4475, -4.8774, -5.1446, -5.0683, -4.7255, -4.4661, -4.6512, -4.5867, -4.8959, -5.1286, -5.0165, -5.0141, -5.0578, -5.0557, -4.9414, -4.9764, -4.9764, -5.2163, -5.2163, -5.2193, -5.4158, -5.4725, -5.4725, -5.5326, -5.5326, -5.5327, -5.5327, -5.5967, -5.6686, -5.7385, -5.7385, -5.7385, -5.7386, -4.9811, -5.7435, -5.8177, -5.8177, -5.8178, -5.9038, -5.3643, -5.4162, -5.8596, -5.8613, -5.8613, -5.2975, -5.438, -4.8319, -5.1881, -4.0985, -4.6895, -4.538, -4.8635, -4.508, -4.5029, -5.0733, -5.012, -4.8433, -4.7829, -4.6266, -4.7422, -5.0355, -4.895, -4.9179, -5.1675, -5.1491, -4.9869, -5.1671, -5.1984, -5.2209, -3.5551, -3.8519, -3.8779, -4.219, -4.2957, -4.4462, -4.4696, -4.5183, -4.5694, -4.596, -4.6513, -4.8049, -4.8736, -4.9098, -4.3507, -4.9474, -4.8451, -5.0693, -5.0693, -5.1135, -5.0306, -5.1598, -5.1598, -5.1598, -4.5383, -5.2083, -5.2083, -5.2083, -5.2083, -5.2593, -3.4394, -4.133, -4.8307, -4.4129, -3.4169, -4.8514, -4.5195, -4.8365, -4.4274, -4.1736, -4.4747, -4.117, -4.1115, -4.6536, -4.4509, -4.5329, -5.0899, -5.1945, -5.2513, -5.3114, -5.3755, -5.3755, -5.4439, -5.5173, -5.5173, -5.5173, -5.5173, -5.5174, -5.5174, -5.5965, -5.5965, -5.5965, -5.2175, -5.6826, -5.6826, -5.6827, -5.6827, -5.6827, -4.7947, -5.3235, -5.3833, -5.4484, -5.3637, -5.5529, -5.2317, -5.1493, -4.4595, -4.6745, -4.924, -4.1248, -4.6528, -4.1561, -4.9671, -4.6902, -5.0503, -4.2384, -4.341, -4.8034, -4.8928, -4.9299, -4.7573, -4.7859, -4.6684, -4.8854, -5.1092, -4.8134, -4.8818, -4.8835, -4.8705, -4.9812, -4.9354, -4.9847, -5.0515, -5.0604, -5.0352, -4.1964, -4.5414, -4.5414, -4.6126, -5.0157, -5.0157, -5.0157, -5.0725, -5.0725, -5.1327, -5.1327, -5.1967, -5.1967, -5.1967, -5.1967, -4.4802, -5.3385, -5.3385, -5.3385, -5.3385, -5.3385, -5.4177, -5.4178, -5.4178, -5.08, -5.419, -4.4626, -4.9951, -4.7646, -5.3315, -4.5301, -4.4079, -4.6109, -4.0946, -4.9058, -4.4641, -4.3551, -4.9205, -5.1409, -4.4278, -4.4228, -4.6724, -4.5184, -4.8554, -4.7954, -4.9408, -4.9991, -4.9774, -5.0519, -3.946, -3.946, -4.5238, -4.6772, -4.7196, -4.7638, -4.81, -4.9095, -4.9632, -4.9632, -5.0199, -5.0801, -5.0801, -5.0801, -5.1441, -5.2125, -5.2125, -5.2125, -5.286, -5.286, -5.286, -5.286, -5.3652, -5.3652, -5.3652, -5.3652, -5.3652, -3.7298, -4.6407, -4.7901, -4.6026, -4.6126, -4.6789, -4.0881, -3.7962, -3.7995, -4.8251, -3.1576, -4.8931, -4.465, -4.9868, -4.4633, -4.5636, -4.7273, -4.8243, -4.7845, -5.0047, -3.9044, -3.9911, -4.0862, -4.4066, -4.4415, -4.5949, -4.7277, -4.7277, -4.7277, -4.7277, -4.7762, -4.8272, -4.8272, -4.8272, -4.8272, -4.9978, -5.0618, -5.0618, -5.0618, -5.0618, -5.0618, -5.1302, -5.1303, -5.1344, -5.2036, -5.2036, -5.2036, -3.0839, -5.2829, -5.2829, -4.4912, -4.7195, -4.35, -4.4539, -4.7104, -4.7104, -2.873, -4.7866, -4.1646, -4.6578, -3.7197, -4.1354, -4.0119, -3.9442, -4.5401, -4.5045, -4.7918, -4.776], \"loglift\": [30.0, 29.0, 28.0, 27.0, 26.0, 25.0, 24.0, 23.0, 22.0, 21.0, 20.0, 19.0, 18.0, 17.0, 16.0, 15.0, 14.0, 13.0, 12.0, 11.0, 10.0, 9.0, 8.0, 7.0, 6.0, 5.0, 4.0, 3.0, 2.0, 1.0, 1.7238, 1.7156, 1.7133, 1.7125, 1.7122, 1.7115, 1.7093, 1.7081, 1.7081, 1.7074, 1.7033, 1.7004, 1.6994, 1.6994, 1.6979, 1.6979, 1.6967, 1.6902, 1.6878, 1.6878, 1.6851, 1.6851, 1.6851, 1.682, 1.682, 1.6747, 1.6747, 1.6747, 1.6702, 1.6702, 1.6683, 1.654, 1.6514, 1.6225, 1.6331, 1.585, 1.5906, 1.5542, 1.4568, 1.5868, 1.5154, 1.2772, 1.3581, 1.3366, 1.4077, 1.1746, 1.5445, 0.758, 0.8284, 0.955, 1.1835, 0.4983, 0.4125, 1.859, 1.8569, 1.8551, 1.8498, 1.8476, 1.8468, 1.8421, 1.8404, 1.8395, 1.8309, 1.8293, 1.8275, 1.8275, 1.8255, 1.8255, 1.8233, 1.8233, 1.8182, 1.8182, 1.8181, 1.8152, 1.8152, 1.8152, 1.8151, 1.8117, 1.8117, 1.8117, 1.8117, 1.8079, 1.8034, 1.7717, 1.7696, 1.7601, 1.6783, 1.7616, 1.6466, 1.6459, 1.7669, 1.5836, 1.7711, 1.635, 1.4673, 1.5838, 1.6678, 1.5901, 1.3607, 0.8376, 1.0004, 0.7229, 1.0871, 1.4281, 1.071, 0.8379, 1.0065, 0.428, 1.9093, 1.9083, 1.9083, 1.9, 1.9, 1.8969, 1.8915, 1.8888, 1.8888, 1.8858, 1.8858, 1.8857, 1.8857, 1.8823, 1.8748, 1.8739, 1.8739, 1.8739, 1.8739, 1.8694, 1.8689, 1.8688, 1.8687, 1.8687, 1.8626, 1.8416, 1.8395, 1.8267, 1.825, 1.825, 1.8183, 1.7684, 1.6813, 1.6615, 1.3084, 1.4662, 1.3305, 1.4536, 1.1523, 1.0451, 1.3446, 1.175, 0.9729, 0.7121, 0.4793, 0.5876, 0.9778, 0.7085, 0.7052, 1.1893, 0.9858, 0.4082, 0.8441, 0.9547, 0.4307, 2.0033, 2.0005, 2.0003, 1.9957, 1.9945, 1.9918, 1.9913, 1.9903, 1.9892, 1.9886, 1.9874, 1.9834, 1.9815, 1.9804, 1.9799, 1.9792, 1.9761, 1.9751, 1.9751, 1.9735, 1.9731, 1.9717, 1.9717, 1.9717, 1.9708, 1.9698, 1.9698, 1.9698, 1.9698, 1.9677, 1.9476, 1.9471, 1.9274, 1.8617, 1.6891, 1.9069, 1.7569, 1.8624, 1.6432, 1.4546, 1.5977, 1.3379, 1.2882, 1.1635, 2.1295, 2.1275, 2.1095, 2.1049, 2.1022, 2.0992, 2.0958, 2.0958, 2.0919, 2.0875, 2.0875, 2.0875, 2.0875, 2.0873, 2.0873, 2.0823, 2.0823, 2.0823, 2.0814, 2.0763, 2.0763, 2.0762, 2.0762, 2.0762, 2.0486, 2.0302, 2.0262, 2.0232, 1.988, 1.983, 1.9649, 1.9589, 1.8725, 1.8823, 1.8541, 1.6105, 1.7651, 1.536, 1.7813, 1.5849, 1.7942, 1.2452, 1.3098, 1.5926, 1.4805, 1.4647, 1.2544, 1.1705, 0.9224, 1.2009, 1.6096, 0.9261, 0.9702, 0.8849, 0.7899, 1.1716, 0.9939, 0.8316, 1.2417, 1.293, 0.3599, 2.313, 2.3044, 2.3044, 2.3022, 2.2867, 2.2867, 2.2867, 2.284, 2.284, 2.281, 2.281, 2.2776, 2.2776, 2.2775, 2.2775, 2.2702, 2.2692, 2.2692, 2.2692, 2.2692, 2.2692, 2.2641, 2.264, 2.264, 2.2222, 2.1885, 2.1739, 2.1604, 2.1506, 2.1425, 2.1332, 2.0555, 2.0531, 1.509, 1.9734, 1.6562, 1.3569, 1.8559, 2.0618, 1.2643, 1.1679, 1.2424, 0.7912, 1.4787, 1.278, 1.6426, 1.6364, 1.4215, 1.2444, 2.3673, 2.3673, 2.3539, 2.3489, 2.3473, 2.3457, 2.3439, 2.3397, 2.3373, 2.3373, 2.3346, 2.3316, 2.3316, 2.3316, 2.3282, 2.3243, 2.3243, 2.3243, 2.3198, 2.3198, 2.3198, 2.3198, 2.3147, 2.3147, 2.3147, 2.3147, 2.3147, 2.3105, 2.3077, 2.2755, 2.275, 2.265, 2.2338, 2.08, 1.9367, 1.8127, 2.1622, 1.572, 2.1744, 1.9021, 2.1227, 1.548, 1.3512, 1.3462, 1.472, 1.0696, 1.9104, 2.4307, 2.4291, 2.4272, 2.4193, 2.4183, 2.4134, 2.4085, 2.4085, 2.4085, 2.4085, 2.4066, 2.4044, 2.4044, 2.4044, 2.4044, 2.3965, 2.3931, 2.3931, 2.3931, 2.3931, 2.3931, 2.3893, 2.3892, 2.3852, 2.385, 2.385, 2.385, 2.382, 2.3799, 2.3799, 2.3362, 2.331, 2.2957, 2.279, 2.2999, 2.2999, 1.8566, 2.2652, 1.9917, 2.173, 1.584, 1.7186, 1.6004, 1.3654, 1.5242, 0.8253, 1.8874, 1.0857]}, \"token.table\": {\"Topic\": [3, 4, 5, 1, 2, 3, 4, 5, 6, 7, 2, 2, 2, 3, 6, 1, 2, 5, 1, 1, 1, 2, 3, 5, 8, 1, 6, 1, 3, 4, 2, 6, 8, 8, 1, 6, 1, 3, 4, 5, 6, 4, 7, 1, 6, 6, 2, 4, 5, 2, 4, 5, 4, 3, 6, 3, 7, 1, 2, 5, 6, 8, 7, 3, 3, 6, 7, 8, 3, 8, 8, 1, 2, 3, 4, 5, 6, 2, 6, 1, 2, 3, 5, 7, 7, 8, 7, 8, 7, 8, 2, 5, 6, 1, 1, 1, 2, 3, 4, 5, 6, 7, 3, 6, 7, 7, 5, 7, 7, 1, 5, 6, 7, 8, 2, 5, 5, 8, 1, 5, 1, 2, 3, 5, 4, 4, 3, 7, 8, 8, 2, 1, 2, 3, 5, 6, 7, 8, 2, 5, 6, 7, 3, 2, 4, 5, 6, 8, 6, 2, 5, 2, 3, 4, 5, 6, 1, 2, 3, 4, 5, 5, 7, 7, 7, 2, 1, 2, 3, 4, 5, 6, 6, 2, 6, 6, 4, 4, 2, 3, 5, 7, 3, 5, 6, 5, 2, 3, 5, 6, 7, 8, 1, 2, 3, 6, 7, 8, 8, 1, 2, 3, 4, 5, 6, 7, 1, 2, 3, 6, 7, 8, 2, 3, 4, 5, 6, 7, 1, 7, 8, 7, 7, 1, 2, 3, 3, 7, 8, 8, 1, 1, 1, 3, 6, 8, 1, 3, 4, 1, 3, 4, 6, 8, 3, 4, 3, 1, 2, 6, 6, 1, 2, 3, 5, 7, 8, 1, 2, 5, 6, 8, 8, 8, 3, 3, 2, 2, 4, 4, 8, 8, 1, 2, 5, 7, 6, 6, 1, 2, 7, 1, 2, 6, 8, 8, 3, 1, 5, 2, 3, 5, 3, 5, 2, 3, 5, 6, 7, 6, 5, 7, 6, 5, 6, 2, 5, 3, 6, 7, 8, 3, 8, 4, 3, 7, 3, 7, 5, 5, 2, 3, 4, 2, 2, 4, 2, 1, 2, 3, 5, 6, 7, 1, 5, 6, 5, 5, 2, 4, 5, 8, 3, 1, 6, 3, 4, 4, 4, 6, 2, 7, 2, 3, 4, 5, 4, 5, 4, 6, 4, 1, 2, 3, 4, 5, 8, 2, 3, 6, 6, 2, 4, 7, 2, 4, 2, 5, 2, 3, 4, 5, 6, 7, 8, 4, 1, 2, 3, 2, 4, 4, 1, 3, 4, 5, 6, 7, 8, 1, 3, 1, 3, 4, 8, 2, 3, 1, 3, 5, 6, 7, 8, 1, 2, 3, 5, 7, 8, 7, 3, 1, 2, 1, 1, 1, 1, 1, 5, 2, 5, 5, 3, 5, 7, 5, 5, 8, 1, 2, 3, 4, 5, 4, 5, 2, 7, 8, 7, 8, 7, 8, 6, 1, 5, 6, 7, 2, 3, 7, 8, 7, 8, 8, 7, 3, 7, 8, 6, 2, 3, 8, 8, 8, 1, 4, 8, 1, 2, 4, 5, 6, 1, 3, 4, 6, 7, 3, 6, 7, 8, 1, 3, 4, 5, 6, 7, 8, 1, 2, 3, 5, 6, 7, 1, 2, 3, 5, 7, 8, 1, 4, 2, 1, 3, 4, 1, 7, 4, 5, 2, 3, 4, 5, 6, 7, 2, 3, 4, 6, 8, 3, 4, 1, 3, 7, 8, 2, 5, 2, 5, 6, 3, 1, 2, 3, 5, 6, 8, 2, 1, 2, 3, 4, 5, 6, 7, 8, 2, 5, 6, 5, 6, 2, 4, 1, 3, 5, 6, 8, 1, 6, 7, 8, 2, 6, 1, 1, 2, 3, 4, 5, 6, 5, 4, 4, 5, 7, 7, 3, 4, 5, 5, 2, 3, 6, 8, 1, 2, 5, 7, 7, 7, 5, 1, 2, 3, 5, 7, 1, 2, 3, 5, 6, 1, 2, 3, 6, 7, 5, 6, 5, 2, 1, 1, 1, 6, 1, 2, 3, 7, 8, 5, 3, 4, 5, 6, 1, 5, 6, 7, 3, 4, 3, 2, 5, 2, 1, 3, 4, 5, 6, 7, 3, 4, 5, 6, 2, 2, 5, 1, 2, 7, 2, 5, 5, 6, 7, 8, 8, 7, 7, 6, 7, 6, 7, 3, 5, 3, 7, 8, 6, 8, 1, 2, 3, 4, 5, 6, 7, 8, 2, 4, 5, 2, 2, 5, 1, 4, 5, 6, 7, 6, 7, 2, 3, 5, 7, 8, 2, 2, 1, 3, 3, 7, 8, 7, 6, 1, 1, 1, 6, 1, 1, 3, 1, 3, 1, 2, 4, 1, 4, 2, 3, 6, 7, 6, 8, 1, 2, 3, 7, 3, 3, 6, 7, 5, 4, 1, 2, 3, 5, 6, 7, 8, 1, 2, 3, 4, 5, 6, 1, 7, 8, 8, 7, 7, 8, 8, 5, 7, 7, 1, 3, 6, 7, 8, 4, 1, 2, 3, 6, 1, 5, 6, 8, 5, 8, 2, 5, 3, 5, 6, 7, 6, 7, 4, 4, 5, 5, 6, 3, 6, 6], \"Freq\": [0.09027757122287429, 0.045138785611437145, 0.8124981410058686, 0.39872825763561087, 0.07156661034485323, 0.28626644137941293, 0.040895205911344705, 0.09201421330052559, 0.08179041182268941, 0.010223801477836176, 0.9732874973858892, 0.9536698210549139, 0.9659268608764832, 0.8893536020779258, 0.05231491776928975, 0.8276695394648381, 0.05397844822596771, 0.10795689645193542, 0.9746103305225167, 0.9639728140506908, 0.06200616462652195, 0.2356234255807834, 0.38443822068443606, 0.2728271243566966, 0.049604931701217554, 0.9735310758837663, 0.017700565016068478, 0.6295483020100481, 0.29678705666187977, 0.07194837737257692, 0.2439371506670475, 0.12196857533352375, 0.6272669588581221, 0.948692226663235, 0.8922721905391805, 0.09492257346161495, 0.28619080236505823, 0.08176880067573092, 0.4824359239868124, 0.008176880067573092, 0.13083008108116947, 0.9740660113780105, 0.9782966366959279, 0.23688351867370958, 0.7580272597558706, 0.9721775188780025, 0.7969961594730859, 0.0838943325761143, 0.10486791572014288, 0.7461015289769901, 0.19794530360614024, 0.030453123631713885, 0.9702882459057519, 0.7667906145514582, 0.2091247130594886, 0.9233538601807776, 0.949106411813408, 0.024759032862384213, 0.804668568027487, 0.11141564788072897, 0.03713854929357632, 0.024759032862384213, 0.9651506708042104, 0.9302263207469087, 0.613887909195038, 0.08185172122600506, 0.2455551636780152, 0.04092586061300253, 0.9715874939152215, 0.9748535238318076, 0.9702767380405465, 0.13782191891430165, 0.10336643918572623, 0.06891095945715082, 0.2986141576476536, 0.2986141576476536, 0.0918812792762011, 0.8960002992255162, 0.057806470917775236, 0.2257201688704779, 0.08681544956556843, 0.19099398904425052, 0.38198797808850105, 0.10417853947868211, 0.6238800250603203, 0.36572277331122227, 0.12406309548562248, 0.8374258945279517, 0.12278022287643066, 0.8594615601350146, 0.3954566682926284, 0.16650807086005406, 0.41627017715013515, 0.9747177019846582, 0.9280458952568876, 0.04948825294692692, 0.04948825294692692, 0.08907885530446846, 0.0692835541256977, 0.29692951768156156, 0.3068271682709469, 0.1385671082513954, 0.8968237017068018, 0.8459661239045878, 0.13014863444685967, 0.9355257065135291, 0.964166708669533, 0.9784344816687387, 0.9563496253322384, 0.025758496907999213, 0.2060679752639937, 0.012879248453999606, 0.27046421753399175, 0.4765321927979854, 0.9015579324604484, 0.06935061018926526, 0.854140481102922, 0.061010034364494425, 0.06492232282666298, 0.9089125195732818, 0.024895650965815357, 0.1742695567607075, 0.771765179940276, 0.9641694896511162, 0.9761337591262674, 0.9879129725721586, 0.9769723132196593, 0.11369477000150173, 0.8527107750112629, 0.9431555549416475, 0.9362955565251143, 0.19973772015979724, 0.08560188006848453, 0.2282716801826254, 0.37094148029676627, 0.028533960022828174, 0.05706792004565635, 0.028533960022828174, 0.3607392678588947, 0.42439913865752316, 0.16975965546300928, 0.04243991386575232, 0.9715877187689552, 0.32129288565603653, 0.11955084117433916, 0.0074719275733961974, 0.21668589962848975, 0.3362367408028289, 0.9670083537996882, 0.7563562307998892, 0.23636132212496538, 0.1454041545127211, 0.06231606621973761, 0.020772022073245872, 0.7477927946368514, 0.9318726469347907, 0.05137745702192655, 0.13358138825700905, 0.18495884527893558, 0.5754275186455774, 0.05137745702192655, 0.06206195284821229, 0.9309292927231844, 0.9701168021286553, 0.9701167646767176, 0.9754348332598917, 0.08440928621741718, 0.11254571495655623, 0.08440928621741718, 0.028136428739139057, 0.1969550011739734, 0.506455717304503, 0.9612564781306399, 0.17357563471154147, 0.8100196286538602, 0.9189424406897342, 0.9687906809993709, 0.9900426348317216, 0.8058890211104652, 0.10073612763880815, 0.0671574184258721, 0.967839296395971, 0.1095325084078533, 0.5367092911984812, 0.33955077606434525, 0.9641694447804315, 0.11172617088436994, 0.1564166392381179, 0.07820831961905896, 0.3798689810068578, 0.13407140506124393, 0.13407140506124393, 0.014855722447353566, 0.3565373387364856, 0.05199502856573748, 0.02971144489470713, 0.11884577957882853, 0.42338808974957665, 0.9748535195124344, 0.0800296130294525, 0.2400888390883575, 0.15116704683341026, 0.026676537676484164, 0.4001480651472625, 0.08892179225494722, 0.008892179225494722, 0.08527709925561668, 0.2387758779157267, 0.39227465657583666, 0.08527709925561668, 0.05116625955337, 0.15349877866011, 0.1728132286169144, 0.06048463001592004, 0.5097990244198974, 0.01728132286169144, 0.1296099214626858, 0.10368793717014864, 0.758197342030868, 0.043325562401763884, 0.1841336402074965, 0.9449910599514963, 0.9300461237623701, 0.9211969616132439, 0.03488355222675835, 0.9418559101224756, 0.13680850281309798, 0.10260637710982347, 0.7524467654720388, 0.9748535058289295, 0.9606514466913807, 0.969348910041308, 0.7119968124105392, 0.12156043138716524, 0.03473155182490436, 0.12156043138716524, 0.5849274872219018, 0.2924637436109509, 0.10967390385410658, 0.03204442609712232, 0.17624434353417276, 0.6569107349910076, 0.12817770438848927, 0.9748537081227694, 0.024796766339777863, 0.9670738872513366, 0.965781535490007, 0.9743582451548611, 0.941259497030904, 0.9721775188780024, 0.9318726427304836, 0.1198871023491413, 0.2197930209734257, 0.07992473489942753, 0.39962367449713765, 0.07992473489942753, 0.07992473489942753, 0.21146023492483695, 0.4554528136842642, 0.21146023492483695, 0.13012937533836122, 0.9792267713146316, 0.9755490468518758, 0.9711534816010148, 0.9745539489483255, 0.9233539209239284, 0.9753894883622034, 0.9498926959491829, 0.9912891722955146, 0.9893701267846812, 0.9870552052098533, 0.9576874319595305, 0.3084606731880657, 0.35987078538607664, 0.3084606731880657, 0.025705056099005474, 0.9670084083496332, 0.9612564933069376, 0.1300094275824552, 0.04333647586081841, 0.8233930413555497, 0.8739814090060517, 0.07283178408383764, 0.048554522722558426, 0.9858984163782949, 0.9702767380405465, 0.9556290591650264, 0.9065102251893457, 0.08241002047175869, 0.9179006769353877, 0.29421394497118136, 0.6789552576258031, 0.20806084283821827, 0.7542205552885413, 0.020050232358963745, 0.2907283692049743, 0.13032651033326434, 0.4411051118972024, 0.1102762779743006, 0.9763560076788359, 0.07168532784465244, 0.8960665980581555, 0.9763559337135223, 0.9772884397329674, 0.9672043615342131, 0.9179006694051964, 0.9584511402366309, 0.33157811243454416, 0.1055021266837186, 0.43708023911826277, 0.12057385906710698, 0.8959228396438096, 0.04977349109132275, 0.9486315653913862, 0.8465480782295732, 0.09959389155642037, 0.3349356431569385, 0.632656214851995, 0.9807577822863092, 0.9230022096011646, 0.08046237648612303, 0.8850861413473533, 0.9758020659176628, 0.9842524301990796, 0.8906338176564979, 0.04947965653647211, 0.9247134215864706, 0.021018459653024586, 0.25222151583629504, 0.10509229826512292, 0.430878422887004, 0.09458306843861063, 0.09458306843861063, 0.3099822543194159, 0.5756813294503439, 0.11070794797121997, 0.9734619880311232, 0.9734619880311233, 0.9179006672864238, 0.9748280597131221, 0.020741022547087706, 0.9486922502656877, 0.9657813479793173, 0.8650110548090197, 0.11931186962883031, 0.9715873391507244, 0.9966077547533986, 0.9681290781342766, 0.9790038990957353, 0.976355970946647, 0.6500904196738351, 0.33804701823039424, 0.09595857839197394, 0.07996548199331162, 0.6877031451424799, 0.11195167479063627, 0.8906867071762926, 0.0636204790840209, 0.9364579818498622, 0.056510395456457196, 0.9812291109012573, 0.10706619398297387, 0.024707583226840125, 0.5353309699148694, 0.21413238796594775, 0.05765102752929362, 0.05765102752929362, 0.02816425492259954, 0.08449276476779861, 0.8449276476779862, 0.9257666246245352, 0.7484961607582096, 0.1727298832518945, 0.0575766277506315, 0.9247124424033699, 0.9698546361590321, 0.13847265950391985, 0.8308359570235191, 0.03723378627441609, 0.14893514509766437, 0.43439417320152107, 0.21099145555502452, 0.09929009673177625, 0.06205631045736015, 0.01241126209147203, 0.9834469887888442, 0.3135936028931286, 0.13066400120547025, 0.548788805062975, 0.9752534655919936, 0.9901197539665669, 0.9894581627632998, 0.26684754503670877, 0.2592233294642313, 0.09149058686972872, 0.09149058686972872, 0.03049686228990957, 0.06099372457981914, 0.1982296048844122, 0.08047383041575475, 0.8852121345733023, 0.08047383062793778, 0.8852121369073157, 0.9722591654213497, 0.9576880734710553, 0.945772257905637, 0.9657815665432443, 0.458016894442104, 0.24173113873333266, 0.20356306419649065, 0.06361345756140332, 0.02544538302456133, 0.012722691512280665, 0.6669982866075794, 0.12127241574683262, 0.03638172472404978, 0.024254483149366523, 0.12127241574683262, 0.012127241574683261, 0.9651507390221615, 0.9555571046784561, 0.9607368068538468, 0.020885582757692322, 0.9639791666531858, 0.9776053937651803, 0.9695728819355918, 0.9696360948296758, 0.9571576064617399, 0.9641692236780075, 0.895805190527714, 0.08669082488977878, 0.9517802726210368, 0.2080532680870812, 0.693510893623604, 0.0693510893623604, 0.9517800355768217, 0.9641695016635485, 0.9576874402143699, 0.16662733581823994, 0.23605539240917323, 0.23605539240917323, 0.027771222636373324, 0.3193690603182932, 0.0546251256559896, 0.9286271361518232, 0.9179006730693382, 0.5663024984987742, 0.4247268738740807, 0.08522052844390332, 0.8948155486609848, 0.9233149484746835, 0.03847145618644515, 0.9763551667190608, 0.3430728728470412, 0.58322388383997, 0.022871524856469413, 0.04574304971293883, 0.09096919308634417, 0.8642073343202696, 0.44343411789311915, 0.5522009769989786, 0.9084516730326362, 0.08651920695548916, 0.9726741708565929, 0.965150717441852, 0.9715875196995086, 0.1227802228788739, 0.8594615601521173, 0.9670083862354201, 0.017471913680147735, 0.04367978420036934, 0.9347473818879038, 0.9486922475615454, 0.9803448264628953, 0.9743584164562065, 0.9657539579553863, 0.9534901814768493, 0.11788205718091836, 0.01964700953015306, 0.7662333716759693, 0.01964700953015306, 0.03929401906030612, 0.9743584212479942, 0.2189703632353846, 0.08211388621326923, 0.34214119255528846, 0.3558268402575, 0.2404982407399215, 0.3407058410482221, 0.40083040123320246, 0.9431555230674047, 0.5713086802740461, 0.10201940719179396, 0.10201940719179396, 0.030605822157538185, 0.07141358503425577, 0.10201940719179396, 0.020403881438358792, 0.04741359238046706, 0.15172349561749457, 0.4077568944720167, 0.18017165104577482, 0.11379262171312093, 0.0853444662848407, 0.1741296771541616, 0.01741296771541616, 0.6268668377549818, 0.03482593543083232, 0.12189077400791312, 0.01741296771541616, 0.9211971096353334, 0.9786826384078355, 0.9497614415613697, 0.828133300769196, 0.09201481119657734, 0.06134320746438489, 0.9280458083011686, 0.9782966366959279, 0.1479194539967389, 0.8382102393148537, 0.42073194934116487, 0.22088427340411154, 0.021036597467058243, 0.08414638986823297, 0.0946646886017621, 0.1577744810029368, 0.09716946700851102, 0.03238982233617034, 0.12955928934468136, 0.6154066243872365, 0.09716946700851102, 0.1176734266272696, 0.8629384619333104, 0.3619879610588033, 0.4684550084290396, 0.08517363789618902, 0.08517363789618902, 0.9729166136773705, 0.013512730745519034, 0.21540290015969554, 0.07180096671989852, 0.682109183839036, 0.9233540552431139, 0.04422347539096959, 0.24322911465033273, 0.11055868847742396, 0.5085699669961502, 0.022111737695484794, 0.06633521308645438, 0.924713409806108, 0.37436570909444955, 0.03255353992125648, 0.21973639446848126, 0.02441515494094236, 0.1627676996062824, 0.04883030988188472, 0.08952223478345532, 0.04883030988188472, 0.6706319660896333, 0.2189818664782476, 0.09580456658423334, 0.07436813324115146, 0.8924175988938176, 0.9189536424970386, 0.07990901239104684, 0.15152148307598692, 0.10822963076856208, 0.519502227689098, 0.10822963076856208, 0.08658370461484967, 0.6877882723640739, 0.03893141164324947, 0.01297713721441649, 0.2595427442883298, 0.9752534453375296, 0.9257666244737353, 0.9693488807429975, 0.2869255956234462, 0.19631751279498952, 0.3775336784519029, 0.0906080828284567, 0.03020269427615223, 0.015101347138076116, 0.9517800355768217, 0.9681292524510999, 0.9681292524511, 0.07168602451833951, 0.8960753064792439, 0.9300460898390035, 0.016146199723892786, 0.9364795839857816, 0.03229239944778557, 0.9517772767666945, 0.32341827806450596, 0.46715973498206415, 0.12577377480286342, 0.07187072845877909, 0.15289808525777812, 0.09173885115466686, 0.5810127239795568, 0.15289808525777812, 0.9594208247888404, 0.9594208247888404, 0.985200848996855, 0.11773099864406783, 0.25508383039548027, 0.03924366621468928, 0.5690331601129944, 0.01962183310734464, 0.01680773058698829, 0.10084638352192973, 0.20169276704385947, 0.1680773058698829, 0.5042319176096487, 0.08684287640025523, 0.08684287640025523, 0.057895250933503485, 0.7526382621355453, 0.9528788726386043, 0.054805717060374425, 0.8768914729659908, 0.9290814037794154, 0.970900951497657, 0.96065139808593, 0.9341740873029843, 0.19845690073927671, 0.7442133777722877, 0.36471903358510954, 0.03473514605572472, 0.3820866066129719, 0.12157301119503651, 0.10420543816717415, 0.9517801724359576, 0.2316103844156109, 0.7253062038278342, 0.01828503034860086, 0.01828503034860086, 0.26708776924141026, 0.1869614384689872, 0.5074667615586795, 0.026708776924141028, 0.9556290811692152, 0.9702880581949452, 0.906783910028376, 0.9069093503241399, 0.0800214132638947, 0.9678628546525496, 0.990164798384237, 0.45626006342357156, 0.12732838979262462, 0.25465677958524924, 0.08488559319508308, 0.06366419489631231, 0.5432233966331157, 0.11317154096523244, 0.20370877373741839, 0.13580584915827892, 0.9412594797212135, 0.6010791290438635, 0.3898891647852088, 0.9396897389148671, 0.7938916518838404, 0.19162901942023733, 0.057695128360800776, 0.8654269254120116, 0.9584511582767221, 0.08532563636906651, 0.042662818184533255, 0.853256363690665, 0.9576879604758745, 0.9594208247888404, 0.9594208247888404, 0.9468732816652707, 0.03156244272217569, 0.931872651367973, 0.9594208246453422, 0.06926868836299202, 0.9004929487188963, 0.936375095880869, 0.068171330974492, 0.886227302668396, 0.9672696931593734, 0.9576878284249971, 0.06031665200113207, 0.19602911900367923, 0.22618744500424526, 0.030158326000566036, 0.40713740100764145, 0.015079163000283018, 0.0753958150014151, 0.9613906944127903, 0.8309690604246791, 0.16083272137251853, 0.00893515118736214, 0.9792225692932964, 0.9752534592784727, 0.964166593214752, 0.9571575580628657, 0.06845469891483667, 0.10268204837225502, 0.1825458637728978, 0.6389105232051423, 0.24681065644947014, 0.7404319693484104, 0.42907066260173604, 0.0794575301114326, 0.047674518066859566, 0.047674518066859566, 0.39728765055716303, 0.990966291472136, 0.9457722523397903, 0.9341740601845235, 0.9590082884723857, 0.13559459478743932, 0.7683693704621561, 0.045198198262479776, 0.9651507173180243, 0.9612564980914319, 0.9280458775970944, 0.920866455991128, 0.9281303427701618, 0.058008146423135114, 0.9713316628517614, 0.9695729051545962, 0.9233537639422339, 0.9789957663456844, 0.9156229533515777, 0.059953055680843984, 0.059953055680843984, 0.8693193073722377, 0.06361049116130896, 0.92235212183898, 0.9752534675504821, 0.11164490986805213, 0.8187293390323823, 0.03721496995601738, 0.9670083537996882, 0.9702768517828663, 0.9176732703982103, 0.031643905875800356, 0.031643905875800356, 0.9782965932726464, 0.9302262472573699, 0.28868942367309924, 0.352842628933788, 0.352842628933788, 0.9584511540712274, 0.9702881935698477, 0.1300378417019896, 0.27189730537688733, 0.035464865918724435, 0.2837189273497955, 0.16550270762071403, 0.08275135381035702, 0.02364324394581629, 0.05860539296751817, 0.4541917954982658, 0.1318621341769159, 0.04395404472563863, 0.19046752714443405, 0.11721078593503634, 0.8121973338471853, 0.06247671798824502, 0.12495343597649004, 0.953491815607835, 0.9701167646767176, 0.41149586441161756, 0.5584586731300524, 0.9702767983043038, 0.11136458370871087, 0.8537951417667833, 0.9239575757999938, 0.37754462206552203, 0.19987656462292344, 0.3997531292458469, 0.9744623216122065, 0.95355966909685, 0.9681291065758689, 0.8668339100831723, 0.019700770683708464, 0.019700770683708464, 0.07880308273483386, 0.0648965346892019, 0.7463101489258218, 0.09734480203380284, 0.0648965346892019, 0.8637789386090468, 0.1151705251478729, 0.9871420060914788, 0.9395028944461434, 0.031499726026587294, 0.6929939725849205, 0.25199780821269835, 0.9784344978769097, 0.15998051281548326, 0.7999025640774162, 0.9800015222474013, 0.9740659074186381, 0.9691254608753126, 0.1419754794946326, 0.8518528769677957, 0.974553948340433, 0.9189424713004696, 0.9670084099553129], \"Term\": [\"\\uac00\\uaca9\", \"\\uac00\\uaca9\", \"\\uac00\\uaca9\", \"\\uac00\\uc6b4\\ub370\", \"\\uac00\\uc6b4\\ub370\", \"\\uac00\\uc6b4\\ub370\", \"\\uac00\\uc6b4\\ub370\", \"\\uac00\\uc6b4\\ub370\", \"\\uac00\\uc6b4\\ub370\", \"\\uac00\\uc6b4\\ub370\", \"\\uac08\\ub2e4\", \"\\uac08\\ub2e4 \\uc2a4\\ud0c0\\ub514\\uc6c0\", \"\\uac10\\ub3c5 \\uc774\\ub04c\\ub2e4\", \"\\uac10\\ub3d9\", \"\\uac10\\ub3d9\", \"\\uac10\\uc5fc\", \"\\uac10\\uc5fc\", \"\\uac10\\uc5fc\", \"\\uac10\\uc5fc\\uc99d\", \"\\uac10\\uc5fc\\uc99d \\ucf54\\ub85c\\ub098\", \"\\uac19\\ub2e4\", \"\\uac19\\ub2e4\", \"\\uac19\\ub2e4\", \"\\uac19\\ub2e4\", \"\\uac19\\ub2e4\", \"\\uac1c\\ub9c9 \\ud558\\ub2e4\", \"\\uac1c\\ub9c9 \\ud558\\ub2e4\", \"\\uac1c\\ub9c9\\uc2dd\", \"\\uac1c\\ub9c9\\uc2dd\", \"\\uac1c\\ub9c9\\uc2dd\", \"\\uac1c\\uc778\", \"\\uac1c\\uc778\", \"\\uac1c\\uc778\", \"\\uac1c\\uc778 \\uc608\\uc120\", \"\\uac1c\\ucd5c\", \"\\uac1c\\ucd5c\", \"\\uac1c\\ud68c\", \"\\uac1c\\ud68c\", \"\\uac1c\\ud68c\", \"\\uac1c\\ud68c\", \"\\uac1c\\ud68c\", \"\\uac1c\\ud68c \\uc911\\uacc4\", \"\\uac24\\ub7ed\\uc2dc \\uc6cc\\uce58\", \"\\uac70\\ub9ac\", \"\\uac70\\ub9ac\", \"\\uac70\\ub9ac \\ub450\\uae30\", \"\\uac74\\uac15\", \"\\uac74\\uac15\", \"\\uac74\\uac15\", \"\\uac80\\uc0ac\", \"\\uac80\\uc0ac\", \"\\uac80\\uc0ac\", \"\\uaca9\\ub9ac\", \"\\uacb0\\ubc29\", \"\\uacb0\\ubc29\", \"\\uacb0\\uc815\", \"\\uacbd\\uc120\", \"\\uacbd\\uc6b0\", \"\\uacbd\\uc6b0\", \"\\uacbd\\uc6b0\", \"\\uacbd\\uc6b0\", \"\\uacbd\\uc6b0\", \"\\uace8\\ubaa9\", \"\\uace8\\ud504\", \"\\uacf5\\uac1c\", \"\\uacf5\\uac1c\", \"\\uacf5\\uac1c\", \"\\uacf5\\uac1c\", \"\\uacf5\\uc0ac\", \"\\uacf5\\uc6d0\", \"\\uacf5\\uc6d0 \\uc591\\uad81\", \"\\uad00\\ub828\", \"\\uad00\\ub828\", \"\\uad00\\ub828\", \"\\uad00\\ub828\", \"\\uad00\\ub828\", \"\\uad00\\ub828\", \"\\uad00\\ub9ac\", \"\\uad00\\ub9ac\", \"\\uad00\\uc2ec\", \"\\uad00\\uc2ec\", \"\\uad00\\uc2ec\", \"\\uad00\\uc2ec\", \"\\uad00\\uc2ec\", \"\\uad00\\uc655\", \"\\uad00\\uc655\", \"\\uad11\\uc8fc\", \"\\uad11\\uc8fc\", \"\\uad11\\uc8fc \\uc5ec\\ub300\", \"\\uad11\\uc8fc \\uc5ec\\ub300\", \"\\uad50\\uc218\", \"\\uad50\\uc218\", \"\\uad50\\uc218\", \"\\uad6d\\ub9bd\\uacbd\\uae30\\uc7a5\", \"\\uad6d\\ub9bd\\uacbd\\uae30\\uc7a5 \\uc5f4\\ub9ac\\ub2e4\", \"\\uad6d\\ubbfc\", \"\\uad6d\\ubbfc\", \"\\uad6d\\ubbfc\", \"\\uad6d\\ubbfc\", \"\\uad6d\\ubbfc\", \"\\uad6d\\ubbfc\", \"\\uad6d\\ubbfc\", \"\\uad6d\\uc81c\\uc62c\\ub9bc\\ud53d\\uc704\\uc6d0\\ud68c\", \"\\uad6d\\ud68c\", \"\\uad6d\\ud68c\", \"\\uad70\\uccad\", \"\\uadf8\\ub798\\ud53d\", \"\\uadf8\\ub8f9\", \"\\uadf8\\ub8f9 \\ud68c\\uc7a5\", \"\\uae08\\uba54\\ub2ec\", \"\\uae08\\uba54\\ub2ec\", \"\\uae08\\uba54\\ub2ec\", \"\\uae08\\uba54\\ub2ec\", \"\\uae08\\uba54\\ub2ec\", \"\\uae30\\uad00\", \"\\uae30\\uad00\", \"\\uae30\\ub2a5\", \"\\uae30\\ub2a5\", \"\\uae30\\uc0ac\", \"\\uae30\\uc0ac\", \"\\uae30\\uc220\", \"\\uae30\\uc220\", \"\\uae30\\uc220\", \"\\uae30\\uc628\", \"\\uae30\\uc790\\ud68c\\uacac\", \"\\uae30\\uc790\\ud68c\\uacac \\uc5f4\\ub2e4\", \"\\uae40\\uc5f0\\uacbd\", \"\\uae40\\uc81c\", \"\\uae40\\uc81c\", \"\\uae40\\uc81c \\ubd81\\uc77c\\uace0\", \"\\uae40\\ud559\\ubc94\", \"\\ub098\\uc624\\ub2e4\", \"\\ub098\\uc624\\ub2e4\", \"\\ub098\\uc624\\ub2e4\", \"\\ub098\\uc624\\ub2e4\", \"\\ub098\\uc624\\ub2e4\", \"\\ub098\\uc624\\ub2e4\", \"\\ub098\\uc624\\ub2e4\", \"\\ub098\\ud0c0\\ub098\\ub2e4\", \"\\ub098\\ud0c0\\ub098\\ub2e4\", \"\\ub098\\ud0c0\\ub098\\ub2e4\", \"\\ub098\\ud0c0\\ub098\\ub2e4\", \"\\ub0a8\\ubd81\", \"\\ub0a8\\uc790\", \"\\ub0a8\\uc790\", \"\\ub0a8\\uc790\", \"\\ub0a8\\uc790\", \"\\ub0a8\\uc790\", \"\\ub0a8\\uc790 \\uc0ac\\ube0c\\ub974\", \"\\ub0a8\\uc790 \\ucd95\\uad6c\", \"\\ub0a8\\uc790 \\ucd95\\uad6c\", \"\\ub0b4\\uc6a9\", \"\\ub0b4\\uc6a9\", \"\\ub0b4\\uc6a9\", \"\\ub0b4\\uc6a9\", \"\\ub140\\uc11d\", \"\\ub17c\\ub780\", \"\\ub17c\\ub780\", \"\\ub17c\\ub780\", \"\\ub17c\\ub780\", \"\\ub17c\\ub780\", \"\\ub274\\uc2a4\", \"\\ub274\\uc2a4\", \"\\ub274\\uc2a4 \\ucd9c\\uc5f0\", \"\\ub274\\uc2a4 \\ud558\\uc774\\ud0a5\", \"\\ub274\\uc9c8\\ub79c\\ub4dc\", \"\\ub2e4\\uc74c\", \"\\ub2e4\\uc74c\", \"\\ub2e4\\uc74c\", \"\\ub2e4\\uc74c\", \"\\ub2e4\\uc74c\", \"\\ub2e4\\uc74c\", \"\\ub2e4\\ud589\", \"\\ub2e8\\uacc4\", \"\\ub2e8\\uacc4\", \"\\ub2f9\\ub098\\uadc0\", \"\\ub300\\uad6d\\ubbfc\", \"\\ub300\\uad6d\\ubbfc \\uc0ac\\uacfc\", \"\\ub300\\uc0c1\", \"\\ub300\\uc0c1\", \"\\ub300\\uc0c1\", \"\\ub300\\uc120\", \"\\ub300\\ud1b5\\ub839\", \"\\ub300\\ud1b5\\ub839\", \"\\ub300\\ud1b5\\ub839\", \"\\ub300\\ud1b5\\ub839 \\uccad\\uc640\\ub300\", \"\\ub300\\ud45c\", \"\\ub300\\ud45c\", \"\\ub300\\ud45c\", \"\\ub300\\ud45c\", \"\\ub300\\ud45c\", \"\\ub300\\ud45c\", \"\\ub300\\ud45c\\ud300\", \"\\ub300\\ud45c\\ud300\", \"\\ub300\\ud45c\\ud300\", \"\\ub300\\ud45c\\ud300\", \"\\ub300\\ud45c\\ud300\", \"\\ub300\\ud45c\\ud300\", \"\\ub300\\ud45c\\ud300 \\ub9c9\\ub0b4\", \"\\ub300\\ud55c\", \"\\ub300\\ud55c\", \"\\ub300\\ud55c\", \"\\ub300\\ud55c\", \"\\ub300\\ud55c\", \"\\ub300\\ud55c\", \"\\ub300\\ud55c\", \"\\ub300\\ud55c\\ubbfc\\uad6d\", \"\\ub300\\ud55c\\ubbfc\\uad6d\", \"\\ub300\\ud55c\\ubbfc\\uad6d\", \"\\ub300\\ud55c\\ubbfc\\uad6d\", \"\\ub300\\ud55c\\ubbfc\\uad6d\", \"\\ub300\\ud55c\\ubbfc\\uad6d\", \"\\ub300\\ud574\", \"\\ub300\\ud574\", \"\\ub300\\ud574\", \"\\ub300\\ud574\", \"\\ub300\\ud574\", \"\\ub300\\ud574\", \"\\ub300\\ud68c\", \"\\ub300\\ud68c\", \"\\ub300\\ud68c\", \"\\ub354\\ubd88\\ub2e4\", \"\\ub354\\ubd88\\ub2e4 \\ubbfc\\uc8fc\\ub2f9\", \"\\ub354\\uc704\", \"\\ub3c4\\uc2dc\\ub77d\", \"\\ub3c4\\uc2dc\\ub77d\", \"\\ub3c4\\uc804\", \"\\ub3c4\\uc804\", \"\\ub3c4\\uc804\", \"\\ub3c4\\ucfc4 \\uba54\\ub2e4\", \"\\ub3c4\\ucfc4 \\uc2e0\\uc8fc\\ucfe0\", \"\\ub3c4\\ucfc4\\ub3c4\", \"\\ub3c4\\ucfc4\\uc62c\\ub9bc\\ud53d \\uac1c\\ub9c9\", \"\\ub3c4\\ucfc4\\uc62c\\ub9bc\\ud53d \\uac1c\\ub9c9\", \"\\ub3c4\\ucfc4\\uc62c\\ub9bc\\ud53d \\uac1c\\ub9c9\", \"\\ub3c4\\ucfc4\\uc62c\\ub9bc\\ud53d \\uac1c\\ub9c9\", \"\\ub3c4\\ucfc4\\uc62c\\ub9bc\\ud53d \\uac1c\\ub9c9\\uc2dd\", \"\\ub3c4\\ucfc4\\uc62c\\ub9bc\\ud53d \\uac1c\\ub9c9\\uc2dd\", \"\\ub3c4\\ucfc4\\uc62c\\ub9bc\\ud53d \\uac1c\\ub9c9\\uc2dd\", \"\\ub3c4\\ucfc4\\uc62c\\ub9bc\\ud53d \\uac1c\\ud68c\", \"\\ub3c4\\ucfc4\\uc62c\\ub9bc\\ud53d \\uac1c\\ud68c\", \"\\ub3c4\\ucfc4\\uc62c\\ub9bc\\ud53d \\uac1c\\ud68c\", \"\\ub3c4\\ucfc4\\uc62c\\ub9bc\\ud53d \\uac1c\\ud68c\", \"\\ub3c4\\ucfc4\\uc62c\\ub9bc\\ud53d \\uc5ec\\uc790\", \"\\ub3c4\\ucfc4\\uc62c\\ub9bc\\ud53d \\uc911\\uacc4\", \"\\ub3c4\\ucfc4\\uc62c\\ub9bc\\ud53d \\uc911\\uacc4\", \"\\ub3c5\\ub3c4\", \"\\ub3cc\\uc785\", \"\\ub3d9\\uacbd\", \"\\ub450\\uae30\", \"\\ub450\\uae30 \\ub2e8\\uacc4\", \"\\ub4e4\\ub2e4\", \"\\ub4e4\\ub2e4\", \"\\ub4e4\\ub2e4\", \"\\ub4e4\\ub2e4\", \"\\ub4e4\\ub2e4\", \"\\ub4e4\\ub2e4\", \"\\ub54c\\ubb38\", \"\\ub54c\\ubb38\", \"\\ub54c\\ubb38\", \"\\ub54c\\ubb38\", \"\\ub77c\\uc6b4\\ub4dc\", \"\\ub7ad\\ud0b9\", \"\\ub7ad\\ud0b9 \\ub77c\\uc6b4\\ub4dc\", \"\\ub7f0\\ub2dd\\ub9e8\", \"\\ub808\\uc774\\uc2a4\", \"\\ub9ac\\uadf8\", \"\\ub9ac\\uadf8 \\ucc28\\ub2e4\", \"\\ub9c8\\ud3ec\\uad6c\", \"\\ub9c8\\ud3ec\\uad6c \\uc0c1\\uc554\\ub3d9\", \"\\ub9c9\\ub0b4\", \"\\ub9c9\\ub0b4 \\uc548\\uc0b0\", \"\\ub9ce\\ub2e4\", \"\\ub9ce\\ub2e4\", \"\\ub9ce\\ub2e4\", \"\\ub9ce\\ub2e4\", \"\\ub9db\\uc788\\ub2e4\", \"\\ub9db\\uc788\\ub2e4 \\ub140\\uc11d\", \"\\ub9e1\\ub2e4\", \"\\ub9e1\\ub2e4\", \"\\ub9e1\\ub2e4\", \"\\ub9e4\\ucd9c\", \"\\ub9e4\\ucd9c\", \"\\ub9e4\\ucd9c\", \"\\uba54\\ub2e4\", \"\\uba54\\ub2e4 \\uacf5\\uc6d0\", \"\\uba64\\ubc84\", \"\\ubb34\\uad00\", \"\\ubb34\\uad00\", \"\\ubb34\\ub8cc\", \"\\ubb38\\uc7ac\\uc778\", \"\\ubb38\\uc7ac\\uc778\", \"\\ubb38\\uc7ac\\uc778 \\ub300\\ud1b5\\ub839\", \"\\ubb38\\uc7ac\\uc778 \\ub300\\ud1b5\\ub839\", \"\\ubbf8\\uad6d\", \"\\ubbf8\\uad6d\", \"\\ubbf8\\uad6d\", \"\\ubbf8\\uad6d\", \"\\ubbf8\\uad6d\", \"\\ubbf8\\uad6d \\ub300\\ud1b5\\ub839\", \"\\ubbfc\\uc8fc\\ub2f9\", \"\\ubbfc\\uc8fc\\ub2f9\", \"\\ubc09\\ub2e4\", \"\\ubc14\\ub77c\\ub2e4\", \"\\ubc14\\uc774\\ub4e0\", \"\\ubc1c\\uacac\", \"\\ubc29\\uc1a1 \\ub0b4\\uc6a9\", \"\\ubc29\\uc1a1 \\ub418\\ub2e4\", \"\\ubc29\\uc1a1 \\ub418\\ub2e4\", \"\\ubc29\\uc1a1 \\ub418\\ub2e4\", \"\\ubc29\\uc1a1 \\ub418\\ub2e4\", \"\\ubc29\\uc1a1\\uc0ac\", \"\\ubc29\\uc1a1\\uc0ac\", \"\\ubc29\\uc1a1\\uc0ac\\uace0\", \"\\ubc30\\uad6c\", \"\\ubc30\\uad6c\", \"\\ubc30\\uc6b0\", \"\\ubc30\\uc6b0\", \"\\ubc31\\uc2e0\", \"\\ubc31\\uc2e0 \\uc811\\uc885\", \"\\ubc84\\uc2a4\", \"\\ubc84\\uc2a4\", \"\\ubc8c\\uc5b4\\uc9c0\\ub2e4\", \"\\ubcd1\\uc6d0\", \"\\ubcf4\\uac74\", \"\\ubcf4\\uac74\", \"\\ubcf4\\uac74\\uc18c\", \"\\ubcf4\\ub2e4\", \"\\ubcf4\\ub2e4\", \"\\ubcf4\\ub2e4\", \"\\ubcf4\\ub2e4\", \"\\ubcf4\\ub2e4\", \"\\ubcf4\\ub2e4\", \"\\ubcf4\\ub3c4\", \"\\ubcf4\\ub3c4\", \"\\ubcf4\\ub3c4\", \"\\ubcf4\\uc88c\", \"\\ubcf4\\uc88c \\ud68c\\uc758\", \"\\ubcf4\\ud5d8\", \"\\ubd80\\uc801\\uc808\\ud558\\ub2e4\", \"\\ubd80\\uc801\\uc808\\ud558\\ub2e4\", \"\\ubd81\\uc77c\\uace0\", \"\\ubd81\\ud55c\", \"\\ubd84\\uc704\\uae30\", \"\\ubd84\\uc704\\uae30\", \"\\uc0ac\\uaca9\", \"\\uc0ac\\uacfc\", \"\\uc0ac\\uacfc \\uae30\\uc790\\ud68c\\uacac\", \"\\uc0ac\\uacfc \\ud558\\ub2e4\", \"\\uc0ac\\ube0c\\ub974\", \"\\uc0ac\\uc5c5\", \"\\uc0ac\\uc5c5\", \"\\uc0ac\\uc6a9\", \"\\uc0ac\\uc6a9\", \"\\uc0ac\\uc6a9\", \"\\uc0ac\\uc6a9\", \"\\uc0ac\\uc6a9 \\ud558\\ub2e4\", \"\\uc0ac\\uc6a9 \\ud558\\ub2e4\", \"\\uc0ac\\uc7a5\", \"\\uc0ac\\uc7a5\", \"\\uc0ac\\uc7a5 \\ub3c4\\ucfc4\\uc62c\\ub9bc\\ud53d\", \"\\uc0ac\\uc9c4\", \"\\uc0ac\\uc9c4\", \"\\uc0ac\\uc9c4\", \"\\uc0ac\\uc9c4\", \"\\uc0ac\\uc9c4\", \"\\uc0ac\\uc9c4\", \"\\uc0ac\\ud68c\", \"\\uc0ac\\ud68c\", \"\\uc0ac\\ud68c\", \"\\uc0ac\\ud68c \\uac70\\ub9ac\", \"\\uc0c1\\ub300\", \"\\uc0c1\\ub300\", \"\\uc0c1\\ub300\", \"\\uc0c1\\ub300 \\uc120\\uc218\", \"\\uc0c1\\uc554\\ub3d9\", \"\\uc0c1\\ucc98\", \"\\uc0c1\\ucc98\", \"\\uc11c\\uc6b8\", \"\\uc11c\\uc6b8\", \"\\uc11c\\uc6b8\", \"\\uc11c\\uc6b8\", \"\\uc11c\\uc6b8\", \"\\uc11c\\uc6b8\", \"\\uc11c\\uc6b8\", \"\\uc11c\\uc6b8 \\ub9c8\\ud3ec\\uad6c\", \"\\uc120\\uc218\\ub2e8\", \"\\uc120\\uc218\\ub2e8\", \"\\uc120\\uc218\\ub2e8\", \"\\uc120\\ucc9c\\uc131\", \"\\uc131\\uc81c\", \"\\uc131\\uc81c \\uc0ac\\uc7a5\", \"\\uc138\\uacc4\", \"\\uc138\\uacc4\", \"\\uc138\\uacc4\", \"\\uc138\\uacc4\", \"\\uc138\\uacc4\", \"\\uc138\\uacc4\", \"\\uc138\\uacc4\", \"\\uc218\\uc81c\", \"\\uc218\\uc81c\", \"\\uc218\\uc81c \\ub9e5\\uc8fc\", \"\\uc218\\uc81c \\ub9e5\\uc8fc\", \"\\uc219\\uc774\\ub2e4\", \"\\uc21c\\uc704\", \"\\uc2a4\\ud0c0\\ub514\\uc6c0 \\uc5f4\\ub9ac\\ub2e4\", \"\\uc2a4\\ud1a0\", \"\\uc2a4\\ud3ec\\uce20\", \"\\uc2a4\\ud3ec\\uce20\", \"\\uc2a4\\ud3ec\\uce20\", \"\\uc2a4\\ud3ec\\uce20\", \"\\uc2a4\\ud3ec\\uce20\", \"\\uc2a4\\ud3ec\\uce20\", \"\\uc2dc\\uc791\", \"\\uc2dc\\uc791\", \"\\uc2dc\\uc791\", \"\\uc2dc\\uc791\", \"\\uc2dc\\uc791\", \"\\uc2dc\\uc791\", \"\\uc2dc\\uc810\", \"\\uc2dc\\uccad\\ub960\", \"\\uc2e0\\uaddc\", \"\\uc2e0\\uaddc\", \"\\uc2e0\\uaddc \\uc9c4\\uc790\", \"\\uc2e0\\uc885\", \"\\uc2e0\\uc885 \\ucf54\\ub85c\\ub098\\ubc14\\uc774\\ub7ec\\uc2a4\", \"\\uc2e0\\uc8fc\\ucfe0\", \"\\uc2e0\\uc8fc\\ucfe0 \\uad6d\\ub9bd\\uacbd\\uae30\\uc7a5\", \"\\uc2e4\\uc218\", \"\\uc2e4\\uc2dc\", \"\\uc2e4\\uc2dc\", \"\\uc2e4\\uc2dc \\ud558\\ub2e4\", \"\\uc2e4\\uc81c\", \"\\uc2e4\\uc81c\", \"\\uc2e4\\uc81c\", \"\\uc2e4\\uc81c \\ubc29\\uc1a1\", \"\\uc2ec\\uc7a5\", \"\\uc3d8\\ub2e4\", \"\\uc544\\ub2c8\\ub2e4\", \"\\uc544\\ub2c8\\ub2e4\", \"\\uc544\\ub2c8\\ub2e4\", \"\\uc544\\ub2c8\\ub2e4\", \"\\uc544\\ub2c8\\ub2e4\", \"\\uc544\\ub798\", \"\\uc544\\ub798\", \"\\uc545\\uc218\", \"\\uc548\\uc0b0\", \"\\uc548\\uc0b0\", \"\\uc548\\uc0b0 \\uad11\\uc8fc\", \"\\uc548\\uc0b0 \\uad11\\uc8fc\", \"\\uc548\\uc0b0 \\uc120\\uc218\", \"\\uc548\\uc0b0 \\uc120\\uc218\", \"\\uc548\\ucc3d\\ub9bc\", \"\\uc575\\ucee4\", \"\\uc575\\ucee4\", \"\\uc575\\ucee4\", \"\\uc575\\ucee4\", \"\\uc57c\\uad6c\", \"\\uc57c\\uad6c\", \"\\uc591\\uad81\", \"\\uc591\\uad81\", \"\\uc591\\uad81 \\uad00\\uc655\", \"\\uc591\\uad81 \\uad00\\uc655\", \"\\uc591\\uad81 \\uc5f4\\ub9ac\\ub2e4\", \"\\uc5c4\\uc9c0\\uc6d0\", \"\\uc5d0\\ube44\\uc559\", \"\\uc5ec\\ub300\", \"\\uc5ec\\ub300\", \"\\uc5ec\\uc0ac\", \"\\uc5ec\\uc790\", \"\\uc5ec\\uc790\", \"\\uc5ec\\uc790\", \"\\uc5ec\\uc790 \\uac1c\\uc778\", \"\\uc5ec\\uc790 \\uc591\\uad81\", \"\\uc5f0\\uae30 \\ub418\\ub2e4\", \"\\uc5f0\\ub300 \\ud654\\ud569\", \"\\uc5f0\\ud328\", \"\\uc5f4\\ub2e4\", \"\\uc5f4\\ub2e4\", \"\\uc5f4\\ub2e4\", \"\\uc5f4\\ub2e4\", \"\\uc5f4\\ub2e4\", \"\\uc5f4\\uc804\", \"\\uc608\\ub2a5\", \"\\uc608\\ub2a5\", \"\\uc608\\ub2a5\", \"\\uc608\\ub2a5\", \"\\uc608\\ub2a5 \\ud504\\ub85c\\uadf8\\ub7a8\", \"\\uc608\\ub2a5 \\ud504\\ub85c\\uadf8\\ub7a8\", \"\\uc608\\ub2a5 \\ud504\\ub85c\\uadf8\\ub7a8\", \"\\uc608\\uc120 \\ub7ad\\ud0b9\", \"\\uc624\\ub298\", \"\\uc624\\ub298\", \"\\uc624\\ub298\", \"\\uc624\\ub298\", \"\\uc624\\ub298\", \"\\uc624\\ub298\", \"\\uc624\\ub298\", \"\\uc624\\ub2e4\", \"\\uc624\\ub2e4\", \"\\uc624\\ub2e4\", \"\\uc624\\ub2e4\", \"\\uc624\\ub2e4\", \"\\uc624\\ub2e4\", \"\\uc62c\\ub9ac\\ub2e4\", \"\\uc62c\\ub9ac\\ub2e4\", \"\\uc62c\\ub9ac\\ub2e4\", \"\\uc62c\\ub9ac\\ub2e4\", \"\\uc62c\\ub9ac\\ub2e4\", \"\\uc62c\\ub9ac\\ub2e4\", \"\\uc62c\\ub9bc\\ud53d \\uc2a4\\ud0c0\\ub514\\uc6c0\", \"\\uc62c\\ub9bc\\ud53d \\uc815\\uc2e0\", \"\\uc694\\uc591\", \"\\uc6b0\\ub824\", \"\\uc6b0\\ub824\", \"\\uc6b0\\ub824\", \"\\uc6b0\\uc5ec\\uace1\\uc808\", \"\\uc6cc\\uce58\", \"\\uc6d0\\uc778\", \"\\uc6d0\\uc778\", \"\\uc704\\ud574\", \"\\uc704\\ud574\", \"\\uc704\\ud574\", \"\\uc704\\ud574\", \"\\uc704\\ud574\", \"\\uc704\\ud574\", \"\\uc720\\ub3c4\", \"\\uc720\\ub3c4\", \"\\uc720\\ub3c4\", \"\\uc720\\ub3c4\", \"\\uc720\\ub3c4\", \"\\uc720\\uc7ac\\uc11d\", \"\\uc720\\uc7ac\\uc11d\", \"\\uc751\\uc6d0\", \"\\uc751\\uc6d0\", \"\\uc751\\uc6d0\", \"\\uc751\\uc6d0\", \"\\uc758\\ub8cc\", \"\\uc758\\ub8cc\", \"\\uc758\\uc6d0\", \"\\uc758\\uc6d0\", \"\\uc758\\uc6d0\", \"\\uc774\\uad11\\uc218\", \"\\uc774\\ub974\\ub2e4\", \"\\uc774\\ub974\\ub2e4\", \"\\uc774\\ub974\\ub2e4\", \"\\uc774\\ub974\\ub2e4\", \"\\uc774\\ub974\\ub2e4\", \"\\uc774\\ub974\\ub2e4\", \"\\uc774\\ubc14\\ub77c\\ud0a4\\ud604\", \"\\uc774\\ubc88\", \"\\uc774\\ubc88\", \"\\uc774\\ubc88\", \"\\uc774\\ubc88\", \"\\uc774\\ubc88\", \"\\uc774\\ubc88\", \"\\uc774\\ubc88\", \"\\uc774\\ubc88\", \"\\uc774\\uc0c1\", \"\\uc774\\uc0c1\", \"\\uc774\\uc0c1\", \"\\uc778\\uc0ac\", \"\\uc778\\uc0ac\", \"\\uc778\\uc815\", \"\\uc778\\uc815\", \"\\uc778\\ud558\\ub2e4\", \"\\uc778\\ud558\\ub2e4\", \"\\uc778\\ud558\\ub2e4\", \"\\uc778\\ud558\\ub2e4\", \"\\uc778\\ud558\\ub2e4\", \"\\uc77c\\ubcf8 \\ub3c4\\ucfc4\", \"\\uc77c\\ubcf8 \\ub3c4\\ucfc4\", \"\\uc77c\\ubcf8 \\ub3c4\\ucfc4\", \"\\uc77c\\ubcf8 \\ub3c4\\ucfc4\", \"\\uc77c\\ubcf8 \\uc774\\ubc14\\ub77c\\ud0a4\\ud604\", \"\\uc77c\\ubcf8 \\ucd1d\\ub9ac\", \"\\uc77c\\ubcf8 \\ucf54\\ub85c\\ub098\", \"\\uc785\\uc7a5\", \"\\uc785\\uc7a5\", \"\\uc785\\uc7a5\", \"\\uc785\\uc7a5\", \"\\uc785\\uc7a5\", \"\\uc785\\uc7a5\", \"\\uc788\\ub2e4 \\uc788\\ub2e4\", \"\\uc790\\uac00\", \"\\uc790\\uac00 \\uaca9\\ub9ac\", \"\\uc790\\ub3d9\\ucc28\", \"\\uc790\\ub3d9\\ucc28\", \"\\uc790\\ub3d9\\ucc28 \\uadf8\\ub8f9\", \"\\uc790\\ub9c9\", \"\\uc790\\ub9c9\", \"\\uc790\\ub9c9\", \"\\uc790\\ub9c9 \\uc0ac\\uace0\", \"\\uc790\\uc2e0\", \"\\uc790\\uc2e0\", \"\\uc790\\uc2e0\", \"\\uc790\\uc2e0\", \"\\uc804\\uc790\", \"\\uc804\\uc790\", \"\\uc804\\uc790\", \"\\uc804\\uc790\", \"\\uc804\\uc9c0\", \"\\uc804\\uc9c0 \\ucc38\\uacac\", \"\\uc811\\uc885\", \"\\uc815\\ub3c4\", \"\\uc815\\ub3c4\", \"\\uc815\\ub3c4\", \"\\uc815\\ub3c4\", \"\\uc815\\ub3c4\", \"\\uc815\\ubd80\", \"\\uc815\\ubd80\", \"\\uc815\\ubd80\", \"\\uc815\\ubd80\", \"\\uc815\\ubd80\", \"\\uc815\\uc0c1\", \"\\uc815\\uc0c1\", \"\\uc815\\uc0c1\", \"\\uc815\\uc0c1\", \"\\uc815\\uc758\\uc120\", \"\\uc815\\ucc45\", \"\\uc815\\ucc45\", \"\\uc815\\ud655\\ud558\\ub2e4\", \"\\uc870\\uae30\", \"\\uc870\\uc9c1\", \"\\uc870\\uc9c1 \\uc704\\uc6d0\\ud68c\", \"\\uc870\\uce58\", \"\\uc870\\uce58\", \"\\uc885\\ubaa9\", \"\\uc885\\ubaa9\", \"\\uc885\\ubaa9\", \"\\uc885\\ubaa9\", \"\\uc885\\ubaa9\", \"\\uc8fc\\uc7ac\", \"\\uc911\\uacc4\", \"\\uc911\\uacc4\", \"\\uc911\\uacc4\", \"\\uc911\\uacc4\", \"\\uc99d\\uac00\", \"\\uc99d\\uac00\", \"\\uc99d\\uac00\", \"\\uc99d\\uac00\", \"\\uc99d\\uc2dc\", \"\\uc9c0\\uad6c\\uc778\", \"\\uc9c0\\uc0c1\\ud30c\", \"\\uc9c4\\ub2e8\", \"\\uc9c4\\ub2e8\", \"\\uc9c4\\ub8cc\", \"\\uc9c4\\uc790\", \"\\uc9c4\\ud589\", \"\\uc9c4\\ud589\", \"\\uc9c4\\ud589\", \"\\uc9c4\\ud589\", \"\\uc9c4\\ud589\", \"\\uc9c4\\ud589 \\ub418\\ub2e4\", \"\\uc9c4\\ud589 \\ub418\\ub2e4\", \"\\uc9c4\\ud589 \\ub418\\ub2e4\", \"\\uc9c4\\ud589 \\ub418\\ub2e4\", \"\\uc9c8\\ubcd1 \\uce58\\ub8cc\", \"\\uc9c8\\ud658\", \"\\uc9c8\\ud658\", \"\\uc9d1\\uacc4\", \"\\ucc28\\ub2e4\", \"\\ucc28\\ub2e4\", \"\\ucc28\\uc774\", \"\\ucc28\\uc774\", \"\\ucc28\\uc774 \\uc788\\ub2e4\", \"\\ucc28\\uc9c0\", \"\\ucc28\\uc9c0\", \"\\ucc28\\uc9c0\", \"\\ucc28\\uc9c0 \\ud558\\ub2e4\", \"\\ucc38\\uacac\", \"\\ucc38\\uacac \\uc2dc\\uc810\", \"\\ucc38\\uc11d\", \"\\ucc38\\uc11d\", \"\\ucc38\\uc11d \\ud558\\ub2e4\", \"\\ucc44\\ub110 \\uad70\\uccad\", \"\\uccad\\uc640\\ub300\", \"\\uccad\\uc640\\ub300\", \"\\uccb4\\uc721\\ud68c\", \"\\uccb4\\uc804\", \"\\uccb4\\uc804\", \"\\ucd1d\\ub9ac\", \"\\ucd5c\\uac15\", \"\\ucd5c\\uadfc\", \"\\ucd5c\\uadfc\", \"\\ucd5c\\uadfc\", \"\\ucd5c\\uadfc\", \"\\ucd5c\\uadfc\", \"\\ucd5c\\uadfc\", \"\\ucd5c\\uadfc\", \"\\ucd94\\ucca8\", \"\\ucd95\\uad6c\", \"\\ucd95\\uad6c\", \"\\ucd95\\uad6c\", \"\\ucd95\\uad6c \\ub300\\ud45c\\ud300\", \"\\ucd95\\uad6c \\ub9ac\\uadf8\", \"\\ucd95\\uad6c \\uc911\\uacc4\", \"\\ucd95\\uc81c\", \"\\ucd9c\\uc5f0\", \"\\ucd9c\\uc5f0\", \"\\ucd9c\\uc5f0\", \"\\ucd9c\\uc5f0\", \"\\ucd9c\\uc5f0 \\ud558\\ub2e4\", \"\\ucd9c\\uc5f0 \\ud558\\ub2e4\", \"\\ucd9c\\uc804\", \"\\ucd9c\\uc804\", \"\\ucd9c\\uc804\", \"\\ucd9c\\uc804\", \"\\ucd9c\\uc804\", \"\\uce58\\ub8cc\", \"\\uce58\\ub8cc \\ud558\\ub2e4\", \"\\uce58\\ub974\\ub2e4\", \"\\uce58\\uc5f4\\ud558\\ub2e4\", \"\\uce74\\uce74\\uc624\", \"\\uce74\\uce74\\uc624\", \"\\uce74\\uce74\\uc624\", \"\\uce74\\uce74\\uc624 \\ucc44\\ub110\", \"\\uceec\\ub9ac\", \"\\ucf54\\ub85c\\ub098 \\uc2e0\\uaddc\", \"\\ucf54\\ub85c\\ub098 \\uc9c4\\uc790\", \"\\ucf54\\ub85c\\ub098 \\ud655\\uc0b0\", \"\\ucf54\\ub85c\\ub098 \\ud655\\uc0b0\", \"\\ucf54\\ub85c\\ub098\\ubc14\\uc774\\ub7ec\\uc2a4\", \"\\ucf54\\ub85c\\ub098\\ubc14\\uc774\\ub7ec\\uc2a4 \\uac10\\uc5fc\\uc99d\", \"\\ud0dc\\uad8c\\ub3c4\", \"\\ud0dc\\ud48d\", \"\\ud2b8\\uc704\\ud130\", \"\\ud310\\uc815\", \"\\ud310\\uc815\", \"\\ud310\\uc815\", \"\\ud310\\uc815 \\ubc1b\\ub2e4\", \"\\ud310\\uc815 \\ubc1b\\ub2e4\", \"\\ud328\\ubc30\", \"\\ud39c\\uc2f1\", \"\\ud39c\\uc2f1\", \"\\ud39c\\uc2f1\", \"\\ud39c\\uc2f1 \\ub0a8\\uc790\", \"\\ud39c\\ud2b8\\ud558\\uc6b0\\uc2a4\", \"\\ud3b8\\uc758\\uc810\", \"\\ud3b8\\uc758\\uc810\", \"\\ud3b8\\uc758\\uc810\", \"\\ud45c\\ucc3d\\uc6d0\", \"\\ud504\\ub791\\uc2a4\", \"\\ud504\\ub85c\\uadf8\\ub7a8\", \"\\ud504\\ub85c\\uadf8\\ub7a8\", \"\\ud504\\ub85c\\uadf8\\ub7a8\", \"\\ud558\\ub2e4 \\ubc14\\ub77c\\ub2e4\", \"\\ud558\\ub2e4 \\uc0ac\\uc7a5\", \"\\ud558\\ub2e4 \\uc788\\ub2e4\", \"\\ud558\\ub2e4 \\uc788\\ub2e4\", \"\\ud558\\ub2e4 \\uc788\\ub2e4\", \"\\ud558\\ub2e4 \\uc788\\ub2e4\", \"\\ud558\\ub2e4 \\uc788\\ub2e4\", \"\\ud558\\ub2e4 \\uc788\\ub2e4\", \"\\ud558\\ub2e4 \\uc788\\ub2e4\", \"\\ud558\\ub2e4 \\ud558\\ub2e4\", \"\\ud558\\ub2e4 \\ud558\\ub2e4\", \"\\ud558\\ub2e4 \\ud558\\ub2e4\", \"\\ud558\\ub2e4 \\ud558\\ub2e4\", \"\\ud558\\ub2e4 \\ud558\\ub2e4\", \"\\ud558\\ub2e4 \\ud558\\ub2e4\", \"\\ud558\\ub8e8\", \"\\ud558\\ub8e8\", \"\\ud558\\ub8e8\", \"\\ud558\\ub8e8 \\uc55e\\ub450\\ub2e4\", \"\\ud558\\uc774\\ud0a5\", \"\\ud55c\\uad6d \\uc591\\uad81\", \"\\ud55c\\uad6d \\uc591\\uad81\", \"\\ud55c\\uad6d \\uc5ec\\uc790\", \"\\ud604\\ub300\\ucc28\", \"\\ud604\\ub300\\ucc28\", \"\\ud604\\ub300\\ucc28 \\uadf8\\ub8f9\", \"\\ud604\\uc9c0\", \"\\ud604\\uc9c0\", \"\\ud604\\uc9c0\", \"\\ud611\\ud68c\\uc7a5\", \"\\ud63c\\uc131\", \"\\ud654\\ud569\", \"\\ud655\\uc0b0\", \"\\ud655\\uc0b0\", \"\\ud655\\uc0b0\", \"\\ud655\\uc0b0\", \"\\ud655\\uc778\", \"\\ud655\\uc778\", \"\\ud655\\uc778\", \"\\ud655\\uc778\", \"\\ud655\\uc778 \\ud558\\ub2e4\", \"\\ud655\\uc778 \\ud558\\ub2e4\", \"\\ud658\\uc790\", \"\\ud68c\\ubcf5\", \"\\ud68c\\uc758\", \"\\ud68c\\uc758\", \"\\ud68c\\uc758\", \"\\ud68c\\uc7a5\", \"\\ud6c4\\ubcf4\", \"\\ud6c4\\ubcf4\", \"\\ud6fc\\uc190\", \"\\ud6fc\\uc190 \\ud558\\ub2e4\", \"\\ud754\\ud558\\ub2e4\", \"\\ud761\\uc5f0\", \"\\ud761\\uc5f0\", \"\\ud76c\\uadf9\\uc778\", \"\\ud788\\ub370\", \"\\ud788\\ub370 \\uc77c\\ubcf8\"]}, \"R\": 30, \"lambda.step\": 0.01, \"plot.opts\": {\"xlab\": \"PC1\", \"ylab\": \"PC2\"}, \"topic.order\": [8, 3, 7, 2, 5, 4, 6, 1]};\n",
              "\n",
              "function LDAvis_load_lib(url, callback){\n",
              "  var s = document.createElement('script');\n",
              "  s.src = url;\n",
              "  s.async = true;\n",
              "  s.onreadystatechange = s.onload = callback;\n",
              "  s.onerror = function(){console.warn(\"failed to load library \" + url);};\n",
              "  document.getElementsByTagName(\"head\")[0].appendChild(s);\n",
              "}\n",
              "\n",
              "if(typeof(LDAvis) !== \"undefined\"){\n",
              "   // already loaded: just create the visualization\n",
              "   !function(LDAvis){\n",
              "       new LDAvis(\"#\" + \"ldavis_el611398649886161445837955973\", ldavis_el611398649886161445837955973_data);\n",
              "   }(LDAvis);\n",
              "}else if(typeof define === \"function\" && define.amd){\n",
              "   // require.js is available: use it to load d3/LDAvis\n",
              "   require.config({paths: {d3: \"https://d3js.org/d3.v5\"}});\n",
              "   require([\"d3\"], function(d3){\n",
              "      window.d3 = d3;\n",
              "      LDAvis_load_lib(\"https://cdn.jsdelivr.net/gh/bmabey/pyLDAvis@3.3.1/pyLDAvis/js/ldavis.v3.0.0.js\", function(){\n",
              "        new LDAvis(\"#\" + \"ldavis_el611398649886161445837955973\", ldavis_el611398649886161445837955973_data);\n",
              "      });\n",
              "    });\n",
              "}else{\n",
              "    // require.js not available: dynamically load d3 & LDAvis\n",
              "    LDAvis_load_lib(\"https://d3js.org/d3.v5.js\", function(){\n",
              "         LDAvis_load_lib(\"https://cdn.jsdelivr.net/gh/bmabey/pyLDAvis@3.3.1/pyLDAvis/js/ldavis.v3.0.0.js\", function(){\n",
              "                 new LDAvis(\"#\" + \"ldavis_el611398649886161445837955973\", ldavis_el611398649886161445837955973_data);\n",
              "            })\n",
              "         });\n",
              "}\n",
              "</script>"
            ],
            "text/plain": [
              "<IPython.core.display.HTML object>"
            ]
          },
          "metadata": {},
          "execution_count": 40
        }
      ]
    },
    {
      "cell_type": "markdown",
      "metadata": {
        "id": "uBIgO67JrciU"
      },
      "source": [
        "# 새 섹션"
      ]
    }
  ]
}